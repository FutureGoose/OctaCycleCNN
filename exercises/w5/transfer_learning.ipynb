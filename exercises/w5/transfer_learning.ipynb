{
 "cells": [
  {
   "cell_type": "markdown",
   "metadata": {},
   "source": [
    "# Transfer Learning in PyTorch\n",
    "\n",
    "This lecture will walk through the steps for fine-tuning a pre-trained CNN (e.g., AlexNet) in PyTorch. We'll explore:\n",
    "\n",
    "1. **Loading a pre-trained model**  \n",
    "2. **Inspecting trainable parameters**  \n",
    "3. **Adjusting layers: freezing and unfreezing**  \n",
    "4. **Replacing the output (classification) layer**  \n",
    "5. **Replacing the entire (classification) head**  \n"
   ]
  },
  {
   "cell_type": "markdown",
   "metadata": {},
   "source": [
    "---"
   ]
  },
  {
   "cell_type": "markdown",
   "metadata": {},
   "source": [
    "**Loading a pre-trained model**\n",
    "\n",
    "PyTorch makes it easy to load pre-trained models from `torchvision.models`. \n",
    "\n",
    "Let's load AlexNet, a CNN that was one of the early deep learning models to perform well on ImageNet."
   ]
  },
  {
   "cell_type": "code",
   "execution_count": 1,
   "metadata": {},
   "outputs": [],
   "source": [
    "import torch\n",
    "import torch.nn as nn\n",
    "from torchvision import models\n"
   ]
  },
  {
   "cell_type": "code",
   "execution_count": 2,
   "metadata": {},
   "outputs": [
    {
     "name": "stderr",
     "output_type": "stream",
     "text": [
      "/home/gustaf/projects/deeplearning/venv/lib/python3.10/site-packages/torchvision/models/_utils.py:208: UserWarning: The parameter 'pretrained' is deprecated since 0.13 and may be removed in the future, please use 'weights' instead.\n",
      "  warnings.warn(\n",
      "/home/gustaf/projects/deeplearning/venv/lib/python3.10/site-packages/torchvision/models/_utils.py:223: UserWarning: Arguments other than a weight enum or `None` for 'weights' are deprecated since 0.13 and may be removed in the future. The current behavior is equivalent to passing `weights=AlexNet_Weights.IMAGENET1K_V1`. You can also use `weights=AlexNet_Weights.DEFAULT` to get the most up-to-date weights.\n",
      "  warnings.warn(msg)\n"
     ]
    }
   ],
   "source": [
    "# Load AlexNet with pre-trained weights\n",
    "model = models.alexnet(pretrained=True)"
   ]
  },
  {
   "cell_type": "markdown",
   "metadata": {},
   "source": [
    "The AlexNet architecture consists of convolutional layers (for feature extraction) followed by a fully connected (FC) classification head. \n",
    "\n",
    "The FC layer outputs predictions for 1,000 ImageNet classes."
   ]
  },
  {
   "cell_type": "code",
   "execution_count": 3,
   "metadata": {},
   "outputs": [
    {
     "name": "stdout",
     "output_type": "stream",
     "text": [
      "AlexNet(\n",
      "  (features): Sequential(\n",
      "    (0): Conv2d(3, 64, kernel_size=(11, 11), stride=(4, 4), padding=(2, 2))\n",
      "    (1): ReLU(inplace=True)\n",
      "    (2): MaxPool2d(kernel_size=3, stride=2, padding=0, dilation=1, ceil_mode=False)\n",
      "    (3): Conv2d(64, 192, kernel_size=(5, 5), stride=(1, 1), padding=(2, 2))\n",
      "    (4): ReLU(inplace=True)\n",
      "    (5): MaxPool2d(kernel_size=3, stride=2, padding=0, dilation=1, ceil_mode=False)\n",
      "    (6): Conv2d(192, 384, kernel_size=(3, 3), stride=(1, 1), padding=(1, 1))\n",
      "    (7): ReLU(inplace=True)\n",
      "    (8): Conv2d(384, 256, kernel_size=(3, 3), stride=(1, 1), padding=(1, 1))\n",
      "    (9): ReLU(inplace=True)\n",
      "    (10): Conv2d(256, 256, kernel_size=(3, 3), stride=(1, 1), padding=(1, 1))\n",
      "    (11): ReLU(inplace=True)\n",
      "    (12): MaxPool2d(kernel_size=3, stride=2, padding=0, dilation=1, ceil_mode=False)\n",
      "  )\n",
      "  (avgpool): AdaptiveAvgPool2d(output_size=(6, 6))\n",
      "  (classifier): Sequential(\n",
      "    (0): Dropout(p=0.5, inplace=False)\n",
      "    (1): Linear(in_features=9216, out_features=4096, bias=True)\n",
      "    (2): ReLU(inplace=True)\n",
      "    (3): Dropout(p=0.5, inplace=False)\n",
      "    (4): Linear(in_features=4096, out_features=4096, bias=True)\n",
      "    (5): ReLU(inplace=True)\n",
      "    (6): Linear(in_features=4096, out_features=1000, bias=True)\n",
      "  )\n",
      ")\n"
     ]
    }
   ],
   "source": [
    "# note that all layers are shown in order below. The first layers are printed first, and the last ones last.\n",
    "\n",
    "print(model)"
   ]
  },
  {
   "cell_type": "markdown",
   "metadata": {},
   "source": [
    "---\n",
    "\n",
    "**Inspecting trainable parameters**\n",
    "\n",
    "In PyTorch, each layer has an attribute `.requires_grad` that determines whether the parameters of that layer are updated during training.\n"
   ]
  },
  {
   "cell_type": "code",
   "execution_count": 4,
   "metadata": {},
   "outputs": [
    {
     "name": "stdout",
     "output_type": "stream",
     "text": [
      "Requires grad: True | Parameter name: features.0.weight\n",
      "Requires grad: True | Parameter name: features.0.bias\n",
      "Requires grad: True | Parameter name: features.3.weight\n",
      "Requires grad: True | Parameter name: features.3.bias\n",
      "Requires grad: True | Parameter name: features.6.weight\n",
      "Requires grad: True | Parameter name: features.6.bias\n",
      "Requires grad: True | Parameter name: features.8.weight\n",
      "Requires grad: True | Parameter name: features.8.bias\n",
      "Requires grad: True | Parameter name: features.10.weight\n",
      "Requires grad: True | Parameter name: features.10.bias\n",
      "Requires grad: True | Parameter name: classifier.1.weight\n",
      "Requires grad: True | Parameter name: classifier.1.bias\n",
      "Requires grad: True | Parameter name: classifier.4.weight\n",
      "Requires grad: True | Parameter name: classifier.4.bias\n",
      "Requires grad: True | Parameter name: classifier.6.weight\n",
      "Requires grad: True | Parameter name: classifier.6.bias\n"
     ]
    }
   ],
   "source": [
    "for name, param in model.named_parameters():\n",
    "    print(f'Requires grad: {param.requires_grad} | Parameter name: {name}')"
   ]
  },
  {
   "cell_type": "markdown",
   "metadata": {},
   "source": [
    "Let's create a function to **inspect the trainable parameters** and calculate:\n",
    "- The total number of parameters.\n",
    "- The number and percentage of trainable parameters."
   ]
  },
  {
   "cell_type": "code",
   "execution_count": 5,
   "metadata": {},
   "outputs": [
    {
     "name": "stdout",
     "output_type": "stream",
     "text": [
      "Total Parameters: 61,100,840\n",
      "Trainable Parameters: 61,100,840\n",
      "Percentage Trainable: 100.00%\n"
     ]
    }
   ],
   "source": [
    "def count_parameters(model):\n",
    "\n",
    "    total_params = sum(p.numel() for p in model.parameters())\n",
    "    trainable_params = sum(p.numel() for p in model.parameters() if p.requires_grad)\n",
    "    print(f\"Total Parameters: {total_params:,}\")\n",
    "    print(f\"Trainable Parameters: {trainable_params:,}\")\n",
    "    print(f\"Percentage Trainable: {100 * trainable_params / total_params:.2f}%\")\n",
    "\n",
    "\n",
    "count_parameters(model)"
   ]
  },
  {
   "cell_type": "code",
   "execution_count": 6,
   "metadata": {},
   "outputs": [
    {
     "name": "stdout",
     "output_type": "stream",
     "text": [
      "==============================================================================================================================================================================================\n",
      "Layer (type:depth-idx)                   Input Shape               Output Shape              Param #                   Param %                   Kernel Shape              Trainable\n",
      "==============================================================================================================================================================================================\n",
      "AlexNet                                  [1, 3, 224, 224]          [1, 1000]                 --                             --                   --                        True\n",
      "├─Sequential: 1-1                        [1, 3, 224, 224]          [1, 256, 6, 6]            --                             --                   --                        True\n",
      "│    └─Conv2d: 2-1                       [1, 3, 224, 224]          [1, 64, 55, 55]           23,296                      0.04%                   [11, 11]                  True\n",
      "│    └─ReLU: 2-2                         [1, 64, 55, 55]           [1, 64, 55, 55]           --                             --                   --                        --\n",
      "│    └─MaxPool2d: 2-3                    [1, 64, 55, 55]           [1, 64, 27, 27]           --                             --                   3                         --\n",
      "│    └─Conv2d: 2-4                       [1, 64, 27, 27]           [1, 192, 27, 27]          307,392                     0.50%                   [5, 5]                    True\n",
      "│    └─ReLU: 2-5                         [1, 192, 27, 27]          [1, 192, 27, 27]          --                             --                   --                        --\n",
      "│    └─MaxPool2d: 2-6                    [1, 192, 27, 27]          [1, 192, 13, 13]          --                             --                   3                         --\n",
      "│    └─Conv2d: 2-7                       [1, 192, 13, 13]          [1, 384, 13, 13]          663,936                     1.09%                   [3, 3]                    True\n",
      "│    └─ReLU: 2-8                         [1, 384, 13, 13]          [1, 384, 13, 13]          --                             --                   --                        --\n",
      "│    └─Conv2d: 2-9                       [1, 384, 13, 13]          [1, 256, 13, 13]          884,992                     1.45%                   [3, 3]                    True\n",
      "│    └─ReLU: 2-10                        [1, 256, 13, 13]          [1, 256, 13, 13]          --                             --                   --                        --\n",
      "│    └─Conv2d: 2-11                      [1, 256, 13, 13]          [1, 256, 13, 13]          590,080                     0.97%                   [3, 3]                    True\n",
      "│    └─ReLU: 2-12                        [1, 256, 13, 13]          [1, 256, 13, 13]          --                             --                   --                        --\n",
      "│    └─MaxPool2d: 2-13                   [1, 256, 13, 13]          [1, 256, 6, 6]            --                             --                   3                         --\n",
      "├─AdaptiveAvgPool2d: 1-2                 [1, 256, 6, 6]            [1, 256, 6, 6]            --                             --                   --                        --\n",
      "├─Sequential: 1-3                        [1, 9216]                 [1, 1000]                 --                             --                   --                        True\n",
      "│    └─Dropout: 2-14                     [1, 9216]                 [1, 9216]                 --                             --                   --                        --\n",
      "│    └─Linear: 2-15                      [1, 9216]                 [1, 4096]                 37,752,832                 61.79%                   --                        True\n",
      "│    └─ReLU: 2-16                        [1, 4096]                 [1, 4096]                 --                             --                   --                        --\n",
      "│    └─Dropout: 2-17                     [1, 4096]                 [1, 4096]                 --                             --                   --                        --\n",
      "│    └─Linear: 2-18                      [1, 4096]                 [1, 4096]                 16,781,312                 27.46%                   --                        True\n",
      "│    └─ReLU: 2-19                        [1, 4096]                 [1, 4096]                 --                             --                   --                        --\n",
      "│    └─Linear: 2-20                      [1, 4096]                 [1, 1000]                 4,097,000                   6.71%                   --                        True\n",
      "==============================================================================================================================================================================================\n",
      "Total params: 61,100,840\n",
      "Trainable params: 61,100,840\n",
      "Non-trainable params: 0\n",
      "Total mult-adds (M): 714.68\n",
      "==============================================================================================================================================================================================\n",
      "Input size (MB): 0.60\n",
      "Forward/backward pass size (MB): 3.95\n",
      "Params size (MB): 244.40\n",
      "Estimated Total Size (MB): 248.96\n",
      "==============================================================================================================================================================================================\n",
      "Percentage Trainable: 100.00%\n"
     ]
    }
   ],
   "source": [
    "# own version\n",
    "import torchinfo\n",
    "print(str(torchinfo.summary(model, input_size=(1, 3, 224, 224), col_names=[\"input_size\", \"output_size\", \"num_params\", \"params_percent\", \"kernel_size\", \"trainable\",])))\n",
    "print(f\"Percentage Trainable: {100 * sum(p.numel() for p in model.parameters() if p.requires_grad) / sum(p.numel() for p in model.parameters()):.2f}%\")"
   ]
  },
  {
   "cell_type": "markdown",
   "metadata": {},
   "source": [
    "As seen, all parameters are initially trainable."
   ]
  },
  {
   "cell_type": "markdown",
   "metadata": {},
   "source": [
    "---\n",
    "\n",
    "**Adjusting layers, freezing and unfreezing**"
   ]
  },
  {
   "cell_type": "markdown",
   "metadata": {},
   "source": [
    "To **freeze a layer**, set its `.requires_grad` attribute to `False`. This prevents the optimizer from updating the layer's weights during training. Freezing is typically applied to lower layers (convolutional layers), which extract generic features, while leaving the classification head trainable."
   ]
  },
  {
   "cell_type": "markdown",
   "metadata": {},
   "source": [
    "Let's freeze all layers."
   ]
  },
  {
   "cell_type": "code",
   "execution_count": 7,
   "metadata": {},
   "outputs": [
    {
     "name": "stdout",
     "output_type": "stream",
     "text": [
      "Total Parameters: 61,100,840\n",
      "Trainable Parameters: 0\n",
      "Percentage Trainable: 0.00%\n"
     ]
    }
   ],
   "source": [
    "for name, param in model.named_parameters():      # loops over all layers\n",
    "    param.requires_grad = False                   # freezes the actual layer\n",
    "\n",
    "# Check trainable parameters again\n",
    "count_parameters(model)"
   ]
  },
  {
   "cell_type": "code",
   "execution_count": 8,
   "metadata": {},
   "outputs": [
    {
     "name": "stdout",
     "output_type": "stream",
     "text": [
      "Requires grad: False | Parameter name: features.0.weight\n",
      "Requires grad: False | Parameter name: features.0.bias\n",
      "Requires grad: False | Parameter name: features.3.weight\n",
      "Requires grad: False | Parameter name: features.3.bias\n",
      "Requires grad: False | Parameter name: features.6.weight\n",
      "Requires grad: False | Parameter name: features.6.bias\n",
      "Requires grad: False | Parameter name: features.8.weight\n",
      "Requires grad: False | Parameter name: features.8.bias\n",
      "Requires grad: False | Parameter name: features.10.weight\n",
      "Requires grad: False | Parameter name: features.10.bias\n",
      "Requires grad: False | Parameter name: classifier.1.weight\n",
      "Requires grad: False | Parameter name: classifier.1.bias\n",
      "Requires grad: False | Parameter name: classifier.4.weight\n",
      "Requires grad: False | Parameter name: classifier.4.bias\n",
      "Requires grad: False | Parameter name: classifier.6.weight\n",
      "Requires grad: False | Parameter name: classifier.6.bias\n"
     ]
    }
   ],
   "source": [
    "# double check requires grad status of layers\n",
    "\n",
    "for name, param in model.named_parameters():\n",
    "    print(f'Requires grad: {param.requires_grad} | Parameter name: {name}')"
   ]
  },
  {
   "cell_type": "markdown",
   "metadata": {},
   "source": [
    "**Unfreezing Specific Layers**\n",
    "\n",
    "If your task requires fine-tuning certain layers, you can selectively unfreeze them."
   ]
  },
  {
   "cell_type": "code",
   "execution_count": 9,
   "metadata": {},
   "outputs": [
    {
     "name": "stdout",
     "output_type": "stream",
     "text": [
      "Total Parameters: 61,100,840\n",
      "Trainable Parameters: 4,097,000\n",
      "Percentage Trainable: 6.71%\n"
     ]
    }
   ],
   "source": [
    "# Unfreeze only the last classifier layer (the output layer) \n",
    "for name, param in model.named_parameters():\n",
    "    if \"classifier.6\" in name:                \n",
    "        param.requires_grad = True\n",
    "\n",
    "# Check trainable parameters again\n",
    "count_parameters(model)"
   ]
  },
  {
   "cell_type": "code",
   "execution_count": 10,
   "metadata": {},
   "outputs": [
    {
     "name": "stdout",
     "output_type": "stream",
     "text": [
      "Requires grad: False | Parameter name: features.0.weight\n",
      "Requires grad: False | Parameter name: features.0.bias\n",
      "Requires grad: False | Parameter name: features.3.weight\n",
      "Requires grad: False | Parameter name: features.3.bias\n",
      "Requires grad: False | Parameter name: features.6.weight\n",
      "Requires grad: False | Parameter name: features.6.bias\n",
      "Requires grad: False | Parameter name: features.8.weight\n",
      "Requires grad: False | Parameter name: features.8.bias\n",
      "Requires grad: False | Parameter name: features.10.weight\n",
      "Requires grad: False | Parameter name: features.10.bias\n",
      "Requires grad: False | Parameter name: classifier.1.weight\n",
      "Requires grad: False | Parameter name: classifier.1.bias\n",
      "Requires grad: False | Parameter name: classifier.4.weight\n",
      "Requires grad: False | Parameter name: classifier.4.bias\n",
      "Requires grad: True | Parameter name: classifier.6.weight\n",
      "Requires grad: True | Parameter name: classifier.6.bias\n"
     ]
    }
   ],
   "source": [
    "for name, param in model.named_parameters():\n",
    "    print(f'Requires grad: {param.requires_grad} | Parameter name: {name}')"
   ]
  },
  {
   "cell_type": "markdown",
   "metadata": {},
   "source": [
    "---\n",
    "\n",
    "**Replacing the Classification Layer**\n",
    "\n",
    "The classification layer of AlexNet is named `model.classifier[6]`, which is a fully connected (FC) layer with 1,000 outputs suitable for ImageNet classes. \n",
    "\n",
    "For a new task (e.g., 10-class classification), replace this with a new FC layer."
   ]
  },
  {
   "cell_type": "code",
   "execution_count": 11,
   "metadata": {},
   "outputs": [
    {
     "name": "stdout",
     "output_type": "stream",
     "text": [
      "AlexNet(\n",
      "  (features): Sequential(\n",
      "    (0): Conv2d(3, 64, kernel_size=(11, 11), stride=(4, 4), padding=(2, 2))\n",
      "    (1): ReLU(inplace=True)\n",
      "    (2): MaxPool2d(kernel_size=3, stride=2, padding=0, dilation=1, ceil_mode=False)\n",
      "    (3): Conv2d(64, 192, kernel_size=(5, 5), stride=(1, 1), padding=(2, 2))\n",
      "    (4): ReLU(inplace=True)\n",
      "    (5): MaxPool2d(kernel_size=3, stride=2, padding=0, dilation=1, ceil_mode=False)\n",
      "    (6): Conv2d(192, 384, kernel_size=(3, 3), stride=(1, 1), padding=(1, 1))\n",
      "    (7): ReLU(inplace=True)\n",
      "    (8): Conv2d(384, 256, kernel_size=(3, 3), stride=(1, 1), padding=(1, 1))\n",
      "    (9): ReLU(inplace=True)\n",
      "    (10): Conv2d(256, 256, kernel_size=(3, 3), stride=(1, 1), padding=(1, 1))\n",
      "    (11): ReLU(inplace=True)\n",
      "    (12): MaxPool2d(kernel_size=3, stride=2, padding=0, dilation=1, ceil_mode=False)\n",
      "  )\n",
      "  (avgpool): AdaptiveAvgPool2d(output_size=(6, 6))\n",
      "  (classifier): Sequential(\n",
      "    (0): Dropout(p=0.5, inplace=False)\n",
      "    (1): Linear(in_features=9216, out_features=4096, bias=True)\n",
      "    (2): ReLU(inplace=True)\n",
      "    (3): Dropout(p=0.5, inplace=False)\n",
      "    (4): Linear(in_features=4096, out_features=4096, bias=True)\n",
      "    (5): ReLU(inplace=True)\n",
      "    (6): Linear(in_features=4096, out_features=10, bias=True)\n",
      "  )\n",
      ")\n"
     ]
    }
   ],
   "source": [
    "num_features = model.classifier[6].in_features     # get the number of input features the current classification layer\n",
    "model.classifier[6] = nn.Linear(num_features, 10)  # replace it with a new classification layer with 10 outputs\n",
    "\n",
    "# print updated model, check the the last layer output size is now 10 (previous was 1,000)\n",
    "print(model)"
   ]
  },
  {
   "cell_type": "code",
   "execution_count": 12,
   "metadata": {},
   "outputs": [
    {
     "name": "stdout",
     "output_type": "stream",
     "text": [
      "Total Parameters: 57,044,810\n",
      "Trainable Parameters: 40,970\n",
      "Percentage Trainable: 0.07%\n"
     ]
    }
   ],
   "source": [
    "# count current trainable parameters\n",
    "count_parameters(model)"
   ]
  },
  {
   "cell_type": "code",
   "execution_count": 13,
   "metadata": {},
   "outputs": [
    {
     "name": "stdout",
     "output_type": "stream",
     "text": [
      "Requires grad: False | Parameter name: features.0.weight\n",
      "Requires grad: False | Parameter name: features.0.bias\n",
      "Requires grad: False | Parameter name: features.3.weight\n",
      "Requires grad: False | Parameter name: features.3.bias\n",
      "Requires grad: False | Parameter name: features.6.weight\n",
      "Requires grad: False | Parameter name: features.6.bias\n",
      "Requires grad: False | Parameter name: features.8.weight\n",
      "Requires grad: False | Parameter name: features.8.bias\n",
      "Requires grad: False | Parameter name: features.10.weight\n",
      "Requires grad: False | Parameter name: features.10.bias\n",
      "Requires grad: False | Parameter name: classifier.1.weight\n",
      "Requires grad: False | Parameter name: classifier.1.bias\n",
      "Requires grad: False | Parameter name: classifier.4.weight\n",
      "Requires grad: False | Parameter name: classifier.4.bias\n",
      "Requires grad: True | Parameter name: classifier.6.weight\n",
      "Requires grad: True | Parameter name: classifier.6.bias\n"
     ]
    }
   ],
   "source": [
    "for name, param in model.named_parameters():\n",
    "    print(f'Requires grad: {param.requires_grad} | Parameter name: {name}')"
   ]
  },
  {
   "cell_type": "markdown",
   "metadata": {},
   "source": [
    "We've now replaced the original classification (ouput) layer with a customer layer. This layer is now both unfrozeen and initialized with random parameters."
   ]
  },
  {
   "cell_type": "markdown",
   "metadata": {},
   "source": [
    "---"
   ]
  },
  {
   "cell_type": "markdown",
   "metadata": {},
   "source": [
    "**Replacing the Entire Classification Head**\n",
    "\n",
    "For more flexibility, you can replace the **entire classification head**, not just the last layer. In AlexNet, the head typically starts after the feature extractor (convolutional layers).\n",
    "\n",
    "Note also that the the whole classification head is encapsulated in 'model.classifier', using the so-called nn.Sequential syntax. \n",
    "\n",
    "We can define our own nn.Sequential head and replace the built-in one with it.\n"
   ]
  },
  {
   "cell_type": "code",
   "execution_count": 14,
   "metadata": {},
   "outputs": [],
   "source": [
    "# example of nn.Sequential syntax\n",
    "\n",
    "class SimpleCNN(nn.Module):\n",
    "    def __init__(self, num_classes=10):\n",
    "        super(SimpleCNN, self).__init__()\n",
    "\n",
    "        self.model = nn.Sequential(\n",
    "                                    # Layer 1: Conv -> ReLU -> Pool\n",
    "                                    nn.Conv2d(in_channels=3, out_channels=16, kernel_size=3, stride=1, padding=1), \n",
    "                                    nn.ReLU(),\n",
    "                                    nn.MaxPool2d(kernel_size=2, stride=2), \n",
    "\n",
    "                                    # Layer 2: Conv -> ReLU -> Pool\n",
    "                                    nn.Conv2d(in_channels=16, out_channels=32, kernel_size=3, stride=1, padding=1),\n",
    "                                    nn.ReLU(),\n",
    "                                    nn.MaxPool2d(kernel_size=2, stride=2), \n",
    "\n",
    "                                    # Layer 3: Conv -> ReLU -> Pool\n",
    "                                    nn.Conv2d(in_channels=32, out_channels=64, kernel_size=3, stride=1, padding=1),\n",
    "                                    nn.ReLU(),\n",
    "                                    nn.MaxPool2d(kernel_size=2, stride=2), \n",
    "\n",
    "                                    # Flatten\n",
    "                                    nn.Flatten(),\n",
    "\n",
    "                                    # One-layer classification head\n",
    "                                    nn.Linear(64 * 4 * 4, num_classes)  # Assuming input size 32x32\n",
    "                                )\n",
    "\n",
    "    def forward(self, x):\n",
    "        return self.model(x)"
   ]
  },
  {
   "cell_type": "code",
   "execution_count": 15,
   "metadata": {},
   "outputs": [
    {
     "data": {
      "text/plain": [
       "Sequential(\n",
       "  (0): Dropout(p=0.5, inplace=False)\n",
       "  (1): Linear(in_features=9216, out_features=4096, bias=True)\n",
       "  (2): ReLU(inplace=True)\n",
       "  (3): Dropout(p=0.5, inplace=False)\n",
       "  (4): Linear(in_features=4096, out_features=4096, bias=True)\n",
       "  (5): ReLU(inplace=True)\n",
       "  (6): Linear(in_features=4096, out_features=10, bias=True)\n",
       ")"
      ]
     },
     "execution_count": 15,
     "metadata": {},
     "output_type": "execute_result"
    }
   ],
   "source": [
    "# the whole classifier encapulated in model.classifier\n",
    "\n",
    "model.classifier"
   ]
  },
  {
   "cell_type": "code",
   "execution_count": 16,
   "metadata": {},
   "outputs": [],
   "source": [
    "# note that the first layer of neurons in the classifier head has 9216 in_features, we need to have the same in our new head.\n",
    "\n",
    "head_in_features = 9216"
   ]
  },
  {
   "cell_type": "code",
   "execution_count": 17,
   "metadata": {},
   "outputs": [
    {
     "name": "stdout",
     "output_type": "stream",
     "text": [
      "AlexNet(\n",
      "  (features): Sequential(\n",
      "    (0): Conv2d(3, 64, kernel_size=(11, 11), stride=(4, 4), padding=(2, 2))\n",
      "    (1): ReLU(inplace=True)\n",
      "    (2): MaxPool2d(kernel_size=3, stride=2, padding=0, dilation=1, ceil_mode=False)\n",
      "    (3): Conv2d(64, 192, kernel_size=(5, 5), stride=(1, 1), padding=(2, 2))\n",
      "    (4): ReLU(inplace=True)\n",
      "    (5): MaxPool2d(kernel_size=3, stride=2, padding=0, dilation=1, ceil_mode=False)\n",
      "    (6): Conv2d(192, 384, kernel_size=(3, 3), stride=(1, 1), padding=(1, 1))\n",
      "    (7): ReLU(inplace=True)\n",
      "    (8): Conv2d(384, 256, kernel_size=(3, 3), stride=(1, 1), padding=(1, 1))\n",
      "    (9): ReLU(inplace=True)\n",
      "    (10): Conv2d(256, 256, kernel_size=(3, 3), stride=(1, 1), padding=(1, 1))\n",
      "    (11): ReLU(inplace=True)\n",
      "    (12): MaxPool2d(kernel_size=3, stride=2, padding=0, dilation=1, ceil_mode=False)\n",
      "  )\n",
      "  (avgpool): AdaptiveAvgPool2d(output_size=(6, 6))\n",
      "  (classifier): Sequential(\n",
      "    (0): Linear(in_features=9216, out_features=512, bias=True)\n",
      "    (1): ReLU()\n",
      "    (2): Dropout(p=0.5, inplace=False)\n",
      "    (3): Linear(in_features=512, out_features=10, bias=True)\n",
      "  )\n",
      ")\n"
     ]
    }
   ],
   "source": [
    "# Define a custom sequence and replace the entire classification head with it\n",
    "# note that our custom sequence architecture is completely arbitrary and up to us to decide\n",
    "# only constrains are the 9216 in_features and 10 out_features of the last layer (which corresponds to the problem we want to solve)\n",
    "\n",
    "\n",
    "model.classifier = nn.Sequential(\n",
    "                                 nn.Linear(head_in_features, 512),  # First FC layer\n",
    "                                 nn.ReLU(),                         \n",
    "                                 nn.Dropout(0.5),                   \n",
    "                                 nn.Linear(512, 10)                 # Output layer\n",
    "                                )\n",
    "\n",
    "print(model)"
   ]
  },
  {
   "cell_type": "code",
   "execution_count": 18,
   "metadata": {},
   "outputs": [
    {
     "name": "stdout",
     "output_type": "stream",
     "text": [
      "Total Parameters: 7,193,930\n",
      "Trainable Parameters: 4,724,234\n",
      "Percentage Trainable: 65.67%\n"
     ]
    }
   ],
   "source": [
    "# Check parameters again after adding a new head\n",
    "count_parameters(model)"
   ]
  },
  {
   "cell_type": "code",
   "execution_count": 19,
   "metadata": {},
   "outputs": [
    {
     "name": "stdout",
     "output_type": "stream",
     "text": [
      "Requires grad: False | Parameter name: features.0.weight\n",
      "Requires grad: False | Parameter name: features.0.bias\n",
      "Requires grad: False | Parameter name: features.3.weight\n",
      "Requires grad: False | Parameter name: features.3.bias\n",
      "Requires grad: False | Parameter name: features.6.weight\n",
      "Requires grad: False | Parameter name: features.6.bias\n",
      "Requires grad: False | Parameter name: features.8.weight\n",
      "Requires grad: False | Parameter name: features.8.bias\n",
      "Requires grad: False | Parameter name: features.10.weight\n",
      "Requires grad: False | Parameter name: features.10.bias\n",
      "Requires grad: True | Parameter name: classifier.0.weight\n",
      "Requires grad: True | Parameter name: classifier.0.bias\n",
      "Requires grad: True | Parameter name: classifier.3.weight\n",
      "Requires grad: True | Parameter name: classifier.3.bias\n"
     ]
    }
   ],
   "source": [
    "for name, param in model.named_parameters():\n",
    "    print(f'Requires grad: {param.requires_grad} | Parameter name: {name}')"
   ]
  },
  {
   "cell_type": "markdown",
   "metadata": {},
   "source": [
    "Maybe we'd like to unfreeze the last conv layer aswell?"
   ]
  },
  {
   "cell_type": "code",
   "execution_count": 20,
   "metadata": {},
   "outputs": [
    {
     "name": "stdout",
     "output_type": "stream",
     "text": [
      "Total Parameters: 7,193,930\n",
      "Trainable Parameters: 5,314,314\n",
      "Percentage Trainable: 73.87%\n"
     ]
    }
   ],
   "source": [
    "# Unfreeze only the last classifier layer (the output layer) \n",
    "for name, param in model.named_parameters():\n",
    "    if \"features.10\" in name:                \n",
    "        param.requires_grad = True\n",
    "\n",
    "# Check trainable parameters again\n",
    "count_parameters(model)"
   ]
  },
  {
   "cell_type": "code",
   "execution_count": 21,
   "metadata": {},
   "outputs": [
    {
     "name": "stdout",
     "output_type": "stream",
     "text": [
      "Requires grad: False | Parameter name: features.0.weight\n",
      "Requires grad: False | Parameter name: features.0.bias\n",
      "Requires grad: False | Parameter name: features.3.weight\n",
      "Requires grad: False | Parameter name: features.3.bias\n",
      "Requires grad: False | Parameter name: features.6.weight\n",
      "Requires grad: False | Parameter name: features.6.bias\n",
      "Requires grad: False | Parameter name: features.8.weight\n",
      "Requires grad: False | Parameter name: features.8.bias\n",
      "Requires grad: True | Parameter name: features.10.weight\n",
      "Requires grad: True | Parameter name: features.10.bias\n",
      "Requires grad: True | Parameter name: classifier.0.weight\n",
      "Requires grad: True | Parameter name: classifier.0.bias\n",
      "Requires grad: True | Parameter name: classifier.3.weight\n",
      "Requires grad: True | Parameter name: classifier.3.bias\n"
     ]
    }
   ],
   "source": [
    "for name, param in model.named_parameters():\n",
    "    print(f'Requires grad: {param.requires_grad} | Parameter name: {name}')"
   ]
  },
  {
   "cell_type": "markdown",
   "metadata": {},
   "source": [
    "---\n",
    "\n",
    "## Next Steps: Training the Model"
   ]
  },
  {
   "cell_type": "markdown",
   "metadata": {},
   "source": [
    "Using our model for training is super easy. We have it saved in the variable `model` and can, at any point,\n",
    "\n",
    "throw it into our training loop and train it - usually once we're satisfied with freezing/unfreezing of layers \n",
    "\n",
    "and potential replacement of the classification head/layers. \n",
    "\n",
    "**Note**: \n",
    "\n",
    "For optimal performance, you might need to resize your images to the input size (often 224x224) of the pre-trained model. \n",
    "\n",
    "This can easily be done using transformations though. Look it up."
   ]
  },
  {
   "cell_type": "code",
   "execution_count": 23,
   "metadata": {},
   "outputs": [
    {
     "name": "stdout",
     "output_type": "stream",
     "text": [
      "Using device: cuda\n"
     ]
    }
   ],
   "source": [
    "from torchvision import datasets, transforms\n",
    "import torch\n",
    "\n",
    "# set up transforms\n",
    "transform = transforms.Compose([\n",
    "    transforms.Resize(224),         # resize images to 224x224 for alexnet\n",
    "    transforms.ToTensor(),          # convert images to tensor format\n",
    "    transforms.Lambda(lambda x: x.repeat(3, 1, 1)),                                 # convert grayscale to 3 channels\n",
    "    transforms.Normalize(mean=[0.485, 0.456, 0.406], std=[0.229, 0.224, 0.225])     # normalize using imagenet stats\n",
    "])\n",
    "\n",
    "# load training and test datasets with transforms\n",
    "trainset = datasets.FashionMNIST(root='../w4/data/', train=True, download=True, transform=transform)\n",
    "valset = datasets.FashionMNIST(root='../w4/data/', train=False, download=True, transform=transform)\n",
    "\n",
    "# device\n",
    "device = torch.device(\"cuda\" if torch.cuda.is_available() else \"cpu\")\n",
    "print(f'Using device: {device}')"
   ]
  },
  {
   "cell_type": "markdown",
   "metadata": {},
   "source": [
    "#### Show new 224x224 images"
   ]
  },
  {
   "cell_type": "code",
   "execution_count": 24,
   "metadata": {},
   "outputs": [
    {
     "name": "stdout",
     "output_type": "stream",
     "text": [
      "tensor shape: torch.Size([3, 224, 224])\n",
      "value range: [-2.118, 2.623]\n",
      "label: 9\n"
     ]
    },
    {
     "data": {
      "image/png": "[encoded data removed]",
      "text/plain": [
       "<Figure size 800x800 with 1 Axes>"
      ]
     },
     "metadata": {},
     "output_type": "display_data"
    }
   ],
   "source": [
    "import matplotlib.pyplot as plt\n",
    "import torchvision\n",
    "\n",
    "# function to show image and print metadata\n",
    "def inspect_image(dataset, idx=0):\n",
    "    img, label = dataset[idx]\n",
    "    \n",
    "    # print metadata\n",
    "    print(f\"tensor shape: {img.shape}\")\n",
    "    print(f\"value range: [{img.min():.3f}, {img.max():.3f}]\")\n",
    "    print(f\"label: {label}\")\n",
    "    \n",
    "    # denormalize and convert to displayable format\n",
    "    img_display = img.permute(1, 2, 0).numpy()\n",
    "    img_display = (img_display * [0.229, 0.224, 0.225] + [0.485, 0.456, 0.406]).clip(0, 1)\n",
    "    \n",
    "    # display\n",
    "    plt.figure(figsize=(8, 8))\n",
    "    plt.imshow(img_display)\n",
    "    plt.axis('off')\n",
    "    plt.title(f'fashionmnist class {label}')\n",
    "    plt.show()\n",
    "\n",
    "# show a grid of images\n",
    "def show_image_grid(dataset, num_images=16):\n",
    "    imgs = [dataset[i][0] for i in range(num_images)]\n",
    "    grid = torchvision.utils.make_grid(imgs, nrow=4)\n",
    "    \n",
    "    # denormalize\n",
    "    grid_display = grid.permute(1, 2, 0).numpy()\n",
    "    grid_display = (grid_display * [0.229, 0.224, 0.225] + [0.485, 0.456, 0.406]).clip(0, 1)\n",
    "    \n",
    "    plt.figure(figsize=(15, 15))\n",
    "    plt.imshow(grid_display)\n",
    "    plt.axis('off')\n",
    "    plt.show()\n",
    "\n",
    "# inspect single image\n",
    "inspect_image(trainset, idx=0)\n",
    "\n",
    "# show grid of images\n",
    "# show_image_grid(trainset)"
   ]
  },
  {
   "cell_type": "code",
   "execution_count": 44,
   "metadata": {},
   "outputs": [
    {
     "data": {
      "text/plain": [
       "AlexNet(\n",
       "  (features): Sequential(\n",
       "    (0): Conv2d(3, 64, kernel_size=(11, 11), stride=(4, 4), padding=(2, 2))\n",
       "    (1): ReLU(inplace=True)\n",
       "    (2): MaxPool2d(kernel_size=3, stride=2, padding=0, dilation=1, ceil_mode=False)\n",
       "    (3): Conv2d(64, 192, kernel_size=(5, 5), stride=(1, 1), padding=(2, 2))\n",
       "    (4): ReLU(inplace=True)\n",
       "    (5): MaxPool2d(kernel_size=3, stride=2, padding=0, dilation=1, ceil_mode=False)\n",
       "    (6): Conv2d(192, 384, kernel_size=(3, 3), stride=(1, 1), padding=(1, 1))\n",
       "    (7): ReLU(inplace=True)\n",
       "    (8): Conv2d(384, 256, kernel_size=(3, 3), stride=(1, 1), padding=(1, 1))\n",
       "    (9): ReLU(inplace=True)\n",
       "    (10): Conv2d(256, 256, kernel_size=(3, 3), stride=(1, 1), padding=(1, 1))\n",
       "    (11): ReLU(inplace=True)\n",
       "    (12): MaxPool2d(kernel_size=3, stride=2, padding=0, dilation=1, ceil_mode=False)\n",
       "  )\n",
       "  (avgpool): AdaptiveAvgPool2d(output_size=(6, 6))\n",
       "  (classifier): Sequential(\n",
       "    (0): Linear(in_features=9216, out_features=32, bias=True)\n",
       "    (1): ReLU()\n",
       "    (2): Dropout(p=0.5, inplace=False)\n",
       "    (3): Linear(in_features=32, out_features=16, bias=True)\n",
       "    (4): ReLU()\n",
       "    (5): Dropout(p=0.5, inplace=False)\n",
       "    (6): Linear(in_features=16, out_features=10, bias=True)\n",
       "  )\n",
       ")"
      ]
     },
     "execution_count": 44,
     "metadata": {},
     "output_type": "execute_result"
    }
   ],
   "source": [
    "model"
   ]
  },
  {
   "cell_type": "code",
   "execution_count": 42,
   "metadata": {},
   "outputs": [
    {
     "name": "stdout",
     "output_type": "stream",
     "text": [
      "features.0.weight: False\n",
      "features.0.bias: False\n",
      "features.3.weight: False\n",
      "features.3.bias: False\n",
      "features.6.weight: False\n",
      "features.6.bias: False\n",
      "features.8.weight: False\n",
      "features.8.bias: False\n",
      "features.10.weight: True\n",
      "features.10.bias: True\n",
      "classifier.0.weight: True\n",
      "classifier.0.bias: True\n",
      "classifier.3.weight: True\n",
      "classifier.3.bias: True\n",
      "classifier.6.weight: True\n",
      "classifier.6.bias: True\n"
     ]
    }
   ],
   "source": [
    "for name, param in model.named_parameters():\n",
    "    print(f'{name}: {param.requires_grad}')"
   ]
  },
  {
   "cell_type": "code",
   "execution_count": 48,
   "metadata": {},
   "outputs": [
    {
     "ename": "KeyboardInterrupt",
     "evalue": "",
     "output_type": "error",
     "traceback": [
      "\u001b[0;31m---------------------------------------------------------------------------\u001b[0m",
      "\u001b[0;31mKeyboardInterrupt\u001b[0m                         Traceback (most recent call last)",
      "Cell \u001b[0;32mIn[48], line 62\u001b[0m\n\u001b[1;32m     48\u001b[0m trainer \u001b[38;5;241m=\u001b[39m ModelTrainer(\n\u001b[1;32m     49\u001b[0m     model\u001b[38;5;241m=\u001b[39mmodel,\n\u001b[1;32m     50\u001b[0m     device\u001b[38;5;241m=\u001b[39mdevice,\n\u001b[0;32m   (...)\u001b[0m\n\u001b[1;32m     58\u001b[0m     early_stopping_delta\u001b[38;5;241m=\u001b[39m\u001b[38;5;241m0.00001\u001b[39m\n\u001b[1;32m     59\u001b[0m )\n\u001b[1;32m     61\u001b[0m \u001b[38;5;66;03m# train model\u001b[39;00m\n\u001b[0;32m---> 62\u001b[0m trained_model \u001b[38;5;241m=\u001b[39m \u001b[43mtrainer\u001b[49m\u001b[38;5;241;43m.\u001b[39;49m\u001b[43mtrain\u001b[49m\u001b[43m(\u001b[49m\n\u001b[1;32m     63\u001b[0m \u001b[43m    \u001b[49m\u001b[43mtraining_set\u001b[49m\u001b[38;5;241;43m=\u001b[39;49m\u001b[43mtrainset\u001b[49m\u001b[43m,\u001b[49m\n\u001b[1;32m     64\u001b[0m \u001b[43m    \u001b[49m\u001b[43mval_set\u001b[49m\u001b[38;5;241;43m=\u001b[39;49m\u001b[43mvalset\u001b[49m\u001b[43m,\u001b[49m\n\u001b[1;32m     65\u001b[0m \u001b[43m    \u001b[49m\u001b[43mnum_epochs\u001b[49m\u001b[38;5;241;43m=\u001b[39;49m\u001b[38;5;241;43m100\u001b[39;49m\n\u001b[1;32m     66\u001b[0m \u001b[43m)\u001b[49m\n",
      "File \u001b[0;32m~/projects/deeplearning/deep_learning_tools/src/training/trainer.py:219\u001b[0m, in \u001b[0;36mModelTrainer.train\u001b[0;34m(self, training_set, val_set, num_epochs, scheduler_step)\u001b[0m\n\u001b[1;32m    217\u001b[0m \u001b[38;5;28;01mfor\u001b[39;00m epoch \u001b[38;5;129;01min\u001b[39;00m \u001b[38;5;28mrange\u001b[39m(\u001b[38;5;241m1\u001b[39m, num_epochs \u001b[38;5;241m+\u001b[39m \u001b[38;5;241m1\u001b[39m):\n\u001b[1;32m    218\u001b[0m     \u001b[38;5;28mself\u001b[39m\u001b[38;5;241m.\u001b[39mmetrics_history[\u001b[38;5;124m'\u001b[39m\u001b[38;5;124mepochs\u001b[39m\u001b[38;5;124m'\u001b[39m]\u001b[38;5;241m.\u001b[39mappend(epoch)\n\u001b[0;32m--> 219\u001b[0m     train_loss \u001b[38;5;241m=\u001b[39m \u001b[38;5;28;43mself\u001b[39;49m\u001b[38;5;241;43m.\u001b[39;49m\u001b[43mtrain_epoch\u001b[49m\u001b[43m(\u001b[49m\u001b[43mepoch\u001b[49m\u001b[43m)\u001b[49m\n\u001b[1;32m    220\u001b[0m     val_loss \u001b[38;5;241m=\u001b[39m \u001b[38;5;28mself\u001b[39m\u001b[38;5;241m.\u001b[39mevaluate(epoch, phase\u001b[38;5;241m=\u001b[39m\u001b[38;5;124m'\u001b[39m\u001b[38;5;124mval\u001b[39m\u001b[38;5;124m'\u001b[39m)\n\u001b[1;32m    222\u001b[0m     \u001b[38;5;28;01mif\u001b[39;00m \u001b[38;5;28mself\u001b[39m\u001b[38;5;241m.\u001b[39mscheduler:\n",
      "File \u001b[0;32m~/projects/deeplearning/deep_learning_tools/src/training/trainer.py:131\u001b[0m, in \u001b[0;36mModelTrainer.train_epoch\u001b[0;34m(self, epoch)\u001b[0m\n\u001b[1;32m    128\u001b[0m     loss\u001b[38;5;241m.\u001b[39mbackward()\n\u001b[1;32m    129\u001b[0m     \u001b[38;5;28mself\u001b[39m\u001b[38;5;241m.\u001b[39moptimizer\u001b[38;5;241m.\u001b[39mstep()\n\u001b[0;32m--> 131\u001b[0m     batch_losses\u001b[38;5;241m.\u001b[39mappend(\u001b[43mloss\u001b[49m\u001b[38;5;241;43m.\u001b[39;49m\u001b[43mitem\u001b[49m\u001b[43m(\u001b[49m\u001b[43m)\u001b[49m)\n\u001b[1;32m    133\u001b[0m \u001b[38;5;66;03m# epoch total loss / number of batches = epoch average loss\u001b[39;00m\n\u001b[1;32m    134\u001b[0m average_loss \u001b[38;5;241m=\u001b[39m \u001b[38;5;28msum\u001b[39m(batch_losses) \u001b[38;5;241m/\u001b[39m \u001b[38;5;28mlen\u001b[39m(\u001b[38;5;28mself\u001b[39m\u001b[38;5;241m.\u001b[39mtrain_loader)\n",
      "\u001b[0;31mKeyboardInterrupt\u001b[0m: "
     ]
    }
   ],
   "source": [
    "import torch\n",
    "import torch.nn as nn\n",
    "from torch.optim import Adadelta, Adam, SGD\n",
    "from torch.optim.lr_scheduler import StepLR\n",
    "import sys\n",
    "from pathlib import Path\n",
    "\n",
    "# package_root = Path('/home/goose/projects/deeplearning/deep_learning_tools')\n",
    "package_root = Path('/home/gustaf/projects/deeplearning/deep_learning_tools')\n",
    "sys.path.append(str(package_root))\n",
    "\n",
    "from src import ModelTrainer\n",
    "\n",
    "head_in_features = 9216\n",
    "\n",
    "model.classifier = nn.Sequential(\n",
    "                                 nn.Linear(head_in_features, 64),\n",
    "                                 nn.ReLU(),                         \n",
    "                                 nn.Dropout(0.5),                   \n",
    "                                 nn.Linear(64, 32),\n",
    "                                 nn.ReLU(),\n",
    "                                 nn.Dropout(0.5),\n",
    "                                 nn.Linear(32, 10)\n",
    "                                )\n",
    "\n",
    "# create parameter groups with different learning rates\n",
    "params_to_update = []\n",
    "params_to_finetune = []\n",
    "\n",
    "# separate parameters into two groups\n",
    "for name, param in model.named_parameters():\n",
    "    if \"features.10\" in name:  # fine-tuning group (pretrained layer)\n",
    "        params_to_finetune.append(param)\n",
    "    elif \"classifier\" in name:  # feature extraction group (new layers)\n",
    "        params_to_update.append(param)\n",
    "\n",
    "# create optimizer with parameter groups\n",
    "optimizer = Adam([\n",
    "    {'params': params_to_finetune, 'lr': 0.0001},  # lower lr for fine-tuning\n",
    "    {'params': params_to_update, 'lr': 0.001}      # higher lr for new layers\n",
    "], weight_decay=0.01)\n",
    "\n",
    "\n",
    "# initialize scheduler\n",
    "scheduler = StepLR(optimizer, step_size=1, gamma=0.75)\n",
    "\n",
    "# initialize trainer\n",
    "trainer = ModelTrainer(\n",
    "    model=model,\n",
    "    device=device,\n",
    "    loss_fn=nn.CrossEntropyLoss(),\n",
    "    optimizer=optimizer,\n",
    "    scheduler=scheduler,\n",
    "    batch_size=128,\n",
    "    verbose=True,\n",
    "    save_metrics=True,\n",
    "    early_stopping_patience=10,\n",
    "    early_stopping_delta=0.00001\n",
    ")\n",
    "\n",
    "# train model\n",
    "trained_model = trainer.train(\n",
    "    training_set=trainset,\n",
    "    val_set=valset,\n",
    "    num_epochs=100\n",
    ")"
   ]
  },
  {
   "cell_type": "code",
   "execution_count": null,
   "metadata": {},
   "outputs": [],
   "source": []
  },
  {
   "cell_type": "code",
   "execution_count": null,
   "metadata": {},
   "outputs": [],
   "source": []
  },
  {
   "cell_type": "code",
   "execution_count": null,
   "metadata": {},
   "outputs": [],
   "source": []
  },
  {
   "cell_type": "code",
   "execution_count": null,
   "metadata": {},
   "outputs": [],
   "source": []
  },
  {
   "cell_type": "code",
   "execution_count": null,
   "metadata": {},
   "outputs": [],
   "source": []
  },
  {
   "cell_type": "code",
   "execution_count": null,
   "metadata": {},
   "outputs": [],
   "source": []
  },
  {
   "cell_type": "code",
   "execution_count": null,
   "metadata": {},
   "outputs": [],
   "source": []
  },
  {
   "cell_type": "code",
   "execution_count": null,
   "metadata": {},
   "outputs": [],
   "source": []
  },
  {
   "cell_type": "code",
   "execution_count": null,
   "metadata": {},
   "outputs": [],
   "source": []
  },
  {
   "cell_type": "code",
   "execution_count": null,
   "metadata": {},
   "outputs": [],
   "source": []
  },
  {
   "cell_type": "code",
   "execution_count": null,
   "metadata": {},
   "outputs": [],
   "source": []
  },
  {
   "cell_type": "code",
   "execution_count": null,
   "metadata": {},
   "outputs": [],
   "source": []
  },
  {
   "cell_type": "code",
   "execution_count": null,
   "metadata": {},
   "outputs": [],
   "source": []
  },
  {
   "cell_type": "code",
   "execution_count": null,
   "metadata": {},
   "outputs": [],
   "source": []
  },
  {
   "cell_type": "code",
   "execution_count": null,
   "metadata": {},
   "outputs": [],
   "source": []
  },
  {
   "cell_type": "code",
   "execution_count": null,
   "metadata": {},
   "outputs": [],
   "source": []
  },
  {
   "cell_type": "code",
   "execution_count": null,
   "metadata": {},
   "outputs": [],
   "source": []
  },
  {
   "cell_type": "code",
   "execution_count": null,
   "metadata": {},
   "outputs": [],
   "source": []
  },
  {
   "cell_type": "code",
   "execution_count": null,
   "metadata": {},
   "outputs": [],
   "source": []
  },
  {
   "cell_type": "code",
   "execution_count": null,
   "metadata": {},
   "outputs": [],
   "source": []
  },
  {
   "cell_type": "code",
   "execution_count": null,
   "metadata": {},
   "outputs": [],
   "source": []
  },
  {
   "cell_type": "code",
   "execution_count": null,
   "metadata": {},
   "outputs": [],
   "source": []
  },
  {
   "cell_type": "code",
   "execution_count": null,
   "metadata": {},
   "outputs": [],
   "source": []
  },
  {
   "cell_type": "markdown",
   "metadata": {},
   "source": [
    "## Understanding CNN repetition"
   ]
  },
  {
   "cell_type": "code",
   "execution_count": null,
   "metadata": {},
   "outputs": [
    {
     "data": {
      "text/plain": [
       "AlexNet(\n",
       "  (features): Sequential(\n",
       "    (0): Conv2d(3, 64, kernel_size=(11, 11), stride=(4, 4), padding=(2, 2))\n",
       "    (1): ReLU(inplace=True)\n",
       "    (2): MaxPool2d(kernel_size=3, stride=2, padding=0, dilation=1, ceil_mode=False)\n",
       "    (3): Conv2d(64, 192, kernel_size=(5, 5), stride=(1, 1), padding=(2, 2))\n",
       "    (4): ReLU(inplace=True)\n",
       "    (5): MaxPool2d(kernel_size=3, stride=2, padding=0, dilation=1, ceil_mode=False)\n",
       "    (6): Conv2d(192, 384, kernel_size=(3, 3), stride=(1, 1), padding=(1, 1))\n",
       "    (7): ReLU(inplace=True)\n",
       "    (8): Conv2d(384, 256, kernel_size=(3, 3), stride=(1, 1), padding=(1, 1))\n",
       "    (9): ReLU(inplace=True)\n",
       "    (10): Conv2d(256, 256, kernel_size=(3, 3), stride=(1, 1), padding=(1, 1))\n",
       "    (11): ReLU(inplace=True)\n",
       "    (12): MaxPool2d(kernel_size=3, stride=2, padding=0, dilation=1, ceil_mode=False)\n",
       "  )\n",
       "  (avgpool): AdaptiveAvgPool2d(output_size=(6, 6))\n",
       "  (classifier): Sequential(\n",
       "    (0): Linear(in_features=9216, out_features=512, bias=True)\n",
       "    (1): ReLU()\n",
       "    (2): Dropout(p=0.5, inplace=False)\n",
       "    (3): Linear(in_features=512, out_features=10, bias=True)\n",
       "  )\n",
       ")"
      ]
     },
     "metadata": {},
     "output_type": "display_data"
    }
   ],
   "source": [
    "model"
   ]
  },
  {
   "cell_type": "markdown",
   "metadata": {},
   "source": [
    "**Parameters per convolutional layer**\n",
    "\n",
    "out_channels * (in_channels * kernel_width * kernel_height + 1) \n",
    "\n",
    "**Parameters per fully connected layer**\n",
    "\n",
    "out_channels * (in_channels + 1)"
   ]
  },
  {
   "cell_type": "code",
   "execution_count": null,
   "metadata": {},
   "outputs": [
    {
     "data": {
      "text/plain": [
       "23296"
      ]
     },
     "metadata": {},
     "output_type": "display_data"
    }
   ],
   "source": [
    "in_channels = 3\n",
    "out_channels = 64\n",
    "kernel_width = 11\n",
    "kernel_height = 11\n",
    "conv2d_0 = out_channels * (in_channels * kernel_width * kernel_height + 1)\n",
    "conv2d_0"
   ]
  },
  {
   "cell_type": "code",
   "execution_count": null,
   "metadata": {},
   "outputs": [
    {
     "name": "stdout",
     "output_type": "stream",
     "text": [
      "==============================================================================================================================================================================================\n",
      "Layer (type:depth-idx)                   Input Shape               Output Shape              Param #                   Param %                   Kernel Shape              Trainable\n",
      "==============================================================================================================================================================================================\n",
      "AlexNet                                  [1, 3, 224, 224]          [1, 10]                   --                             --                   --                        Partial\n",
      "├─Sequential: 1-1                        [1, 3, 224, 224]          [1, 256, 6, 6]            --                             --                   --                        Partial\n",
      "│    └─Conv2d: 2-1                       [1, 3, 224, 224]          [1, 64, 55, 55]           (23,296)                    0.32%                   [11, 11]                  False\n",
      "│    └─ReLU: 2-2                         [1, 64, 55, 55]           [1, 64, 55, 55]           --                             --                   --                        --\n",
      "│    └─MaxPool2d: 2-3                    [1, 64, 55, 55]           [1, 64, 27, 27]           --                             --                   3                         --\n",
      "│    └─Conv2d: 2-4                       [1, 64, 27, 27]           [1, 192, 27, 27]          (307,392)                   4.27%                   [5, 5]                    False\n",
      "│    └─ReLU: 2-5                         [1, 192, 27, 27]          [1, 192, 27, 27]          --                             --                   --                        --\n",
      "│    └─MaxPool2d: 2-6                    [1, 192, 27, 27]          [1, 192, 13, 13]          --                             --                   3                         --\n",
      "│    └─Conv2d: 2-7                       [1, 192, 13, 13]          [1, 384, 13, 13]          (663,936)                   9.23%                   [3, 3]                    False\n",
      "│    └─ReLU: 2-8                         [1, 384, 13, 13]          [1, 384, 13, 13]          --                             --                   --                        --\n",
      "│    └─Conv2d: 2-9                       [1, 384, 13, 13]          [1, 256, 13, 13]          (884,992)                  12.30%                   [3, 3]                    False\n",
      "│    └─ReLU: 2-10                        [1, 256, 13, 13]          [1, 256, 13, 13]          --                             --                   --                        --\n",
      "│    └─Conv2d: 2-11                      [1, 256, 13, 13]          [1, 256, 13, 13]          590,080                     8.20%                   [3, 3]                    True\n",
      "│    └─ReLU: 2-12                        [1, 256, 13, 13]          [1, 256, 13, 13]          --                             --                   --                        --\n",
      "│    └─MaxPool2d: 2-13                   [1, 256, 13, 13]          [1, 256, 6, 6]            --                             --                   3                         --\n",
      "├─AdaptiveAvgPool2d: 1-2                 [1, 256, 6, 6]            [1, 256, 6, 6]            --                             --                   --                        --\n",
      "├─Sequential: 1-3                        [1, 9216]                 [1, 10]                   --                             --                   --                        True\n",
      "│    └─Linear: 2-14                      [1, 9216]                 [1, 512]                  4,719,104                  65.60%                   --                        True\n",
      "│    └─ReLU: 2-15                        [1, 512]                  [1, 512]                  --                             --                   --                        --\n",
      "│    └─Dropout: 2-16                     [1, 512]                  [1, 512]                  --                             --                   --                        --\n",
      "│    └─Linear: 2-17                      [1, 512]                  [1, 10]                   5,130                       0.07%                   --                        True\n",
      "==============================================================================================================================================================================================\n",
      "Total params: 7,193,930\n",
      "Trainable params: 5,314,314\n",
      "Non-trainable params: 1,879,616\n",
      "Total mult-adds (M): 660.78\n",
      "==============================================================================================================================================================================================\n",
      "Input size (MB): 0.60\n",
      "Forward/backward pass size (MB): 3.88\n",
      "Params size (MB): 28.78\n",
      "Estimated Total Size (MB): 33.26\n",
      "==============================================================================================================================================================================================\n"
     ]
    }
   ],
   "source": [
    "print(str(torchinfo.summary(model, input_size=(1, 3, 224, 224), col_names=[\"input_size\", \"output_size\", \"num_params\", \"params_percent\", \"kernel_size\", \"trainable\",])))"
   ]
  }
 ],
 "metadata": {
  "kernelspec": {
   "display_name": "hf2",
   "language": "python",
   "name": "python3"
  },
  "language_info": {
   "codemirror_mode": {
    "name": "ipython",
    "version": 3
   },
   "file_extension": ".py",
   "mimetype": "text/x-python",
   "name": "python",
   "nbconvert_exporter": "python",
   "pygments_lexer": "ipython3",
   "version": "3.10.12"
  }
 },
 "nbformat": 4,
 "nbformat_minor": 2
}
