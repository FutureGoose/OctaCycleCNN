{
 "cells": [
  {
   "cell_type": "code",
   "execution_count": 1,
   "metadata": {},
   "outputs": [],
   "source": [
    "import torch\n",
    "import torch.nn as nn\n",
    "import torch.optim as optim\n",
    "from torch.utils.data import DataLoader\n",
    "import torchvision\n",
    "import torchvision.transforms as transforms\n",
    "import matplotlib.pyplot as plt\n",
    "import random"
   ]
  },
  {
   "cell_type": "code",
   "execution_count": 2,
   "metadata": {},
   "outputs": [],
   "source": [
    "def show_random_samples(dataset, num_samples=5):\n",
    "\n",
    "    class_names = [\n",
    "    \"T-shirt/top\", \"Trouser\", \"Pullover\", \"Dress\", \"Coat\", \n",
    "    \"Sandal\", \"Shirt\", \"Sneaker\", \"Bag\", \"Ankle boot\"\n",
    "        ]\n",
    "\n",
    "\n",
    "    \n",
    "    indices = random.sample(range(len(dataset)), num_samples) \n",
    "\n",
    "    plt.figure(figsize=(10, 5))\n",
    "    \n",
    "    for i, idx in enumerate(indices):\n",
    "        image, label = dataset[idx]\n",
    "        image = image.squeeze(0)                # Remove the channel dimension (C, H, W -> H, W)\n",
    "        plt.subplot(1, num_samples, i + 1)\n",
    "        plt.imshow(image, cmap='gray')\n",
    "        plt.title(f\"{class_names[label]}\")\n",
    "\n",
    "    plt.tight_layout()\n",
    "    \n",
    "    plt.show()"
   ]
  },
  {
   "cell_type": "markdown",
   "metadata": {},
   "source": [
    "---"
   ]
  },
  {
   "cell_type": "markdown",
   "metadata": {},
   "source": [
    "**TÄVLING! Sifferklassificering med Fully Connected Neural Networks**\n",
    "\n",
    "Välkommen till dagens tävling! Vi ska arbeta med det kända MNIST-datasetet, och försöka bygga en så bra classificationmodell som möjligt.\n",
    "\n",
    "---"
   ]
  },
  {
   "cell_type": "markdown",
   "metadata": {},
   "source": [
    "**Ladda ner data**\n",
    "\n",
    "Notera att vi här kan ladda ner MNIST datasetet direkt, och att vi i den nedladdningen definiera olika transformationer på vår data. Detta är väldigt behjälpligt när vi jobbat med bilddata.\n",
    "Vi kan exempelvis ändra om datatypen typp tensorer direkt, och även normalisera datan. \n",
    "\n",
    "Nedan anger vi två värden (en för varje axel, vi jobbar med 2d bilder här) till normalize, 0.5 i båda fallen - och vi kommer således att normalisera datan till att anta värden som följer en normalfördelning med medelvärde 0.5.  \n",
    "\n",
    "Läs mer om tranformations i Pytorch [här](https://pytorch.org/vision/stable/transforms.html)."
   ]
  },
  {
   "cell_type": "code",
   "execution_count": 3,
   "metadata": {},
   "outputs": [
    {
     "name": "stdout",
     "output_type": "stream",
     "text": [
      "Downloading http://fashion-mnist.s3-website.eu-central-1.amazonaws.com/train-images-idx3-ubyte.gz\n",
      "Downloading http://fashion-mnist.s3-website.eu-central-1.amazonaws.com/train-images-idx3-ubyte.gz to ./data/FashionMNIST/raw/train-images-idx3-ubyte.gz\n"
     ]
    },
    {
     "name": "stderr",
     "output_type": "stream",
     "text": [
      "100.0%\n"
     ]
    },
    {
     "name": "stdout",
     "output_type": "stream",
     "text": [
      "Extracting ./data/FashionMNIST/raw/train-images-idx3-ubyte.gz to ./data/FashionMNIST/raw\n"
     ]
    },
    {
     "name": "stderr",
     "output_type": "stream",
     "text": [
      "100.0%"
     ]
    },
    {
     "name": "stdout",
     "output_type": "stream",
     "text": [
      "\n",
      "Downloading http://fashion-mnist.s3-website.eu-central-1.amazonaws.com/train-labels-idx1-ubyte.gz\n",
      "Downloading http://fashion-mnist.s3-website.eu-central-1.amazonaws.com/train-labels-idx1-ubyte.gz to ./data/FashionMNIST/raw/train-labels-idx1-ubyte.gz\n",
      "Extracting ./data/FashionMNIST/raw/train-labels-idx1-ubyte.gz to ./data/FashionMNIST/raw\n",
      "\n",
      "Downloading http://fashion-mnist.s3-website.eu-central-1.amazonaws.com/t10k-images-idx3-ubyte.gz\n"
     ]
    },
    {
     "name": "stderr",
     "output_type": "stream",
     "text": [
      "\n",
      "9.6%"
     ]
    },
    {
     "name": "stdout",
     "output_type": "stream",
     "text": [
      "Downloading http://fashion-mnist.s3-website.eu-central-1.amazonaws.com/t10k-images-idx3-ubyte.gz to ./data/FashionMNIST/raw/t10k-images-idx3-ubyte.gz\n"
     ]
    },
    {
     "name": "stderr",
     "output_type": "stream",
     "text": [
      "100.0%\n",
      "100.0%\n"
     ]
    },
    {
     "name": "stdout",
     "output_type": "stream",
     "text": [
      "Extracting ./data/FashionMNIST/raw/t10k-images-idx3-ubyte.gz to ./data/FashionMNIST/raw\n",
      "\n",
      "Downloading http://fashion-mnist.s3-website.eu-central-1.amazonaws.com/t10k-labels-idx1-ubyte.gz\n",
      "Downloading http://fashion-mnist.s3-website.eu-central-1.amazonaws.com/t10k-labels-idx1-ubyte.gz to ./data/FashionMNIST/raw/t10k-labels-idx1-ubyte.gz\n",
      "Extracting ./data/FashionMNIST/raw/t10k-labels-idx1-ubyte.gz to ./data/FashionMNIST/raw\n",
      "\n"
     ]
    }
   ],
   "source": [
    "# Normalization transform\n",
    "transform = transforms.Compose([transforms.ToTensor(), transforms.Normalize((0.5,), (0.5,))])\n",
    "\n",
    "# Load training and test datasets with normalization\n",
    "trainset = torchvision.datasets.FashionMNIST(root='./data/', train=True, download=True, transform=transform)\n",
    "testset = torchvision.datasets.FashionMNIST(root='./data/', train=False, download=True, transform=transform)\n"
   ]
  },
  {
   "cell_type": "markdown",
   "metadata": {},
   "source": [
    "*Uppgift 1.1*\n",
    "\n",
    "Undersök vad som nu finns i trainset. Does it make sense?\n",
    "\n",
    "Till din hjälp kan du använda använda funktionen *show_random_samples* definierad ovan."
   ]
  },
  {
   "cell_type": "code",
   "execution_count": 4,
   "metadata": {},
   "outputs": [
    {
     "data": {
      "image/png": "[encoded data removed]",
      "text/plain": [
       "<Figure size 1000x500 with 5 Axes>"
      ]
     },
     "metadata": {},
     "output_type": "display_data"
    }
   ],
   "source": [
    "# TODO: work it out\n",
    "\n",
    "show_random_samples(trainset, num_samples=5)"
   ]
  },
  {
   "cell_type": "markdown",
   "metadata": {},
   "source": [
    "*Uppgift 1.2*\n",
    "\n",
    "Vilken storlek/shape har varje training sample? Vad händer om du använder metoden .flatten() på en training sample?\n",
    "\n",
    "Tips, kolla upp ex. trainset[0]. Vad innehåller den?"
   ]
  },
  {
   "cell_type": "code",
   "execution_count": 14,
   "metadata": {},
   "outputs": [
    {
     "name": "stdout",
     "output_type": "stream",
     "text": [
      "9\n",
      "torch.Size([1, 28, 28])\n",
      "torch.Size([784])\n"
     ]
    }
   ],
   "source": [
    "# TODO: work it out\n",
    "print(trainset[0][1])\n",
    "print(trainset[0][0].shape)\n",
    "print(trainset[0][0].flatten().shape)\n"
   ]
  },
  {
   "cell_type": "markdown",
   "metadata": {},
   "source": [
    "Dataloaders skapar vi nedan. Notera att vi väljer batch_size här."
   ]
  },
  {
   "cell_type": "code",
   "execution_count": 15,
   "metadata": {},
   "outputs": [],
   "source": [
    "BATCH_SIZE = 32\n",
    "\n",
    "# Dataloaders\n",
    "trainloader = DataLoader(trainset, batch_size=BATCH_SIZE, shuffle=True)\n",
    "testloader = DataLoader(testset, batch_size=BATCH_SIZE, shuffle=False)"
   ]
  },
  {
   "cell_type": "markdown",
   "metadata": {},
   "source": [
    "---\n",
    "\n",
    "**Nätverk**"
   ]
  },
  {
   "cell_type": "code",
   "execution_count": 16,
   "metadata": {},
   "outputs": [
    {
     "name": "stdout",
     "output_type": "stream",
     "text": [
      "Using device: cuda\n"
     ]
    }
   ],
   "source": [
    "device = torch.device(\"cuda\" if torch.cuda.is_available() else \"cpu\")\n",
    "print(f\"Using device: {device}\")"
   ]
  },
  {
   "cell_type": "code",
   "execution_count": null,
   "metadata": {},
   "outputs": [],
   "source": [
    "class NeuralNetwork(nn.Module):\n",
    "\n",
    "    def __init__(self):\n",
    "        super(self, input_size, output_size).__init__()\n",
    "        self.flatten = nn.Flatten()\n",
    "        self.linear(input_size, 128)\n",
    "\n",
    "        # TODO: Implement rest of layers and activations\n",
    "\n",
    "    def forward(self, x):\n",
    "        x = self.flatten(x)\n",
    "        \n",
    "        # TODO: implement forward propagation, note that flatten must be the first action (why?)\n",
    "\n",
    "        return x"
   ]
  },
  {
   "cell_type": "markdown",
   "metadata": {},
   "source": [
    "---\n",
    "\n",
    "**Train and eval loop**\n",
    "\n"
   ]
  },
  {
   "cell_type": "markdown",
   "metadata": {},
   "source": [
    "- Sätt upp en träningsloop i PyTorch. Bestäm modell arkitektur själv samt regularisering, dropout etc.\n",
    "\n",
    "- Iterera! Den som får bästa och stabilaste resultatet vinner priset!!\n",
    "\n",
    "Glöm inte att även spara train- och testloss (likt hur vi gjort tidigare) så att ni kan plotta kurvorna!"
   ]
  },
  {
   "cell_type": "code",
   "execution_count": null,
   "metadata": {},
   "outputs": [],
   "source": [
    "EPOCHS = \n",
    "LEARNING_RATE = \n",
    "INPUT_SIZE = \n",
    "input_size =\n",
    "output_size = \n",
    "\n",
    "model = NeuralNetwork(input_size, output_size).to(device)\n",
    "criterion = nn.CrossEntropyLoss() # our new loss, for multiclass classification\n",
    "optimizer = optim.SGD(model.parameters(), lr=LEARNING_RATE)\n",
    "\n",
    "\n",
    "for epoch in range(EPOCHS):\n",
    "    \n",
    "    model.train()\n",
    "\n",
    "    for images, labels in trainloader:\n",
    "        \n",
    "        images, labels = images.to(device), labels.to(device)   # lägger över träningsdata till device (gpu om tillgänglig) innan leverans till modellen\n",
    "\n",
    "    # TODO work work work"
   ]
  },
  {
   "cell_type": "code",
   "execution_count": null,
   "metadata": {},
   "outputs": [],
   "source": []
  },
  {
   "cell_type": "code",
   "execution_count": null,
   "metadata": {},
   "outputs": [],
   "source": []
  },
  {
   "cell_type": "code",
   "execution_count": 18,
   "metadata": {},
   "outputs": [],
   "source": [
    "\n",
    "class Net(nn.Module):\n",
    "    def __init__(self, input_size, output_size):\n",
    "        super().__init__()\n",
    "        self.fc1 = nn.Linear(input_size, 32)\n",
    "        self.fc2 = nn.Linear(32, 32)\n",
    "        self.fc3 = nn.Linear(32, 1)\n",
    "        self.relu = nn.ReLU()\n",
    "        self.softmax = nn.Softmax(dim=1)\n",
    "        \n",
    "    def forward(self, x):\n",
    "        x = self.relu(self.fc1(x))\n",
    "        x = self.relu(self.fc2(x))\n",
    "        x = self.fc3(x)\n",
    "        x = self.softmax(x)\n",
    "        return x"
   ]
  },
  {
   "cell_type": "code",
   "execution_count": 17,
   "metadata": {},
   "outputs": [],
   "source": [
    "import torch.nn.functional as F\n",
    "from torch.optim import SGD, Adam, Adadelta\n",
    "from torch.utils.data import DataLoader\n",
    "from matplotlib import pyplot as plt\n",
    "import matplotlib.ticker as ticker\n",
    "import warnings\n",
    "from torch.optim.lr_scheduler import StepLR\n",
    "import seaborn as sns\n",
    "warnings.filterwarnings('ignore')\n",
    "\n",
    "class ModelTrainer:\n",
    "    def __init__(self, input_size, output_size, device, batch_size=16, learning_rate=0.001, verbose=True, l2_lambda=0.0):\n",
    "        self.input_size = input_size\n",
    "        self.output_size = output_size\n",
    "        self.device = device\n",
    "        self.batch_size = batch_size\n",
    "        self.learning_rate = learning_rate\n",
    "        self.verbose = verbose  # control print statements\n",
    "        \n",
    "        # initialize model\n",
    "        self.model = Net(input_size, output_size).to(device)\n",
    "\n",
    "        # loss function based on output size\n",
    "        if output_size == 1:\n",
    "            self.loss_function = torch.nn.BCELoss()\n",
    "        else:\n",
    "            self.loss_function = torch.nn.CrossEntropyLoss()\n",
    "\n",
    "\n",
    "        self.optimizer = SGD(self.model.parameters(), lr=learning_rate, weight_decay=l2_lambda)\n",
    "        # self.optimizer = Adadelta(self.model.parameters(), lr=learning_rate, weight_decay=l2_lambda)\n",
    "        \n",
    "        # initialize storage for epoch averages of losses\n",
    "        self.train_losses = []\n",
    "        self.test_losses = []\n",
    "        self.current_epoch = 0\n",
    "\n",
    "        # initialize scheduler as None\n",
    "        self.scheduler = None\n",
    "\n",
    "    def set_learning_rate(self, new_lr):\n",
    "        \"\"\"Update learning rate of the optimizer\"\"\"\n",
    "        self.learning_rate = new_lr\n",
    "        for param_group in self.optimizer.param_groups:\n",
    "            param_group['lr'] = new_lr\n",
    "        \n",
    "    def setup_data_loaders(self, training_set, test_set):\n",
    "        self.train_dataloader = DataLoader(training_set,\n",
    "                                         batch_size=self.batch_size,\n",
    "                                         shuffle=True)\n",
    "        self.test_dataloader = DataLoader(test_set,\n",
    "                                        batch_size=len(test_set),\n",
    "                                        shuffle=False)\n",
    "    \n",
    "    def train_epoch(self, epoch):\n",
    "        self.model.train()\n",
    "        batch_losses = []\n",
    "        \n",
    "        # verbose print formatting: calculate field widths based on total values\n",
    "        total_samples = len(self.train_dataloader.dataset)\n",
    "        epoch_width = len(str(self.current_epoch + 1))\n",
    "        sample_width = len(str(total_samples))\n",
    "        \n",
    "        for batch_idx, (data, target) in enumerate(self.train_dataloader):\n",
    "            data, target = data.to(self.device), target.to(self.device)\n",
    "            \n",
    "            if self.output_size == 1:\n",
    "                target = target.float()  # ensure target is float for BCEWithLogitsLoss\n",
    "            \n",
    "            self.optimizer.zero_grad()\n",
    "            output = self.model(data)\n",
    "            loss = self.loss_function(output, target)\n",
    "            loss.backward()\n",
    "            self.optimizer.step()\n",
    "            \n",
    "            batch_losses.append(loss.item())\n",
    "            if self.verbose and batch_idx % 10 == 0:\n",
    "                samples_processed = batch_idx * len(data)\n",
    "                percentage = 100. * batch_idx / len(self.train_dataloader)\n",
    "                print(f'train epoch: {epoch:{epoch_width}} '\n",
    "                    f'[{samples_processed:>{sample_width}}/{total_samples} ({percentage:.0f}%)]\\t'\n",
    "                    f'loss: {loss.item():.6f}')\n",
    "        \n",
    "        epoch_average_loss = np.average(batch_losses)\n",
    "        self.train_losses.append(epoch_average_loss)\n",
    "        return epoch_average_loss\n",
    "    \n",
    "    def test(self, epoch):\n",
    "        self.model.eval()\n",
    "        with torch.no_grad():\n",
    "            data, target = next(iter(self.test_dataloader))\n",
    "            data, target = data.to(self.device), target.to(self.device)\n",
    "\n",
    "            if self.output_size == 1:\n",
    "                target = target.float()\n",
    "\n",
    "            output = self.model(data)\n",
    "            loss = self.loss_function(output, target)\n",
    "            test_loss = loss.item()\n",
    "\n",
    "            # calculate accuracy\n",
    "            \n",
    "            if self.output_size == 1:\n",
    "                predicted = (output > 0.5).float()  # threshold at 0.5 for binary classification\n",
    "            else:\n",
    "                _, predicted = torch.max(output, dim=1)  # get predicted class indices for multi-class\n",
    "            \n",
    "            correct = (predicted == target).sum().item()\n",
    "            total = target.size(0)\n",
    "            \n",
    "            self.test_losses.append(test_loss)  # save loss for this epoch\n",
    "\n",
    "            train_loss = self.train_losses[-1]  # get latest epoch average training loss\n",
    "\n",
    "            if self.verbose:\n",
    "                print(f'\\nEpoch {epoch}:')\n",
    "                print(f'Training loss: {train_loss:.4f}')\n",
    "                print(f'Test loss: {test_loss:.4f}')\n",
    "                print(f'Accuracy: {correct}/{total} ({100. * correct / total:.0f}%)\\n')\n",
    "            else:\n",
    "                print(f'[epoch {epoch}] train loss: {train_loss:.4f}, test loss: {test_loss:.4f}, '\n",
    "                    f'accuracy: {correct}/{total} ({100. * correct / total:.0f}%)')\n",
    "            return test_loss\n",
    "    \n",
    "    def train(self, training_set, test_set, num_epochs=5, gamma=None):\n",
    "        # setup data loaders\n",
    "        self.setup_data_loaders(training_set, test_set)\n",
    "\n",
    "        # initialize scheduler if gamma is provided\n",
    "        if gamma is not None:\n",
    "            self.scheduler = StepLR(self.optimizer, step_size=1, gamma=gamma)\n",
    "\n",
    "        start_epoch = self.current_epoch + 1\n",
    "        end_epoch = start_epoch + num_epochs\n",
    "        \n",
    "        # training loop\n",
    "        for epoch in range(start_epoch, end_epoch):\n",
    "            train_loss = self.train_epoch(epoch)\n",
    "            test_loss = self.test(epoch)\n",
    "            self.current_epoch = epoch\n",
    "\n",
    "            # step the scheduler if it's initialized\n",
    "            if self.scheduler is not None:\n",
    "                self.scheduler.step()\n",
    "        \n",
    "        # plot results\n",
    "        self.plot_losses()\n",
    "        \n",
    "        return self.model\n",
    "    \n",
    "    def plot_losses(self, start_epoch=None, end_epoch=None):\n",
    "        plt.figure(figsize=(10, 6))\n",
    "        \n",
    "        # handle negative start_epoch (counting from end)\n",
    "        if start_epoch and start_epoch < 0:\n",
    "            start_epoch = self.current_epoch + start_epoch + 1\n",
    "        \n",
    "        # default to all epochs if no range specified\n",
    "        if start_epoch is None:\n",
    "            start_epoch = 1\n",
    "        if end_epoch is None:\n",
    "            end_epoch = self.current_epoch\n",
    "\n",
    "        # adjust for zero-based index\n",
    "        start_index = start_epoch - 1\n",
    "        end_index = end_epoch\n",
    "\n",
    "        epochs = range(start_epoch, end_epoch + 1)\n",
    "        train_losses = self.train_losses[start_index:end_index]\n",
    "        test_losses = self.test_losses[start_index:end_index]\n",
    "\n",
    "        plt.plot(epochs, train_losses, label='train loss')\n",
    "        plt.plot(epochs, test_losses, label='test loss')\n",
    "        plt.xlabel('epochs')\n",
    "        plt.ylabel('loss')\n",
    "        plt.title('training and test losses')\n",
    "\n",
    "        plt.suptitle(f'learning rate: {self.learning_rate}, '\n",
    "                    f'batch size: {self.batch_size}, '\n",
    "                    f'epochs: {end_epoch - start_epoch + 1}', fontsize=10, y=0.95)\n",
    "\n",
    "        plt.legend()\n",
    "\n",
    "        # set y-axis to standard decimal notation\n",
    "        plt.gca().yaxis.set_major_formatter(ticker.StrMethodFormatter('{x:.4f}'))\n",
    "        \n",
    "        # show at most 20 ticks on x-axis\n",
    "        max_ticks = 20\n",
    "        step = max(len(epochs) // max_ticks, 1)\n",
    "        plt.xticks(list(epochs)[::step])\n",
    "        \n",
    "        plt.grid(False)\n",
    "        sns.despine()\n",
    "        plt.show()"
   ]
  },
  {
   "cell_type": "code",
   "execution_count": null,
   "metadata": {},
   "outputs": [],
   "source": [
    "# initialize trainer\n",
    "trainer = ModelTrainer(\n",
    "    input_size=input_size,\n",
    "    output_size=output_size,\n",
    "    device=device,\n",
    "    batch_size=batch_size,\n",
    "    learning_rate=learning_rate,\n",
    "    verbose=False\n",
    ")\n",
    "\n",
    "# train model\n",
    "trained_model = trainer.train(\n",
    "    training_set=training_set,\n",
    "    test_set=test_set,\n",
    "    num_epochs=epochs\n",
    ") "
   ]
  },
  {
   "cell_type": "code",
   "execution_count": null,
   "metadata": {},
   "outputs": [],
   "source": []
  },
  {
   "cell_type": "code",
   "execution_count": null,
   "metadata": {},
   "outputs": [],
   "source": []
  }
 ],
 "metadata": {
  "kernelspec": {
   "display_name": "hf2",
   "language": "python",
   "name": "python3"
  },
  "language_info": {
   "codemirror_mode": {
    "name": "ipython",
    "version": 3
   },
   "file_extension": ".py",
   "mimetype": "text/x-python",
   "name": "python",
   "nbconvert_exporter": "python",
   "pygments_lexer": "ipython3",
   "version": "3.10.12"
  }
 },
 "nbformat": 4,
 "nbformat_minor": 2
}
