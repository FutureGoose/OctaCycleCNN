{
 "cells": [
  {
   "cell_type": "code",
   "execution_count": 2,
   "metadata": {},
   "outputs": [
    {
     "name": "stdout",
     "output_type": "stream",
     "text": [
      "Using device: cuda\n"
     ]
    }
   ],
   "source": [
    "from torchvision import datasets, transforms\n",
    "import torch\n",
    "def calculate_mean_std(dataset):\n",
    "    \"\"\"calculate mean and standard deviation of a dataset\"\"\"\n",
    "    mean = 0.0\n",
    "    std = 0.0\n",
    "    total_images = len(dataset)\n",
    "\n",
    "    for img, _ in dataset:\n",
    "        mean += img.mean()\n",
    "        std += img.std()\n",
    "\n",
    "    mean /= total_images\n",
    "    std /= total_images\n",
    "\n",
    "    return mean.item(), std.item()\n",
    "\n",
    "# normalization transform\n",
    "transform = transforms.Compose([transforms.ToTensor(), transforms.Normalize((0.5,), (0.5,))])\n",
    "\n",
    "# load training and test datasets with normalization\n",
    "trainset = datasets.FashionMNIST(root='./data/', train=True, download=True, transform=transform)\n",
    "valset = datasets.FashionMNIST(root='./data/', train=False, download=True, transform=transform)\n",
    "\n",
    "# mean, std = calculate_mean_std(trainset)\n",
    "# print(f'Before normalization: mean: {mean}, std: {std}')\n",
    "\n",
    "# # normalization transform\n",
    "# transform = transforms.Compose([transforms.ToTensor(), transforms.Normalize((mean,), (std,))])\n",
    "\n",
    "# # load training and test datasets with normalization\n",
    "# trainset = datasets.FashionMNIST(root='./data/', train=True, download=True, transform=transform)\n",
    "# valset = datasets.FashionMNIST(root='./data/', train=False, download=True, transform=transform)\n",
    "\n",
    "# mean, std = calculate_mean_std(trainset)\n",
    "# print(f'After normalization: mean: {mean}, std: {std}')\n",
    "\n",
    "# device\n",
    "device = torch.device(\"cuda\" if torch.cuda.is_available() else \"cpu\")\n",
    "print(f'Using device: {device}')"
   ]
  },
  {
   "cell_type": "code",
   "execution_count": 3,
   "metadata": {},
   "outputs": [
    {
     "name": "stdout",
     "output_type": "stream",
     "text": [
      "\u001b[38;5;44m[epoch 01] train loss: 1.6293 | val loss: 1.3713 | accuracy: 65.31%\u001b[0m\n",
      "\u001b[38;5;40mValidation loss decreased (inf --> 1.3713). Saving model.\u001b[0m\n",
      "\n",
      "\u001b[38;5;180m=== Hyperparameters ===\u001b[0m\n",
      "batch_size: 512\n",
      "learning_rate: 1\n",
      "weight_decay: 0.002\n",
      "scheduler_step_size: 1\n",
      "scheduler_gamma: 0.8\n",
      "early_stopping_patience: 10\n",
      "early_stopping_delta: 0.001\n",
      "metrics: ['accuracy']\n",
      "optimizer: Adadelta\n",
      "scheduler: StepLR\n",
      "\u001b[38;5;180m=======================\u001b[0m\n",
      "\n",
      "\u001b[38;5;180m==== Model Summary ====\u001b[0m\n",
      "========================================================================================================================\n",
      "Layer (type (var_name))                  Output Shape     Param #          Kernel Shape     Mult-Adds        Trainable\n",
      "========================================================================================================================\n",
      "Net (Net)                                [512, 10]        64               --               --               True\n",
      "├─Conv2d (conv1)                         [512, 32, 28, 28] 320              [3, 3]           128,450,560      True\n",
      "├─ReLU (relu)                            [512, 32, 28, 28] --               --               --               --\n",
      "├─Conv2d (conv2)                         [512, 64, 28, 28] 18,496           [3, 3]           7,424,442,368    True\n",
      "├─ReLU (relu)                            [512, 64, 28, 28] --               --               --               --\n",
      "├─BatchNorm2d (bn2)                      [512, 64, 28, 28] 128              --               65,536           True\n",
      "├─MaxPool2d (pool)                       [512, 64, 14, 14] --               2                --               --\n",
      "├─Conv2d (conv3)                         [512, 128, 14, 14] 73,856           [3, 3]           7,411,597,312    True\n",
      "├─ReLU (relu)                            [512, 128, 14, 14] --               --               --               --\n",
      "├─BatchNorm2d (bn3)                      [512, 128, 14, 14] 256              --               131,072          True\n",
      "├─MaxPool2d (pool)                       [512, 128, 7, 7] --               2                --               --\n",
      "├─Dropout (dropout)                      [512, 128, 7, 7] --               --               --               --\n",
      "├─Flatten (flatten)                      [512, 6272]      --               --               --               --\n",
      "├─ReLU (relu)                            [512, 6272]      --               --               --               --\n",
      "├─Linear (fc)                            [512, 128]       802,944          --               411,107,328      True\n",
      "├─Dropout (dropout2)                     [512, 128]       --               --               --               --\n",
      "├─Linear (fc2)                           [512, 10]        1,290            --               660,480          True\n",
      "========================================================================================================================\n",
      "Total params: 897,354\n",
      "Trainable params: 897,354\n",
      "Non-trainable params: 0\n",
      "Total mult-adds (G): 15.38\n",
      "========================================================================================================================\n",
      "Input size (MB): 1.61\n",
      "Forward/backward pass size (MB): 719.89\n",
      "Params size (MB): 3.59\n",
      "Estimated Total Size (MB): 725.08\n",
      "========================================================================================================================\n",
      "\u001b[38;5;180m========================================================================================================================\u001b[0m\n",
      "\n"
     ]
    },
    {
     "data": {
      "image/png": "[encoded data removed]",
      "text/plain": [
       "<Figure size 1500x600 with 2 Axes>"
      ]
     },
     "metadata": {},
     "output_type": "display_data"
    },
    {
     "name": "stderr",
     "output_type": "stream",
     "text": [
      "/home/gustaf/projects/deeplearning/utils/trainer.py:321: FutureWarning: You are using `torch.load` with `weights_only=False` (the current default value), which uses the default pickle module implicitly. It is possible to construct malicious pickle data which will execute arbitrary code during unpickling (See https://github.com/pytorch/pytorch/blob/main/SECURITY.md#untrusted-models for more details). In a future release, the default value for `weights_only` will be flipped to `True`. This limits the functions that could be executed during unpickling. Arbitrary objects will no longer be allowed to be loaded via this mode unless they are explicitly allowlisted by the user via `torch.serialization.add_safe_globals`. We recommend you start setting `weights_only=True` for any use case where you don't have full control of the loaded file. Please open an issue on GitHub for any issues related to this experimental feature.\n",
      "  self.model.load_state_dict(torch.load(self.early_stopping.best_model_path))\n"
     ]
    }
   ],
   "source": [
    "import torch\n",
    "import torch.nn as nn\n",
    "from torch.optim import Adadelta\n",
    "from torch.optim.lr_scheduler import StepLR\n",
    "import sys\n",
    "from pathlib import Path\n",
    "\n",
    "\n",
    "#utils_dir = Path('/home/goose/projects/deeplearning/utils')\n",
    "utils_dir = Path('/home/gustaf/projects/deeplearning/utils')\n",
    "sys.path.append(str(utils_dir))\n",
    "from metrics import precision, recall, f1_score\n",
    "from trainer import ModelTrainer\n",
    "\n",
    "\n",
    "# model\n",
    "class Net(nn.Module):\n",
    "    def __init__(self, input_size, output_size):\n",
    "        super().__init__()\n",
    "\n",
    "        # conv layers\n",
    "        self.conv1 = nn.Conv2d(in_channels=1, out_channels=32, kernel_size=3, stride=1, padding=1)\n",
    "        self.conv2 = nn.Conv2d(in_channels=32, out_channels=64, kernel_size=3, stride=1, padding=1)\n",
    "        self.conv3 = nn.Conv2d(in_channels=64, out_channels=128, kernel_size=3, stride=1, padding=1)\n",
    "        self.pool = nn.MaxPool2d(kernel_size=2, stride=2)\n",
    "        self.bn1 = nn.BatchNorm2d(32)  # batch norm after first conv\n",
    "        self.bn2 = nn.BatchNorm2d(64)  # batch norm after second conv\n",
    "        self.bn3 = nn.BatchNorm2d(128)  # batch norm after third conv\n",
    "        # size calculation\n",
    "        # 28x28 → conv1: 28x28\n",
    "        # 28x28 → conv2: 28x28 → pool: 14x14\n",
    "        # 14x14 → conv3: 14x14 → pool: 7x7\n",
    "        # 7x7 → flatten: 7 * 7 * 128 = 6272\n",
    "        flattened_size = 6272\n",
    "\n",
    "        # fully connected layers\n",
    "        self.flatten = nn.Flatten()\n",
    "        self.fc = nn.Linear(flattened_size, 128)\n",
    "        self.fc2 = nn.Linear(128, output_size)\n",
    "\n",
    "        self.relu = nn.ReLU()\n",
    "        self.dropout = nn.Dropout(0.3)\n",
    "        self.dropout2 = nn.Dropout(0.5)\n",
    "\n",
    "    def forward(self, x):\n",
    "        # conv1 + batch norm + pooling\n",
    "        x = self.relu(self.conv1(x))\n",
    "        # conv2 + batch norm + pooling\n",
    "        x = self.pool(self.bn2(self.relu(self.conv2(x))))\n",
    "        # conv3 + batch norm + pooling\n",
    "        x = self.pool(self.bn3(self.relu(self.conv3(x))))\n",
    "        x = self.dropout(x)\n",
    "\n",
    "        # flatten and fully connected layer\n",
    "        x = self.flatten(x)\n",
    "        x = self.fc(self.relu(x))\n",
    "        x = self.dropout2(x)\n",
    "        x = self.fc2(x)\n",
    "\n",
    "        return x\n",
    "\n",
    "# initialize model\n",
    "model = Net(input_size=28*28, output_size=10)\n",
    "# initialize optimizer\n",
    "optimizer = Adadelta(model.parameters(), lr=1, weight_decay=0.002)\n",
    "# initialize scheduler\n",
    "scheduler = StepLR(optimizer, step_size=1, gamma=0.8)\n",
    "\n",
    "# initialize trainer\n",
    "trainer = ModelTrainer(\n",
    "    model=model,\n",
    "    device=device,\n",
    "    loss_fn=nn.CrossEntropyLoss(),\n",
    "    optimizer=optimizer,\n",
    "    scheduler=scheduler,\n",
    "    batch_size=512,\n",
    "    verbose=True,             # controls training progress logs\n",
    "    verbose_details=True,     # controls hyperparameters and model summary logs\n",
    "    enable_logging=True,      # controls overall logging\n",
    "    save_metrics=True,        # controls saving of metrics visualization\n",
    "    early_stopping_patience=10,\n",
    "    early_stopping_delta=0.001,\n",
    "    metrics=[ModelTrainer.accuracy]\n",
    ")\n",
    "\n",
    "# train model\n",
    "trained_model = trainer.train(\n",
    "    training_set=trainset,\n",
    "    val_set=valset,\n",
    "    num_epochs=1\n",
    ")"
   ]
  },
  {
   "cell_type": "markdown",
   "metadata": {},
   "source": [
    "[Epoch 01] Train Loss: 0.5536 | Val Loss: 0.4885 | accuracy: 82.74%\n",
    "Validation loss decreased (inf --> 0.4885). Saving model.\n",
    "[Epoch 02] Train Loss: 0.3883 | Val Loss: 0.3603 | accuracy: 87.10%\n",
    "Validation loss decreased (0.4885 --> 0.3603). Saving model.\n",
    "[Epoch 03] Train Loss: 0.3480 | Val Loss: 0.3309 | accuracy: 88.64%\n",
    "Validation loss decreased (0.3603 --> 0.3309). Saving model.\n",
    "[Epoch 04] Train Loss: 0.3232 | Val Loss: 0.2844 | accuracy: 89.93%\n",
    "Validation loss decreased (0.3309 --> 0.2844). Saving model.\n",
    "[Epoch 05] Train Loss: 0.2998 | Val Loss: 0.2813 | accuracy: 90.03%\n",
    "Validation loss decreased (0.2844 --> 0.2813). Saving model.\n",
    "[Epoch 06] Train Loss: 0.2811 | Val Loss: 0.2682 | accuracy: 90.62%\n",
    "Validation loss decreased (0.2813 --> 0.2682). Saving model.\n",
    "[Epoch 07] Train Loss: 0.2685 | Val Loss: 0.2374 | accuracy: 91.60%\n",
    "Validation loss decreased (0.2682 --> 0.2374). Saving model.\n",
    "[Epoch 08] Train Loss: 0.2505 | Val Loss: 0.2396 | accuracy: 91.74%\n",
    "EarlyStopping counter: 1 out of 5\n",
    "[Epoch 09] Train Loss: 0.2390 | Val Loss: 0.2382 | accuracy: 91.59%\n",
    "EarlyStopping counter: 2 out of 5\n",
    "[Epoch 10] Train Loss: 0.2270 | Val Loss: 0.2237 | accuracy: 92.24%\n",
    "Validation loss decreased (0.2374 --> 0.2237). Saving model.\n",
    "[Epoch 11] Train Loss: 0.2170 | Val Loss: 0.2178 | accuracy: 92.35%\n",
    "Validation loss decreased (0.2237 --> 0.2178). Saving model.\n",
    "[Epoch 12] Train Loss: 0.2095 | Val Loss: 0.2234 | accuracy: 92.25%\n",
    "EarlyStopping counter: 1 out of 5\n",
    "[Epoch 13] Train Loss: 0.2037 | Val Loss: 0.2138 | accuracy: 92.51%\n",
    "Validation loss decreased (0.2178 --> 0.2138). Saving model.\n",
    "[Epoch 14] Train Loss: 0.1934 | Val Loss: 0.2156 | accuracy: 92.52%\n",
    "EarlyStopping counter: 1 out of 5\n",
    "[Epoch 15] Train Loss: 0.1919 | Val Loss: 0.2135 | accuracy: 92.59%\n",
    "EarlyStopping counter: 2 out of 5\n",
    "[Epoch 16] Train Loss: 0.1866 | Val Loss: 0.2104 | accuracy: 92.84%\n",
    "Validation loss decreased (0.2138 --> 0.2104). Saving model.\n",
    "[Epoch 17] Train Loss: 0.1846 | Val Loss: 0.2105 | accuracy: 92.84%\n",
    "EarlyStopping counter: 1 out of 5\n",
    "[Epoch 18] Train Loss: 0.1803 | Val Loss: 0.2096 | accuracy: 92.83%\n",
    "EarlyStopping counter: 2 out of 5\n",
    "[Epoch 19] Train Loss: 0.1761 | Val Loss: 0.2101 | accuracy: 92.67%\n",
    "EarlyStopping counter: 3 out of 5\n",
    "[Epoch 20] Train Loss: 0.1737 | Val Loss: 0.2104 | accuracy: 92.74%\n",
    "EarlyStopping counter: 4 out of 5"
   ]
  },
  {
   "cell_type": "code",
   "execution_count": 4,
   "metadata": {},
   "outputs": [
    {
     "data": {
      "text/plain": [
       "['/usr/lib/python310.zip',\n",
       " '/usr/lib/python3.10',\n",
       " '/usr/lib/python3.10/lib-dynload',\n",
       " '',\n",
       " '/home/gustaf/projects/deeplearning/venv/lib/python3.10/site-packages',\n",
       " '/home/gustaf/projects/deeplearning/utils',\n",
       " '/tmp/tmpplpg6qws',\n",
       " '/home/gustaf/projects/deeplearning/utils']"
      ]
     },
     "execution_count": 4,
     "metadata": {},
     "output_type": "execute_result"
    }
   ],
   "source": [
    "import sys\n",
    "sys.path"
   ]
  },
  {
   "cell_type": "code",
   "execution_count": null,
   "metadata": {},
   "outputs": [],
   "source": []
  },
  {
   "cell_type": "code",
   "execution_count": 5,
   "metadata": {},
   "outputs": [
    {
     "name": "stdout",
     "output_type": "stream",
     "text": [
      "<class 'float'>\n"
     ]
    }
   ],
   "source": [
    "print(type(1e-3))"
   ]
  },
  {
   "cell_type": "code",
   "execution_count": 6,
   "metadata": {},
   "outputs": [
    {
     "name": "stdout",
     "output_type": "stream",
     "text": [
      "<class 'float'>\n"
     ]
    }
   ],
   "source": [
    "print(type(0.001))"
   ]
  },
  {
   "cell_type": "code",
   "execution_count": null,
   "metadata": {},
   "outputs": [],
   "source": []
  },
  {
   "cell_type": "code",
   "execution_count": null,
   "metadata": {},
   "outputs": [],
   "source": []
  },
  {
   "cell_type": "code",
   "execution_count": null,
   "metadata": {},
   "outputs": [],
   "source": []
  },
  {
   "cell_type": "code",
   "execution_count": null,
   "metadata": {},
   "outputs": [],
   "source": []
  },
  {
   "cell_type": "code",
   "execution_count": null,
   "metadata": {},
   "outputs": [],
   "source": []
  },
  {
   "cell_type": "code",
   "execution_count": null,
   "metadata": {},
   "outputs": [],
   "source": []
  },
  {
   "cell_type": "code",
   "execution_count": null,
   "metadata": {},
   "outputs": [],
   "source": []
  },
  {
   "cell_type": "code",
   "execution_count": null,
   "metadata": {},
   "outputs": [],
   "source": []
  },
  {
   "cell_type": "code",
   "execution_count": null,
   "metadata": {},
   "outputs": [],
   "source": []
  },
  {
   "cell_type": "code",
   "execution_count": null,
   "metadata": {},
   "outputs": [],
   "source": []
  },
  {
   "cell_type": "code",
   "execution_count": null,
   "metadata": {},
   "outputs": [],
   "source": []
  }
 ],
 "metadata": {
  "kernelspec": {
   "display_name": "venv",
   "language": "python",
   "name": "python3"
  },
  "language_info": {
   "codemirror_mode": {
    "name": "ipython",
    "version": 3
   },
   "file_extension": ".py",
   "mimetype": "text/x-python",
   "name": "python",
   "nbconvert_exporter": "python",
   "pygments_lexer": "ipython3",
   "version": "3.10.12"
  }
 },
 "nbformat": 4,
 "nbformat_minor": 2
}
