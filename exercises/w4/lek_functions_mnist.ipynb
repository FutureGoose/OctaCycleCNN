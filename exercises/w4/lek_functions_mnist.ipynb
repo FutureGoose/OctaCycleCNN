{
 "cells": [
  {
   "cell_type": "code",
   "execution_count": 4,
   "metadata": {},
   "outputs": [
    {
     "name": "stdout",
     "output_type": "stream",
     "text": [
      "Using device: cuda\n"
     ]
    }
   ],
   "source": [
    "from torchvision import datasets, transforms\n",
    "import torch\n",
    "def calculate_mean_std(dataset):\n",
    "    \"\"\"calculate mean and standard deviation of a dataset\"\"\"\n",
    "    mean = 0.0\n",
    "    std = 0.0\n",
    "    total_images = len(dataset)\n",
    "\n",
    "    for img, _ in dataset:\n",
    "        mean += img.mean()\n",
    "        std += img.std()\n",
    "\n",
    "    mean /= total_images\n",
    "    std /= total_images\n",
    "\n",
    "    return mean.item(), std.item()\n",
    "\n",
    "# normalization transform\n",
    "transform = transforms.Compose([transforms.ToTensor(), transforms.Normalize((0.5,), (0.5,))])\n",
    "\n",
    "# load training and test datasets with normalization\n",
    "trainset = datasets.FashionMNIST(root='./home/gustaf/projects/deeplearning/data', train=True, download=True, transform=transform)\n",
    "valset = datasets.FashionMNIST(root='./home/gustaf/projects/deeplearning/data', train=False, download=True, transform=transform)\n",
    "\n",
    "# mean, std = calculate_mean_std(trainset)\n",
    "# print(f'Before normalization: mean: {mean}, std: {std}')\n",
    "\n",
    "# # normalization transform\n",
    "# transform = transforms.Compose([transforms.ToTensor(), transforms.Normalize((mean,), (std,))])\n",
    "\n",
    "# # load training and test datasets with normalization\n",
    "# trainset = datasets.FashionMNIST(root='./data/', train=True, download=True, transform=transform)\n",
    "# valset = datasets.FashionMNIST(root='./data/', train=False, download=True, transform=transform)\n",
    "\n",
    "# mean, std = calculate_mean_std(trainset)\n",
    "# print(f'After normalization: mean: {mean}, std: {std}')\n",
    "\n",
    "# device\n",
    "device = torch.device(\"cuda\" if torch.cuda.is_available() else \"cpu\")\n",
    "print(f'Using device: {device}')"
   ]
  },
  {
   "cell_type": "code",
   "execution_count": 2,
   "metadata": {},
   "outputs": [],
   "source": [
    "import torch\n",
    "import torch.nn as nn\n",
    "from torch.optim import Adadelta, Adam, SGD\n",
    "from torch.optim.lr_scheduler import StepLR\n",
    "import sys\n",
    "from pathlib import Path\n",
    "\n",
    "# package_root = Path('/home/goose/projects/deeplearning/deep_learning_tools')\n",
    "package_root = Path('/home/gustaf/projects/deeplearning/deep_learning_tools')\n",
    "sys.path.append(str(package_root))\n",
    "\n",
    "from src import ModelTrainer\n",
    "from src import accuracy, precision\n",
    "\n",
    "\n",
    "# model\n",
    "class Net(nn.Module):\n",
    "    def __init__(self, input_size, output_size):\n",
    "        super().__init__()\n",
    "\n",
    "        # conv layers\n",
    "        self.conv1 = nn.Conv2d(in_channels=1, out_channels=32, kernel_size=3, stride=1, padding=1)  # padding='same'\n",
    "        self.conv2 = nn.Conv2d(in_channels=32, out_channels=64, kernel_size=3, stride=1, padding=1)\n",
    "        self.conv3 = nn.Conv2d(in_channels=64, out_channels=128, kernel_size=3, stride=1, padding=1)\n",
    "        self.conv4 = nn.Conv2d(in_channels=128, out_channels=256, kernel_size=3, stride=1, padding=1)\n",
    "        self.pool = nn.MaxPool2d(kernel_size=2, stride=2)\n",
    "        self.bn1 = nn.BatchNorm2d(32)  # batch norm after first conv\n",
    "        self.bn2 = nn.BatchNorm2d(64)  # batch norm after second conv\n",
    "        self.bn3 = nn.BatchNorm2d(128)  # batch norm after third conv\n",
    "        self.bn4 = nn.BatchNorm2d(256)  # batch norm after fourth conv\n",
    "        # size calculation\n",
    "        # 28x28 → conv1: 28x28\n",
    "        # 28x28 → conv2: 28x28 → pool: 14x14\n",
    "        # 14x14 → conv3: 14x14 → pool: 7x7\n",
    "        # 7x7 → conv4: 7x7 → pool: 3x3\n",
    "        # 3x3 → flatten: 3 * 3 * 256 = 2304\n",
    "        flattened_size = 2304\n",
    "\n",
    "        # fully connected layers\n",
    "        self.flatten = nn.Flatten()\n",
    "        \n",
    "        # self.fc = nn.Linear(flattened_size, 32)\n",
    "        self.fc = nn.Linear(input_size, output_size)  # TEST\n",
    "\n",
    "        self.fc2 = nn.Linear(32, 16)\n",
    "        self.fc3 = nn.Linear(16, output_size)\n",
    "\n",
    "        self.relu = nn.ReLU()\n",
    "        self.dropout1 = nn.Dropout(0.5)\n",
    "        self.dropout2 = nn.Dropout(0.5)\n",
    "\n",
    "    def forward(self, x):\n",
    "        # # conv1 + batch norm + pooling\n",
    "        # x = self.bn1(self.relu(self.conv1(x)))\n",
    "        # # conv2 + batch norm + pooling\n",
    "        # x = self.pool(self.bn2(self.relu(self.conv2(x))))\n",
    "        # # conv3 + batch norm + pooling\n",
    "        # x = self.pool(self.bn3(self.relu(self.conv3(x))))\n",
    "        # # conv4 + batch norm + pooling\n",
    "        # x = self.pool(self.bn4(self.relu(self.conv4(x))))\n",
    "        # x = self.dropout1(x)\n",
    "\n",
    "        # flatten and fully connected layer\n",
    "        x = self.flatten(x)\n",
    "        x = self.fc(x)  # TEST\n",
    "\n",
    "        # x = self.fc(self.relu(x))\n",
    "        # x = self.dropout2(x)\n",
    "        # x = self.fc2(self.relu(x))\n",
    "        # x = self.fc3(x)\n",
    "\n",
    "        return x\n",
    "\n",
    "# initialize model\n",
    "model = Net(input_size=28*28, output_size=10)\n",
    "# initialize optimizer\n",
    "optimizer = Adam(model.parameters(), lr=0.001, weight_decay=0.01)\n",
    "# initialize scheduler\n",
    "scheduler = StepLR(optimizer, step_size=1, gamma=0.75)"
   ]
  },
  {
   "cell_type": "code",
   "execution_count": 3,
   "metadata": {},
   "outputs": [
    {
     "name": "stderr",
     "output_type": "stream",
     "text": [
      "\u001b[34m\u001b[1mwandb\u001b[0m: Using wandb-core as the SDK backend.  Please refer to https://wandb.me/wandb-core for more information.\n",
      "403 response executing GraphQL.\n",
      "{\"errors\":[{\"message\":\"permission denied\",\"path\":[\"upsertSweep\"],\"extensions\":{\"code\":\"PERMISSION_ERROR\"}}],\"data\":{\"upsertSweep\":null}}\n",
      "\u001b[34m\u001b[1mwandb\u001b[0m: \u001b[32m\u001b[41mERROR\u001b[0m Error while calling W&B API: permission denied (<Response [403]>)\n"
     ]
    },
    {
     "ename": "UsageError",
     "evalue": "permission denied",
     "output_type": "error",
     "traceback": [
      "\u001b[0;31m---------------------------------------------------------------------------\u001b[0m",
      "\u001b[0;31mHTTPError\u001b[0m                                 Traceback (most recent call last)",
      "File \u001b[0;32m~/projects/deeplearning/venv/lib/python3.10/site-packages/wandb/sdk/lib/retry.py:131\u001b[0m, in \u001b[0;36mRetry.__call__\u001b[0;34m(self, *args, **kwargs)\u001b[0m\n\u001b[1;32m    130\u001b[0m \u001b[38;5;28;01mtry\u001b[39;00m:\n\u001b[0;32m--> 131\u001b[0m     result \u001b[38;5;241m=\u001b[39m \u001b[38;5;28;43mself\u001b[39;49m\u001b[38;5;241;43m.\u001b[39;49m\u001b[43m_call_fn\u001b[49m\u001b[43m(\u001b[49m\u001b[38;5;241;43m*\u001b[39;49m\u001b[43margs\u001b[49m\u001b[43m,\u001b[49m\u001b[43m \u001b[49m\u001b[38;5;241;43m*\u001b[39;49m\u001b[38;5;241;43m*\u001b[39;49m\u001b[43mkwargs\u001b[49m\u001b[43m)\u001b[49m\n\u001b[1;32m    132\u001b[0m     \u001b[38;5;66;03m# Only print resolved attempts once every minute\u001b[39;00m\n",
      "File \u001b[0;32m~/projects/deeplearning/venv/lib/python3.10/site-packages/wandb/sdk/internal/internal_api.py:393\u001b[0m, in \u001b[0;36mApi.execute\u001b[0;34m(self, *args, **kwargs)\u001b[0m\n\u001b[1;32m    392\u001b[0m \u001b[38;5;28;01mtry\u001b[39;00m:\n\u001b[0;32m--> 393\u001b[0m     \u001b[38;5;28;01mreturn\u001b[39;00m \u001b[38;5;28;43mself\u001b[39;49m\u001b[38;5;241;43m.\u001b[39;49m\u001b[43mclient\u001b[49m\u001b[38;5;241;43m.\u001b[39;49m\u001b[43mexecute\u001b[49m\u001b[43m(\u001b[49m\u001b[38;5;241;43m*\u001b[39;49m\u001b[43margs\u001b[49m\u001b[43m,\u001b[49m\u001b[43m \u001b[49m\u001b[38;5;241;43m*\u001b[39;49m\u001b[38;5;241;43m*\u001b[39;49m\u001b[43mkwargs\u001b[49m\u001b[43m)\u001b[49m  \u001b[38;5;66;03m# type: ignore\u001b[39;00m\n\u001b[1;32m    394\u001b[0m \u001b[38;5;28;01mexcept\u001b[39;00m requests\u001b[38;5;241m.\u001b[39mexceptions\u001b[38;5;241m.\u001b[39mHTTPError \u001b[38;5;28;01mas\u001b[39;00m err:\n",
      "File \u001b[0;32m~/projects/deeplearning/venv/lib/python3.10/site-packages/wandb/vendor/gql-0.2.0/wandb_gql/client.py:52\u001b[0m, in \u001b[0;36mClient.execute\u001b[0;34m(self, document, *args, **kwargs)\u001b[0m\n\u001b[1;32m     50\u001b[0m     \u001b[38;5;28mself\u001b[39m\u001b[38;5;241m.\u001b[39mvalidate(document)\n\u001b[0;32m---> 52\u001b[0m result \u001b[38;5;241m=\u001b[39m \u001b[38;5;28;43mself\u001b[39;49m\u001b[38;5;241;43m.\u001b[39;49m\u001b[43m_get_result\u001b[49m\u001b[43m(\u001b[49m\u001b[43mdocument\u001b[49m\u001b[43m,\u001b[49m\u001b[43m \u001b[49m\u001b[38;5;241;43m*\u001b[39;49m\u001b[43margs\u001b[49m\u001b[43m,\u001b[49m\u001b[43m \u001b[49m\u001b[38;5;241;43m*\u001b[39;49m\u001b[38;5;241;43m*\u001b[39;49m\u001b[43mkwargs\u001b[49m\u001b[43m)\u001b[49m\n\u001b[1;32m     53\u001b[0m \u001b[38;5;28;01mif\u001b[39;00m result\u001b[38;5;241m.\u001b[39merrors:\n",
      "File \u001b[0;32m~/projects/deeplearning/venv/lib/python3.10/site-packages/wandb/vendor/gql-0.2.0/wandb_gql/client.py:60\u001b[0m, in \u001b[0;36mClient._get_result\u001b[0;34m(self, document, *args, **kwargs)\u001b[0m\n\u001b[1;32m     59\u001b[0m \u001b[38;5;28;01mif\u001b[39;00m \u001b[38;5;129;01mnot\u001b[39;00m \u001b[38;5;28mself\u001b[39m\u001b[38;5;241m.\u001b[39mretries:\n\u001b[0;32m---> 60\u001b[0m     \u001b[38;5;28;01mreturn\u001b[39;00m \u001b[38;5;28;43mself\u001b[39;49m\u001b[38;5;241;43m.\u001b[39;49m\u001b[43mtransport\u001b[49m\u001b[38;5;241;43m.\u001b[39;49m\u001b[43mexecute\u001b[49m\u001b[43m(\u001b[49m\u001b[43mdocument\u001b[49m\u001b[43m,\u001b[49m\u001b[43m \u001b[49m\u001b[38;5;241;43m*\u001b[39;49m\u001b[43margs\u001b[49m\u001b[43m,\u001b[49m\u001b[43m \u001b[49m\u001b[38;5;241;43m*\u001b[39;49m\u001b[38;5;241;43m*\u001b[39;49m\u001b[43mkwargs\u001b[49m\u001b[43m)\u001b[49m\n\u001b[1;32m     62\u001b[0m last_exception \u001b[38;5;241m=\u001b[39m \u001b[38;5;28;01mNone\u001b[39;00m\n",
      "File \u001b[0;32m~/projects/deeplearning/venv/lib/python3.10/site-packages/wandb/sdk/lib/gql_request.py:59\u001b[0m, in \u001b[0;36mGraphQLSession.execute\u001b[0;34m(self, document, variable_values, timeout)\u001b[0m\n\u001b[1;32m     58\u001b[0m request \u001b[38;5;241m=\u001b[39m \u001b[38;5;28mself\u001b[39m\u001b[38;5;241m.\u001b[39msession\u001b[38;5;241m.\u001b[39mpost(\u001b[38;5;28mself\u001b[39m\u001b[38;5;241m.\u001b[39murl, \u001b[38;5;241m*\u001b[39m\u001b[38;5;241m*\u001b[39mpost_args)\n\u001b[0;32m---> 59\u001b[0m \u001b[43mrequest\u001b[49m\u001b[38;5;241;43m.\u001b[39;49m\u001b[43mraise_for_status\u001b[49m\u001b[43m(\u001b[49m\u001b[43m)\u001b[49m\n\u001b[1;32m     61\u001b[0m result \u001b[38;5;241m=\u001b[39m request\u001b[38;5;241m.\u001b[39mjson()\n",
      "File \u001b[0;32m~/projects/deeplearning/venv/lib/python3.10/site-packages/requests/models.py:1024\u001b[0m, in \u001b[0;36mResponse.raise_for_status\u001b[0;34m(self)\u001b[0m\n\u001b[1;32m   1023\u001b[0m \u001b[38;5;28;01mif\u001b[39;00m http_error_msg:\n\u001b[0;32m-> 1024\u001b[0m     \u001b[38;5;28;01mraise\u001b[39;00m HTTPError(http_error_msg, response\u001b[38;5;241m=\u001b[39m\u001b[38;5;28mself\u001b[39m)\n",
      "\u001b[0;31mHTTPError\u001b[0m: 403 Client Error: Forbidden for url: https://api.wandb.ai/graphql",
      "\nDuring handling of the above exception, another exception occurred:\n",
      "\u001b[0;31mUsageError\u001b[0m                                Traceback (most recent call last)",
      "Cell \u001b[0;32mIn[3], line 30\u001b[0m\n\u001b[1;32m     26\u001b[0m         wandb\u001b[38;5;241m.\u001b[39mlog({\u001b[38;5;124m'\u001b[39m\u001b[38;5;124mtrain_loss\u001b[39m\u001b[38;5;124m'\u001b[39m: trainer\u001b[38;5;241m.\u001b[39mmetrics_history[\u001b[38;5;124m'\u001b[39m\u001b[38;5;124mtrain_loss\u001b[39m\u001b[38;5;124m'\u001b[39m][\u001b[38;5;241m-\u001b[39m\u001b[38;5;241m1\u001b[39m],\n\u001b[1;32m     27\u001b[0m                    \u001b[38;5;124m'\u001b[39m\u001b[38;5;124mval_loss\u001b[39m\u001b[38;5;124m'\u001b[39m: trainer\u001b[38;5;241m.\u001b[39mmetrics_history[\u001b[38;5;124m'\u001b[39m\u001b[38;5;124mval_loss\u001b[39m\u001b[38;5;124m'\u001b[39m][\u001b[38;5;241m-\u001b[39m\u001b[38;5;241m1\u001b[39m]})\n\u001b[1;32m     29\u001b[0m \u001b[38;5;66;03m# initialize W&B sweep\u001b[39;00m\n\u001b[0;32m---> 30\u001b[0m sweep_id \u001b[38;5;241m=\u001b[39m \u001b[43mwandb\u001b[49m\u001b[38;5;241;43m.\u001b[39;49m\u001b[43msweep\u001b[49m\u001b[43m(\u001b[49m\u001b[43msweep_config\u001b[49m\u001b[43m,\u001b[49m\u001b[43m \u001b[49m\u001b[43mproject\u001b[49m\u001b[38;5;241;43m=\u001b[39;49m\u001b[38;5;124;43m'\u001b[39;49m\u001b[38;5;124;43mfashion-mnist\u001b[39;49m\u001b[38;5;124;43m'\u001b[39;49m\u001b[43m)\u001b[49m\n\u001b[1;32m     31\u001b[0m wandb\u001b[38;5;241m.\u001b[39magent(sweep_id, train, count\u001b[38;5;241m=\u001b[39m\u001b[38;5;241m10\u001b[39m)\n",
      "File \u001b[0;32m~/projects/deeplearning/venv/lib/python3.10/site-packages/wandb/sdk/wandb_sweep.py:86\u001b[0m, in \u001b[0;36msweep\u001b[0;34m(sweep, entity, project, prior_runs)\u001b[0m\n\u001b[1;32m     84\u001b[0m     wandb_login\u001b[38;5;241m.\u001b[39m_login(_silent\u001b[38;5;241m=\u001b[39m\u001b[38;5;28;01mTrue\u001b[39;00m)\n\u001b[1;32m     85\u001b[0m api \u001b[38;5;241m=\u001b[39m InternalApi()\n\u001b[0;32m---> 86\u001b[0m sweep_id, warnings \u001b[38;5;241m=\u001b[39m \u001b[43mapi\u001b[49m\u001b[38;5;241;43m.\u001b[39;49m\u001b[43mupsert_sweep\u001b[49m\u001b[43m(\u001b[49m\u001b[43msweep\u001b[49m\u001b[43m,\u001b[49m\u001b[43m \u001b[49m\u001b[43mprior_runs\u001b[49m\u001b[38;5;241;43m=\u001b[39;49m\u001b[43mprior_runs\u001b[49m\u001b[43m)\u001b[49m\n\u001b[1;32m     87\u001b[0m handle_sweep_config_violations(warnings)\n\u001b[1;32m     88\u001b[0m \u001b[38;5;28mprint\u001b[39m(\u001b[38;5;124m\"\u001b[39m\u001b[38;5;124mCreate sweep with ID:\u001b[39m\u001b[38;5;124m\"\u001b[39m, sweep_id)\n",
      "File \u001b[0;32m~/projects/deeplearning/venv/lib/python3.10/site-packages/wandb/apis/internal.py:133\u001b[0m, in \u001b[0;36mApi.upsert_sweep\u001b[0;34m(self, *args, **kwargs)\u001b[0m\n\u001b[1;32m    132\u001b[0m \u001b[38;5;28;01mdef\u001b[39;00m \u001b[38;5;21mupsert_sweep\u001b[39m(\u001b[38;5;28mself\u001b[39m, \u001b[38;5;241m*\u001b[39margs, \u001b[38;5;241m*\u001b[39m\u001b[38;5;241m*\u001b[39mkwargs):\n\u001b[0;32m--> 133\u001b[0m     \u001b[38;5;28;01mreturn\u001b[39;00m \u001b[38;5;28;43mself\u001b[39;49m\u001b[38;5;241;43m.\u001b[39;49m\u001b[43mapi\u001b[49m\u001b[38;5;241;43m.\u001b[39;49m\u001b[43mupsert_sweep\u001b[49m\u001b[43m(\u001b[49m\u001b[38;5;241;43m*\u001b[39;49m\u001b[43margs\u001b[49m\u001b[43m,\u001b[49m\u001b[43m \u001b[49m\u001b[38;5;241;43m*\u001b[39;49m\u001b[38;5;241;43m*\u001b[39;49m\u001b[43mkwargs\u001b[49m\u001b[43m)\u001b[49m\n",
      "File \u001b[0;32m~/projects/deeplearning/venv/lib/python3.10/site-packages/wandb/apis/normalize.py:57\u001b[0m, in \u001b[0;36mnormalize_exceptions.<locals>.wrapper\u001b[0;34m(*args, **kwargs)\u001b[0m\n\u001b[1;32m     53\u001b[0m         \u001b[38;5;28;01mraise\u001b[39;00m CommError(message, err\u001b[38;5;241m.\u001b[39mlast_exception)\u001b[38;5;241m.\u001b[39mwith_traceback(\n\u001b[1;32m     54\u001b[0m             sys\u001b[38;5;241m.\u001b[39mexc_info()[\u001b[38;5;241m2\u001b[39m]\n\u001b[1;32m     55\u001b[0m         )\n\u001b[1;32m     56\u001b[0m \u001b[38;5;28;01mexcept\u001b[39;00m Error \u001b[38;5;28;01mas\u001b[39;00m err:\n\u001b[0;32m---> 57\u001b[0m     \u001b[38;5;28;01mraise\u001b[39;00m err\n\u001b[1;32m     58\u001b[0m \u001b[38;5;28;01mexcept\u001b[39;00m \u001b[38;5;167;01mException\u001b[39;00m \u001b[38;5;28;01mas\u001b[39;00m err:\n\u001b[1;32m     59\u001b[0m     \u001b[38;5;66;03m# gql raises server errors with dict's as strings...\u001b[39;00m\n\u001b[1;32m     60\u001b[0m     \u001b[38;5;28;01mif\u001b[39;00m \u001b[38;5;28mlen\u001b[39m(err\u001b[38;5;241m.\u001b[39margs) \u001b[38;5;241m>\u001b[39m \u001b[38;5;241m0\u001b[39m:\n",
      "File \u001b[0;32m~/projects/deeplearning/venv/lib/python3.10/site-packages/wandb/apis/normalize.py:25\u001b[0m, in \u001b[0;36mnormalize_exceptions.<locals>.wrapper\u001b[0;34m(*args, **kwargs)\u001b[0m\n\u001b[1;32m     23\u001b[0m message \u001b[38;5;241m=\u001b[39m \u001b[38;5;124m\"\u001b[39m\u001b[38;5;124mWhoa, you found a bug.\u001b[39m\u001b[38;5;124m\"\u001b[39m\n\u001b[1;32m     24\u001b[0m \u001b[38;5;28;01mtry\u001b[39;00m:\n\u001b[0;32m---> 25\u001b[0m     \u001b[38;5;28;01mreturn\u001b[39;00m \u001b[43mfunc\u001b[49m\u001b[43m(\u001b[49m\u001b[38;5;241;43m*\u001b[39;49m\u001b[43margs\u001b[49m\u001b[43m,\u001b[49m\u001b[43m \u001b[49m\u001b[38;5;241;43m*\u001b[39;49m\u001b[38;5;241;43m*\u001b[39;49m\u001b[43mkwargs\u001b[49m\u001b[43m)\u001b[49m\n\u001b[1;32m     26\u001b[0m \u001b[38;5;28;01mexcept\u001b[39;00m requests\u001b[38;5;241m.\u001b[39mHTTPError \u001b[38;5;28;01mas\u001b[39;00m error:\n\u001b[1;32m     27\u001b[0m     errors \u001b[38;5;241m=\u001b[39m parse_backend_error_messages(error\u001b[38;5;241m.\u001b[39mresponse)\n",
      "File \u001b[0;32m~/projects/deeplearning/venv/lib/python3.10/site-packages/wandb/sdk/internal/internal_api.py:3333\u001b[0m, in \u001b[0;36mApi.upsert_sweep\u001b[0;34m(self, config, controller, launch_scheduler, scheduler, obj_id, project, entity, state, prior_runs, template_variable_values)\u001b[0m\n\u001b[1;32m   3327\u001b[0m     response \u001b[38;5;241m=\u001b[39m \u001b[38;5;28mself\u001b[39m\u001b[38;5;241m.\u001b[39mgql(\n\u001b[1;32m   3328\u001b[0m         mutation,\n\u001b[1;32m   3329\u001b[0m         variable_values\u001b[38;5;241m=\u001b[39mvariables,\n\u001b[1;32m   3330\u001b[0m         check_retry_fn\u001b[38;5;241m=\u001b[39mutil\u001b[38;5;241m.\u001b[39mno_retry_4xx,\n\u001b[1;32m   3331\u001b[0m     )\n\u001b[1;32m   3332\u001b[0m \u001b[38;5;28;01mexcept\u001b[39;00m UsageError \u001b[38;5;28;01mas\u001b[39;00m e:\n\u001b[0;32m-> 3333\u001b[0m     \u001b[38;5;28;01mraise\u001b[39;00m e\n\u001b[1;32m   3334\u001b[0m \u001b[38;5;28;01mexcept\u001b[39;00m \u001b[38;5;167;01mException\u001b[39;00m \u001b[38;5;28;01mas\u001b[39;00m e:\n\u001b[1;32m   3335\u001b[0m     \u001b[38;5;66;03m# graphql schema exception is generic\u001b[39;00m\n\u001b[1;32m   3336\u001b[0m     err \u001b[38;5;241m=\u001b[39m e\n",
      "File \u001b[0;32m~/projects/deeplearning/venv/lib/python3.10/site-packages/wandb/sdk/internal/internal_api.py:3327\u001b[0m, in \u001b[0;36mApi.upsert_sweep\u001b[0;34m(self, config, controller, launch_scheduler, scheduler, obj_id, project, entity, state, prior_runs, template_variable_values)\u001b[0m\n\u001b[1;32m   3324\u001b[0m     \u001b[38;5;28;01mif\u001b[39;00m state:\n\u001b[1;32m   3325\u001b[0m         variables[\u001b[38;5;124m\"\u001b[39m\u001b[38;5;124mstate\u001b[39m\u001b[38;5;124m\"\u001b[39m] \u001b[38;5;241m=\u001b[39m state\n\u001b[0;32m-> 3327\u001b[0m     response \u001b[38;5;241m=\u001b[39m \u001b[38;5;28;43mself\u001b[39;49m\u001b[38;5;241;43m.\u001b[39;49m\u001b[43mgql\u001b[49m\u001b[43m(\u001b[49m\n\u001b[1;32m   3328\u001b[0m \u001b[43m        \u001b[49m\u001b[43mmutation\u001b[49m\u001b[43m,\u001b[49m\n\u001b[1;32m   3329\u001b[0m \u001b[43m        \u001b[49m\u001b[43mvariable_values\u001b[49m\u001b[38;5;241;43m=\u001b[39;49m\u001b[43mvariables\u001b[49m\u001b[43m,\u001b[49m\n\u001b[1;32m   3330\u001b[0m \u001b[43m        \u001b[49m\u001b[43mcheck_retry_fn\u001b[49m\u001b[38;5;241;43m=\u001b[39;49m\u001b[43mutil\u001b[49m\u001b[38;5;241;43m.\u001b[39;49m\u001b[43mno_retry_4xx\u001b[49m\u001b[43m,\u001b[49m\n\u001b[1;32m   3331\u001b[0m \u001b[43m    \u001b[49m\u001b[43m)\u001b[49m\n\u001b[1;32m   3332\u001b[0m \u001b[38;5;28;01mexcept\u001b[39;00m UsageError \u001b[38;5;28;01mas\u001b[39;00m e:\n\u001b[1;32m   3333\u001b[0m     \u001b[38;5;28;01mraise\u001b[39;00m e\n",
      "File \u001b[0;32m~/projects/deeplearning/venv/lib/python3.10/site-packages/wandb/sdk/internal/internal_api.py:365\u001b[0m, in \u001b[0;36mApi.gql\u001b[0;34m(self, *args, **kwargs)\u001b[0m\n\u001b[1;32m    364\u001b[0m \u001b[38;5;28;01mdef\u001b[39;00m \u001b[38;5;21mgql\u001b[39m(\u001b[38;5;28mself\u001b[39m, \u001b[38;5;241m*\u001b[39margs: Any, \u001b[38;5;241m*\u001b[39m\u001b[38;5;241m*\u001b[39mkwargs: Any) \u001b[38;5;241m-\u001b[39m\u001b[38;5;241m>\u001b[39m Any:\n\u001b[0;32m--> 365\u001b[0m     ret \u001b[38;5;241m=\u001b[39m \u001b[38;5;28;43mself\u001b[39;49m\u001b[38;5;241;43m.\u001b[39;49m\u001b[43m_retry_gql\u001b[49m\u001b[43m(\u001b[49m\n\u001b[1;32m    366\u001b[0m \u001b[43m        \u001b[49m\u001b[38;5;241;43m*\u001b[39;49m\u001b[43margs\u001b[49m\u001b[43m,\u001b[49m\n\u001b[1;32m    367\u001b[0m \u001b[43m        \u001b[49m\u001b[43mretry_cancel_event\u001b[49m\u001b[38;5;241;43m=\u001b[39;49m\u001b[38;5;28;43mself\u001b[39;49m\u001b[38;5;241;43m.\u001b[39;49m\u001b[43mcontext\u001b[49m\u001b[38;5;241;43m.\u001b[39;49m\u001b[43mcancel_event\u001b[49m\u001b[43m,\u001b[49m\n\u001b[1;32m    368\u001b[0m \u001b[43m        \u001b[49m\u001b[38;5;241;43m*\u001b[39;49m\u001b[38;5;241;43m*\u001b[39;49m\u001b[43mkwargs\u001b[49m\u001b[43m,\u001b[49m\n\u001b[1;32m    369\u001b[0m \u001b[43m    \u001b[49m\u001b[43m)\u001b[49m\n\u001b[1;32m    370\u001b[0m     \u001b[38;5;28;01mreturn\u001b[39;00m ret\n",
      "File \u001b[0;32m~/projects/deeplearning/venv/lib/python3.10/site-packages/wandb/sdk/lib/retry.py:147\u001b[0m, in \u001b[0;36mRetry.__call__\u001b[0;34m(self, *args, **kwargs)\u001b[0m\n\u001b[1;32m    144\u001b[0m     \u001b[38;5;28;01mreturn\u001b[39;00m result\n\u001b[1;32m    145\u001b[0m \u001b[38;5;28;01mexcept\u001b[39;00m \u001b[38;5;28mself\u001b[39m\u001b[38;5;241m.\u001b[39m_retryable_exceptions \u001b[38;5;28;01mas\u001b[39;00m e:\n\u001b[1;32m    146\u001b[0m     \u001b[38;5;66;03m# if the secondary check fails, re-raise\u001b[39;00m\n\u001b[0;32m--> 147\u001b[0m     retry_timedelta_triggered \u001b[38;5;241m=\u001b[39m \u001b[43mcheck_retry_fn\u001b[49m\u001b[43m(\u001b[49m\u001b[43me\u001b[49m\u001b[43m)\u001b[49m\n\u001b[1;32m    148\u001b[0m     \u001b[38;5;28;01mif\u001b[39;00m \u001b[38;5;129;01mnot\u001b[39;00m retry_timedelta_triggered:\n\u001b[1;32m    149\u001b[0m         \u001b[38;5;28;01mraise\u001b[39;00m\n",
      "File \u001b[0;32m~/projects/deeplearning/venv/lib/python3.10/site-packages/wandb/util.py:853\u001b[0m, in \u001b[0;36mno_retry_4xx\u001b[0;34m(e)\u001b[0m\n\u001b[1;32m    851\u001b[0m     \u001b[38;5;28;01mreturn\u001b[39;00m \u001b[38;5;28;01mTrue\u001b[39;00m\n\u001b[1;32m    852\u001b[0m body \u001b[38;5;241m=\u001b[39m json\u001b[38;5;241m.\u001b[39mloads(e\u001b[38;5;241m.\u001b[39mresponse\u001b[38;5;241m.\u001b[39mcontent)\n\u001b[0;32m--> 853\u001b[0m \u001b[38;5;28;01mraise\u001b[39;00m UsageError(body[\u001b[38;5;124m\"\u001b[39m\u001b[38;5;124merrors\u001b[39m\u001b[38;5;124m\"\u001b[39m][\u001b[38;5;241m0\u001b[39m][\u001b[38;5;124m\"\u001b[39m\u001b[38;5;124mmessage\u001b[39m\u001b[38;5;124m\"\u001b[39m])\n",
      "\u001b[0;31mUsageError\u001b[0m: permission denied"
     ]
    }
   ],
   "source": [
    "import wandb\n",
    "import yaml\n",
    "from src import ModelTrainer\n",
    "import torch.nn as nn\n",
    "from torch.utils.data import DataLoader\n",
    "\n",
    "# load sweep configuration\n",
    "with open('/home/gustaf/projects/deeplearning/deep_learning_tools/src/sweeps/config.yml') as file:  # load the config file\n",
    "    sweep_config = yaml.safe_load(file)\n",
    "\n",
    "def train(config=None):\n",
    "    with wandb.init(config=config):\n",
    "        config = wandb.config\n",
    "        # initialize model, criterion, and data loaders\n",
    "        model = model # define your model here\n",
    "        criterion = nn.CrossEntropyLoss()\n",
    "        train_loader = DataLoader(trainset, batch_size=config.batch_size, shuffle=True)\n",
    "        val_loader = DataLoader(valset, batch_size=config.batch_size, shuffle=False)\n",
    "        # initialize ModelTrainer\n",
    "        trainer = ModelTrainer(model=model, device=device, loss_fn=criterion,\n",
    "                              batch_size=config.batch_size, learning_rate=config.learning_rate,\n",
    "                              optimizer_name=config.optimizer, epochs=config.epochs)\n",
    "        # train the model\n",
    "        trainer.train(train_loader, val_loader)\n",
    "        # log metrics\n",
    "        wandb.log({'train_loss': trainer.metrics_history['train_loss'][-1],\n",
    "                   'val_loss': trainer.metrics_history['val_loss'][-1]})\n",
    "\n",
    "# initialize W&B sweep\n",
    "sweep_id = wandb.sweep(sweep_config, project='fashion-mnist')\n",
    "wandb.agent(sweep_id, train, count=10)"
   ]
  },
  {
   "cell_type": "code",
   "execution_count": 5,
   "metadata": {},
   "outputs": [
    {
     "name": "stderr",
     "output_type": "stream",
     "text": [
      "\u001b[34m\u001b[1mwandb\u001b[0m: Currently logged in as: \u001b[33mevilgoosecode\u001b[0m (\u001b[33mfuturegoose\u001b[0m). Use \u001b[1m`wandb login --relogin`\u001b[0m to force relogin\n"
     ]
    },
    {
     "data": {
      "text/html": [
       "Tracking run with wandb version 0.19.1"
      ],
      "text/plain": [
       "<IPython.core.display.HTML object>"
      ]
     },
     "metadata": {},
     "output_type": "display_data"
    },
    {
     "data": {
      "text/html": [
       "Run data is saved locally in <code>logs/wandb/wandb/run-20241219_140014-ja5iass5</code>"
      ],
      "text/plain": [
       "<IPython.core.display.HTML object>"
      ]
     },
     "metadata": {},
     "output_type": "display_data"
    },
    {
     "data": {
      "text/html": [
       "Syncing run <strong><a href='https://wandb.ai/futuregoose/fashion-mnist/runs/ja5iass5' target=\"_blank\">20241219_140014</a></strong> to <a href='https://wandb.ai/futuregoose/fashion-mnist' target=\"_blank\">Weights & Biases</a> (<a href='https://wandb.me/developer-guide' target=\"_blank\">docs</a>)<br>"
      ],
      "text/plain": [
       "<IPython.core.display.HTML object>"
      ]
     },
     "metadata": {},
     "output_type": "display_data"
    },
    {
     "data": {
      "text/html": [
       " View project at <a href='https://wandb.ai/futuregoose/fashion-mnist' target=\"_blank\">https://wandb.ai/futuregoose/fashion-mnist</a>"
      ],
      "text/plain": [
       "<IPython.core.display.HTML object>"
      ]
     },
     "metadata": {},
     "output_type": "display_data"
    },
    {
     "data": {
      "text/html": [
       " View run at <a href='https://wandb.ai/futuregoose/fashion-mnist/runs/ja5iass5' target=\"_blank\">https://wandb.ai/futuregoose/fashion-mnist/runs/ja5iass5</a>"
      ],
      "text/plain": [
       "<IPython.core.display.HTML object>"
      ]
     },
     "metadata": {},
     "output_type": "display_data"
    },
    {
     "name": "stdout",
     "output_type": "stream",
     "text": [
      "\u001b[38;5;44m[epoch 01] train loss: 0.7671 | val loss: 0.5795 | accuracy: 79.91%\u001b[0m\n",
      "\u001b[38;5;40mValidation loss decreased (inf --> 0.5795). Saving model.\u001b[0m\n"
     ]
    },
    {
     "name": "stderr",
     "output_type": "stream",
     "text": [
      "/home/gustaf/projects/deeplearning/venv/lib/python3.10/site-packages/torch/optim/lr_scheduler.py:224: UserWarning: Detected call of `lr_scheduler.step()` before `optimizer.step()`. In PyTorch 1.1.0 and later, you should call them in the opposite order: `optimizer.step()` before `lr_scheduler.step()`.  Failure to do this will result in PyTorch skipping the first value of the learning rate schedule. See more details at https://pytorch.org/docs/stable/optim.html#how-to-adjust-learning-rate\n",
      "  warnings.warn(\n"
     ]
    },
    {
     "name": "stdout",
     "output_type": "stream",
     "text": [
      "\u001b[38;5;44m[epoch 02] train loss: 0.5231 | val loss: 0.5222 | accuracy: 82.02%\u001b[0m\n",
      "\u001b[38;5;40mValidation loss decreased (0.5795 --> 0.5222). Saving model.\u001b[0m\n"
     ]
    },
    {
     "data": {
      "image/png": "[encoded data removed]",
      "text/plain": [
       "<Figure size 1500x600 with 2 Axes>"
      ]
     },
     "metadata": {},
     "output_type": "display_data"
    },
    {
     "data": {
      "text/html": [],
      "text/plain": [
       "<IPython.core.display.HTML object>"
      ]
     },
     "metadata": {},
     "output_type": "display_data"
    },
    {
     "name": "stderr",
     "output_type": "stream",
     "text": [
      "\u001b[34m\u001b[1mwandb\u001b[0m: \u001b[32m\u001b[41mERROR\u001b[0m Problem finishing run\n"
     ]
    },
    {
     "name": "stdout",
     "output_type": "stream",
     "text": [
      "\n",
      "Training interrupted. Cleaning up...\n"
     ]
    },
    {
     "ename": "AttributeError",
     "evalue": "'ZMQDisplayPublisher' object has no attribute '_orig_publish'",
     "output_type": "error",
     "traceback": [
      "\u001b[0;31m---------------------------------------------------------------------------\u001b[0m",
      "\u001b[0;31mAttributeError\u001b[0m                            Traceback (most recent call last)",
      "Cell \u001b[0;32mIn[5], line 99\u001b[0m\n\u001b[1;32m     82\u001b[0m trainer \u001b[38;5;241m=\u001b[39m ModelTrainer(\n\u001b[1;32m     83\u001b[0m     model\u001b[38;5;241m=\u001b[39mmodel,\n\u001b[1;32m     84\u001b[0m     device\u001b[38;5;241m=\u001b[39mdevice,\n\u001b[0;32m   (...)\u001b[0m\n\u001b[1;32m     95\u001b[0m     wandb_entity\u001b[38;5;241m=\u001b[39m\u001b[38;5;124m\"\u001b[39m\u001b[38;5;124mfuturegoose\u001b[39m\u001b[38;5;124m\"\u001b[39m\n\u001b[1;32m     96\u001b[0m )\n\u001b[1;32m     98\u001b[0m \u001b[38;5;66;03m# train model\u001b[39;00m\n\u001b[0;32m---> 99\u001b[0m trained_model \u001b[38;5;241m=\u001b[39m \u001b[43mtrainer\u001b[49m\u001b[38;5;241;43m.\u001b[39;49m\u001b[43mtrain\u001b[49m\u001b[43m(\u001b[49m\n\u001b[1;32m    100\u001b[0m \u001b[43m    \u001b[49m\u001b[43mtraining_set\u001b[49m\u001b[38;5;241;43m=\u001b[39;49m\u001b[43mtrainset\u001b[49m\u001b[43m,\u001b[49m\n\u001b[1;32m    101\u001b[0m \u001b[43m    \u001b[49m\u001b[43mval_set\u001b[49m\u001b[38;5;241;43m=\u001b[39;49m\u001b[43mvalset\u001b[49m\u001b[43m,\u001b[49m\n\u001b[1;32m    102\u001b[0m \u001b[43m    \u001b[49m\u001b[43mnum_epochs\u001b[49m\u001b[38;5;241;43m=\u001b[39;49m\u001b[38;5;241;43m2\u001b[39;49m\n\u001b[1;32m    103\u001b[0m \u001b[43m)\u001b[49m\n",
      "File \u001b[0;32m~/projects/deeplearning/deep_learning_tools/src/training/trainer.py:301\u001b[0m, in \u001b[0;36mModelTrainer.train\u001b[0;34m(self, training_set, val_set, num_epochs, scheduler_step)\u001b[0m\n\u001b[1;32m    298\u001b[0m     \u001b[38;5;28mself\u001b[39m\u001b[38;5;241m.\u001b[39m_handle_interrupt(\u001b[38;5;28;01mNone\u001b[39;00m, \u001b[38;5;28;01mNone\u001b[39;00m)\n\u001b[1;32m    299\u001b[0m \u001b[38;5;28;01mfinally\u001b[39;00m:\n\u001b[1;32m    300\u001b[0m     \u001b[38;5;66;03m# ensure logger is closed even if exception is raised\u001b[39;00m\n\u001b[0;32m--> 301\u001b[0m     \u001b[38;5;28;43mself\u001b[39;49m\u001b[38;5;241;43m.\u001b[39;49m\u001b[43mlogger_manager\u001b[49m\u001b[38;5;241;43m.\u001b[39;49m\u001b[43mclose\u001b[49m\u001b[43m(\u001b[49m\u001b[43m)\u001b[49m\n",
      "File \u001b[0;32m~/projects/deeplearning/deep_learning_tools/src/logging/manager.py:64\u001b[0m, in \u001b[0;36mLoggerManager.close\u001b[0;34m(self)\u001b[0m\n\u001b[1;32m     62\u001b[0m \u001b[38;5;250m\u001b[39m\u001b[38;5;124;03m\"\"\"Close the logger if it supports closing e.g. tensorboard.\"\"\"\u001b[39;00m\n\u001b[1;32m     63\u001b[0m \u001b[38;5;28;01mif\u001b[39;00m \u001b[38;5;28mhasattr\u001b[39m(\u001b[38;5;28mself\u001b[39m\u001b[38;5;241m.\u001b[39mlogger, \u001b[38;5;124m'\u001b[39m\u001b[38;5;124mclose\u001b[39m\u001b[38;5;124m'\u001b[39m):\n\u001b[0;32m---> 64\u001b[0m     \u001b[38;5;28;43mself\u001b[39;49m\u001b[38;5;241;43m.\u001b[39;49m\u001b[43mlogger\u001b[49m\u001b[38;5;241;43m.\u001b[39;49m\u001b[43mclose\u001b[49m\u001b[43m(\u001b[49m\u001b[43m)\u001b[49m\n",
      "File \u001b[0;32m~/projects/deeplearning/deep_learning_tools/src/logging/wandb_logger.py:110\u001b[0m, in \u001b[0;36mWandBLogger.close\u001b[0;34m(self)\u001b[0m\n\u001b[1;32m    108\u001b[0m \u001b[38;5;28;01mdef\u001b[39;00m \u001b[38;5;21mclose\u001b[39m(\u001b[38;5;28mself\u001b[39m) \u001b[38;5;241m-\u001b[39m\u001b[38;5;241m>\u001b[39m \u001b[38;5;28;01mNone\u001b[39;00m:\n\u001b[1;32m    109\u001b[0m \u001b[38;5;250m    \u001b[39m\u001b[38;5;124;03m\"\"\"Finish the wandb run.\"\"\"\u001b[39;00m\n\u001b[0;32m--> 110\u001b[0m     \u001b[43mwandb\u001b[49m\u001b[38;5;241;43m.\u001b[39;49m\u001b[43mfinish\u001b[49m\u001b[43m(\u001b[49m\u001b[43m)\u001b[49m\n",
      "File \u001b[0;32m~/projects/deeplearning/venv/lib/python3.10/site-packages/wandb/sdk/wandb_run.py:4066\u001b[0m, in \u001b[0;36mfinish\u001b[0;34m(exit_code, quiet)\u001b[0m\n\u001b[1;32m   4049\u001b[0m \u001b[38;5;250m\u001b[39m\u001b[38;5;124;03m\"\"\"Finish a run and upload any remaining data.\u001b[39;00m\n\u001b[1;32m   4050\u001b[0m \n\u001b[1;32m   4051\u001b[0m \u001b[38;5;124;03mMarks the completion of a W&B run and ensures all data is synced to the server.\u001b[39;00m\n\u001b[0;32m   (...)\u001b[0m\n\u001b[1;32m   4063\u001b[0m \u001b[38;5;124;03m    quiet: Deprecated. Configure logging verbosity using `wandb.Settings(quiet=...)`.\u001b[39;00m\n\u001b[1;32m   4064\u001b[0m \u001b[38;5;124;03m\"\"\"\u001b[39;00m\n\u001b[1;32m   4065\u001b[0m \u001b[38;5;28;01mif\u001b[39;00m wandb\u001b[38;5;241m.\u001b[39mrun:\n\u001b[0;32m-> 4066\u001b[0m     \u001b[43mwandb\u001b[49m\u001b[38;5;241;43m.\u001b[39;49m\u001b[43mrun\u001b[49m\u001b[38;5;241;43m.\u001b[39;49m\u001b[43mfinish\u001b[49m\u001b[43m(\u001b[49m\u001b[43mexit_code\u001b[49m\u001b[38;5;241;43m=\u001b[39;49m\u001b[43mexit_code\u001b[49m\u001b[43m,\u001b[49m\u001b[43m \u001b[49m\u001b[43mquiet\u001b[49m\u001b[38;5;241;43m=\u001b[39;49m\u001b[43mquiet\u001b[49m\u001b[43m)\u001b[49m\n",
      "File \u001b[0;32m~/projects/deeplearning/venv/lib/python3.10/site-packages/wandb/sdk/wandb_run.py:440\u001b[0m, in \u001b[0;36m_run_decorator._noop.<locals>.wrapper\u001b[0;34m(self, *args, **kwargs)\u001b[0m\n\u001b[1;32m    437\u001b[0m         wandb\u001b[38;5;241m.\u001b[39mtermwarn(message, repeat\u001b[38;5;241m=\u001b[39m\u001b[38;5;28;01mFalse\u001b[39;00m)\n\u001b[1;32m    438\u001b[0m         \u001b[38;5;28;01mreturn\u001b[39;00m \u001b[38;5;28mcls\u001b[39m\u001b[38;5;241m.\u001b[39mDummy()\n\u001b[0;32m--> 440\u001b[0m \u001b[38;5;28;01mreturn\u001b[39;00m \u001b[43mfunc\u001b[49m\u001b[43m(\u001b[49m\u001b[38;5;28;43mself\u001b[39;49m\u001b[43m,\u001b[49m\u001b[43m \u001b[49m\u001b[38;5;241;43m*\u001b[39;49m\u001b[43margs\u001b[49m\u001b[43m,\u001b[49m\u001b[43m \u001b[49m\u001b[38;5;241;43m*\u001b[39;49m\u001b[38;5;241;43m*\u001b[39;49m\u001b[43mkwargs\u001b[49m\u001b[43m)\u001b[49m\n",
      "File \u001b[0;32m~/projects/deeplearning/venv/lib/python3.10/site-packages/wandb/sdk/wandb_run.py:382\u001b[0m, in \u001b[0;36m_run_decorator._attach.<locals>.wrapper\u001b[0;34m(self, *args, **kwargs)\u001b[0m\n\u001b[1;32m    380\u001b[0m         \u001b[38;5;28;01mraise\u001b[39;00m e\n\u001b[1;32m    381\u001b[0m     \u001b[38;5;28mcls\u001b[39m\u001b[38;5;241m.\u001b[39m_is_attaching \u001b[38;5;241m=\u001b[39m \u001b[38;5;124m\"\u001b[39m\u001b[38;5;124m\"\u001b[39m\n\u001b[0;32m--> 382\u001b[0m \u001b[38;5;28;01mreturn\u001b[39;00m \u001b[43mfunc\u001b[49m\u001b[43m(\u001b[49m\u001b[38;5;28;43mself\u001b[39;49m\u001b[43m,\u001b[49m\u001b[43m \u001b[49m\u001b[38;5;241;43m*\u001b[39;49m\u001b[43margs\u001b[49m\u001b[43m,\u001b[49m\u001b[43m \u001b[49m\u001b[38;5;241;43m*\u001b[39;49m\u001b[38;5;241;43m*\u001b[39;49m\u001b[43mkwargs\u001b[49m\u001b[43m)\u001b[49m\n",
      "File \u001b[0;32m~/projects/deeplearning/venv/lib/python3.10/site-packages/wandb/sdk/wandb_run.py:2094\u001b[0m, in \u001b[0;36mRun.finish\u001b[0;34m(self, exit_code, quiet)\u001b[0m\n\u001b[1;32m   2086\u001b[0m \u001b[38;5;28;01mif\u001b[39;00m quiet \u001b[38;5;129;01mis\u001b[39;00m \u001b[38;5;129;01mnot\u001b[39;00m \u001b[38;5;28;01mNone\u001b[39;00m:\n\u001b[1;32m   2087\u001b[0m     deprecate\u001b[38;5;241m.\u001b[39mdeprecate(\n\u001b[1;32m   2088\u001b[0m         field_name\u001b[38;5;241m=\u001b[39mdeprecate\u001b[38;5;241m.\u001b[39mDeprecated\u001b[38;5;241m.\u001b[39mrun__finish_quiet,\n\u001b[1;32m   2089\u001b[0m         warning_message\u001b[38;5;241m=\u001b[39m(\n\u001b[0;32m   (...)\u001b[0m\n\u001b[1;32m   2092\u001b[0m         ),\n\u001b[1;32m   2093\u001b[0m     )\n\u001b[0;32m-> 2094\u001b[0m \u001b[38;5;28;01mreturn\u001b[39;00m \u001b[38;5;28;43mself\u001b[39;49m\u001b[38;5;241;43m.\u001b[39;49m\u001b[43m_finish\u001b[49m\u001b[43m(\u001b[49m\u001b[43mexit_code\u001b[49m\u001b[43m)\u001b[49m\n",
      "File \u001b[0;32m~/projects/deeplearning/venv/lib/python3.10/site-packages/wandb/sdk/wandb_run.py:2124\u001b[0m, in \u001b[0;36mRun._finish\u001b[0;34m(self, exit_code)\u001b[0m\n\u001b[1;32m   2121\u001b[0m \u001b[38;5;28mself\u001b[39m\u001b[38;5;241m.\u001b[39m_is_finished \u001b[38;5;241m=\u001b[39m \u001b[38;5;28;01mTrue\u001b[39;00m\n\u001b[1;32m   2123\u001b[0m \u001b[38;5;28;01mtry\u001b[39;00m:\n\u001b[0;32m-> 2124\u001b[0m     \u001b[38;5;28;43mself\u001b[39;49m\u001b[38;5;241;43m.\u001b[39;49m\u001b[43m_atexit_cleanup\u001b[49m\u001b[43m(\u001b[49m\u001b[43mexit_code\u001b[49m\u001b[38;5;241;43m=\u001b[39;49m\u001b[43mexit_code\u001b[49m\u001b[43m)\u001b[49m\n\u001b[1;32m   2126\u001b[0m     \u001b[38;5;66;03m# Run hooks that should happen after the last messages to the\u001b[39;00m\n\u001b[1;32m   2127\u001b[0m     \u001b[38;5;66;03m# internal service, like detaching the logger.\u001b[39;00m\n\u001b[1;32m   2128\u001b[0m     \u001b[38;5;28;01mfor\u001b[39;00m hook \u001b[38;5;129;01min\u001b[39;00m \u001b[38;5;28mself\u001b[39m\u001b[38;5;241m.\u001b[39m_teardown_hooks:\n",
      "File \u001b[0;32m~/projects/deeplearning/venv/lib/python3.10/site-packages/wandb/sdk/wandb_run.py:2351\u001b[0m, in \u001b[0;36mRun._atexit_cleanup\u001b[0;34m(self, exit_code)\u001b[0m\n\u001b[1;32m   2348\u001b[0m         os\u001b[38;5;241m.\u001b[39mremove(\u001b[38;5;28mself\u001b[39m\u001b[38;5;241m.\u001b[39m_settings\u001b[38;5;241m.\u001b[39mresume_fname)\n\u001b[1;32m   2350\u001b[0m \u001b[38;5;28;01mtry\u001b[39;00m:\n\u001b[0;32m-> 2351\u001b[0m     \u001b[38;5;28;43mself\u001b[39;49m\u001b[38;5;241;43m.\u001b[39;49m\u001b[43m_on_finish\u001b[49m\u001b[43m(\u001b[49m\u001b[43m)\u001b[49m\n\u001b[1;32m   2353\u001b[0m \u001b[38;5;28;01mexcept\u001b[39;00m \u001b[38;5;167;01mKeyboardInterrupt\u001b[39;00m:\n\u001b[1;32m   2354\u001b[0m     \u001b[38;5;28;01mif\u001b[39;00m \u001b[38;5;129;01mnot\u001b[39;00m wandb\u001b[38;5;241m.\u001b[39mwandb_agent\u001b[38;5;241m.\u001b[39m_is_running():  \u001b[38;5;66;03m# type: ignore\u001b[39;00m\n",
      "File \u001b[0;32m~/projects/deeplearning/venv/lib/python3.10/site-packages/wandb/sdk/wandb_run.py:2608\u001b[0m, in \u001b[0;36mRun._on_finish\u001b[0;34m(self)\u001b[0m\n\u001b[1;32m   2601\u001b[0m exit_handle\u001b[38;5;241m.\u001b[39madd_probe(on_probe\u001b[38;5;241m=\u001b[39m\u001b[38;5;28mself\u001b[39m\u001b[38;5;241m.\u001b[39m_on_probe_exit)\n\u001b[1;32m   2603\u001b[0m \u001b[38;5;28;01mwith\u001b[39;00m progress\u001b[38;5;241m.\u001b[39mprogress_printer(\n\u001b[1;32m   2604\u001b[0m     \u001b[38;5;28mself\u001b[39m\u001b[38;5;241m.\u001b[39m_printer,\n\u001b[1;32m   2605\u001b[0m     \u001b[38;5;28mself\u001b[39m\u001b[38;5;241m.\u001b[39m_settings,\n\u001b[1;32m   2606\u001b[0m ) \u001b[38;5;28;01mas\u001b[39;00m progress_printer:\n\u001b[1;32m   2607\u001b[0m     \u001b[38;5;66;03m# Wait for the run to complete.\u001b[39;00m\n\u001b[0;32m-> 2608\u001b[0m     _ \u001b[38;5;241m=\u001b[39m \u001b[43mexit_handle\u001b[49m\u001b[38;5;241;43m.\u001b[39;49m\u001b[43mwait\u001b[49m\u001b[43m(\u001b[49m\n\u001b[1;32m   2609\u001b[0m \u001b[43m        \u001b[49m\u001b[43mtimeout\u001b[49m\u001b[38;5;241;43m=\u001b[39;49m\u001b[38;5;241;43m-\u001b[39;49m\u001b[38;5;241;43m1\u001b[39;49m\u001b[43m,\u001b[49m\n\u001b[1;32m   2610\u001b[0m \u001b[43m        \u001b[49m\u001b[43mon_progress\u001b[49m\u001b[38;5;241;43m=\u001b[39;49m\u001b[43mfunctools\u001b[49m\u001b[38;5;241;43m.\u001b[39;49m\u001b[43mpartial\u001b[49m\u001b[43m(\u001b[49m\n\u001b[1;32m   2611\u001b[0m \u001b[43m            \u001b[49m\u001b[38;5;28;43mself\u001b[39;49m\u001b[38;5;241;43m.\u001b[39;49m\u001b[43m_on_progress_exit\u001b[49m\u001b[43m,\u001b[49m\n\u001b[1;32m   2612\u001b[0m \u001b[43m            \u001b[49m\u001b[43mprogress_printer\u001b[49m\u001b[43m,\u001b[49m\n\u001b[1;32m   2613\u001b[0m \u001b[43m        \u001b[49m\u001b[43m)\u001b[49m\u001b[43m,\u001b[49m\n\u001b[1;32m   2614\u001b[0m \u001b[43m    \u001b[49m\u001b[43m)\u001b[49m\n\u001b[1;32m   2616\u001b[0m \u001b[38;5;66;03m# Print some final statistics.\u001b[39;00m\n\u001b[1;32m   2617\u001b[0m poll_exit_handle \u001b[38;5;241m=\u001b[39m \u001b[38;5;28mself\u001b[39m\u001b[38;5;241m.\u001b[39m_backend\u001b[38;5;241m.\u001b[39minterface\u001b[38;5;241m.\u001b[39mdeliver_poll_exit()\n",
      "File \u001b[0;32m~/projects/deeplearning/venv/lib/python3.10/site-packages/wandb/sdk/lib/mailbox.py:279\u001b[0m, in \u001b[0;36mMailboxHandle.wait\u001b[0;34m(self, timeout, on_probe, on_progress, release, cancel)\u001b[0m\n\u001b[1;32m    276\u001b[0m     \u001b[38;5;28;01mif\u001b[39;00m \u001b[38;5;28mself\u001b[39m\u001b[38;5;241m.\u001b[39m_interface\u001b[38;5;241m.\u001b[39m_transport_keepalive_failed():\n\u001b[1;32m    277\u001b[0m         \u001b[38;5;28;01mraise\u001b[39;00m MailboxError(\u001b[38;5;124m\"\u001b[39m\u001b[38;5;124mtransport failed\u001b[39m\u001b[38;5;124m\"\u001b[39m)\n\u001b[0;32m--> 279\u001b[0m found, abandoned \u001b[38;5;241m=\u001b[39m \u001b[38;5;28;43mself\u001b[39;49m\u001b[38;5;241;43m.\u001b[39;49m\u001b[43m_slot\u001b[49m\u001b[38;5;241;43m.\u001b[39;49m\u001b[43m_get_and_clear\u001b[49m\u001b[43m(\u001b[49m\u001b[43mtimeout\u001b[49m\u001b[38;5;241;43m=\u001b[39;49m\u001b[43mwait_timeout\u001b[49m\u001b[43m)\u001b[49m\n\u001b[1;32m    280\u001b[0m \u001b[38;5;28;01mif\u001b[39;00m found:\n\u001b[1;32m    281\u001b[0m     \u001b[38;5;66;03m# Always update progress to 100% when done\u001b[39;00m\n\u001b[1;32m    282\u001b[0m     \u001b[38;5;28;01mif\u001b[39;00m on_progress \u001b[38;5;129;01mand\u001b[39;00m progress_handle \u001b[38;5;129;01mand\u001b[39;00m progress_sent:\n",
      "File \u001b[0;32m~/projects/deeplearning/venv/lib/python3.10/site-packages/wandb/sdk/lib/mailbox.py:126\u001b[0m, in \u001b[0;36m_MailboxSlot._get_and_clear\u001b[0;34m(self, timeout)\u001b[0m\n\u001b[1;32m    124\u001b[0m \u001b[38;5;28;01mdef\u001b[39;00m \u001b[38;5;21m_get_and_clear\u001b[39m(\u001b[38;5;28mself\u001b[39m, timeout: \u001b[38;5;28mfloat\u001b[39m) \u001b[38;5;241m-\u001b[39m\u001b[38;5;241m>\u001b[39m Tuple[Optional[pb\u001b[38;5;241m.\u001b[39mResult], \u001b[38;5;28mbool\u001b[39m]:\n\u001b[1;32m    125\u001b[0m     found \u001b[38;5;241m=\u001b[39m \u001b[38;5;28;01mNone\u001b[39;00m\n\u001b[0;32m--> 126\u001b[0m     \u001b[38;5;28;01mif\u001b[39;00m \u001b[38;5;28;43mself\u001b[39;49m\u001b[38;5;241;43m.\u001b[39;49m\u001b[43m_wait\u001b[49m\u001b[43m(\u001b[49m\u001b[43mtimeout\u001b[49m\u001b[38;5;241;43m=\u001b[39;49m\u001b[43mtimeout\u001b[49m\u001b[43m)\u001b[49m:\n\u001b[1;32m    127\u001b[0m         \u001b[38;5;28;01mwith\u001b[39;00m \u001b[38;5;28mself\u001b[39m\u001b[38;5;241m.\u001b[39m_lock:\n\u001b[1;32m    128\u001b[0m             found \u001b[38;5;241m=\u001b[39m \u001b[38;5;28mself\u001b[39m\u001b[38;5;241m.\u001b[39m_result\n",
      "File \u001b[0;32m~/projects/deeplearning/venv/lib/python3.10/site-packages/wandb/sdk/lib/mailbox.py:122\u001b[0m, in \u001b[0;36m_MailboxSlot._wait\u001b[0;34m(self, timeout)\u001b[0m\n\u001b[1;32m    121\u001b[0m \u001b[38;5;28;01mdef\u001b[39;00m \u001b[38;5;21m_wait\u001b[39m(\u001b[38;5;28mself\u001b[39m, timeout: \u001b[38;5;28mfloat\u001b[39m) \u001b[38;5;241m-\u001b[39m\u001b[38;5;241m>\u001b[39m \u001b[38;5;28mbool\u001b[39m:\n\u001b[0;32m--> 122\u001b[0m     \u001b[38;5;28;01mreturn\u001b[39;00m \u001b[38;5;28;43mself\u001b[39;49m\u001b[38;5;241;43m.\u001b[39;49m\u001b[43m_event\u001b[49m\u001b[38;5;241;43m.\u001b[39;49m\u001b[43mwait\u001b[49m\u001b[43m(\u001b[49m\u001b[43mtimeout\u001b[49m\u001b[38;5;241;43m=\u001b[39;49m\u001b[43mtimeout\u001b[49m\u001b[43m)\u001b[49m\n",
      "File \u001b[0;32m/usr/lib/python3.10/threading.py:607\u001b[0m, in \u001b[0;36mEvent.wait\u001b[0;34m(self, timeout)\u001b[0m\n\u001b[1;32m    605\u001b[0m signaled \u001b[38;5;241m=\u001b[39m \u001b[38;5;28mself\u001b[39m\u001b[38;5;241m.\u001b[39m_flag\n\u001b[1;32m    606\u001b[0m \u001b[38;5;28;01mif\u001b[39;00m \u001b[38;5;129;01mnot\u001b[39;00m signaled:\n\u001b[0;32m--> 607\u001b[0m     signaled \u001b[38;5;241m=\u001b[39m \u001b[38;5;28;43mself\u001b[39;49m\u001b[38;5;241;43m.\u001b[39;49m\u001b[43m_cond\u001b[49m\u001b[38;5;241;43m.\u001b[39;49m\u001b[43mwait\u001b[49m\u001b[43m(\u001b[49m\u001b[43mtimeout\u001b[49m\u001b[43m)\u001b[49m\n\u001b[1;32m    608\u001b[0m \u001b[38;5;28;01mreturn\u001b[39;00m signaled\n",
      "File \u001b[0;32m/usr/lib/python3.10/threading.py:324\u001b[0m, in \u001b[0;36mCondition.wait\u001b[0;34m(self, timeout)\u001b[0m\n\u001b[1;32m    322\u001b[0m \u001b[38;5;28;01melse\u001b[39;00m:\n\u001b[1;32m    323\u001b[0m     \u001b[38;5;28;01mif\u001b[39;00m timeout \u001b[38;5;241m>\u001b[39m \u001b[38;5;241m0\u001b[39m:\n\u001b[0;32m--> 324\u001b[0m         gotit \u001b[38;5;241m=\u001b[39m \u001b[43mwaiter\u001b[49m\u001b[38;5;241;43m.\u001b[39;49m\u001b[43macquire\u001b[49m\u001b[43m(\u001b[49m\u001b[38;5;28;43;01mTrue\u001b[39;49;00m\u001b[43m,\u001b[49m\u001b[43m \u001b[49m\u001b[43mtimeout\u001b[49m\u001b[43m)\u001b[49m\n\u001b[1;32m    325\u001b[0m     \u001b[38;5;28;01melse\u001b[39;00m:\n\u001b[1;32m    326\u001b[0m         gotit \u001b[38;5;241m=\u001b[39m waiter\u001b[38;5;241m.\u001b[39macquire(\u001b[38;5;28;01mFalse\u001b[39;00m)\n",
      "File \u001b[0;32m~/projects/deeplearning/deep_learning_tools/src/training/trainer.py:130\u001b[0m, in \u001b[0;36mModelTrainer._handle_interrupt\u001b[0;34m(self, signum, frame)\u001b[0m\n\u001b[1;32m    128\u001b[0m \u001b[38;5;28mprint\u001b[39m(\u001b[38;5;124m\"\u001b[39m\u001b[38;5;130;01m\\n\u001b[39;00m\u001b[38;5;124mTraining interrupted. Cleaning up...\u001b[39m\u001b[38;5;124m\"\u001b[39m)\n\u001b[1;32m    129\u001b[0m \u001b[38;5;28mself\u001b[39m\u001b[38;5;241m.\u001b[39minterrupted \u001b[38;5;241m=\u001b[39m \u001b[38;5;28;01mTrue\u001b[39;00m\n\u001b[0;32m--> 130\u001b[0m \u001b[38;5;28;43mself\u001b[39;49m\u001b[38;5;241;43m.\u001b[39;49m\u001b[43mlogger_manager\u001b[49m\u001b[38;5;241;43m.\u001b[39;49m\u001b[43mclose\u001b[49m\u001b[43m(\u001b[49m\u001b[43m)\u001b[49m\n\u001b[1;32m    131\u001b[0m \u001b[38;5;28mself\u001b[39m\u001b[38;5;241m.\u001b[39mlogger_manager\u001b[38;5;241m.\u001b[39mlogger\u001b[38;5;241m.\u001b[39mcleanup()  \u001b[38;5;66;03m# call cleanup if available\u001b[39;00m\n\u001b[1;32m    133\u001b[0m \u001b[38;5;28;01mif\u001b[39;00m \u001b[38;5;129;01mnot\u001b[39;00m os\u001b[38;5;241m.\u001b[39mpath\u001b[38;5;241m.\u001b[39mexists(\u001b[38;5;124m'\u001b[39m\u001b[38;5;124mcheckpoint.pt\u001b[39m\u001b[38;5;124m'\u001b[39m):\n",
      "File \u001b[0;32m~/projects/deeplearning/deep_learning_tools/src/logging/manager.py:64\u001b[0m, in \u001b[0;36mLoggerManager.close\u001b[0;34m(self)\u001b[0m\n\u001b[1;32m     62\u001b[0m \u001b[38;5;250m\u001b[39m\u001b[38;5;124;03m\"\"\"Close the logger if it supports closing e.g. tensorboard.\"\"\"\u001b[39;00m\n\u001b[1;32m     63\u001b[0m \u001b[38;5;28;01mif\u001b[39;00m \u001b[38;5;28mhasattr\u001b[39m(\u001b[38;5;28mself\u001b[39m\u001b[38;5;241m.\u001b[39mlogger, \u001b[38;5;124m'\u001b[39m\u001b[38;5;124mclose\u001b[39m\u001b[38;5;124m'\u001b[39m):\n\u001b[0;32m---> 64\u001b[0m     \u001b[38;5;28;43mself\u001b[39;49m\u001b[38;5;241;43m.\u001b[39;49m\u001b[43mlogger\u001b[49m\u001b[38;5;241;43m.\u001b[39;49m\u001b[43mclose\u001b[49m\u001b[43m(\u001b[49m\u001b[43m)\u001b[49m\n",
      "File \u001b[0;32m~/projects/deeplearning/deep_learning_tools/src/logging/wandb_logger.py:110\u001b[0m, in \u001b[0;36mWandBLogger.close\u001b[0;34m(self)\u001b[0m\n\u001b[1;32m    108\u001b[0m \u001b[38;5;28;01mdef\u001b[39;00m \u001b[38;5;21mclose\u001b[39m(\u001b[38;5;28mself\u001b[39m) \u001b[38;5;241m-\u001b[39m\u001b[38;5;241m>\u001b[39m \u001b[38;5;28;01mNone\u001b[39;00m:\n\u001b[1;32m    109\u001b[0m \u001b[38;5;250m    \u001b[39m\u001b[38;5;124;03m\"\"\"Finish the wandb run.\"\"\"\u001b[39;00m\n\u001b[0;32m--> 110\u001b[0m     \u001b[43mwandb\u001b[49m\u001b[38;5;241;43m.\u001b[39;49m\u001b[43mfinish\u001b[49m\u001b[43m(\u001b[49m\u001b[43m)\u001b[49m\n",
      "File \u001b[0;32m~/projects/deeplearning/venv/lib/python3.10/site-packages/wandb/sdk/wandb_run.py:4066\u001b[0m, in \u001b[0;36mfinish\u001b[0;34m(exit_code, quiet)\u001b[0m\n\u001b[1;32m   4049\u001b[0m \u001b[38;5;250m\u001b[39m\u001b[38;5;124;03m\"\"\"Finish a run and upload any remaining data.\u001b[39;00m\n\u001b[1;32m   4050\u001b[0m \n\u001b[1;32m   4051\u001b[0m \u001b[38;5;124;03mMarks the completion of a W&B run and ensures all data is synced to the server.\u001b[39;00m\n\u001b[0;32m   (...)\u001b[0m\n\u001b[1;32m   4063\u001b[0m \u001b[38;5;124;03m    quiet: Deprecated. Configure logging verbosity using `wandb.Settings(quiet=...)`.\u001b[39;00m\n\u001b[1;32m   4064\u001b[0m \u001b[38;5;124;03m\"\"\"\u001b[39;00m\n\u001b[1;32m   4065\u001b[0m \u001b[38;5;28;01mif\u001b[39;00m wandb\u001b[38;5;241m.\u001b[39mrun:\n\u001b[0;32m-> 4066\u001b[0m     \u001b[43mwandb\u001b[49m\u001b[38;5;241;43m.\u001b[39;49m\u001b[43mrun\u001b[49m\u001b[38;5;241;43m.\u001b[39;49m\u001b[43mfinish\u001b[49m\u001b[43m(\u001b[49m\u001b[43mexit_code\u001b[49m\u001b[38;5;241;43m=\u001b[39;49m\u001b[43mexit_code\u001b[49m\u001b[43m,\u001b[49m\u001b[43m \u001b[49m\u001b[43mquiet\u001b[49m\u001b[38;5;241;43m=\u001b[39;49m\u001b[43mquiet\u001b[49m\u001b[43m)\u001b[49m\n",
      "File \u001b[0;32m~/projects/deeplearning/venv/lib/python3.10/site-packages/wandb/sdk/wandb_run.py:440\u001b[0m, in \u001b[0;36m_run_decorator._noop.<locals>.wrapper\u001b[0;34m(self, *args, **kwargs)\u001b[0m\n\u001b[1;32m    437\u001b[0m         wandb\u001b[38;5;241m.\u001b[39mtermwarn(message, repeat\u001b[38;5;241m=\u001b[39m\u001b[38;5;28;01mFalse\u001b[39;00m)\n\u001b[1;32m    438\u001b[0m         \u001b[38;5;28;01mreturn\u001b[39;00m \u001b[38;5;28mcls\u001b[39m\u001b[38;5;241m.\u001b[39mDummy()\n\u001b[0;32m--> 440\u001b[0m \u001b[38;5;28;01mreturn\u001b[39;00m \u001b[43mfunc\u001b[49m\u001b[43m(\u001b[49m\u001b[38;5;28;43mself\u001b[39;49m\u001b[43m,\u001b[49m\u001b[43m \u001b[49m\u001b[38;5;241;43m*\u001b[39;49m\u001b[43margs\u001b[49m\u001b[43m,\u001b[49m\u001b[43m \u001b[49m\u001b[38;5;241;43m*\u001b[39;49m\u001b[38;5;241;43m*\u001b[39;49m\u001b[43mkwargs\u001b[49m\u001b[43m)\u001b[49m\n",
      "File \u001b[0;32m~/projects/deeplearning/venv/lib/python3.10/site-packages/wandb/sdk/wandb_run.py:382\u001b[0m, in \u001b[0;36m_run_decorator._attach.<locals>.wrapper\u001b[0;34m(self, *args, **kwargs)\u001b[0m\n\u001b[1;32m    380\u001b[0m         \u001b[38;5;28;01mraise\u001b[39;00m e\n\u001b[1;32m    381\u001b[0m     \u001b[38;5;28mcls\u001b[39m\u001b[38;5;241m.\u001b[39m_is_attaching \u001b[38;5;241m=\u001b[39m \u001b[38;5;124m\"\u001b[39m\u001b[38;5;124m\"\u001b[39m\n\u001b[0;32m--> 382\u001b[0m \u001b[38;5;28;01mreturn\u001b[39;00m \u001b[43mfunc\u001b[49m\u001b[43m(\u001b[49m\u001b[38;5;28;43mself\u001b[39;49m\u001b[43m,\u001b[49m\u001b[43m \u001b[49m\u001b[38;5;241;43m*\u001b[39;49m\u001b[43margs\u001b[49m\u001b[43m,\u001b[49m\u001b[43m \u001b[49m\u001b[38;5;241;43m*\u001b[39;49m\u001b[38;5;241;43m*\u001b[39;49m\u001b[43mkwargs\u001b[49m\u001b[43m)\u001b[49m\n",
      "File \u001b[0;32m~/projects/deeplearning/venv/lib/python3.10/site-packages/wandb/sdk/wandb_run.py:2094\u001b[0m, in \u001b[0;36mRun.finish\u001b[0;34m(self, exit_code, quiet)\u001b[0m\n\u001b[1;32m   2086\u001b[0m \u001b[38;5;28;01mif\u001b[39;00m quiet \u001b[38;5;129;01mis\u001b[39;00m \u001b[38;5;129;01mnot\u001b[39;00m \u001b[38;5;28;01mNone\u001b[39;00m:\n\u001b[1;32m   2087\u001b[0m     deprecate\u001b[38;5;241m.\u001b[39mdeprecate(\n\u001b[1;32m   2088\u001b[0m         field_name\u001b[38;5;241m=\u001b[39mdeprecate\u001b[38;5;241m.\u001b[39mDeprecated\u001b[38;5;241m.\u001b[39mrun__finish_quiet,\n\u001b[1;32m   2089\u001b[0m         warning_message\u001b[38;5;241m=\u001b[39m(\n\u001b[0;32m   (...)\u001b[0m\n\u001b[1;32m   2092\u001b[0m         ),\n\u001b[1;32m   2093\u001b[0m     )\n\u001b[0;32m-> 2094\u001b[0m \u001b[38;5;28;01mreturn\u001b[39;00m \u001b[38;5;28;43mself\u001b[39;49m\u001b[38;5;241;43m.\u001b[39;49m\u001b[43m_finish\u001b[49m\u001b[43m(\u001b[49m\u001b[43mexit_code\u001b[49m\u001b[43m)\u001b[49m\n",
      "File \u001b[0;32m~/projects/deeplearning/venv/lib/python3.10/site-packages/wandb/sdk/wandb_run.py:2117\u001b[0m, in \u001b[0;36mRun._finish\u001b[0;34m(self, exit_code)\u001b[0m\n\u001b[1;32m   2115\u001b[0m \u001b[38;5;28;01mfor\u001b[39;00m hook \u001b[38;5;129;01min\u001b[39;00m \u001b[38;5;28mself\u001b[39m\u001b[38;5;241m.\u001b[39m_teardown_hooks:\n\u001b[1;32m   2116\u001b[0m     \u001b[38;5;28;01mif\u001b[39;00m hook\u001b[38;5;241m.\u001b[39mstage \u001b[38;5;241m==\u001b[39m TeardownStage\u001b[38;5;241m.\u001b[39mEARLY:\n\u001b[0;32m-> 2117\u001b[0m         \u001b[43mhook\u001b[49m\u001b[38;5;241;43m.\u001b[39;49m\u001b[43mcall\u001b[49m\u001b[43m(\u001b[49m\u001b[43m)\u001b[49m\n\u001b[1;32m   2119\u001b[0m \u001b[38;5;66;03m# Early-stage hooks may use methods that require _is_finished\u001b[39;00m\n\u001b[1;32m   2120\u001b[0m \u001b[38;5;66;03m# to be False, so we set this after running those hooks.\u001b[39;00m\n\u001b[1;32m   2121\u001b[0m \u001b[38;5;28mself\u001b[39m\u001b[38;5;241m.\u001b[39m_is_finished \u001b[38;5;241m=\u001b[39m \u001b[38;5;28;01mTrue\u001b[39;00m\n",
      "File \u001b[0;32m~/projects/deeplearning/venv/lib/python3.10/site-packages/wandb/sdk/wandb_init.py:464\u001b[0m, in \u001b[0;36m_WandbInit._jupyter_teardown\u001b[0;34m(self)\u001b[0m\n\u001b[1;32m    462\u001b[0m     \u001b[38;5;28;01mif\u001b[39;00m \u001b[38;5;124m\"\u001b[39m\u001b[38;5;124m_pause_backend\u001b[39m\u001b[38;5;124m\"\u001b[39m \u001b[38;5;129;01min\u001b[39;00m hook\u001b[38;5;241m.\u001b[39m\u001b[38;5;18m__name__\u001b[39m:\n\u001b[1;32m    463\u001b[0m         ipython\u001b[38;5;241m.\u001b[39mevents\u001b[38;5;241m.\u001b[39munregister(\u001b[38;5;124m\"\u001b[39m\u001b[38;5;124mpost_run_cell\u001b[39m\u001b[38;5;124m\"\u001b[39m, hook)\n\u001b[0;32m--> 464\u001b[0m ipython\u001b[38;5;241m.\u001b[39mdisplay_pub\u001b[38;5;241m.\u001b[39mpublish \u001b[38;5;241m=\u001b[39m \u001b[43mipython\u001b[49m\u001b[38;5;241;43m.\u001b[39;49m\u001b[43mdisplay_pub\u001b[49m\u001b[38;5;241;43m.\u001b[39;49m\u001b[43m_orig_publish\u001b[49m\n\u001b[1;32m    465\u001b[0m \u001b[38;5;28;01mdel\u001b[39;00m ipython\u001b[38;5;241m.\u001b[39mdisplay_pub\u001b[38;5;241m.\u001b[39m_orig_publish\n",
      "\u001b[0;31mAttributeError\u001b[0m: 'ZMQDisplayPublisher' object has no attribute '_orig_publish'"
     ]
    }
   ],
   "source": [
    "import torch\n",
    "import torch.nn as nn\n",
    "from torch.optim import Adadelta, Adam, SGD\n",
    "from torch.optim.lr_scheduler import StepLR\n",
    "import sys\n",
    "from pathlib import Path\n",
    "\n",
    "# package_root = Path('/home/goose/projects/deeplearning/deep_learning_tools')\n",
    "package_root = Path('/home/gustaf/projects/deeplearning/deep_learning_tools')\n",
    "sys.path.append(str(package_root))\n",
    "\n",
    "from src import ModelTrainer\n",
    "from src import accuracy, precision\n",
    "\n",
    "\n",
    "# model\n",
    "class Net(nn.Module):\n",
    "    def __init__(self, input_size, output_size):\n",
    "        super().__init__()\n",
    "\n",
    "        # conv layers\n",
    "        self.conv1 = nn.Conv2d(in_channels=1, out_channels=32, kernel_size=3, stride=1, padding=1)  # padding='same'\n",
    "        self.conv2 = nn.Conv2d(in_channels=32, out_channels=64, kernel_size=3, stride=1, padding=1)\n",
    "        self.conv3 = nn.Conv2d(in_channels=64, out_channels=128, kernel_size=3, stride=1, padding=1)\n",
    "        self.conv4 = nn.Conv2d(in_channels=128, out_channels=256, kernel_size=3, stride=1, padding=1)\n",
    "        self.pool = nn.MaxPool2d(kernel_size=2, stride=2)\n",
    "        self.bn1 = nn.BatchNorm2d(32)  # batch norm after first conv\n",
    "        self.bn2 = nn.BatchNorm2d(64)  # batch norm after second conv\n",
    "        self.bn3 = nn.BatchNorm2d(128)  # batch norm after third conv\n",
    "        self.bn4 = nn.BatchNorm2d(256)  # batch norm after fourth conv\n",
    "        # size calculation\n",
    "        # 28x28 → conv1: 28x28\n",
    "        # 28x28 → conv2: 28x28 → pool: 14x14\n",
    "        # 14x14 → conv3: 14x14 → pool: 7x7\n",
    "        # 7x7 → conv4: 7x7 → pool: 3x3\n",
    "        # 3x3 → flatten: 3 * 3 * 256 = 2304\n",
    "        flattened_size = 2304\n",
    "\n",
    "        # fully connected layers\n",
    "        self.flatten = nn.Flatten()\n",
    "        \n",
    "        # self.fc = nn.Linear(flattened_size, 32)\n",
    "        self.fc = nn.Linear(input_size, output_size)  # TEST\n",
    "\n",
    "        self.fc2 = nn.Linear(32, 16)\n",
    "        self.fc3 = nn.Linear(16, output_size)\n",
    "\n",
    "        self.relu = nn.ReLU()\n",
    "        self.dropout1 = nn.Dropout(0.5)\n",
    "        self.dropout2 = nn.Dropout(0.5)\n",
    "\n",
    "    def forward(self, x):\n",
    "        # # conv1 + batch norm + pooling\n",
    "        # x = self.bn1(self.relu(self.conv1(x)))\n",
    "        # # conv2 + batch norm + pooling\n",
    "        # x = self.pool(self.bn2(self.relu(self.conv2(x))))\n",
    "        # # conv3 + batch norm + pooling\n",
    "        # x = self.pool(self.bn3(self.relu(self.conv3(x))))\n",
    "        # # conv4 + batch norm + pooling\n",
    "        # x = self.pool(self.bn4(self.relu(self.conv4(x))))\n",
    "        # x = self.dropout1(x)\n",
    "\n",
    "        # flatten and fully connected layer\n",
    "        x = self.flatten(x)\n",
    "        x = self.fc(x)  # TEST\n",
    "\n",
    "        # x = self.fc(self.relu(x))\n",
    "        # x = self.dropout2(x)\n",
    "        # x = self.fc2(self.relu(x))\n",
    "        # x = self.fc3(x)\n",
    "\n",
    "        return x\n",
    "\n",
    "# initialize model\n",
    "model = Net(input_size=28*28, output_size=10)\n",
    "# initialize optimizer\n",
    "optimizer = Adam(model.parameters(), lr=0.001, weight_decay=0.01)\n",
    "# initialize scheduler\n",
    "scheduler = StepLR(optimizer, step_size=1, gamma=0.75)\n",
    "\n",
    "# initialize trainer\n",
    "trainer = ModelTrainer(\n",
    "    model=model,\n",
    "    device=device,\n",
    "    loss_fn=nn.CrossEntropyLoss(),\n",
    "    optimizer=optimizer,\n",
    "    scheduler=scheduler,\n",
    "    batch_size=512,  # 128\n",
    "    verbose=True,             # controls training progress logs\n",
    "    save_metrics=False,        # controls saving of metrics visualization\n",
    "    early_stopping_patience=3,\n",
    "    early_stopping_delta=0.00001,\n",
    "    logger_type=\"wandb\",\n",
    "    wandb_project=\"fashion-mnist\",\n",
    "    wandb_entity=\"futuregoose\",\n",
    "    sweep=True\n",
    ")\n",
    "\n",
    "# train model\n",
    "trained_model = trainer.train(\n",
    "    training_set=trainset,\n",
    "    val_set=valset,\n",
    "    num_epochs=2\n",
    ")"
   ]
  },
  {
   "cell_type": "code",
   "execution_count": null,
   "metadata": {},
   "outputs": [],
   "source": []
  },
  {
   "cell_type": "code",
   "execution_count": null,
   "metadata": {},
   "outputs": [],
   "source": []
  },
  {
   "cell_type": "code",
   "execution_count": null,
   "metadata": {},
   "outputs": [],
   "source": []
  },
  {
   "cell_type": "code",
   "execution_count": null,
   "metadata": {},
   "outputs": [],
   "source": [
    "import torch\n",
    "import torch.nn as nn\n",
    "from torch.optim import Adadelta, Adam, SGD\n",
    "from torch.optim.lr_scheduler import StepLR\n",
    "import sys\n",
    "from pathlib import Path\n",
    "\n",
    "# package_root = Path('/home/goose/projects/deeplearning/deep_learning_tools')\n",
    "package_root = Path('/home/gustaf/projects/deeplearning/deep_learning_tools')\n",
    "sys.path.append(str(package_root))\n",
    "\n",
    "from src import ModelTrainer\n",
    "from src import accuracy, precision\n",
    "\n",
    "\n",
    "# model\n",
    "class Net(nn.Module):\n",
    "    def __init__(self, input_size, output_size):\n",
    "        super().__init__()\n",
    "\n",
    "        # conv layers\n",
    "        self.conv1 = nn.Conv2d(in_channels=1, out_channels=32, kernel_size=3, stride=1, padding=1)  # padding='same'\n",
    "        self.conv2 = nn.Conv2d(in_channels=32, out_channels=64, kernel_size=3, stride=1, padding=1)\n",
    "        self.conv3 = nn.Conv2d(in_channels=64, out_channels=128, kernel_size=3, stride=1, padding=1)\n",
    "        self.conv4 = nn.Conv2d(in_channels=128, out_channels=256, kernel_size=3, stride=1, padding=1)\n",
    "        self.pool = nn.MaxPool2d(kernel_size=2, stride=2)\n",
    "        self.bn1 = nn.BatchNorm2d(32)  # batch norm after first conv\n",
    "        self.bn2 = nn.BatchNorm2d(64)  # batch norm after second conv\n",
    "        self.bn3 = nn.BatchNorm2d(128)  # batch norm after third conv\n",
    "        self.bn4 = nn.BatchNorm2d(256)  # batch norm after fourth conv\n",
    "        # size calculation\n",
    "        # 28x28 → conv1: 28x28\n",
    "        # 28x28 → conv2: 28x28 → pool: 14x14\n",
    "        # 14x14 → conv3: 14x14 → pool: 7x7\n",
    "        # 7x7 → conv4: 7x7 → pool: 3x3\n",
    "        # 3x3 → flatten: 3 * 3 * 256 = 2304\n",
    "        flattened_size = 2304\n",
    "\n",
    "        # fully connected layers\n",
    "        self.flatten = nn.Flatten()\n",
    "        self.fc = nn.Linear(flattened_size, 32)\n",
    "        self.fc2 = nn.Linear(32, 16)\n",
    "        self.fc3 = nn.Linear(16, output_size)\n",
    "\n",
    "        self.relu = nn.ReLU()\n",
    "        self.dropout1 = nn.Dropout(0.5)\n",
    "        self.dropout2 = nn.Dropout(0.5)\n",
    "\n",
    "    def forward(self, x):\n",
    "        # conv1 + batch norm + pooling\n",
    "        x = self.bn1(self.relu(self.conv1(x)))\n",
    "        # conv2 + batch norm + pooling\n",
    "        x = self.pool(self.bn2(self.relu(self.conv2(x))))\n",
    "        # conv3 + batch norm + pooling\n",
    "        x = self.pool(self.bn3(self.relu(self.conv3(x))))\n",
    "        # conv4 + batch norm + pooling\n",
    "        x = self.pool(self.bn4(self.relu(self.conv4(x))))\n",
    "        x = self.dropout1(x)\n",
    "\n",
    "        # flatten and fully connected layer\n",
    "        x = self.flatten(x)\n",
    "        x = self.fc(self.relu(x))\n",
    "        x = self.dropout2(x)\n",
    "        x = self.fc2(self.relu(x))\n",
    "        x = self.fc3(x)\n",
    "\n",
    "        return x\n",
    "\n",
    "# initialize model\n",
    "model = Net(input_size=28*28, output_size=10)\n",
    "# initialize optimizer\n",
    "optimizer = Adam(model.parameters(), lr=0.001, weight_decay=0.01)\n",
    "# initialize scheduler\n",
    "scheduler = StepLR(optimizer, step_size=1, gamma=0.75)\n",
    "\n",
    "# initialize trainer\n",
    "trainer = ModelTrainer(\n",
    "    model=model,\n",
    "    device=device,\n",
    "    loss_fn=nn.CrossEntropyLoss(),\n",
    "    optimizer=optimizer,\n",
    "    scheduler=scheduler,\n",
    "    batch_size=128,\n",
    "    verbose=True,             # controls training progress logs\n",
    "    save_metrics=False,        # controls saving of metrics visualization\n",
    "    early_stopping_patience=3,\n",
    "    early_stopping_delta=0.00001,\n",
    "    logger_type=\"wandb\",\n",
    "    wandb_project=\"fashion-mnist\",\n",
    "    wandb_entity=\"futuregoose\"\n",
    ")\n",
    "\n",
    "# train model\n",
    "trained_model = trainer.train(\n",
    "    training_set=trainset,\n",
    "    val_set=valset,\n",
    "    num_epochs=5\n",
    ")"
   ]
  },
  {
   "cell_type": "code",
   "execution_count": 13,
   "metadata": {},
   "outputs": [
    {
     "data": {
      "text/plain": [
       "Net(\n",
       "  (conv1): Conv2d(1, 32, kernel_size=(3, 3), stride=(1, 1), padding=(1, 1))\n",
       "  (conv2): Conv2d(32, 64, kernel_size=(3, 3), stride=(1, 1), padding=(1, 1))\n",
       "  (conv3): Conv2d(64, 128, kernel_size=(3, 3), stride=(1, 1), padding=(1, 1))\n",
       "  (conv4): Conv2d(128, 256, kernel_size=(3, 3), stride=(1, 1), padding=(1, 1))\n",
       "  (pool): MaxPool2d(kernel_size=2, stride=2, padding=0, dilation=1, ceil_mode=False)\n",
       "  (bn1): BatchNorm2d(32, eps=1e-05, momentum=0.1, affine=True, track_running_stats=True)\n",
       "  (bn2): BatchNorm2d(64, eps=1e-05, momentum=0.1, affine=True, track_running_stats=True)\n",
       "  (bn3): BatchNorm2d(128, eps=1e-05, momentum=0.1, affine=True, track_running_stats=True)\n",
       "  (bn4): BatchNorm2d(256, eps=1e-05, momentum=0.1, affine=True, track_running_stats=True)\n",
       "  (flatten): Flatten(start_dim=1, end_dim=-1)\n",
       "  (fc): Linear(in_features=2304, out_features=32, bias=True)\n",
       "  (fc2): Linear(in_features=32, out_features=16, bias=True)\n",
       "  (fc3): Linear(in_features=16, out_features=10, bias=True)\n",
       "  (relu): ReLU()\n",
       "  (dropout1): Dropout(p=0.5, inplace=False)\n",
       "  (dropout2): Dropout(p=0.5, inplace=False)\n",
       ")"
      ]
     },
     "execution_count": 13,
     "metadata": {},
     "output_type": "execute_result"
    }
   ],
   "source": [
    "model"
   ]
  },
  {
   "cell_type": "code",
   "execution_count": null,
   "metadata": {},
   "outputs": [],
   "source": []
  },
  {
   "cell_type": "code",
   "execution_count": null,
   "metadata": {},
   "outputs": [],
   "source": []
  },
  {
   "cell_type": "code",
   "execution_count": null,
   "metadata": {},
   "outputs": [],
   "source": []
  },
  {
   "cell_type": "code",
   "execution_count": null,
   "metadata": {},
   "outputs": [],
   "source": []
  },
  {
   "cell_type": "code",
   "execution_count": 6,
   "metadata": {},
   "outputs": [
    {
     "name": "stdout",
     "output_type": "stream",
     "text": [
      "Using device: cuda\n"
     ]
    }
   ],
   "source": [
    "from torchvision import datasets, transforms\n",
    "import torch\n",
    "def calculate_mean_std(dataset):\n",
    "    \"\"\"calculate mean and standard deviation of a dataset\"\"\"\n",
    "    mean = 0.0\n",
    "    std = 0.0\n",
    "    total_images = len(dataset)\n",
    "\n",
    "    for img, _ in dataset:\n",
    "        mean += img.mean()\n",
    "        std += img.std()\n",
    "\n",
    "    mean /= total_images\n",
    "    std /= total_images\n",
    "\n",
    "    return mean.item(), std.item()\n",
    "\n",
    "# normalization transform\n",
    "transform = transforms.Compose([transforms.ToTensor(), transforms.Normalize((0.5,), (0.5,))])\n",
    "\n",
    "# load training and test datasets with normalization\n",
    "trainset = datasets.FashionMNIST(root='./data/', train=True, download=True, transform=transform)\n",
    "valset = datasets.FashionMNIST(root='./data/', train=False, download=True, transform=transform)\n",
    "\n",
    "# mean, std = calculate_mean_std(trainset)\n",
    "# print(f'Before normalization: mean: {mean}, std: {std}')\n",
    "\n",
    "# # normalization transform\n",
    "# transform = transforms.Compose([transforms.ToTensor(), transforms.Normalize((mean,), (std,))])\n",
    "\n",
    "# # load training and test datasets with normalization\n",
    "# trainset = datasets.FashionMNIST(root='./data/', train=True, download=True, transform=transform)\n",
    "# valset = datasets.FashionMNIST(root='./data/', train=False, download=True, transform=transform)\n",
    "\n",
    "# mean, std = calculate_mean_std(trainset)\n",
    "# print(f'After normalization: mean: {mean}, std: {std}')\n",
    "\n",
    "# device\n",
    "device = torch.device(\"cuda\" if torch.cuda.is_available() else \"cpu\")\n",
    "print(f'Using device: {device}')"
   ]
  },
  {
   "cell_type": "code",
   "execution_count": 7,
   "metadata": {},
   "outputs": [
    {
     "name": "stdout",
     "output_type": "stream",
     "text": [
      "\u001b[38;5;44m[epoch 01] train loss: 2.7873 | val loss: 1.2606 | accuracy: 68.37%, precision: 69.68%\u001b[0m\n",
      "\u001b[38;5;40mValidation loss decreased (inf --> 1.2606). Saving model.\u001b[0m\n",
      "\u001b[38;5;44m[epoch 02] train loss: 1.9353 | val loss: 1.2764 | accuracy: 67.80%, precision: 68.95%\u001b[0m\n",
      "\u001b[38;5;180mEarlyStopping counter: 1 out of 3\u001b[0m\n",
      "\u001b[38;5;44m[epoch 03] train loss: 1.8878 | val loss: 1.2910 | accuracy: 68.53%, precision: 68.98%\u001b[0m\n",
      "\u001b[38;5;180mEarlyStopping counter: 2 out of 3\u001b[0m\n",
      "\u001b[38;5;44m[epoch 04] train loss: 1.8489 | val loss: 1.2998 | accuracy: 68.93%, precision: 68.98%\u001b[0m\n",
      "\u001b[38;5;180mEarlyStopping counter: 3 out of 3\u001b[0m\n",
      "\u001b[38;5;196m🚨 Early stopping triggered.\u001b[0m\n"
     ]
    }
   ],
   "source": [
    "import torch\n",
    "import torch.nn as nn\n",
    "from torch.optim import Adadelta, Adam, SGD\n",
    "from torch.optim.lr_scheduler import StepLR\n",
    "import sys\n",
    "from pathlib import Path\n",
    "\n",
    "# package_root = Path('/home/goose/projects/deeplearning/deep_learning_tools')\n",
    "package_root = Path('/home/gustaf/projects/deeplearning/deep_learning_tools')\n",
    "sys.path.append(str(package_root))\n",
    "\n",
    "from src import ModelTrainer\n",
    "from src import accuracy, precision\n",
    "\n",
    "\n",
    "# model\n",
    "class Net(nn.Module):\n",
    "    def __init__(self, input_size, output_size):\n",
    "        super().__init__()\n",
    "        \n",
    "\n",
    "        # fully connected layers\n",
    "        self.flatten = nn.Flatten()\n",
    "        self.fc = nn.Linear(input_size, output_size)\n",
    "\n",
    "        self.relu = nn.ReLU()\n",
    "        self.dropout = nn.Dropout(0.99)\n",
    "\n",
    "    def forward(self, x):\n",
    "        # flatten and fully connected layer\n",
    "        x = self.flatten(x)\n",
    "        x = self.dropout(x)\n",
    "        x = self.fc(x)\n",
    "\n",
    "        return x\n",
    "\n",
    "# initialize model\n",
    "model = Net(input_size=28*28, output_size=10)\n",
    "# initialize optimizer\n",
    "optimizer = Adadelta(model.parameters(), lr=0.5, weight_decay=0.01)\n",
    "# initialize scheduler\n",
    "scheduler = StepLR(optimizer, step_size=1, gamma=0.8)\n",
    "\n",
    "# initialize trainer\n",
    "trainer = ModelTrainer(\n",
    "    model=model,\n",
    "    device=device,\n",
    "    loss_fn=nn.CrossEntropyLoss(),\n",
    "    optimizer=optimizer,\n",
    "    scheduler=scheduler,\n",
    "    batch_size=128,\n",
    "    verbose=True,             # controls training progress logs\n",
    "    save_metrics=True,        # controls saving of metrics visualization\n",
    "    early_stopping_patience=3,\n",
    "    early_stopping_delta=0.00001,\n",
    "    logger_type=\"tensorboard\",\n",
    "    metrics=[accuracy, precision]\n",
    ")\n",
    "\n",
    "# train model\n",
    "trained_model = trainer.train(\n",
    "    training_set=trainset,\n",
    "    val_set=valset,\n",
    "    num_epochs=5\n",
    ")"
   ]
  },
  {
   "cell_type": "code",
   "execution_count": null,
   "metadata": {},
   "outputs": [],
   "source": []
  },
  {
   "cell_type": "code",
   "execution_count": null,
   "metadata": {},
   "outputs": [],
   "source": []
  },
  {
   "cell_type": "code",
   "execution_count": null,
   "metadata": {},
   "outputs": [],
   "source": []
  },
  {
   "cell_type": "markdown",
   "metadata": {},
   "source": [
    "```markdown\n",
    "/home/gustaf/projects/deeplearning/deep_learning_tools/src/training/trainer.py:286: FutureWarning: You are using `torch.load` with `weights_only=False` (the current default value), which uses the default pickle module implicitly. It is possible to construct malicious pickle data which will execute arbitrary code during unpickling (See https://github.com/pytorch/pytorch/blob/main/SECURITY.md#untrusted-models for more details). In a future release, the default value for `weights_only` will be flipped to `True`. This limits the functions that could be executed during unpickling. Arbitrary objects will no longer be allowed to be loaded via this mode unless they are explicitly allowlisted by the user via `torch.serialization.add_safe_globals`. We recommend you start setting `weights_only=True` for any use case where you don't have full control of the loaded file. Please open an issue on GitHub for any issues related to this experimental feature.\n",
    "  self.model.load_state_dict(torch.load(self.early_stopping.best_model_path))\n",
    "```"
   ]
  },
  {
   "cell_type": "code",
   "execution_count": 6,
   "metadata": {},
   "outputs": [
    {
     "data": {
      "text/plain": [
       "10"
      ]
     },
     "execution_count": 6,
     "metadata": {},
     "output_type": "execute_result"
    }
   ],
   "source": [
    "len(trained_model.state_dict()['fc.weight'])"
   ]
  },
  {
   "cell_type": "code",
   "execution_count": 11,
   "metadata": {},
   "outputs": [
    {
     "data": {
      "text/plain": [
       "784"
      ]
     },
     "execution_count": 11,
     "metadata": {},
     "output_type": "execute_result"
    }
   ],
   "source": [
    "len(trained_model.state_dict()['fc.weight'][0])"
   ]
  },
  {
   "cell_type": "code",
   "execution_count": 5,
   "metadata": {},
   "outputs": [
    {
     "data": {
      "text/plain": [
       "tensor([ 0.0026, -0.1137,  0.0310, -0.0259,  0.0021, -0.0257,  0.0404, -0.0474,\n",
       "         0.0364, -0.0122], device='cuda:0')"
      ]
     },
     "execution_count": 5,
     "metadata": {},
     "output_type": "execute_result"
    }
   ],
   "source": [
    "trained_model.state_dict()['fc.bias']"
   ]
  },
  {
   "cell_type": "code",
   "execution_count": 20,
   "metadata": {},
   "outputs": [
    {
     "data": {
      "text/plain": [
       "tensor(0.0283, device='cuda:0')"
      ]
     },
     "execution_count": 20,
     "metadata": {},
     "output_type": "execute_result"
    }
   ],
   "source": [
    "max(trained_model.state_dict()['fc.weight'][0])"
   ]
  },
  {
   "cell_type": "code",
   "execution_count": 17,
   "metadata": {},
   "outputs": [
    {
     "data": {
      "text/plain": [
       "['T-shirt/top',\n",
       " 'Trouser',\n",
       " 'Pullover',\n",
       " 'Dress',\n",
       " 'Coat',\n",
       " 'Sandal',\n",
       " 'Shirt',\n",
       " 'Sneaker',\n",
       " 'Bag',\n",
       " 'Ankle boot']"
      ]
     },
     "execution_count": 17,
     "metadata": {},
     "output_type": "execute_result"
    }
   ],
   "source": [
    "trainset.classes"
   ]
  },
  {
   "cell_type": "code",
   "execution_count": null,
   "metadata": {},
   "outputs": [],
   "source": []
  },
  {
   "cell_type": "code",
   "execution_count": null,
   "metadata": {},
   "outputs": [],
   "source": []
  },
  {
   "cell_type": "code",
   "execution_count": null,
   "metadata": {},
   "outputs": [],
   "source": []
  },
  {
   "cell_type": "code",
   "execution_count": null,
   "metadata": {},
   "outputs": [],
   "source": []
  },
  {
   "cell_type": "code",
   "execution_count": null,
   "metadata": {},
   "outputs": [],
   "source": []
  },
  {
   "cell_type": "code",
   "execution_count": null,
   "metadata": {},
   "outputs": [],
   "source": []
  },
  {
   "cell_type": "code",
   "execution_count": null,
   "metadata": {},
   "outputs": [],
   "source": []
  },
  {
   "cell_type": "code",
   "execution_count": null,
   "metadata": {},
   "outputs": [],
   "source": []
  },
  {
   "cell_type": "code",
   "execution_count": null,
   "metadata": {},
   "outputs": [],
   "source": []
  },
  {
   "cell_type": "code",
   "execution_count": null,
   "metadata": {},
   "outputs": [],
   "source": []
  },
  {
   "cell_type": "code",
   "execution_count": null,
   "metadata": {},
   "outputs": [],
   "source": []
  },
  {
   "cell_type": "code",
   "execution_count": null,
   "metadata": {},
   "outputs": [],
   "source": []
  },
  {
   "cell_type": "code",
   "execution_count": null,
   "metadata": {},
   "outputs": [],
   "source": []
  },
  {
   "cell_type": "code",
   "execution_count": null,
   "metadata": {},
   "outputs": [],
   "source": []
  },
  {
   "cell_type": "code",
   "execution_count": null,
   "metadata": {},
   "outputs": [],
   "source": []
  },
  {
   "cell_type": "code",
   "execution_count": null,
   "metadata": {},
   "outputs": [],
   "source": []
  },
  {
   "cell_type": "code",
   "execution_count": null,
   "metadata": {},
   "outputs": [],
   "source": []
  },
  {
   "cell_type": "code",
   "execution_count": null,
   "metadata": {},
   "outputs": [],
   "source": []
  },
  {
   "cell_type": "code",
   "execution_count": null,
   "metadata": {},
   "outputs": [],
   "source": []
  },
  {
   "cell_type": "code",
   "execution_count": null,
   "metadata": {},
   "outputs": [],
   "source": []
  },
  {
   "cell_type": "code",
   "execution_count": null,
   "metadata": {},
   "outputs": [],
   "source": []
  },
  {
   "cell_type": "code",
   "execution_count": null,
   "metadata": {},
   "outputs": [],
   "source": []
  },
  {
   "cell_type": "code",
   "execution_count": null,
   "metadata": {},
   "outputs": [],
   "source": []
  },
  {
   "cell_type": "code",
   "execution_count": null,
   "metadata": {},
   "outputs": [],
   "source": []
  },
  {
   "cell_type": "code",
   "execution_count": null,
   "metadata": {},
   "outputs": [],
   "source": []
  },
  {
   "cell_type": "code",
   "execution_count": null,
   "metadata": {},
   "outputs": [],
   "source": []
  },
  {
   "cell_type": "code",
   "execution_count": null,
   "metadata": {},
   "outputs": [],
   "source": [
    "from torchvision import datasets, transforms\n",
    "import torch\n",
    "\n",
    "def calculate_mean_std(dataset):\n",
    "    \"\"\"Calculate mean and standard deviation of a dataset\"\"\"\n",
    "    mean = 0.0\n",
    "    std = 0.0\n",
    "    total_images = len(dataset)\n",
    "\n",
    "    for img, _ in dataset:\n",
    "        mean += img.mean()\n",
    "        std += img.std()\n",
    "\n",
    "    mean /= total_images\n",
    "    std /= total_images\n",
    "\n",
    "    return mean.item(), std.item()\n",
    "\n",
    "# Data augmentation and normalization transform\n",
    "transform = transforms.Compose([\n",
    "    transforms.RandomHorizontalFlip(p=0.5),\n",
    "    transforms.RandomRotation(degrees=10),\n",
    "    transforms.RandomAffine(degrees=0, translate=(0.1, 0.1)),\n",
    "    transforms.ToTensor(),\n",
    "    transforms.Normalize((0.5,), (0.5,))\n",
    "])\n",
    "\n",
    "# Load training and test datasets with augmentation and normalization\n",
    "trainset = datasets.FashionMNIST(root='./data/', train=True, download=True, transform=transform)\n",
    "valset = datasets.FashionMNIST(root='./data/', train=False, download=True, transform=transform)\n",
    "\n",
    "# if you prefer to compute the mean and std from the dataset:\n",
    "mean, std = calculate_mean_std(trainset)\n",
    "print(f'Before normalization: mean: {mean}, std: {std}')\n",
    "\n",
    "# updated normalization transform based on calculated mean and std\n",
    "transform = transforms.Compose([\n",
    "    transforms.RandomHorizontalFlip(p=0.5),\n",
    "    transforms.RandomRotation(degrees=10),\n",
    "    transforms.RandomAffine(degrees=0, translate=(0.1, 0.1)),\n",
    "    transforms.ToTensor(),\n",
    "    transforms.Normalize((mean,), (std,))\n",
    "])\n",
    "\n",
    "# reload datasets with updated normalization\n",
    "trainset = datasets.FashionMNIST(root='./data/', train=True, download=True, transform=transform)\n",
    "valset = datasets.FashionMNIST(root='./data/', train=False, download=True, transform=transform)\n",
    "\n",
    "# device configuration\n",
    "device = torch.device(\"cuda\" if torch.cuda.is_available() else \"cpu\")\n",
    "print(f'Using device: {device}')"
   ]
  },
  {
   "cell_type": "code",
   "execution_count": 15,
   "metadata": {},
   "outputs": [
    {
     "name": "stdout",
     "output_type": "stream",
     "text": [
      "\u001b[38;5;44m[epoch 01] train loss: 0.8352 | val loss: 0.5505 | accuracy: 79.04%\u001b[0m\n",
      "\u001b[38;5;40mValidation loss decreased (inf --> 0.5505). Saving model.\u001b[0m\n",
      "\u001b[38;5;44m[epoch 02] train loss: 0.5752 | val loss: 0.4629 | accuracy: 84.18%\u001b[0m\n",
      "\u001b[38;5;40mValidation loss decreased (0.5505 --> 0.4629). Saving model.\u001b[0m\n",
      "\u001b[38;5;44m[epoch 03] train loss: 0.5218 | val loss: 0.4283 | accuracy: 85.05%\u001b[0m\n",
      "\u001b[38;5;40mValidation loss decreased (0.4629 --> 0.4283). Saving model.\u001b[0m\n",
      "\u001b[38;5;44m[epoch 04] train loss: 0.4817 | val loss: 0.4077 | accuracy: 85.36%\u001b[0m\n",
      "\u001b[38;5;40mValidation loss decreased (0.4283 --> 0.4077). Saving model.\u001b[0m\n",
      "\u001b[38;5;44m[epoch 05] train loss: 0.4526 | val loss: 0.3589 | accuracy: 87.18%\u001b[0m\n",
      "\u001b[38;5;40mValidation loss decreased (0.4077 --> 0.3589). Saving model.\u001b[0m\n",
      "\u001b[38;5;44m[epoch 06] train loss: 0.4313 | val loss: 0.3553 | accuracy: 87.96%\u001b[0m\n",
      "\u001b[38;5;180mEarlyStopping counter: 1 out of 5\u001b[0m\n",
      "\u001b[38;5;44m[epoch 07] train loss: 0.4175 | val loss: 0.3439 | accuracy: 87.78%\u001b[0m\n",
      "\u001b[38;5;40mValidation loss decreased (0.3589 --> 0.3439). Saving model.\u001b[0m\n",
      "\u001b[38;5;44m[epoch 08] train loss: 0.4005 | val loss: 0.3179 | accuracy: 88.80%\u001b[0m\n",
      "\u001b[38;5;40mValidation loss decreased (0.3439 --> 0.3179). Saving model.\u001b[0m\n",
      "\u001b[38;5;44m[epoch 09] train loss: 0.3876 | val loss: 0.3034 | accuracy: 89.32%\u001b[0m\n",
      "\u001b[38;5;40mValidation loss decreased (0.3179 --> 0.3034). Saving model.\u001b[0m\n",
      "\u001b[38;5;44m[epoch 10] train loss: 0.3742 | val loss: 0.2753 | accuracy: 90.13%\u001b[0m\n",
      "\u001b[38;5;40mValidation loss decreased (0.3034 --> 0.2753). Saving model.\u001b[0m\n",
      "\u001b[38;5;44m[epoch 11] train loss: 0.3664 | val loss: 0.2715 | accuracy: 90.40%\u001b[0m\n",
      "\u001b[38;5;180mEarlyStopping counter: 1 out of 5\u001b[0m\n",
      "\u001b[38;5;44m[epoch 12] train loss: 0.3537 | val loss: 0.2698 | accuracy: 90.83%\u001b[0m\n",
      "\u001b[38;5;40mValidation loss decreased (0.2753 --> 0.2698). Saving model.\u001b[0m\n",
      "\u001b[38;5;44m[epoch 13] train loss: 0.3449 | val loss: 0.2607 | accuracy: 90.87%\u001b[0m\n",
      "\u001b[38;5;40mValidation loss decreased (0.2698 --> 0.2607). Saving model.\u001b[0m\n",
      "\u001b[38;5;44m[epoch 14] train loss: 0.3438 | val loss: 0.2604 | accuracy: 91.24%\u001b[0m\n",
      "\u001b[38;5;180mEarlyStopping counter: 1 out of 5\u001b[0m\n",
      "\u001b[38;5;44m[epoch 15] train loss: 0.3325 | val loss: 0.2508 | accuracy: 91.41%\u001b[0m\n",
      "\u001b[38;5;40mValidation loss decreased (0.2607 --> 0.2508). Saving model.\u001b[0m\n",
      "\u001b[38;5;44m[epoch 16] train loss: 0.3278 | val loss: 0.2511 | accuracy: 91.26%\u001b[0m\n",
      "\u001b[38;5;180mEarlyStopping counter: 1 out of 5\u001b[0m\n",
      "\u001b[38;5;44m[epoch 17] train loss: 0.3288 | val loss: 0.2499 | accuracy: 91.50%\u001b[0m\n",
      "\u001b[38;5;180mEarlyStopping counter: 2 out of 5\u001b[0m\n",
      "\u001b[38;5;44m[epoch 18] train loss: 0.3222 | val loss: 0.2425 | accuracy: 91.80%\u001b[0m\n",
      "\u001b[38;5;40mValidation loss decreased (0.2508 --> 0.2425). Saving model.\u001b[0m\n",
      "\u001b[38;5;44m[epoch 19] train loss: 0.3252 | val loss: 0.2477 | accuracy: 91.53%\u001b[0m\n",
      "\u001b[38;5;180mEarlyStopping counter: 1 out of 5\u001b[0m\n",
      "\u001b[38;5;44m[epoch 20] train loss: 0.3172 | val loss: 0.2484 | accuracy: 91.52%\u001b[0m\n",
      "\u001b[38;5;180mEarlyStopping counter: 2 out of 5\u001b[0m\n",
      "\u001b[38;5;44m[epoch 21] train loss: 0.3169 | val loss: 0.2470 | accuracy: 91.41%\u001b[0m\n",
      "\u001b[38;5;180mEarlyStopping counter: 3 out of 5\u001b[0m\n",
      "\u001b[38;5;44m[epoch 22] train loss: 0.3167 | val loss: 0.2433 | accuracy: 91.60%\u001b[0m\n",
      "\u001b[38;5;180mEarlyStopping counter: 4 out of 5\u001b[0m\n",
      "\u001b[38;5;44m[epoch 23] train loss: 0.3157 | val loss: 0.2379 | accuracy: 91.84%\u001b[0m\n",
      "\u001b[38;5;180mEarlyStopping counter: 5 out of 5\u001b[0m\n",
      "\u001b[38;5;196m🚨 early stopping triggered.\u001b[0m\n",
      "\n",
      "\u001b[38;5;180m=== Hyperparameters ===\u001b[0m\n",
      "batch_size: 128\n",
      "learning_rate: 0.5\n",
      "weight_decay: 0.01\n",
      "scheduler_step_size: 1\n",
      "scheduler_gamma: 0.8\n",
      "early_stopping_patience: 5\n",
      "early_stopping_delta: 0.005\n",
      "metrics: ['accuracy']\n",
      "optimizer: Adadelta\n",
      "scheduler: StepLR\n",
      "\u001b[38;5;180m=======================\u001b[0m\n",
      "\n",
      "\u001b[38;5;180m==== Model Summary ====\u001b[0m\n",
      "========================================================================================================================\n",
      "Layer (type (var_name))                  Output Shape     Param #          Kernel Shape     Mult-Adds        Trainable\n",
      "========================================================================================================================\n",
      "Net (Net)                                [128, 10]        --               --               --               True\n",
      "├─Conv2d (conv1)                         [128, 32, 28, 28] 320              [3, 3]           32,112,640       True\n",
      "├─ReLU (relu)                            [128, 32, 28, 28] --               --               --               --\n",
      "├─BatchNorm2d (bn1)                      [128, 32, 28, 28] 64               --               8,192            True\n",
      "├─Conv2d (conv2)                         [128, 64, 28, 28] 18,496           [3, 3]           1,856,110,592    True\n",
      "├─ReLU (relu)                            [128, 64, 28, 28] --               --               --               --\n",
      "├─BatchNorm2d (bn2)                      [128, 64, 28, 28] 128              --               16,384           True\n",
      "├─MaxPool2d (pool)                       [128, 64, 14, 14] --               2                --               --\n",
      "├─Conv2d (conv3)                         [128, 128, 14, 14] 73,856           [3, 3]           1,852,899,328    True\n",
      "├─ReLU (relu)                            [128, 128, 14, 14] --               --               --               --\n",
      "├─BatchNorm2d (bn3)                      [128, 128, 14, 14] 256              --               32,768           True\n",
      "├─MaxPool2d (pool)                       [128, 128, 7, 7] --               2                --               --\n",
      "├─Conv2d (conv4)                         [128, 256, 7, 7] 295,168          [3, 3]           1,851,293,696    True\n",
      "├─ReLU (relu)                            [128, 256, 7, 7] --               --               --               --\n",
      "├─BatchNorm2d (bn4)                      [128, 256, 7, 7] 512              --               65,536           True\n",
      "├─MaxPool2d (pool)                       [128, 256, 3, 3] --               2                --               --\n",
      "├─Dropout (dropout1)                     [128, 256, 3, 3] --               --               --               --\n",
      "├─Flatten (flatten)                      [128, 2304]      --               --               --               --\n",
      "├─ReLU (relu)                            [128, 2304]      --               --               --               --\n",
      "├─Linear (fc)                            [128, 32]        73,760           --               9,441,280        True\n",
      "├─Dropout (dropout2)                     [128, 32]        --               --               --               --\n",
      "├─ReLU (relu)                            [128, 32]        --               --               --               --\n",
      "├─Linear (fc2)                           [128, 16]        528              --               67,584           True\n",
      "├─Linear (fc3)                           [128, 10]        170              --               21,760           True\n",
      "========================================================================================================================\n",
      "Total params: 463,258\n",
      "Trainable params: 463,258\n",
      "Non-trainable params: 0\n",
      "Total mult-adds (G): 5.60\n",
      "========================================================================================================================\n",
      "Input size (MB): 0.40\n",
      "Forward/backward pass size (MB): 231.27\n",
      "Params size (MB): 1.85\n",
      "Estimated Total Size (MB): 233.52\n",
      "========================================================================================================================\n",
      "\u001b[38;5;180m========================================================================================================================\u001b[0m\n",
      "\n"
     ]
    },
    {
     "data": {
      "image/png": "[encoded data removed]",
      "text/plain": [
       "<Figure size 1500x600 with 2 Axes>"
      ]
     },
     "metadata": {},
     "output_type": "display_data"
    },
    {
     "name": "stderr",
     "output_type": "stream",
     "text": [
      "/home/gustaf/projects/deeplearning/utils/trainer.py:316: FutureWarning: You are using `torch.load` with `weights_only=False` (the current default value), which uses the default pickle module implicitly. It is possible to construct malicious pickle data which will execute arbitrary code during unpickling (See https://github.com/pytorch/pytorch/blob/main/SECURITY.md#untrusted-models for more details). In a future release, the default value for `weights_only` will be flipped to `True`. This limits the functions that could be executed during unpickling. Arbitrary objects will no longer be allowed to be loaded via this mode unless they are explicitly allowlisted by the user via `torch.serialization.add_safe_globals`. We recommend you start setting `weights_only=True` for any use case where you don't have full control of the loaded file. Please open an issue on GitHub for any issues related to this experimental feature.\n",
      "  self.model.load_state_dict(torch.load(self.early_stopping.best_model_path))\n"
     ]
    }
   ],
   "source": [
    "import torch\n",
    "import torch.nn as nn\n",
    "from torch.optim import Adadelta\n",
    "from torch.optim.lr_scheduler import StepLR\n",
    "import sys\n",
    "from pathlib import Path\n",
    "\n",
    "\n",
    "#utils_dir = Path('/home/goose/projects/deeplearning/utils')\n",
    "utils_dir = Path('/home/gustaf/projects/deeplearning/utils')\n",
    "sys.path.append(str(utils_dir))\n",
    "from metrics import precision, recall, f1_score\n",
    "from trainer import ModelTrainer\n",
    "\n",
    "\n",
    "# model\n",
    "class Net(nn.Module):\n",
    "    def __init__(self, input_size, output_size):\n",
    "        super().__init__()\n",
    "\n",
    "        # conv layers\n",
    "        self.conv1 = nn.Conv2d(in_channels=1, out_channels=32, kernel_size=3, stride=1, padding=1)\n",
    "        self.conv2 = nn.Conv2d(in_channels=32, out_channels=64, kernel_size=3, stride=1, padding=1)\n",
    "        self.conv3 = nn.Conv2d(in_channels=64, out_channels=128, kernel_size=3, stride=1, padding=1)\n",
    "        self.conv4 = nn.Conv2d(in_channels=128, out_channels=256, kernel_size=3, stride=1, padding=1)\n",
    "        self.pool = nn.MaxPool2d(kernel_size=2, stride=2)\n",
    "        self.bn1 = nn.BatchNorm2d(32)  # batch norm after first conv\n",
    "        self.bn2 = nn.BatchNorm2d(64)  # batch norm after second conv\n",
    "        self.bn3 = nn.BatchNorm2d(128)  # batch norm after third conv\n",
    "        self.bn4 = nn.BatchNorm2d(256)  # batch norm after fourth conv\n",
    "        # size calculation\n",
    "        # 28x28 → conv1: 28x28\n",
    "        # 28x28 → conv2: 28x28 → pool: 14x14\n",
    "        # 14x14 → conv3: 14x14 → pool: 7x7\n",
    "        # 7x7 → conv4: 7x7 → pool: 3x3\n",
    "        # 3x3 → flatten: 3 * 3 * 256 = 2304\n",
    "        flattened_size = 2304\n",
    "\n",
    "        # fully connected layers\n",
    "        self.flatten = nn.Flatten()\n",
    "        self.fc = nn.Linear(flattened_size, 32)\n",
    "        self.fc2 = nn.Linear(32, 16)\n",
    "        self.fc3 = nn.Linear(16, output_size)\n",
    "\n",
    "        self.relu = nn.ReLU()\n",
    "        self.dropout1 = nn.Dropout(0.5)\n",
    "        self.dropout2 = nn.Dropout(0.5)\n",
    "\n",
    "    def forward(self, x):\n",
    "        # conv1 + batch norm + pooling\n",
    "        x = self.bn1(self.relu(self.conv1(x)))\n",
    "        # conv2 + batch norm + pooling\n",
    "        x = self.pool(self.bn2(self.relu(self.conv2(x))))\n",
    "        # conv3 + batch norm + pooling\n",
    "        x = self.pool(self.bn3(self.relu(self.conv3(x))))\n",
    "        # conv4 + batch norm + pooling\n",
    "        x = self.pool(self.bn4(self.relu(self.conv4(x))))\n",
    "        x = self.dropout1(x)\n",
    "\n",
    "        # flatten and fully connected layer\n",
    "        x = self.flatten(x)\n",
    "        x = self.fc(self.relu(x))\n",
    "        x = self.dropout2(x)\n",
    "        x = self.fc2(self.relu(x))\n",
    "        x = self.fc3(x)\n",
    "\n",
    "        return x\n",
    "\n",
    "# initialize model\n",
    "model = Net(input_size=28*28, output_size=10)\n",
    "# initialize optimizer\n",
    "optimizer = Adadelta(model.parameters(), lr=0.5, weight_decay=0.01)\n",
    "# initialize scheduler\n",
    "scheduler = StepLR(optimizer, step_size=1, gamma=0.8)\n",
    "\n",
    "# initialize trainer\n",
    "trainer = ModelTrainer(\n",
    "    model=model,\n",
    "    device=device,\n",
    "    loss_fn=nn.CrossEntropyLoss(),\n",
    "    optimizer=optimizer,\n",
    "    scheduler=scheduler,\n",
    "    batch_size=128,\n",
    "    verbose=True,             # controls training progress logs\n",
    "    verbose_details=True,     # controls hyperparameters and model summary logs\n",
    "    enable_logging=True,      # controls overall logging\n",
    "    save_metrics=True,        # controls saving of metrics visualization\n",
    "    early_stopping_patience=5,\n",
    "    early_stopping_delta=0.005,\n",
    "    metrics=[ModelTrainer.accuracy]\n",
    ")\n",
    "\n",
    "# train model\n",
    "trained_model = trainer.train(\n",
    "    training_set=trainset,\n",
    "    val_set=valset,\n",
    "    num_epochs=100\n",
    ")"
   ]
  },
  {
   "cell_type": "code",
   "execution_count": 16,
   "metadata": {},
   "outputs": [
    {
     "name": "stdout",
     "output_type": "stream",
     "text": [
      "Before normalization: mean: -0.4443073868751526, std: 0.6403351426124573\n",
      "Using device: cuda\n"
     ]
    }
   ],
   "source": []
  },
  {
   "cell_type": "code",
   "execution_count": null,
   "metadata": {},
   "outputs": [],
   "source": []
  },
  {
   "cell_type": "code",
   "execution_count": 22,
   "metadata": {},
   "outputs": [
    {
     "data": {
      "text/plain": [
       "['T-shirt/top',\n",
       " 'Trouser',\n",
       " 'Pullover',\n",
       " 'Dress',\n",
       " 'Coat',\n",
       " 'Sandal',\n",
       " 'Shirt',\n",
       " 'Sneaker',\n",
       " 'Bag',\n",
       " 'Ankle boot']"
      ]
     },
     "execution_count": 22,
     "metadata": {},
     "output_type": "execute_result"
    }
   ],
   "source": [
    "trainset.classes"
   ]
  },
  {
   "cell_type": "markdown",
   "metadata": {},
   "source": [
    "[Epoch 01] Train Loss: 0.5536 | Val Loss: 0.4885 | accuracy: 82.74%\n",
    "Validation loss decreased (inf --> 0.4885). Saving model.\n",
    "[Epoch 02] Train Loss: 0.3883 | Val Loss: 0.3603 | accuracy: 87.10%\n",
    "Validation loss decreased (0.4885 --> 0.3603). Saving model.\n",
    "[Epoch 03] Train Loss: 0.3480 | Val Loss: 0.3309 | accuracy: 88.64%\n",
    "Validation loss decreased (0.3603 --> 0.3309). Saving model.\n",
    "[Epoch 04] Train Loss: 0.3232 | Val Loss: 0.2844 | accuracy: 89.93%\n",
    "Validation loss decreased (0.3309 --> 0.2844). Saving model.\n",
    "[Epoch 05] Train Loss: 0.2998 | Val Loss: 0.2813 | accuracy: 90.03%\n",
    "Validation loss decreased (0.2844 --> 0.2813). Saving model.\n",
    "[Epoch 06] Train Loss: 0.2811 | Val Loss: 0.2682 | accuracy: 90.62%\n",
    "Validation loss decreased (0.2813 --> 0.2682). Saving model.\n",
    "[Epoch 07] Train Loss: 0.2685 | Val Loss: 0.2374 | accuracy: 91.60%\n",
    "Validation loss decreased (0.2682 --> 0.2374). Saving model.\n",
    "[Epoch 08] Train Loss: 0.2505 | Val Loss: 0.2396 | accuracy: 91.74%\n",
    "EarlyStopping counter: 1 out of 5\n",
    "[Epoch 09] Train Loss: 0.2390 | Val Loss: 0.2382 | accuracy: 91.59%\n",
    "EarlyStopping counter: 2 out of 5\n",
    "[Epoch 10] Train Loss: 0.2270 | Val Loss: 0.2237 | accuracy: 92.24%\n",
    "Validation loss decreased (0.2374 --> 0.2237). Saving model.\n",
    "[Epoch 11] Train Loss: 0.2170 | Val Loss: 0.2178 | accuracy: 92.35%\n",
    "Validation loss decreased (0.2237 --> 0.2178). Saving model.\n",
    "[Epoch 12] Train Loss: 0.2095 | Val Loss: 0.2234 | accuracy: 92.25%\n",
    "EarlyStopping counter: 1 out of 5\n",
    "[Epoch 13] Train Loss: 0.2037 | Val Loss: 0.2138 | accuracy: 92.51%\n",
    "Validation loss decreased (0.2178 --> 0.2138). Saving model.\n",
    "[Epoch 14] Train Loss: 0.1934 | Val Loss: 0.2156 | accuracy: 92.52%\n",
    "EarlyStopping counter: 1 out of 5\n",
    "[Epoch 15] Train Loss: 0.1919 | Val Loss: 0.2135 | accuracy: 92.59%\n",
    "EarlyStopping counter: 2 out of 5\n",
    "[Epoch 16] Train Loss: 0.1866 | Val Loss: 0.2104 | accuracy: 92.84%\n",
    "Validation loss decreased (0.2138 --> 0.2104). Saving model.\n",
    "[Epoch 17] Train Loss: 0.1846 | Val Loss: 0.2105 | accuracy: 92.84%\n",
    "EarlyStopping counter: 1 out of 5\n",
    "[Epoch 18] Train Loss: 0.1803 | Val Loss: 0.2096 | accuracy: 92.83%\n",
    "EarlyStopping counter: 2 out of 5\n",
    "[Epoch 19] Train Loss: 0.1761 | Val Loss: 0.2101 | accuracy: 92.67%\n",
    "EarlyStopping counter: 3 out of 5\n",
    "[Epoch 20] Train Loss: 0.1737 | Val Loss: 0.2104 | accuracy: 92.74%\n",
    "EarlyStopping counter: 4 out of 5"
   ]
  },
  {
   "cell_type": "code",
   "execution_count": 3,
   "metadata": {},
   "outputs": [
    {
     "data": {
      "text/plain": [
       "['/usr/lib/python310.zip',\n",
       " '/usr/lib/python3.10',\n",
       " '/usr/lib/python3.10/lib-dynload',\n",
       " '',\n",
       " '/home/gustaf/projects/deeplearning/venv/lib/python3.10/site-packages',\n",
       " '/tmp/tmpib4pb75e',\n",
       " '/home/gustaf/projects/deeplearning/utils']"
      ]
     },
     "execution_count": 3,
     "metadata": {},
     "output_type": "execute_result"
    }
   ],
   "source": [
    "import sys\n",
    "sys.path"
   ]
  },
  {
   "cell_type": "code",
   "execution_count": null,
   "metadata": {},
   "outputs": [],
   "source": []
  },
  {
   "cell_type": "code",
   "execution_count": 4,
   "metadata": {},
   "outputs": [
    {
     "name": "stdout",
     "output_type": "stream",
     "text": [
      "<class 'float'>\n"
     ]
    }
   ],
   "source": [
    "print(type(1e-3))"
   ]
  },
  {
   "cell_type": "code",
   "execution_count": 5,
   "metadata": {},
   "outputs": [
    {
     "name": "stdout",
     "output_type": "stream",
     "text": [
      "<class 'float'>\n"
     ]
    }
   ],
   "source": [
    "print(type(0.001))"
   ]
  },
  {
   "cell_type": "code",
   "execution_count": null,
   "metadata": {},
   "outputs": [],
   "source": []
  },
  {
   "cell_type": "code",
   "execution_count": null,
   "metadata": {},
   "outputs": [],
   "source": []
  },
  {
   "cell_type": "code",
   "execution_count": null,
   "metadata": {},
   "outputs": [],
   "source": []
  },
  {
   "cell_type": "code",
   "execution_count": null,
   "metadata": {},
   "outputs": [],
   "source": []
  },
  {
   "cell_type": "code",
   "execution_count": null,
   "metadata": {},
   "outputs": [],
   "source": []
  },
  {
   "cell_type": "code",
   "execution_count": null,
   "metadata": {},
   "outputs": [],
   "source": []
  },
  {
   "cell_type": "code",
   "execution_count": null,
   "metadata": {},
   "outputs": [],
   "source": []
  },
  {
   "cell_type": "code",
   "execution_count": null,
   "metadata": {},
   "outputs": [],
   "source": []
  },
  {
   "cell_type": "code",
   "execution_count": null,
   "metadata": {},
   "outputs": [],
   "source": []
  },
  {
   "cell_type": "code",
   "execution_count": null,
   "metadata": {},
   "outputs": [],
   "source": []
  },
  {
   "cell_type": "code",
   "execution_count": null,
   "metadata": {},
   "outputs": [],
   "source": []
  }
 ],
 "metadata": {
  "kernelspec": {
   "display_name": "venv",
   "language": "python",
   "name": "python3"
  },
  "language_info": {
   "codemirror_mode": {
    "name": "ipython",
    "version": 3
   },
   "file_extension": ".py",
   "mimetype": "text/x-python",
   "name": "python",
   "nbconvert_exporter": "python",
   "pygments_lexer": "ipython3",
   "version": "3.10.12"
  }
 },
 "nbformat": 4,
 "nbformat_minor": 2
}
