{
 "cells": [
  {
   "cell_type": "code",
   "execution_count": 1,
   "metadata": {},
   "outputs": [],
   "source": [
    "import torch\n",
    "from torch import nn, optim\n",
    "from torch.utils.data import DataLoader\n",
    "from torchvision import datasets, transforms\n",
    "import numpy as np\n",
    "import matplotlib.pyplot as plt"
   ]
  },
  {
   "cell_type": "code",
   "execution_count": 2,
   "metadata": {},
   "outputs": [
    {
     "name": "stdout",
     "output_type": "stream",
     "text": [
      "Using device: cuda\n"
     ]
    }
   ],
   "source": [
    "device = torch.device('cuda' if torch.cuda.is_available() else 'cpu')\n",
    "print(f'Using device: {device}')"
   ]
  },
  {
   "cell_type": "code",
   "execution_count": 3,
   "metadata": {},
   "outputs": [],
   "source": [
    "# Define transformations\n",
    "transform = transforms.Compose([\n",
    "    transforms.ToTensor(),\n",
    "    transforms.Normalize((0.5,), (0.5,))  # Normalize to mean 0, std 1\n",
    "])\n",
    "\n",
    "# Load datasets\n",
    "training_set = datasets.FashionMNIST(root='./data', train=True, download=True, transform=transform)\n",
    "test_set = datasets.FashionMNIST(root='./data', train=False, download=True, transform=transform)\n",
    "\n",
    "# Create data loaders\n",
    "batch_size = 32\n",
    "train_dataloader = DataLoader(training_set, batch_size=batch_size, shuffle=True)\n",
    "test_dataloader = DataLoader(test_set, batch_size=batch_size, shuffle=False)"
   ]
  },
  {
   "cell_type": "code",
   "execution_count": 4,
   "metadata": {},
   "outputs": [],
   "source": [
    "class CNN(nn.Module):\n",
    "    def __init__(self):\n",
    "        super().__init__()\n",
    "        \n",
    "        self.conv1 = nn.Conv2d(in_channels=1, out_channels=32, kernel_size=(3,3), padding='same')  \n",
    "        self.pool = nn.MaxPool2d(2, 2)                                    \n",
    "        self.conv2 = nn.Conv2d(in_channels=32, out_channels=64, kernel_size=(3,3), padding='same') \n",
    "        self.fc1 = nn.Linear(64 * 7 * 7, 128) \n",
    "        self.fc2 = nn.Linear(128, 10)\n",
    "        self.flatten = nn.Flatten()                                     \n",
    "        self.relu = nn.ReLU()\n",
    "        self.dropout = nn.Dropout(0.25)\n",
    "        \n",
    "    def forward(self, x):\n",
    "        x = self.relu(self.conv1(x))        # Output: 32 x 28 x 28\n",
    "        x = self.pool(x)                    # Output: 32 x 14 x 14\n",
    "        x = self.relu(self.conv2(x))        # Output: 64 x 14 x 14\n",
    "        x = self.pool(x)                    # Output: 64 x 7 x 7\n",
    "        x = self.flatten(x)                 # Output: 64 * 7 * 7 = 3136\n",
    "        x = self.relu(self.fc1(x))          # Fully connected layer\n",
    "        x = self.dropout(x)\n",
    "        x = self.fc2(x)                     # notera att vi faktiskt EJ behöver explicit ange softmax aktivering här på output layer\n",
    "                                            # anledningen är att vi i nästa skede använder CrossEntropyLoss, och den har faktiskt\n",
    "                                            # softmax-aktivering inbakad i sig. Med andra ord sköter CrossEntropyLoss den sista aktiveringen åt oss.\n",
    "                                                                                  \n",
    "        return x"
   ]
  },
  {
   "cell_type": "code",
   "execution_count": 5,
   "metadata": {},
   "outputs": [
    {
     "name": "stdout",
     "output_type": "stream",
     "text": [
      "CNN(\n",
      "  (conv1): Conv2d(1, 32, kernel_size=(3, 3), stride=(1, 1), padding=same)\n",
      "  (pool): MaxPool2d(kernel_size=2, stride=2, padding=0, dilation=1, ceil_mode=False)\n",
      "  (conv2): Conv2d(32, 64, kernel_size=(3, 3), stride=(1, 1), padding=same)\n",
      "  (fc1): Linear(in_features=3136, out_features=128, bias=True)\n",
      "  (fc2): Linear(in_features=128, out_features=10, bias=True)\n",
      "  (flatten): Flatten(start_dim=1, end_dim=-1)\n",
      "  (relu): ReLU()\n",
      "  (dropout): Dropout(p=0.25, inplace=False)\n",
      ")\n"
     ]
    }
   ],
   "source": [
    "model = CNN()\n",
    "model = model.to(device)  # Move to device\n",
    "print(model)"
   ]
  },
  {
   "cell_type": "code",
   "execution_count": 8,
   "metadata": {},
   "outputs": [
    {
     "name": "stdout",
     "output_type": "stream",
     "text": [
      "Epoch 1/20\n",
      "Training loss: 0.9569436228116354\n",
      "Test loss: 0.7264898419380188\n",
      "Test accuracy: 0.6875\n",
      "Epoch 2/20\n",
      "Training loss: 0.5538366629044215\n",
      "Test loss: 0.6969060301780701\n",
      "Test accuracy: 0.75\n",
      "Epoch 3/20\n",
      "Training loss: 0.4808888833363851\n",
      "Test loss: 0.618181586265564\n",
      "Test accuracy: 0.75\n",
      "Epoch 4/20\n",
      "Training loss: 0.43196091460784275\n",
      "Test loss: 0.6137287020683289\n",
      "Test accuracy: 0.8125\n",
      "Epoch 5/20\n",
      "Training loss: 0.40052023122310637\n",
      "Test loss: 0.5409078598022461\n",
      "Test accuracy: 0.8125\n",
      "Epoch 6/20\n",
      "Training loss: 0.37965179783900577\n",
      "Test loss: 0.5025057196617126\n",
      "Test accuracy: 0.84375\n",
      "Epoch 7/20\n",
      "Training loss: 0.36158987686634064\n",
      "Test loss: 0.41810545325279236\n",
      "Test accuracy: 0.84375\n",
      "Epoch 8/20\n",
      "Training loss: 0.34773337080478667\n",
      "Test loss: 0.4211844503879547\n",
      "Test accuracy: 0.875\n",
      "Epoch 9/20\n",
      "Training loss: 0.3362395722905795\n",
      "Test loss: 0.404610812664032\n",
      "Test accuracy: 0.84375\n",
      "Epoch 10/20\n",
      "Training loss: 0.3246548675239086\n",
      "Test loss: 0.3453409671783447\n",
      "Test accuracy: 0.84375\n",
      "Epoch 11/20\n",
      "Training loss: 0.31525990902582807\n",
      "Test loss: 0.36594805121421814\n",
      "Test accuracy: 0.9375\n",
      "Epoch 12/20\n",
      "Training loss: 0.30687738652229307\n",
      "Test loss: 0.3839399814605713\n",
      "Test accuracy: 0.875\n",
      "Epoch 13/20\n",
      "Training loss: 0.29928290172815325\n",
      "Test loss: 0.374135285615921\n",
      "Test accuracy: 0.875\n",
      "Epoch 14/20\n",
      "Training loss: 0.2926697659512361\n",
      "Test loss: 0.3354773223400116\n",
      "Test accuracy: 0.84375\n",
      "Epoch 15/20\n",
      "Training loss: 0.28545204893946646\n",
      "Test loss: 0.31063467264175415\n",
      "Test accuracy: 0.9375\n",
      "Epoch 16/20\n",
      "Training loss: 0.2798497939000527\n",
      "Test loss: 0.3909563422203064\n",
      "Test accuracy: 0.90625\n",
      "Epoch 17/20\n",
      "Training loss: 0.27560702047348024\n",
      "Test loss: 0.3182279169559479\n",
      "Test accuracy: 0.90625\n",
      "Epoch 18/20\n",
      "Training loss: 0.26972775274713834\n",
      "Test loss: 0.3202139437198639\n",
      "Test accuracy: 0.90625\n",
      "Epoch 19/20\n",
      "Training loss: 0.2641216970026493\n",
      "Test loss: 0.3217497169971466\n",
      "Test accuracy: 0.9375\n",
      "Epoch 20/20\n",
      "Training loss: 0.2598046321014563\n",
      "Test loss: 0.3451593518257141\n",
      "Test accuracy: 0.90625\n"
     ]
    }
   ],
   "source": [
    "EPOCHS = 20\n",
    "LEARNING_RATE = 0.005\n",
    "\n",
    "\n",
    "model = CNN()\n",
    "model = model.to(device)\n",
    "\n",
    "optimizer = optim.SGD(model.parameters(), lr=LEARNING_RATE)\n",
    "loss_function = nn.CrossEntropyLoss()\n",
    "\n",
    "# ----------------------------------------------------------------------------\n",
    "\n",
    "batch_train_losses = []\n",
    "epoch_train_losses = []\n",
    "epoch_test_losses = []\n",
    "epoch_test_accuracies = []\n",
    "\n",
    "for epoch in range(EPOCHS):\n",
    "    print(f\"Epoch {epoch+1}/{EPOCHS}\")\n",
    "    \n",
    "    model.train()  # Set model to training mode\n",
    "\n",
    "    \n",
    "    for batch in train_dataloader:\n",
    "        input_features, y_true = batch\n",
    "        input_features, y_true = input_features.to(device), y_true.to(device)\n",
    "        \n",
    "        y_pred = model(input_features)  \n",
    "        loss = loss_function(y_pred, y_true)  \n",
    "        loss.backward()  \n",
    "        optimizer.step()  \n",
    "        optimizer.zero_grad()  \n",
    "        \n",
    "        batch_loss = loss.item()\n",
    "        batch_train_losses.append(batch_loss)\n",
    "    \n",
    "    \n",
    "    epoch_average_loss = np.average(batch_train_losses[-len(train_dataloader):])\n",
    "    epoch_train_losses.append(epoch_average_loss)\n",
    "    print(f\"Training loss: {epoch_average_loss}\")\n",
    "    \n",
    "    # ----------------------------------------\n",
    "    # Evaluation section\n",
    "    # ----------------------------------------\n",
    "    \n",
    "    model.eval()  # Set model to evaluation mode\n",
    "\n",
    "    with torch.no_grad(): \n",
    "      \n",
    "        x_test, y_test = next(iter(test_dataloader))\n",
    "        x_test, y_test = x_test.to(device), y_test.to(device)\n",
    "        \n",
    "        y_pred = model(x_test)\n",
    "        test_loss = loss_function(y_pred, y_test).item()\n",
    "        epoch_test_losses.append(test_loss)\n",
    "        print(f\"Test loss: {test_loss}\")\n",
    "        \n",
    "        # Evaluation accuracy\n",
    "        _, predicted_class = torch.max(y_pred, dim=1)\n",
    "        accuracy = (predicted_class == y_test).float().mean().item()\n",
    "        epoch_test_accuracies.append(accuracy)\n",
    "        print(f\"Test accuracy: {accuracy}\")"
   ]
  },
  {
   "cell_type": "code",
   "execution_count": 9,
   "metadata": {},
   "outputs": [
    {
     "data": {
      "image/png": "[encoded data removed]",
      "text/plain": [
       "<Figure size 1200x500 with 1 Axes>"
      ]
     },
     "metadata": {},
     "output_type": "display_data"
    },
    {
     "data": {
      "image/png": "[encoded data removed]",
      "text/plain": [
       "<Figure size 1200x500 with 1 Axes>"
      ]
     },
     "metadata": {},
     "output_type": "display_data"
    }
   ],
   "source": [
    "# Plot loss curves\n",
    "plt.figure(figsize=(12, 5))\n",
    "plt.plot(epoch_train_losses[:-2], label='Train Loss')\n",
    "plt.plot(epoch_test_losses[:-2], label='Test Loss', color='orange')\n",
    "plt.xlabel('Epoch')\n",
    "plt.ylabel('Loss')\n",
    "plt.legend()\n",
    "plt.title('Loss over Epochs')\n",
    "plt.show()\n",
    "\n",
    "# Plot test accuracies\n",
    "plt.figure(figsize=(12, 5))\n",
    "plt.plot(epoch_test_accuracies[:-2], label='Test Accuracy', color='green')\n",
    "plt.xlabel('Epoch')\n",
    "plt.ylabel('Accuracy')\n",
    "plt.legend()\n",
    "plt.title('Accuracy over Epochs')\n",
    "plt.show()"
   ]
  },
  {
   "cell_type": "markdown",
   "metadata": {},
   "source": [
    "---\n",
    "\n",
    "## Uppgifter"
   ]
  },
  {
   "cell_type": "markdown",
   "metadata": {},
   "source": [
    "**1)**\n",
    "\n",
    "Kolla CNN-modellen vi definierade. Förstår du input och output size i varje lager?\n"
   ]
  },
  {
   "cell_type": "markdown",
   "metadata": {},
   "source": [
    "**2)**\n",
    "\n",
    "Träna nätverket med loopen ovan.\n",
    "\n",
    "Det är ett relativt litet nätverk, särskilt fully conntected delen, om man jämför med vad vi använde när vi tränade på detta dataset förra lektionen.\n",
    "Är det lätt att få bättre prestanda nu jämfört med när vi använde exklusivt fully connected layers, trots att vi har en relativt litet CNN?"
   ]
  },
  {
   "cell_type": "markdown",
   "metadata": {},
   "source": [
    "**3)**\n",
    "\n",
    "Hur många parametrar har nätverket totalt? Hur många per lager?"
   ]
  },
  {
   "cell_type": "markdown",
   "metadata": {},
   "source": [
    "**4)**\n",
    "\n",
    "Experimentera själv med att ändra i arkitekturen och träna om! Kan du nå bättre resultat på test-settet?\n",
    "\n",
    "Tips: Kan också vara en bra idé att implementera confusion matrix här för att evaluera prestanda per klass också, snarare än bara se till total accuracy.\n",
    "\n"
   ]
  },
  {
   "cell_type": "markdown",
   "metadata": {},
   "source": []
  },
  {
   "cell_type": "code",
   "execution_count": null,
   "metadata": {},
   "outputs": [],
   "source": []
  },
  {
   "cell_type": "code",
   "execution_count": null,
   "metadata": {},
   "outputs": [],
   "source": []
  },
  {
   "cell_type": "code",
   "execution_count": null,
   "metadata": {},
   "outputs": [],
   "source": []
  },
  {
   "cell_type": "code",
   "execution_count": null,
   "metadata": {},
   "outputs": [],
   "source": []
  },
  {
   "cell_type": "code",
   "execution_count": null,
   "metadata": {},
   "outputs": [],
   "source": []
  },
  {
   "cell_type": "code",
   "execution_count": null,
   "metadata": {},
   "outputs": [],
   "source": []
  },
  {
   "cell_type": "code",
   "execution_count": null,
   "metadata": {},
   "outputs": [],
   "source": []
  },
  {
   "cell_type": "code",
   "execution_count": null,
   "metadata": {},
   "outputs": [],
   "source": []
  },
  {
   "cell_type": "code",
   "execution_count": 10,
   "metadata": {},
   "outputs": [
    {
     "name": "stdout",
     "output_type": "stream",
     "text": [
      "CNN(\n",
      "  (conv1): Conv2d(1, 32, kernel_size=(3, 3), stride=(1, 1), padding=same)\n",
      "  (pool): MaxPool2d(kernel_size=2, stride=2, padding=0, dilation=1, ceil_mode=False)\n",
      "  (conv2): Conv2d(32, 64, kernel_size=(3, 3), stride=(1, 1), padding=same)\n",
      "  (fc1): Linear(in_features=3136, out_features=128, bias=True)\n",
      "  (fc2): Linear(in_features=128, out_features=10, bias=True)\n",
      "  (flatten): Flatten(start_dim=1, end_dim=-1)\n",
      "  (relu): ReLU()\n",
      "  (dropout): Dropout(p=0.25, inplace=False)\n",
      ")\n"
     ]
    }
   ],
   "source": [
    "class CNN(nn.Module):\n",
    "    def __init__(self):\n",
    "        super().__init__()\n",
    "        \n",
    "        self.conv1 = nn.Conv2d(in_channels=1, out_channels=32, kernel_size=(3,3), padding='same')  \n",
    "        self.pool = nn.MaxPool2d(2, 2)                                    \n",
    "        self.conv2 = nn.Conv2d(in_channels=32, out_channels=64, kernel_size=(3,3), padding='same') \n",
    "        self.fc1 = nn.Linear(64 * 7 * 7, 128) \n",
    "        self.fc2 = nn.Linear(128, 10)\n",
    "        self.flatten = nn.Flatten()                                     \n",
    "        self.relu = nn.ReLU()\n",
    "        self.dropout = nn.Dropout(0.25)\n",
    "        \n",
    "    def forward(self, x):\n",
    "        x = self.relu(self.conv1(x))        # Output: 32 x 28 x 28\n",
    "        x = self.pool(x)                    # Output: 32 x 14 x 14\n",
    "        x = self.relu(self.conv2(x))        # Output: 64 x 14 x 14\n",
    "        x = self.pool(x)                    # Output: 64 x 7 x 7\n",
    "        x = self.flatten(x)                 # Output: 64 * 7 * 7 = 3136\n",
    "        x = self.relu(self.fc1(x))          # Fully connected layer\n",
    "        x = self.dropout(x)\n",
    "        x = self.fc2(x)                     # notera att vi faktiskt EJ behöver explicit ange softmax aktivering här på output layer\n",
    "                                            # anledningen är att vi i nästa skede använder CrossEntropyLoss, och den har faktiskt\n",
    "                                            # softmax-aktivering inbakad i sig. Med andra ord sköter CrossEntropyLoss den sista aktiveringen åt oss.\n",
    "                                                                                  \n",
    "        return x\n",
    "    \n",
    "model = CNN()\n",
    "model = model.to(device)  # Move to device\n",
    "print(model)"
   ]
  },
  {
   "cell_type": "code",
   "execution_count": 13,
   "metadata": {},
   "outputs": [],
   "source": [
    "# model\n",
    "class Net(nn.Module):\n",
    "    def __init__(self):\n",
    "        super().__init__()\n",
    "        \n",
    "        input_size = 28 * 28\n",
    "        output_size = 10\n",
    "        # fully connected layers\n",
    "        self.flatten = nn.Flatten()\n",
    "        self.fc = nn.Linear(input_size, output_size)\n",
    "\n",
    "        self.relu = nn.ReLU()\n",
    "        self.dropout = nn.Dropout(0.9)\n",
    "\n",
    "    def forward(self, x):\n",
    "        # flatten and fully connected layer\n",
    "        x = self.flatten(x)\n",
    "        x = self.dropout(x)\n",
    "        x = self.fc(x)\n",
    "\n",
    "        return x"
   ]
  },
  {
   "cell_type": "code",
   "execution_count": 15,
   "metadata": {},
   "outputs": [
    {
     "name": "stdout",
     "output_type": "stream",
     "text": [
      "Epoch 1/5\n",
      "Training loss: 1.0650003990650176\n",
      "Test loss: 0.7468545436859131\n",
      "Test accuracy: 0.6875\n",
      "Epoch 2/5\n",
      "Training loss: 0.9354898390611013\n",
      "Test loss: 0.7103926539421082\n",
      "Test accuracy: 0.6875\n",
      "Epoch 3/5\n",
      "Training loss: 0.9216649452209472\n",
      "Test loss: 0.7615861892700195\n",
      "Test accuracy: 0.6875\n",
      "Epoch 4/5\n",
      "Training loss: 0.9213954114119212\n",
      "Test loss: 0.724400520324707\n",
      "Test accuracy: 0.6875\n",
      "Epoch 5/5\n",
      "Training loss: 0.9235182993253072\n",
      "Test loss: 0.7813350558280945\n",
      "Test accuracy: 0.71875\n"
     ]
    }
   ],
   "source": [
    "EPOCHS = 5\n",
    "LEARNING_RATE = 0.005\n",
    "\n",
    "\n",
    "model = Net()\n",
    "model = model.to(device)\n",
    "\n",
    "optimizer = optim.SGD(model.parameters(), lr=LEARNING_RATE)\n",
    "loss_function = nn.CrossEntropyLoss()\n",
    "\n",
    "# ----------------------------------------------------------------------------\n",
    "\n",
    "batch_train_losses = []\n",
    "epoch_train_losses = []\n",
    "epoch_test_losses = []\n",
    "epoch_test_accuracies = []\n",
    "\n",
    "for epoch in range(EPOCHS):\n",
    "    print(f\"Epoch {epoch+1}/{EPOCHS}\")\n",
    "    \n",
    "    model.train()  # Set model to training mode\n",
    "\n",
    "    \n",
    "    for batch in train_dataloader:\n",
    "        input_features, y_true = batch\n",
    "        input_features, y_true = input_features.to(device), y_true.to(device)\n",
    "        \n",
    "        y_pred = model(input_features)  \n",
    "        loss = loss_function(y_pred, y_true)  \n",
    "        loss.backward()  \n",
    "        optimizer.step()  \n",
    "        optimizer.zero_grad()  \n",
    "        \n",
    "        batch_loss = loss.item()\n",
    "        batch_train_losses.append(batch_loss)\n",
    "    \n",
    "    \n",
    "    epoch_average_loss = np.average(batch_train_losses[-len(train_dataloader):])\n",
    "    epoch_train_losses.append(epoch_average_loss)\n",
    "    print(f\"Training loss: {epoch_average_loss}\")\n",
    "    \n",
    "    # ----------------------------------------\n",
    "    # Evaluation section\n",
    "    # ----------------------------------------\n",
    "    \n",
    "    model.eval()  # Set model to evaluation mode\n",
    "\n",
    "    with torch.no_grad(): \n",
    "      \n",
    "        x_test, y_test = next(iter(test_dataloader))\n",
    "        x_test, y_test = x_test.to(device), y_test.to(device)\n",
    "        \n",
    "        y_pred = model(x_test)\n",
    "        test_loss = loss_function(y_pred, y_test).item()\n",
    "        epoch_test_losses.append(test_loss)\n",
    "        print(f\"Test loss: {test_loss}\")\n",
    "        \n",
    "        # Evaluation accuracy\n",
    "        _, predicted_class = torch.max(y_pred, dim=1)\n",
    "        accuracy = (predicted_class == y_test).float().mean().item()\n",
    "        epoch_test_accuracies.append(accuracy)\n",
    "        print(f\"Test accuracy: {accuracy}\")"
   ]
  },
  {
   "cell_type": "code",
   "execution_count": null,
   "metadata": {},
   "outputs": [],
   "source": [
    "# Plot loss curves\n",
    "plt.figure(figsize=(12, 5))\n",
    "plt.plot(epoch_train_losses[:-2], label='Train Loss')\n",
    "plt.plot(epoch_test_losses[:-2], label='Test Loss', color='orange')\n",
    "plt.xlabel('Epoch')\n",
    "plt.ylabel('Loss')\n",
    "plt.legend()\n",
    "plt.title('Loss over Epochs')\n",
    "plt.show()\n",
    "\n",
    "# Plot test accuracies\n",
    "plt.figure(figsize=(12, 5))\n",
    "plt.plot(epoch_test_accuracies[:-2], label='Test Accuracy', color='green')\n",
    "plt.xlabel('Epoch')\n",
    "plt.ylabel('Accuracy')\n",
    "plt.legend()\n",
    "plt.title('Accuracy over Epochs')\n",
    "plt.show()"
   ]
  },
  {
   "cell_type": "code",
   "execution_count": null,
   "metadata": {},
   "outputs": [],
   "source": []
  },
  {
   "cell_type": "code",
   "execution_count": null,
   "metadata": {},
   "outputs": [],
   "source": []
  }
 ],
 "metadata": {
  "kernelspec": {
   "display_name": "hf2",
   "language": "python",
   "name": "python3"
  },
  "language_info": {
   "codemirror_mode": {
    "name": "ipython",
    "version": 3
   },
   "file_extension": ".py",
   "mimetype": "text/x-python",
   "name": "python",
   "nbconvert_exporter": "python",
   "pygments_lexer": "ipython3",
   "version": "3.10.12"
  }
 },
 "nbformat": 4,
 "nbformat_minor": 2
}
