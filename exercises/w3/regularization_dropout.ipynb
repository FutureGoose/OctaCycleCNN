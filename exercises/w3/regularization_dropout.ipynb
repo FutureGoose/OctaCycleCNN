{
 "cells": [
  {
   "cell_type": "markdown",
   "metadata": {},
   "source": [
    "# Regularization & Dropout"
   ]
  },
  {
   "cell_type": "markdown",
   "metadata": {},
   "source": [
    "dropout_layer = nn.Dropout(p=0.2)   \n",
    "input = torch.randn(1,10)   \n",
    "output = dropout_layer(input)   \n",
    " \n",
    " \n",
    "1) Vad tror du koden gör? \n",
    "    - Instantierar en dropout-layer med en dropout-sannolikhet på 0.2.\n",
    "    - Skapar en input tensor med slumpmässiga värden.\n",
    "    - Använder dropout-layern för att slumpmässigt sätta vissa värden till 0.\n",
    " \n",
    "2) Vad får du för output om du kör koden ett par gånger? Does it make sense?"
   ]
  },
  {
   "cell_type": "code",
   "execution_count": 7,
   "metadata": {},
   "outputs": [
    {
     "name": "stdout",
     "output_type": "stream",
     "text": [
      "tensor([[-0.4683,  0.0000, -0.0930, -0.3898,  0.0000,  1.4398,  0.2452, -0.1876,\n",
      "          1.3543,  0.0000]])\n",
      "\n"
     ]
    }
   ],
   "source": [
    "import torch.nn as nn\n",
    "import torch\n",
    "\n",
    "def dropout_layer(p):   \n",
    "    dropout_layer = nn.Dropout(p=p)   \n",
    "    input = torch.randn(1,10)   \n",
    "    output = dropout_layer(input)\n",
    "    print(output)\n",
    "    print()\n",
    "\n",
    "dropout_layer(0.2)\n"
   ]
  },
  {
   "cell_type": "code",
   "execution_count": 9,
   "metadata": {},
   "outputs": [
    {
     "name": "stdout",
     "output_type": "stream",
     "text": [
      "tensor([[-0.0982, -1.1914,  0.1600, -1.4243, -0.0000, -1.0856,  0.4940, -1.3026,\n",
      "         -0.2855, -1.4615]])\n",
      "\n",
      "tensor([[-0.5208,  1.5293,  0.0000,  0.0000, -0.0744,  0.0000, -0.6586,  0.0000,\n",
      "         -0.1313, -0.9790]])\n",
      "\n",
      "tensor([[ 1.3673,  3.0584, -0.1385, -0.0000,  0.4944,  2.2025,  0.0121,  0.5890,\n",
      "         -0.8027, -0.3626]])\n",
      "\n"
     ]
    }
   ],
   "source": [
    "for i in range(3):\n",
    "    dropout_layer(0.2)"
   ]
  },
  {
   "cell_type": "markdown",
   "metadata": {},
   "source": [
    "3) Anta att vi ändrar batch_size till 3. Hur ändrar vi i koden ovan? \n",
    " \n",
    "4) Ändra batch_size till 3, och kör koden ett par gånger. Vad får du för output? Does it \n",
    "make sense? "
   ]
  },
  {
   "cell_type": "code",
   "execution_count": 10,
   "metadata": {},
   "outputs": [
    {
     "name": "stdout",
     "output_type": "stream",
     "text": [
      "tensor([[ 0.0000e+00, -8.3208e-02, -2.4334e-01, -3.1955e-01, -1.0970e+00,\n",
      "          2.5186e+00, -7.0810e-01,  1.2329e-01,  1.6666e+00, -1.3047e+00],\n",
      "        [-1.7077e-01,  1.0022e+00,  1.1543e+00,  8.8854e-04, -1.6718e+00,\n",
      "          2.0395e+00, -3.8314e-01, -0.0000e+00, -0.0000e+00, -1.3076e+00],\n",
      "        [ 1.7936e+00, -5.2125e-01, -1.8403e+00, -0.0000e+00, -0.0000e+00,\n",
      "         -4.4352e-01, -0.0000e+00, -1.8251e+00,  3.1619e-01, -0.0000e+00]])\n",
      "\n",
      "tensor([[-1.0987, -0.0000,  0.5303, -0.0000, -0.3355, -1.2541,  2.6457, -1.4698,\n",
      "         -0.0000,  0.3010],\n",
      "        [ 0.2814, -1.0495, -0.2086,  0.0000,  0.0000,  0.9369, -0.0000,  0.5031,\n",
      "         -0.1209, -1.2793],\n",
      "        [ 2.3910, -0.6372, -0.7304,  1.0292,  0.0000,  0.0000, -0.0000,  0.6349,\n",
      "          0.8173, -0.0000]])\n",
      "\n",
      "tensor([[-0.9152,  1.3163, -0.4748, -0.9594,  0.0000, -0.5086,  0.0000,  0.0000,\n",
      "          2.2922,  0.0000],\n",
      "        [-1.2689, -1.7809,  0.2919, -0.8319,  0.4700,  0.0626, -0.0000,  2.0722,\n",
      "          0.3753,  0.9772],\n",
      "        [ 0.0000, -0.4435,  0.9667, -1.9867,  0.0777, -0.0609, -1.5911,  1.9083,\n",
      "          0.1148, -1.5007]])\n",
      "\n"
     ]
    }
   ],
   "source": [
    "# Anta att vi ändrar batch_size till 3. Hur ändrar vi i koden ovan? \n",
    "\n",
    "def dropout_layer(p):   \n",
    "    dropout_layer = nn.Dropout(p=p)   \n",
    "    input = torch.randn(3,10)    \n",
    "    output = dropout_layer(input)\n",
    "    print(output)\n",
    "    print()\n",
    "\n",
    "for i in range(3):\n",
    "    dropout_layer(0.2)"
   ]
  },
  {
   "cell_type": "code",
   "execution_count": null,
   "metadata": {},
   "outputs": [],
   "source": []
  }
 ],
 "metadata": {
  "kernelspec": {
   "display_name": "venv",
   "language": "python",
   "name": "python3"
  },
  "language_info": {
   "codemirror_mode": {
    "name": "ipython",
    "version": 3
   },
   "file_extension": ".py",
   "mimetype": "text/x-python",
   "name": "python",
   "nbconvert_exporter": "python",
   "pygments_lexer": "ipython3",
   "version": "3.10.12"
  }
 },
 "nbformat": 4,
 "nbformat_minor": 2
}
