{
 "cells": [
  {
   "cell_type": "code",
   "execution_count": 2,
   "id": "fc1fc1f6",
   "metadata": {},
   "outputs": [],
   "source": [
    "import numpy as np\n",
    "import pandas as pd\n",
    "\n",
    "import torch\n",
    "import torch.nn as nn\n",
    "import torch.nn.functional as F\n",
    "\n",
    "from torch.optim import SGD\n",
    "from torch.utils.data import DataLoader\n",
    "\n",
    "from sklearn.datasets import make_blobs\n",
    "from matplotlib import pyplot as plt\n",
    "\n",
    "import warnings \n",
    "\n",
    "warnings.filterwarnings('ignore')"
   ]
  },
  {
   "cell_type": "markdown",
   "id": "571e1973",
   "metadata": {},
   "source": [
    "<br/> "
   ]
  },
  {
   "cell_type": "markdown",
   "id": "131cc8ba",
   "metadata": {},
   "source": [
    "## Överblick\n",
    "\n",
    "**Nu ska vi träna Neurala Nätverk och få lite praktiskt erfarenhet av Hyperparameters**\n",
    "\n",
    "Vi kommer bygga och träna Neurala Nätverk för att lösa regressionsproblem."
   ]
  },
  {
   "cell_type": "markdown",
   "id": "d8ac78d1",
   "metadata": {},
   "source": [
    "**GRAFIKKORTSACCELERATION**"
   ]
  },
  {
   "cell_type": "markdown",
   "id": "d67d8997",
   "metadata": {},
   "source": [
    "Kolla om GPU-acceleration är tillgänligt"
   ]
  },
  {
   "cell_type": "code",
   "execution_count": 3,
   "id": "4bd6a544",
   "metadata": {},
   "outputs": [
    {
     "name": "stdout",
     "output_type": "stream",
     "text": [
      "Available device: cuda\n"
     ]
    }
   ],
   "source": [
    "device = torch.device(\"cuda\" if torch.cuda.is_available() else \"cpu\")\n",
    "\n",
    "print(f\"Available device: {device}\")"
   ]
  },
  {
   "cell_type": "markdown",
   "id": "fd8697d4",
   "metadata": {},
   "source": [
    "## Data"
   ]
  },
  {
   "cell_type": "markdown",
   "id": "5f2ed956",
   "metadata": {},
   "source": [
    "Vi ska använda oss av Seol bicycle demand data, och träna modeller att kunna predicta... just det, bicycle demand per dag.  \n",
    "\n",
    "Datat kommer från https://archive.ics.uci.edu/dataset/560/seoul+bike+sharing+demand\n",
    "\n",
    "**Som vanligt går ni in där för att läsa på mer om respektive feature!**"
   ]
  },
  {
   "cell_type": "code",
   "execution_count": 4,
   "id": "8592eda7",
   "metadata": {},
   "outputs": [
    {
     "data": {
      "text/html": [
       "<div>\n",
       "<style scoped>\n",
       "    .dataframe tbody tr th:only-of-type {\n",
       "        vertical-align: middle;\n",
       "    }\n",
       "\n",
       "    .dataframe tbody tr th {\n",
       "        vertical-align: top;\n",
       "    }\n",
       "\n",
       "    .dataframe thead th {\n",
       "        text-align: right;\n",
       "    }\n",
       "</style>\n",
       "<table border=\"1\" class=\"dataframe\">\n",
       "  <thead>\n",
       "    <tr style=\"text-align: right;\">\n",
       "      <th></th>\n",
       "      <th>Date</th>\n",
       "      <th>Rented Bike Count</th>\n",
       "      <th>Hour</th>\n",
       "      <th>Temperature(°C)</th>\n",
       "      <th>Humidity(%)</th>\n",
       "      <th>Wind speed (m/s)</th>\n",
       "      <th>Visibility (10m)</th>\n",
       "      <th>Dew point temperature(°C)</th>\n",
       "      <th>Solar Radiation (MJ/m2)</th>\n",
       "      <th>Rainfall(mm)</th>\n",
       "      <th>Snowfall (cm)</th>\n",
       "      <th>Seasons</th>\n",
       "      <th>Holiday</th>\n",
       "      <th>Functioning Day</th>\n",
       "    </tr>\n",
       "  </thead>\n",
       "  <tbody>\n",
       "    <tr>\n",
       "      <th>0</th>\n",
       "      <td>01/12/2017</td>\n",
       "      <td>254</td>\n",
       "      <td>0</td>\n",
       "      <td>-5.2</td>\n",
       "      <td>37</td>\n",
       "      <td>2.2</td>\n",
       "      <td>2000</td>\n",
       "      <td>-17.6</td>\n",
       "      <td>0.0</td>\n",
       "      <td>0.0</td>\n",
       "      <td>0.0</td>\n",
       "      <td>Winter</td>\n",
       "      <td>No Holiday</td>\n",
       "      <td>Yes</td>\n",
       "    </tr>\n",
       "    <tr>\n",
       "      <th>1</th>\n",
       "      <td>01/12/2017</td>\n",
       "      <td>204</td>\n",
       "      <td>1</td>\n",
       "      <td>-5.5</td>\n",
       "      <td>38</td>\n",
       "      <td>0.8</td>\n",
       "      <td>2000</td>\n",
       "      <td>-17.6</td>\n",
       "      <td>0.0</td>\n",
       "      <td>0.0</td>\n",
       "      <td>0.0</td>\n",
       "      <td>Winter</td>\n",
       "      <td>No Holiday</td>\n",
       "      <td>Yes</td>\n",
       "    </tr>\n",
       "    <tr>\n",
       "      <th>2</th>\n",
       "      <td>01/12/2017</td>\n",
       "      <td>173</td>\n",
       "      <td>2</td>\n",
       "      <td>-6.0</td>\n",
       "      <td>39</td>\n",
       "      <td>1.0</td>\n",
       "      <td>2000</td>\n",
       "      <td>-17.7</td>\n",
       "      <td>0.0</td>\n",
       "      <td>0.0</td>\n",
       "      <td>0.0</td>\n",
       "      <td>Winter</td>\n",
       "      <td>No Holiday</td>\n",
       "      <td>Yes</td>\n",
       "    </tr>\n",
       "    <tr>\n",
       "      <th>3</th>\n",
       "      <td>01/12/2017</td>\n",
       "      <td>107</td>\n",
       "      <td>3</td>\n",
       "      <td>-6.2</td>\n",
       "      <td>40</td>\n",
       "      <td>0.9</td>\n",
       "      <td>2000</td>\n",
       "      <td>-17.6</td>\n",
       "      <td>0.0</td>\n",
       "      <td>0.0</td>\n",
       "      <td>0.0</td>\n",
       "      <td>Winter</td>\n",
       "      <td>No Holiday</td>\n",
       "      <td>Yes</td>\n",
       "    </tr>\n",
       "    <tr>\n",
       "      <th>4</th>\n",
       "      <td>01/12/2017</td>\n",
       "      <td>78</td>\n",
       "      <td>4</td>\n",
       "      <td>-6.0</td>\n",
       "      <td>36</td>\n",
       "      <td>2.3</td>\n",
       "      <td>2000</td>\n",
       "      <td>-18.6</td>\n",
       "      <td>0.0</td>\n",
       "      <td>0.0</td>\n",
       "      <td>0.0</td>\n",
       "      <td>Winter</td>\n",
       "      <td>No Holiday</td>\n",
       "      <td>Yes</td>\n",
       "    </tr>\n",
       "    <tr>\n",
       "      <th>...</th>\n",
       "      <td>...</td>\n",
       "      <td>...</td>\n",
       "      <td>...</td>\n",
       "      <td>...</td>\n",
       "      <td>...</td>\n",
       "      <td>...</td>\n",
       "      <td>...</td>\n",
       "      <td>...</td>\n",
       "      <td>...</td>\n",
       "      <td>...</td>\n",
       "      <td>...</td>\n",
       "      <td>...</td>\n",
       "      <td>...</td>\n",
       "      <td>...</td>\n",
       "    </tr>\n",
       "    <tr>\n",
       "      <th>8755</th>\n",
       "      <td>30/11/2018</td>\n",
       "      <td>1003</td>\n",
       "      <td>19</td>\n",
       "      <td>4.2</td>\n",
       "      <td>34</td>\n",
       "      <td>2.6</td>\n",
       "      <td>1894</td>\n",
       "      <td>-10.3</td>\n",
       "      <td>0.0</td>\n",
       "      <td>0.0</td>\n",
       "      <td>0.0</td>\n",
       "      <td>Autumn</td>\n",
       "      <td>No Holiday</td>\n",
       "      <td>Yes</td>\n",
       "    </tr>\n",
       "    <tr>\n",
       "      <th>8756</th>\n",
       "      <td>30/11/2018</td>\n",
       "      <td>764</td>\n",
       "      <td>20</td>\n",
       "      <td>3.4</td>\n",
       "      <td>37</td>\n",
       "      <td>2.3</td>\n",
       "      <td>2000</td>\n",
       "      <td>-9.9</td>\n",
       "      <td>0.0</td>\n",
       "      <td>0.0</td>\n",
       "      <td>0.0</td>\n",
       "      <td>Autumn</td>\n",
       "      <td>No Holiday</td>\n",
       "      <td>Yes</td>\n",
       "    </tr>\n",
       "    <tr>\n",
       "      <th>8757</th>\n",
       "      <td>30/11/2018</td>\n",
       "      <td>694</td>\n",
       "      <td>21</td>\n",
       "      <td>2.6</td>\n",
       "      <td>39</td>\n",
       "      <td>0.3</td>\n",
       "      <td>1968</td>\n",
       "      <td>-9.9</td>\n",
       "      <td>0.0</td>\n",
       "      <td>0.0</td>\n",
       "      <td>0.0</td>\n",
       "      <td>Autumn</td>\n",
       "      <td>No Holiday</td>\n",
       "      <td>Yes</td>\n",
       "    </tr>\n",
       "    <tr>\n",
       "      <th>8758</th>\n",
       "      <td>30/11/2018</td>\n",
       "      <td>712</td>\n",
       "      <td>22</td>\n",
       "      <td>2.1</td>\n",
       "      <td>41</td>\n",
       "      <td>1.0</td>\n",
       "      <td>1859</td>\n",
       "      <td>-9.8</td>\n",
       "      <td>0.0</td>\n",
       "      <td>0.0</td>\n",
       "      <td>0.0</td>\n",
       "      <td>Autumn</td>\n",
       "      <td>No Holiday</td>\n",
       "      <td>Yes</td>\n",
       "    </tr>\n",
       "    <tr>\n",
       "      <th>8759</th>\n",
       "      <td>30/11/2018</td>\n",
       "      <td>584</td>\n",
       "      <td>23</td>\n",
       "      <td>1.9</td>\n",
       "      <td>43</td>\n",
       "      <td>1.3</td>\n",
       "      <td>1909</td>\n",
       "      <td>-9.3</td>\n",
       "      <td>0.0</td>\n",
       "      <td>0.0</td>\n",
       "      <td>0.0</td>\n",
       "      <td>Autumn</td>\n",
       "      <td>No Holiday</td>\n",
       "      <td>Yes</td>\n",
       "    </tr>\n",
       "  </tbody>\n",
       "</table>\n",
       "<p>8760 rows × 14 columns</p>\n",
       "</div>"
      ],
      "text/plain": [
       "            Date  Rented Bike Count  Hour  Temperature(°C)  Humidity(%)  \\\n",
       "0     01/12/2017                254     0             -5.2           37   \n",
       "1     01/12/2017                204     1             -5.5           38   \n",
       "2     01/12/2017                173     2             -6.0           39   \n",
       "3     01/12/2017                107     3             -6.2           40   \n",
       "4     01/12/2017                 78     4             -6.0           36   \n",
       "...          ...                ...   ...              ...          ...   \n",
       "8755  30/11/2018               1003    19              4.2           34   \n",
       "8756  30/11/2018                764    20              3.4           37   \n",
       "8757  30/11/2018                694    21              2.6           39   \n",
       "8758  30/11/2018                712    22              2.1           41   \n",
       "8759  30/11/2018                584    23              1.9           43   \n",
       "\n",
       "      Wind speed (m/s)  Visibility (10m)  Dew point temperature(°C)  \\\n",
       "0                  2.2              2000                      -17.6   \n",
       "1                  0.8              2000                      -17.6   \n",
       "2                  1.0              2000                      -17.7   \n",
       "3                  0.9              2000                      -17.6   \n",
       "4                  2.3              2000                      -18.6   \n",
       "...                ...               ...                        ...   \n",
       "8755               2.6              1894                      -10.3   \n",
       "8756               2.3              2000                       -9.9   \n",
       "8757               0.3              1968                       -9.9   \n",
       "8758               1.0              1859                       -9.8   \n",
       "8759               1.3              1909                       -9.3   \n",
       "\n",
       "      Solar Radiation (MJ/m2)  Rainfall(mm)  Snowfall (cm) Seasons  \\\n",
       "0                         0.0           0.0            0.0  Winter   \n",
       "1                         0.0           0.0            0.0  Winter   \n",
       "2                         0.0           0.0            0.0  Winter   \n",
       "3                         0.0           0.0            0.0  Winter   \n",
       "4                         0.0           0.0            0.0  Winter   \n",
       "...                       ...           ...            ...     ...   \n",
       "8755                      0.0           0.0            0.0  Autumn   \n",
       "8756                      0.0           0.0            0.0  Autumn   \n",
       "8757                      0.0           0.0            0.0  Autumn   \n",
       "8758                      0.0           0.0            0.0  Autumn   \n",
       "8759                      0.0           0.0            0.0  Autumn   \n",
       "\n",
       "         Holiday Functioning Day  \n",
       "0     No Holiday             Yes  \n",
       "1     No Holiday             Yes  \n",
       "2     No Holiday             Yes  \n",
       "3     No Holiday             Yes  \n",
       "4     No Holiday             Yes  \n",
       "...          ...             ...  \n",
       "8755  No Holiday             Yes  \n",
       "8756  No Holiday             Yes  \n",
       "8757  No Holiday             Yes  \n",
       "8758  No Holiday             Yes  \n",
       "8759  No Holiday             Yes  \n",
       "\n",
       "[8760 rows x 14 columns]"
      ]
     },
     "execution_count": 4,
     "metadata": {},
     "output_type": "execute_result"
    }
   ],
   "source": [
    "demand_df = pd.read_csv('SeoulBikeData.csv', encoding='latin1')\n",
    "demand_df"
   ]
  },
  {
   "cell_type": "markdown",
   "id": "e63ea45d",
   "metadata": {},
   "source": [
    "Nästan alla features ser rätt nice ut och värda att behålla, men vi kommer göra en förenkling. Vi tar för givet att det endast spelar roll huruvida aktuell dag är en helgdag eller inte. Dvs, vi bryr oss inte om exakt vilken dag det är. Vi kan således ta bort kolumnen 'Date' eftersom att vi har en annan kolumn 'Holiday' som anger om det är helgdag eller ej.\n",
    "  "
   ]
  },
  {
   "cell_type": "code",
   "execution_count": 5,
   "id": "416cf303",
   "metadata": {},
   "outputs": [
    {
     "data": {
      "text/html": [
       "<div>\n",
       "<style scoped>\n",
       "    .dataframe tbody tr th:only-of-type {\n",
       "        vertical-align: middle;\n",
       "    }\n",
       "\n",
       "    .dataframe tbody tr th {\n",
       "        vertical-align: top;\n",
       "    }\n",
       "\n",
       "    .dataframe thead th {\n",
       "        text-align: right;\n",
       "    }\n",
       "</style>\n",
       "<table border=\"1\" class=\"dataframe\">\n",
       "  <thead>\n",
       "    <tr style=\"text-align: right;\">\n",
       "      <th></th>\n",
       "      <th>Rented Bike Count</th>\n",
       "      <th>Hour</th>\n",
       "      <th>Temperature(°C)</th>\n",
       "      <th>Humidity(%)</th>\n",
       "      <th>Wind speed (m/s)</th>\n",
       "      <th>Visibility (10m)</th>\n",
       "      <th>Dew point temperature(°C)</th>\n",
       "      <th>Solar Radiation (MJ/m2)</th>\n",
       "      <th>Rainfall(mm)</th>\n",
       "      <th>Snowfall (cm)</th>\n",
       "      <th>Seasons</th>\n",
       "      <th>Holiday</th>\n",
       "      <th>Functioning Day</th>\n",
       "    </tr>\n",
       "  </thead>\n",
       "  <tbody>\n",
       "    <tr>\n",
       "      <th>0</th>\n",
       "      <td>254</td>\n",
       "      <td>0</td>\n",
       "      <td>-5.2</td>\n",
       "      <td>37</td>\n",
       "      <td>2.2</td>\n",
       "      <td>2000</td>\n",
       "      <td>-17.6</td>\n",
       "      <td>0.0</td>\n",
       "      <td>0.0</td>\n",
       "      <td>0.0</td>\n",
       "      <td>Winter</td>\n",
       "      <td>No Holiday</td>\n",
       "      <td>Yes</td>\n",
       "    </tr>\n",
       "    <tr>\n",
       "      <th>1</th>\n",
       "      <td>204</td>\n",
       "      <td>1</td>\n",
       "      <td>-5.5</td>\n",
       "      <td>38</td>\n",
       "      <td>0.8</td>\n",
       "      <td>2000</td>\n",
       "      <td>-17.6</td>\n",
       "      <td>0.0</td>\n",
       "      <td>0.0</td>\n",
       "      <td>0.0</td>\n",
       "      <td>Winter</td>\n",
       "      <td>No Holiday</td>\n",
       "      <td>Yes</td>\n",
       "    </tr>\n",
       "    <tr>\n",
       "      <th>2</th>\n",
       "      <td>173</td>\n",
       "      <td>2</td>\n",
       "      <td>-6.0</td>\n",
       "      <td>39</td>\n",
       "      <td>1.0</td>\n",
       "      <td>2000</td>\n",
       "      <td>-17.7</td>\n",
       "      <td>0.0</td>\n",
       "      <td>0.0</td>\n",
       "      <td>0.0</td>\n",
       "      <td>Winter</td>\n",
       "      <td>No Holiday</td>\n",
       "      <td>Yes</td>\n",
       "    </tr>\n",
       "    <tr>\n",
       "      <th>3</th>\n",
       "      <td>107</td>\n",
       "      <td>3</td>\n",
       "      <td>-6.2</td>\n",
       "      <td>40</td>\n",
       "      <td>0.9</td>\n",
       "      <td>2000</td>\n",
       "      <td>-17.6</td>\n",
       "      <td>0.0</td>\n",
       "      <td>0.0</td>\n",
       "      <td>0.0</td>\n",
       "      <td>Winter</td>\n",
       "      <td>No Holiday</td>\n",
       "      <td>Yes</td>\n",
       "    </tr>\n",
       "    <tr>\n",
       "      <th>4</th>\n",
       "      <td>78</td>\n",
       "      <td>4</td>\n",
       "      <td>-6.0</td>\n",
       "      <td>36</td>\n",
       "      <td>2.3</td>\n",
       "      <td>2000</td>\n",
       "      <td>-18.6</td>\n",
       "      <td>0.0</td>\n",
       "      <td>0.0</td>\n",
       "      <td>0.0</td>\n",
       "      <td>Winter</td>\n",
       "      <td>No Holiday</td>\n",
       "      <td>Yes</td>\n",
       "    </tr>\n",
       "    <tr>\n",
       "      <th>...</th>\n",
       "      <td>...</td>\n",
       "      <td>...</td>\n",
       "      <td>...</td>\n",
       "      <td>...</td>\n",
       "      <td>...</td>\n",
       "      <td>...</td>\n",
       "      <td>...</td>\n",
       "      <td>...</td>\n",
       "      <td>...</td>\n",
       "      <td>...</td>\n",
       "      <td>...</td>\n",
       "      <td>...</td>\n",
       "      <td>...</td>\n",
       "    </tr>\n",
       "    <tr>\n",
       "      <th>8755</th>\n",
       "      <td>1003</td>\n",
       "      <td>19</td>\n",
       "      <td>4.2</td>\n",
       "      <td>34</td>\n",
       "      <td>2.6</td>\n",
       "      <td>1894</td>\n",
       "      <td>-10.3</td>\n",
       "      <td>0.0</td>\n",
       "      <td>0.0</td>\n",
       "      <td>0.0</td>\n",
       "      <td>Autumn</td>\n",
       "      <td>No Holiday</td>\n",
       "      <td>Yes</td>\n",
       "    </tr>\n",
       "    <tr>\n",
       "      <th>8756</th>\n",
       "      <td>764</td>\n",
       "      <td>20</td>\n",
       "      <td>3.4</td>\n",
       "      <td>37</td>\n",
       "      <td>2.3</td>\n",
       "      <td>2000</td>\n",
       "      <td>-9.9</td>\n",
       "      <td>0.0</td>\n",
       "      <td>0.0</td>\n",
       "      <td>0.0</td>\n",
       "      <td>Autumn</td>\n",
       "      <td>No Holiday</td>\n",
       "      <td>Yes</td>\n",
       "    </tr>\n",
       "    <tr>\n",
       "      <th>8757</th>\n",
       "      <td>694</td>\n",
       "      <td>21</td>\n",
       "      <td>2.6</td>\n",
       "      <td>39</td>\n",
       "      <td>0.3</td>\n",
       "      <td>1968</td>\n",
       "      <td>-9.9</td>\n",
       "      <td>0.0</td>\n",
       "      <td>0.0</td>\n",
       "      <td>0.0</td>\n",
       "      <td>Autumn</td>\n",
       "      <td>No Holiday</td>\n",
       "      <td>Yes</td>\n",
       "    </tr>\n",
       "    <tr>\n",
       "      <th>8758</th>\n",
       "      <td>712</td>\n",
       "      <td>22</td>\n",
       "      <td>2.1</td>\n",
       "      <td>41</td>\n",
       "      <td>1.0</td>\n",
       "      <td>1859</td>\n",
       "      <td>-9.8</td>\n",
       "      <td>0.0</td>\n",
       "      <td>0.0</td>\n",
       "      <td>0.0</td>\n",
       "      <td>Autumn</td>\n",
       "      <td>No Holiday</td>\n",
       "      <td>Yes</td>\n",
       "    </tr>\n",
       "    <tr>\n",
       "      <th>8759</th>\n",
       "      <td>584</td>\n",
       "      <td>23</td>\n",
       "      <td>1.9</td>\n",
       "      <td>43</td>\n",
       "      <td>1.3</td>\n",
       "      <td>1909</td>\n",
       "      <td>-9.3</td>\n",
       "      <td>0.0</td>\n",
       "      <td>0.0</td>\n",
       "      <td>0.0</td>\n",
       "      <td>Autumn</td>\n",
       "      <td>No Holiday</td>\n",
       "      <td>Yes</td>\n",
       "    </tr>\n",
       "  </tbody>\n",
       "</table>\n",
       "<p>8760 rows × 13 columns</p>\n",
       "</div>"
      ],
      "text/plain": [
       "      Rented Bike Count  Hour  Temperature(°C)  Humidity(%)  Wind speed (m/s)  \\\n",
       "0                   254     0             -5.2           37               2.2   \n",
       "1                   204     1             -5.5           38               0.8   \n",
       "2                   173     2             -6.0           39               1.0   \n",
       "3                   107     3             -6.2           40               0.9   \n",
       "4                    78     4             -6.0           36               2.3   \n",
       "...                 ...   ...              ...          ...               ...   \n",
       "8755               1003    19              4.2           34               2.6   \n",
       "8756                764    20              3.4           37               2.3   \n",
       "8757                694    21              2.6           39               0.3   \n",
       "8758                712    22              2.1           41               1.0   \n",
       "8759                584    23              1.9           43               1.3   \n",
       "\n",
       "      Visibility (10m)  Dew point temperature(°C)  Solar Radiation (MJ/m2)  \\\n",
       "0                 2000                      -17.6                      0.0   \n",
       "1                 2000                      -17.6                      0.0   \n",
       "2                 2000                      -17.7                      0.0   \n",
       "3                 2000                      -17.6                      0.0   \n",
       "4                 2000                      -18.6                      0.0   \n",
       "...                ...                        ...                      ...   \n",
       "8755              1894                      -10.3                      0.0   \n",
       "8756              2000                       -9.9                      0.0   \n",
       "8757              1968                       -9.9                      0.0   \n",
       "8758              1859                       -9.8                      0.0   \n",
       "8759              1909                       -9.3                      0.0   \n",
       "\n",
       "      Rainfall(mm)  Snowfall (cm) Seasons     Holiday Functioning Day  \n",
       "0              0.0            0.0  Winter  No Holiday             Yes  \n",
       "1              0.0            0.0  Winter  No Holiday             Yes  \n",
       "2              0.0            0.0  Winter  No Holiday             Yes  \n",
       "3              0.0            0.0  Winter  No Holiday             Yes  \n",
       "4              0.0            0.0  Winter  No Holiday             Yes  \n",
       "...            ...            ...     ...         ...             ...  \n",
       "8755           0.0            0.0  Autumn  No Holiday             Yes  \n",
       "8756           0.0            0.0  Autumn  No Holiday             Yes  \n",
       "8757           0.0            0.0  Autumn  No Holiday             Yes  \n",
       "8758           0.0            0.0  Autumn  No Holiday             Yes  \n",
       "8759           0.0            0.0  Autumn  No Holiday             Yes  \n",
       "\n",
       "[8760 rows x 13 columns]"
      ]
     },
     "execution_count": 5,
     "metadata": {},
     "output_type": "execute_result"
    }
   ],
   "source": [
    "demand_df = demand_df[demand_df.columns[1:]] # exludera första kolumnen (Date)\n",
    "demand_df"
   ]
  },
  {
   "cell_type": "code",
   "execution_count": 6,
   "id": "c8252b25",
   "metadata": {},
   "outputs": [
    {
     "name": "stdout",
     "output_type": "stream",
     "text": [
      "<class 'pandas.core.frame.DataFrame'>\n",
      "RangeIndex: 8760 entries, 0 to 8759\n",
      "Data columns (total 13 columns):\n",
      " #   Column                     Non-Null Count  Dtype  \n",
      "---  ------                     --------------  -----  \n",
      " 0   Rented Bike Count          8760 non-null   int64  \n",
      " 1   Hour                       8760 non-null   int64  \n",
      " 2   Temperature(°C)            8760 non-null   float64\n",
      " 3   Humidity(%)                8760 non-null   int64  \n",
      " 4   Wind speed (m/s)           8760 non-null   float64\n",
      " 5   Visibility (10m)           8760 non-null   int64  \n",
      " 6   Dew point temperature(°C)  8760 non-null   float64\n",
      " 7   Solar Radiation (MJ/m2)    8760 non-null   float64\n",
      " 8   Rainfall(mm)               8760 non-null   float64\n",
      " 9   Snowfall (cm)              8760 non-null   float64\n",
      " 10  Seasons                    8760 non-null   object \n",
      " 11  Holiday                    8760 non-null   object \n",
      " 12  Functioning Day            8760 non-null   object \n",
      "dtypes: float64(6), int64(4), object(3)\n",
      "memory usage: 889.8+ KB\n"
     ]
    }
   ],
   "source": [
    "demand_df.info()"
   ]
  },
  {
   "cell_type": "markdown",
   "id": "bd209a14",
   "metadata": {},
   "source": [
    "Nu återstår fyra kolumner kvar som vi behöver specialanpassa. Dels har vi Hour och Seasons, som både är kategoriska. Därefter har vi också Holiday och Functioning Day som är binära, men behöver omvandlas till siffor."
   ]
  },
  {
   "cell_type": "code",
   "execution_count": 7,
   "id": "13ea6ca9",
   "metadata": {},
   "outputs": [
    {
     "name": "stdout",
     "output_type": "stream",
     "text": [
      "Holiday\n",
      "No Holiday    8328\n",
      "Holiday        432\n",
      "Name: count, dtype: int64\n",
      "\n",
      "Functioning Day\n",
      "Yes    8465\n",
      "No      295\n",
      "Name: count, dtype: int64\n",
      "\n",
      "Seasons\n",
      "Spring    2208\n",
      "Summer    2208\n",
      "Autumn    2184\n",
      "Winter    2160\n",
      "Name: count, dtype: int64\n",
      "\n",
      "Hour\n",
      "0     365\n",
      "1     365\n",
      "2     365\n",
      "3     365\n",
      "4     365\n",
      "5     365\n",
      "6     365\n",
      "7     365\n",
      "8     365\n",
      "9     365\n",
      "10    365\n",
      "11    365\n",
      "12    365\n",
      "13    365\n",
      "14    365\n",
      "15    365\n",
      "16    365\n",
      "17    365\n",
      "18    365\n",
      "19    365\n",
      "20    365\n",
      "21    365\n",
      "22    365\n",
      "23    365\n",
      "Name: count, dtype: int64\n",
      "\n"
     ]
    }
   ],
   "source": [
    "print(demand_df['Holiday'].value_counts(), end = '\\n\\n')\n",
    "print(demand_df['Functioning Day'].value_counts(), end = '\\n\\n')\n",
    "print(demand_df['Seasons'].value_counts(), end = '\\n\\n')\n",
    "print(demand_df['Hour'].value_counts(), end = '\\n\\n')"
   ]
  },
  {
   "cell_type": "markdown",
   "id": "5a0c8c35",
   "metadata": {},
   "source": [
    "**Omvandla binära kolumner till 1/0.**"
   ]
  },
  {
   "cell_type": "code",
   "execution_count": 8,
   "id": "5701d959",
   "metadata": {},
   "outputs": [],
   "source": [
    "binary_columns = ['Holiday', 'Functioning Day']\n",
    "\n",
    "for column in binary_columns:\n",
    "    \n",
    "    first_value = demand_df[column].unique()[0] # extrahera ett av de binära värdena\n",
    "    transformed_column = [1 if value == first_value else 0 for value in demand_df[column]]\n",
    "    \n",
    "    demand_df[column] = transformed_column"
   ]
  },
  {
   "cell_type": "code",
   "execution_count": 9,
   "id": "2e37249f",
   "metadata": {},
   "outputs": [
    {
     "data": {
      "text/html": [
       "<div>\n",
       "<style scoped>\n",
       "    .dataframe tbody tr th:only-of-type {\n",
       "        vertical-align: middle;\n",
       "    }\n",
       "\n",
       "    .dataframe tbody tr th {\n",
       "        vertical-align: top;\n",
       "    }\n",
       "\n",
       "    .dataframe thead th {\n",
       "        text-align: right;\n",
       "    }\n",
       "</style>\n",
       "<table border=\"1\" class=\"dataframe\">\n",
       "  <thead>\n",
       "    <tr style=\"text-align: right;\">\n",
       "      <th></th>\n",
       "      <th>Rented Bike Count</th>\n",
       "      <th>Hour</th>\n",
       "      <th>Temperature(°C)</th>\n",
       "      <th>Humidity(%)</th>\n",
       "      <th>Wind speed (m/s)</th>\n",
       "      <th>Visibility (10m)</th>\n",
       "      <th>Dew point temperature(°C)</th>\n",
       "      <th>Solar Radiation (MJ/m2)</th>\n",
       "      <th>Rainfall(mm)</th>\n",
       "      <th>Snowfall (cm)</th>\n",
       "      <th>Seasons</th>\n",
       "      <th>Holiday</th>\n",
       "      <th>Functioning Day</th>\n",
       "    </tr>\n",
       "  </thead>\n",
       "  <tbody>\n",
       "    <tr>\n",
       "      <th>0</th>\n",
       "      <td>254</td>\n",
       "      <td>0</td>\n",
       "      <td>-5.2</td>\n",
       "      <td>37</td>\n",
       "      <td>2.2</td>\n",
       "      <td>2000</td>\n",
       "      <td>-17.6</td>\n",
       "      <td>0.0</td>\n",
       "      <td>0.0</td>\n",
       "      <td>0.0</td>\n",
       "      <td>Winter</td>\n",
       "      <td>1</td>\n",
       "      <td>1</td>\n",
       "    </tr>\n",
       "    <tr>\n",
       "      <th>1</th>\n",
       "      <td>204</td>\n",
       "      <td>1</td>\n",
       "      <td>-5.5</td>\n",
       "      <td>38</td>\n",
       "      <td>0.8</td>\n",
       "      <td>2000</td>\n",
       "      <td>-17.6</td>\n",
       "      <td>0.0</td>\n",
       "      <td>0.0</td>\n",
       "      <td>0.0</td>\n",
       "      <td>Winter</td>\n",
       "      <td>1</td>\n",
       "      <td>1</td>\n",
       "    </tr>\n",
       "    <tr>\n",
       "      <th>2</th>\n",
       "      <td>173</td>\n",
       "      <td>2</td>\n",
       "      <td>-6.0</td>\n",
       "      <td>39</td>\n",
       "      <td>1.0</td>\n",
       "      <td>2000</td>\n",
       "      <td>-17.7</td>\n",
       "      <td>0.0</td>\n",
       "      <td>0.0</td>\n",
       "      <td>0.0</td>\n",
       "      <td>Winter</td>\n",
       "      <td>1</td>\n",
       "      <td>1</td>\n",
       "    </tr>\n",
       "    <tr>\n",
       "      <th>3</th>\n",
       "      <td>107</td>\n",
       "      <td>3</td>\n",
       "      <td>-6.2</td>\n",
       "      <td>40</td>\n",
       "      <td>0.9</td>\n",
       "      <td>2000</td>\n",
       "      <td>-17.6</td>\n",
       "      <td>0.0</td>\n",
       "      <td>0.0</td>\n",
       "      <td>0.0</td>\n",
       "      <td>Winter</td>\n",
       "      <td>1</td>\n",
       "      <td>1</td>\n",
       "    </tr>\n",
       "    <tr>\n",
       "      <th>4</th>\n",
       "      <td>78</td>\n",
       "      <td>4</td>\n",
       "      <td>-6.0</td>\n",
       "      <td>36</td>\n",
       "      <td>2.3</td>\n",
       "      <td>2000</td>\n",
       "      <td>-18.6</td>\n",
       "      <td>0.0</td>\n",
       "      <td>0.0</td>\n",
       "      <td>0.0</td>\n",
       "      <td>Winter</td>\n",
       "      <td>1</td>\n",
       "      <td>1</td>\n",
       "    </tr>\n",
       "    <tr>\n",
       "      <th>...</th>\n",
       "      <td>...</td>\n",
       "      <td>...</td>\n",
       "      <td>...</td>\n",
       "      <td>...</td>\n",
       "      <td>...</td>\n",
       "      <td>...</td>\n",
       "      <td>...</td>\n",
       "      <td>...</td>\n",
       "      <td>...</td>\n",
       "      <td>...</td>\n",
       "      <td>...</td>\n",
       "      <td>...</td>\n",
       "      <td>...</td>\n",
       "    </tr>\n",
       "    <tr>\n",
       "      <th>8755</th>\n",
       "      <td>1003</td>\n",
       "      <td>19</td>\n",
       "      <td>4.2</td>\n",
       "      <td>34</td>\n",
       "      <td>2.6</td>\n",
       "      <td>1894</td>\n",
       "      <td>-10.3</td>\n",
       "      <td>0.0</td>\n",
       "      <td>0.0</td>\n",
       "      <td>0.0</td>\n",
       "      <td>Autumn</td>\n",
       "      <td>1</td>\n",
       "      <td>1</td>\n",
       "    </tr>\n",
       "    <tr>\n",
       "      <th>8756</th>\n",
       "      <td>764</td>\n",
       "      <td>20</td>\n",
       "      <td>3.4</td>\n",
       "      <td>37</td>\n",
       "      <td>2.3</td>\n",
       "      <td>2000</td>\n",
       "      <td>-9.9</td>\n",
       "      <td>0.0</td>\n",
       "      <td>0.0</td>\n",
       "      <td>0.0</td>\n",
       "      <td>Autumn</td>\n",
       "      <td>1</td>\n",
       "      <td>1</td>\n",
       "    </tr>\n",
       "    <tr>\n",
       "      <th>8757</th>\n",
       "      <td>694</td>\n",
       "      <td>21</td>\n",
       "      <td>2.6</td>\n",
       "      <td>39</td>\n",
       "      <td>0.3</td>\n",
       "      <td>1968</td>\n",
       "      <td>-9.9</td>\n",
       "      <td>0.0</td>\n",
       "      <td>0.0</td>\n",
       "      <td>0.0</td>\n",
       "      <td>Autumn</td>\n",
       "      <td>1</td>\n",
       "      <td>1</td>\n",
       "    </tr>\n",
       "    <tr>\n",
       "      <th>8758</th>\n",
       "      <td>712</td>\n",
       "      <td>22</td>\n",
       "      <td>2.1</td>\n",
       "      <td>41</td>\n",
       "      <td>1.0</td>\n",
       "      <td>1859</td>\n",
       "      <td>-9.8</td>\n",
       "      <td>0.0</td>\n",
       "      <td>0.0</td>\n",
       "      <td>0.0</td>\n",
       "      <td>Autumn</td>\n",
       "      <td>1</td>\n",
       "      <td>1</td>\n",
       "    </tr>\n",
       "    <tr>\n",
       "      <th>8759</th>\n",
       "      <td>584</td>\n",
       "      <td>23</td>\n",
       "      <td>1.9</td>\n",
       "      <td>43</td>\n",
       "      <td>1.3</td>\n",
       "      <td>1909</td>\n",
       "      <td>-9.3</td>\n",
       "      <td>0.0</td>\n",
       "      <td>0.0</td>\n",
       "      <td>0.0</td>\n",
       "      <td>Autumn</td>\n",
       "      <td>1</td>\n",
       "      <td>1</td>\n",
       "    </tr>\n",
       "  </tbody>\n",
       "</table>\n",
       "<p>8760 rows × 13 columns</p>\n",
       "</div>"
      ],
      "text/plain": [
       "      Rented Bike Count  Hour  Temperature(°C)  Humidity(%)  Wind speed (m/s)  \\\n",
       "0                   254     0             -5.2           37               2.2   \n",
       "1                   204     1             -5.5           38               0.8   \n",
       "2                   173     2             -6.0           39               1.0   \n",
       "3                   107     3             -6.2           40               0.9   \n",
       "4                    78     4             -6.0           36               2.3   \n",
       "...                 ...   ...              ...          ...               ...   \n",
       "8755               1003    19              4.2           34               2.6   \n",
       "8756                764    20              3.4           37               2.3   \n",
       "8757                694    21              2.6           39               0.3   \n",
       "8758                712    22              2.1           41               1.0   \n",
       "8759                584    23              1.9           43               1.3   \n",
       "\n",
       "      Visibility (10m)  Dew point temperature(°C)  Solar Radiation (MJ/m2)  \\\n",
       "0                 2000                      -17.6                      0.0   \n",
       "1                 2000                      -17.6                      0.0   \n",
       "2                 2000                      -17.7                      0.0   \n",
       "3                 2000                      -17.6                      0.0   \n",
       "4                 2000                      -18.6                      0.0   \n",
       "...                ...                        ...                      ...   \n",
       "8755              1894                      -10.3                      0.0   \n",
       "8756              2000                       -9.9                      0.0   \n",
       "8757              1968                       -9.9                      0.0   \n",
       "8758              1859                       -9.8                      0.0   \n",
       "8759              1909                       -9.3                      0.0   \n",
       "\n",
       "      Rainfall(mm)  Snowfall (cm) Seasons  Holiday  Functioning Day  \n",
       "0              0.0            0.0  Winter        1                1  \n",
       "1              0.0            0.0  Winter        1                1  \n",
       "2              0.0            0.0  Winter        1                1  \n",
       "3              0.0            0.0  Winter        1                1  \n",
       "4              0.0            0.0  Winter        1                1  \n",
       "...            ...            ...     ...      ...              ...  \n",
       "8755           0.0            0.0  Autumn        1                1  \n",
       "8756           0.0            0.0  Autumn        1                1  \n",
       "8757           0.0            0.0  Autumn        1                1  \n",
       "8758           0.0            0.0  Autumn        1                1  \n",
       "8759           0.0            0.0  Autumn        1                1  \n",
       "\n",
       "[8760 rows x 13 columns]"
      ]
     },
     "execution_count": 9,
     "metadata": {},
     "output_type": "execute_result"
    }
   ],
   "source": [
    "demand_df"
   ]
  },
  {
   "cell_type": "markdown",
   "id": "3eaed15e",
   "metadata": {},
   "source": [
    "**Kolumnen Hour**"
   ]
  },
  {
   "cell_type": "markdown",
   "id": "87633c7c",
   "metadata": {},
   "source": [
    "Att direkt göra en One-Hot-encoding av Hour skulle ger oss alldeles för många nya kolumner. Istället konstruerar vi färre kategorier genom att klumpa ihop\n",
    "följande tidsspann\n",
    "\n",
    "0-5\n",
    "\n",
    "6-11\n",
    "\n",
    "12-17\n",
    "\n",
    "18-23\n",
    "\n"
   ]
  },
  {
   "cell_type": "code",
   "execution_count": 10,
   "id": "6d7c5fe0",
   "metadata": {},
   "outputs": [],
   "source": [
    "new_hours = []                            # en lista som indikerar den nya kategorin för varje träningsinstans\n",
    "\n",
    "for hour in demand_df['Hour']:\n",
    "\n",
    "    if hour in range(0,6):\n",
    "        new_hours.append(0)\n",
    "\n",
    "    elif hour in range(6, 12):\n",
    "        new_hours.append(1)\n",
    "    \n",
    "    elif hour in range(12, 18):\n",
    "        new_hours.append(2)\n",
    "\n",
    "    elif hour in range(18, 24):\n",
    "        new_hours.append(3)"
   ]
  },
  {
   "cell_type": "code",
   "execution_count": 11,
   "id": "74ac9a4a",
   "metadata": {},
   "outputs": [
    {
     "data": {
      "text/plain": [
       "Hour\n",
       "0    2190\n",
       "1    2190\n",
       "2    2190\n",
       "3    2190\n",
       "Name: count, dtype: int64"
      ]
     },
     "execution_count": 11,
     "metadata": {},
     "output_type": "execute_result"
    }
   ],
   "source": [
    "demand_df['Hour'] = new_hours           # ersätt Hour med våra nya värden\n",
    "\n",
    "demand_df['Hour'].value_counts()"
   ]
  },
  {
   "cell_type": "markdown",
   "id": "ff337c0d",
   "metadata": {},
   "source": [
    "**Omvandla kategoriska kolumner med One Hot Encoding**"
   ]
  },
  {
   "cell_type": "code",
   "execution_count": 12,
   "id": "20c2a083",
   "metadata": {},
   "outputs": [
    {
     "data": {
      "text/plain": [
       "{'Autumn', 'Spring', 'Summer', 'Winter'}"
      ]
     },
     "execution_count": 12,
     "metadata": {},
     "output_type": "execute_result"
    }
   ],
   "source": [
    "set(demand_df['Seasons'])"
   ]
  },
  {
   "cell_type": "code",
   "execution_count": 13,
   "id": "65930c59",
   "metadata": {},
   "outputs": [],
   "source": [
    "# För varje möjlig kategoriskt värde, loopa och konstruera en ny kolumn enligt ovan\n",
    "\n",
    "categorical_columns = ['Seasons', 'Hour']\n",
    "\n",
    "for column in categorical_columns:\n",
    "    for value in set(demand_df[column].values):\n",
    "    \n",
    "        onehotencode = [1 if x == value else 0 for x in demand_df[column]]\n",
    "        demand_df[value] = onehotencode\n",
    "    \n",
    "\n",
    "#slutligen, droppa orginalkolumnen som vi inte längre behöver    \n",
    "\n",
    "for column in categorical_columns:\n",
    "    demand_df = demand_df.drop(columns=[column])"
   ]
  },
  {
   "cell_type": "code",
   "execution_count": 14,
   "id": "08c2a38b",
   "metadata": {},
   "outputs": [
    {
     "name": "stdout",
     "output_type": "stream",
     "text": [
      "<class 'pandas.core.frame.DataFrame'>\n",
      "RangeIndex: 8760 entries, 0 to 8759\n",
      "Data columns (total 19 columns):\n",
      " #   Column                     Non-Null Count  Dtype  \n",
      "---  ------                     --------------  -----  \n",
      " 0   Rented Bike Count          8760 non-null   int64  \n",
      " 1   Temperature(°C)            8760 non-null   float64\n",
      " 2   Humidity(%)                8760 non-null   int64  \n",
      " 3   Wind speed (m/s)           8760 non-null   float64\n",
      " 4   Visibility (10m)           8760 non-null   int64  \n",
      " 5   Dew point temperature(°C)  8760 non-null   float64\n",
      " 6   Solar Radiation (MJ/m2)    8760 non-null   float64\n",
      " 7   Rainfall(mm)               8760 non-null   float64\n",
      " 8   Snowfall (cm)              8760 non-null   float64\n",
      " 9   Holiday                    8760 non-null   int64  \n",
      " 10  Functioning Day            8760 non-null   int64  \n",
      " 11  Spring                     8760 non-null   int64  \n",
      " 12  Autumn                     8760 non-null   int64  \n",
      " 13  Winter                     8760 non-null   int64  \n",
      " 14  Summer                     8760 non-null   int64  \n",
      " 15  0                          8760 non-null   int64  \n",
      " 16  1                          8760 non-null   int64  \n",
      " 17  2                          8760 non-null   int64  \n",
      " 18  3                          8760 non-null   int64  \n",
      "dtypes: float64(6), int64(13)\n",
      "memory usage: 1.3 MB\n"
     ]
    }
   ],
   "source": [
    "demand_df.info()"
   ]
  },
  {
   "cell_type": "markdown",
   "id": "d9056686",
   "metadata": {},
   "source": [
    "**Kontrolluppgift: Kolla så att datan är enligt förväntan, samt att alla kolumner nu är antingen int eller float**"
   ]
  },
  {
   "cell_type": "markdown",
   "id": "589f5f3e",
   "metadata": {},
   "source": [
    "## Dela upp data i train/test"
   ]
  },
  {
   "cell_type": "markdown",
   "id": "60fae232",
   "metadata": {},
   "source": [
    "Vi väljer återigen proportionen 90% / 10%"
   ]
  },
  {
   "cell_type": "code",
   "execution_count": 15,
   "id": "b31fd3df",
   "metadata": {},
   "outputs": [
    {
     "name": "stdout",
     "output_type": "stream",
     "text": [
      "(7884, 18)\n",
      "(7884,)\n",
      "(876, 18)\n",
      "(876,)\n"
     ]
    }
   ],
   "source": [
    "target_column = demand_df.columns[0]\n",
    "feature_columns = demand_df.columns[1:]\n",
    "\n",
    "from sklearn.model_selection import train_test_split\n",
    "\n",
    "x_train, x_test, y_train, y_test = train_test_split(demand_df[feature_columns],         \n",
    "                                                    demand_df[target_column],\n",
    "                                                    test_size=0.1, \n",
    "                                                    random_state=42)\n",
    "\n",
    "print(x_train.shape)\n",
    "print(y_train.shape)\n",
    "\n",
    "print(x_test.shape)\n",
    "print(y_test.shape)"
   ]
  },
  {
   "cell_type": "markdown",
   "id": "35864e93",
   "metadata": {},
   "source": [
    "<br/>"
   ]
  },
  {
   "cell_type": "markdown",
   "id": "49498825",
   "metadata": {},
   "source": [
    "**Skala data**\n",
    "\n",
    "Nu  när vi delat upp data i train och test kan vi utföra de mer invasiva transformationerna, som att skala kolumner. **Kom dock ihåg att det är superviktigt att vi endast använder statistik från train split när vi transformerar, annars riskerar vi informationsläckage!** \n",
    "\n",
    "Det enda vi egentligen behöver skala om feature kolumnerna så att samtliga värden, till absolutbeloppet, inte blir särskilt mycket större än 1. Kikar vi lite snabbt på vår data så ser vi att så inte är fallet.\n",
    "\n",
    "Vi återanvänder vårt trick för att åstadkomma detta: att helt enkelt dela respektive kolumn, med det (till absolutbeloppet) högsta värdet. Då kommer samtliga värden skalas ner, och det högsta värdet i respektive kolumn vara (i absolut värde) 1."
   ]
  },
  {
   "cell_type": "code",
   "execution_count": 16,
   "id": "ab908fa7",
   "metadata": {},
   "outputs": [
    {
     "data": {
      "text/plain": [
       "Index([          'Temperature(°C)',               'Humidity(%)',\n",
       "                'Wind speed (m/s)',          'Visibility (10m)',\n",
       "       'Dew point temperature(°C)',   'Solar Radiation (MJ/m2)',\n",
       "                    'Rainfall(mm)',             'Snowfall (cm)',\n",
       "                         'Holiday',           'Functioning Day',\n",
       "                          'Spring',                    'Autumn',\n",
       "                          'Winter',                    'Summer',\n",
       "                                 0,                           1,\n",
       "                                 2,                           3],\n",
       "      dtype='object')"
      ]
     },
     "execution_count": 16,
     "metadata": {},
     "output_type": "execute_result"
    }
   ],
   "source": [
    "feature_columns"
   ]
  },
  {
   "cell_type": "code",
   "execution_count": 17,
   "id": "45fdc69e",
   "metadata": {},
   "outputs": [],
   "source": [
    "from sklearn.preprocessing import StandardScaler\n",
    "\n",
    "for column in feature_columns:                               # iterera över alla input features\n",
    "    \n",
    "    highest_value = max(np.abs(x_train[column]))    # hitta det, till absolutbeloppet, högsta värdet i aktuella kolumn i x_train\n",
    "    \n",
    "    \n",
    "    # dela nu aktuell kolumn i x_train med det nyfunna högsta värdet\n",
    "    \n",
    "    x_train[column] = x_train[column] / highest_value \n",
    "    \n",
    "    # dela nu även motsvarande kolumn i x_test med SAMMA nyfunna högsta värde (från x_train)\n",
    "    \n",
    "    x_test[column] = x_test[column] / highest_value"
   ]
  },
  {
   "cell_type": "markdown",
   "id": "fd5c2faa",
   "metadata": {},
   "source": [
    "**KONTROLLUPPGIFT: Kolla så att vi åstadkommit transformationerna vi eftersökte** "
   ]
  },
  {
   "cell_type": "markdown",
   "id": "8d92c25d",
   "metadata": {},
   "source": [
    "<br/>"
   ]
  },
  {
   "cell_type": "markdown",
   "id": "cbb59da0",
   "metadata": {},
   "source": [
    "**Omvandla till Tensor**\n",
    "\n",
    "Nu när siffrorna ser bra ut återstår det att omvandla till datatypen Tensor (optimal för PyTorch)"
   ]
  },
  {
   "cell_type": "code",
   "execution_count": 18,
   "id": "b280d700",
   "metadata": {},
   "outputs": [
    {
     "data": {
      "text/plain": [
       "tensor([[ 0.5330,  0.4898,  0.0811,  ...,  1.0000,  0.0000,  0.0000],\n",
       "        [-0.3807,  0.3163,  0.3378,  ...,  0.0000,  0.0000,  0.0000],\n",
       "        [ 0.4949,  0.9694,  0.1892,  ...,  1.0000,  0.0000,  0.0000],\n",
       "        ...,\n",
       "        [ 0.7487,  0.6327,  0.3649,  ...,  0.0000,  1.0000,  0.0000],\n",
       "        [-0.0863,  0.5204,  0.1486,  ...,  0.0000,  0.0000,  1.0000],\n",
       "        [ 0.4898,  0.5612,  0.0676,  ...,  0.0000,  0.0000,  1.0000]],\n",
       "       dtype=torch.float64)"
      ]
     },
     "execution_count": 18,
     "metadata": {},
     "output_type": "execute_result"
    }
   ],
   "source": [
    "torch.from_numpy(np.array(x_train))"
   ]
  },
  {
   "cell_type": "code",
   "execution_count": 19,
   "id": "c15f671d",
   "metadata": {},
   "outputs": [
    {
     "data": {
      "text/plain": [
       "tensor([[ 0.5330,  0.4898,  0.0811,  ...,  1.0000,  0.0000,  0.0000],\n",
       "        [-0.3807,  0.3163,  0.3378,  ...,  0.0000,  0.0000,  0.0000],\n",
       "        [ 0.4949,  0.9694,  0.1892,  ...,  1.0000,  0.0000,  0.0000],\n",
       "        ...,\n",
       "        [ 0.7487,  0.6327,  0.3649,  ...,  0.0000,  1.0000,  0.0000],\n",
       "        [-0.0863,  0.5204,  0.1486,  ...,  0.0000,  0.0000,  1.0000],\n",
       "        [ 0.4898,  0.5612,  0.0676,  ...,  0.0000,  0.0000,  1.0000]])"
      ]
     },
     "execution_count": 19,
     "metadata": {},
     "output_type": "execute_result"
    }
   ],
   "source": [
    "torch.from_numpy(np.array(x_train)).type(torch.FloatTensor)"
   ]
  },
  {
   "cell_type": "code",
   "execution_count": 20,
   "id": "c66c2fca",
   "metadata": {},
   "outputs": [
    {
     "data": {
      "text/plain": [
       "torch.Size([7884, 1])"
      ]
     },
     "execution_count": 20,
     "metadata": {},
     "output_type": "execute_result"
    }
   ],
   "source": [
    "torch.from_numpy(np.array(y_train)).type(torch.FloatTensor).reshape([-1,1]).shape"
   ]
  },
  {
   "cell_type": "code",
   "execution_count": 21,
   "id": "6cfe4bef",
   "metadata": {},
   "outputs": [],
   "source": [
    "x_train = torch.from_numpy(np.array(x_train)).type(torch.FloatTensor)\n",
    "y_train = torch.from_numpy(np.array(y_train)).type(torch.FloatTensor).reshape([-1,1])\n",
    "\n",
    "x_test = torch.from_numpy(np.array(x_test)).type(torch.FloatTensor)\n",
    "y_test = torch.from_numpy(np.array(y_test)).type(torch.FloatTensor).reshape([-1,1])"
   ]
  },
  {
   "cell_type": "markdown",
   "id": "445840f7",
   "metadata": {},
   "source": [
    "**Ange för PyTorch att förbereda datan för GPU-acceleration**"
   ]
  },
  {
   "cell_type": "code",
   "execution_count": 22,
   "id": "f1573a93",
   "metadata": {},
   "outputs": [],
   "source": [
    "x_train = x_train.to(device)\n",
    "y_train = y_train.to(device)\n",
    "\n",
    "x_test = x_test.to(device)\n",
    "y_test = y_test.to(device)"
   ]
  },
  {
   "cell_type": "markdown",
   "id": "8f39b4b4",
   "metadata": {},
   "source": [
    "**Zippa ihop vår träning- och testdata**"
   ]
  },
  {
   "cell_type": "code",
   "execution_count": 23,
   "id": "8f763276",
   "metadata": {},
   "outputs": [],
   "source": [
    "training_set = list(zip(x_train, y_train))             # lägg ihop träningsdatan så att vi direkt kan skicka in i dataloader\n",
    "test_set = list(zip(x_test, y_test))                   # ditto för testdatan"
   ]
  },
  {
   "cell_type": "markdown",
   "id": "f959fe74",
   "metadata": {},
   "source": [
    "<br/> "
   ]
  },
  {
   "cell_type": "markdown",
   "id": "741e647f",
   "metadata": {},
   "source": [
    "## Skapa ett Neuralt Nätverk för regression"
   ]
  },
  {
   "cell_type": "markdown",
   "id": "f3411a27",
   "metadata": {},
   "source": [
    "<br/> "
   ]
  },
  {
   "cell_type": "code",
   "execution_count": 24,
   "id": "6bc940ab",
   "metadata": {},
   "outputs": [],
   "source": [
    "class NeuralNetwork(nn.Module):\n",
    "    def __init__(self, input_size):\n",
    "        super(NeuralNetwork, self).__init__()\n",
    "        self.fc1 = nn.Linear(input_size, 30)\n",
    "        self.fc2 = nn.Linear(30, 30)\n",
    "        self.fc3 = nn.Linear(30, 1)\n",
    "        self.relu = torch.nn.ReLU()\n",
    "\n",
    "    def forward(self, x):\n",
    "        \n",
    "        x = self.relu(self.fc1(x))\n",
    "        x = self.relu(self.fc2(x))\n",
    "        x = self.relu(self.fc3(x))\n",
    "                  \n",
    "        return x"
   ]
  },
  {
   "cell_type": "markdown",
   "id": "9618c946",
   "metadata": {},
   "source": [
    " <br/>"
   ]
  },
  {
   "cell_type": "markdown",
   "id": "f4590009",
   "metadata": {},
   "source": [
    "**Skapa en instans**"
   ]
  },
  {
   "cell_type": "code",
   "execution_count": 25,
   "id": "22e04067",
   "metadata": {},
   "outputs": [
    {
     "data": {
      "text/plain": [
       "(18,)"
      ]
     },
     "execution_count": 25,
     "metadata": {},
     "output_type": "execute_result"
    }
   ],
   "source": [
    "feature_columns.shape"
   ]
  },
  {
   "cell_type": "code",
   "execution_count": 26,
   "id": "053bc182",
   "metadata": {
    "scrolled": true
   },
   "outputs": [
    {
     "data": {
      "text/plain": [
       "NeuralNetwork(\n",
       "  (fc1): Linear(in_features=18, out_features=30, bias=True)\n",
       "  (fc2): Linear(in_features=30, out_features=30, bias=True)\n",
       "  (fc3): Linear(in_features=30, out_features=1, bias=True)\n",
       "  (relu): ReLU()\n",
       ")"
      ]
     },
     "execution_count": 26,
     "metadata": {},
     "output_type": "execute_result"
    }
   ],
   "source": [
    "input_size = 18                                    # vad ska input_size vara?\n",
    "\n",
    "model = NeuralNetwork(input_size)\n",
    "model = model.to(device)                         # vi skickar över modellen till gpu - om tillgänglig\n",
    "\n",
    "model"
   ]
  },
  {
   "cell_type": "markdown",
   "id": "9c32d1b1",
   "metadata": {},
   "source": [
    "**Kontrollfråga: Hur måna parametrar har ditt neurala nätverk?**"
   ]
  },
  {
   "cell_type": "code",
   "execution_count": 27,
   "id": "d433e383",
   "metadata": {},
   "outputs": [
    {
     "data": {
      "text/plain": [
       "1531"
      ]
     },
     "execution_count": 27,
     "metadata": {},
     "output_type": "execute_result"
    }
   ],
   "source": [
    "layer1_param_count = 18 * 30 + 30\n",
    "layer2_param_count = 30 * 30 + 30\n",
    "layer3_param_count = 30 * 1 + 1\n",
    "\n",
    "total_param_count = layer1_param_count + layer2_param_count + layer3_param_count\n",
    "total_param_count"
   ]
  },
  {
   "cell_type": "code",
   "execution_count": 28,
   "id": "091bac9c",
   "metadata": {},
   "outputs": [
    {
     "name": "stdout",
     "output_type": "stream",
     "text": [
      "=================================================================\n",
      "Layer (type:depth-idx)                   Param #\n",
      "=================================================================\n",
      "├─Linear: 1-1                            570\n",
      "├─Linear: 1-2                            930\n",
      "├─Linear: 1-3                            31\n",
      "├─ReLU: 1-4                              --\n",
      "=================================================================\n",
      "Total params: 1,531\n",
      "Trainable params: 1,531\n",
      "Non-trainable params: 0\n",
      "=================================================================\n"
     ]
    },
    {
     "data": {
      "text/plain": [
       "=================================================================\n",
       "Layer (type:depth-idx)                   Param #\n",
       "=================================================================\n",
       "├─Linear: 1-1                            570\n",
       "├─Linear: 1-2                            930\n",
       "├─Linear: 1-3                            31\n",
       "├─ReLU: 1-4                              --\n",
       "=================================================================\n",
       "Total params: 1,531\n",
       "Trainable params: 1,531\n",
       "Non-trainable params: 0\n",
       "================================================================="
      ]
     },
     "execution_count": 28,
     "metadata": {},
     "output_type": "execute_result"
    }
   ],
   "source": [
    "from torchsummary import summary\n",
    "summary(model)"
   ]
  },
  {
   "cell_type": "code",
   "execution_count": 29,
   "id": "a6e509ca",
   "metadata": {},
   "outputs": [
    {
     "data": {
      "text/plain": [
       "=================================================================\n",
       "Layer (type:depth-idx)                   Param #\n",
       "=================================================================\n",
       "NeuralNetwork                            --\n",
       "├─Linear: 1-1                            570\n",
       "├─Linear: 1-2                            930\n",
       "├─Linear: 1-3                            31\n",
       "├─ReLU: 1-4                              --\n",
       "=================================================================\n",
       "Total params: 1,531\n",
       "Trainable params: 1,531\n",
       "Non-trainable params: 0\n",
       "================================================================="
      ]
     },
     "execution_count": 29,
     "metadata": {},
     "output_type": "execute_result"
    }
   ],
   "source": [
    "from torchinfo import summary\n",
    "\n",
    "summary(model)"
   ]
  },
  {
   "cell_type": "code",
   "execution_count": 30,
   "id": "e9518d1e",
   "metadata": {},
   "outputs": [
    {
     "name": "stdout",
     "output_type": "stream",
     "text": [
      "Totalt antal parametrar: 1531\n",
      "fc1.weight: 540 parametrar\n",
      "fc1.bias: 30 parametrar\n",
      "fc2.weight: 900 parametrar\n",
      "fc2.bias: 30 parametrar\n",
      "fc3.weight: 30 parametrar\n",
      "fc3.bias: 1 parametrar\n"
     ]
    }
   ],
   "source": [
    "# totalt antal parametrar\n",
    "total_params = sum(p.numel() for p in model.parameters())\n",
    "print(f\"Totalt antal parametrar: {total_params}\")\n",
    "\n",
    "# visa detaljer\n",
    "for name, param in model.named_parameters():\n",
    "    print(f\"{name}: {param.numel()} parametrar\")\n"
   ]
  },
  {
   "cell_type": "markdown",
   "id": "8dc6c92d",
   "metadata": {},
   "source": [
    "<br/>"
   ]
  },
  {
   "cell_type": "markdown",
   "id": "7aef532e",
   "metadata": {},
   "source": [
    "Låt oss testa vad vår initierade modell spottar ur sig för output"
   ]
  },
  {
   "cell_type": "code",
   "execution_count": 31,
   "id": "c635d8a8",
   "metadata": {},
   "outputs": [
    {
     "name": "stdout",
     "output_type": "stream",
     "text": [
      "True bicycle demand               : 461.0\n",
      "Vår models predict                : 0.11852643638849258\n"
     ]
    }
   ],
   "source": [
    "sample = 100                                     # välj här vilken sample som helst, ange ett giltigt värde amellan 0 och 7884\n",
    "\n",
    "sample_features = x_train[sample]                # extrahera features\n",
    "sample_class = y_train[sample]                   # extrahera class (1 eller 0)\n",
    "\n",
    "model_prediction = model(sample_features)        # predicta outcome\n",
    "\n",
    "print('True bicycle demand               :', sample_class.item())\n",
    "print('Vår models predict                :', model_prediction.item())"
   ]
  },
  {
   "cell_type": "markdown",
   "id": "7e5bb457",
   "metadata": {},
   "source": [
    "**Kontrollfråga** Hur tolkar du resultatet ovan?"
   ]
  },
  {
   "cell_type": "markdown",
   "id": "4874f0f4",
   "metadata": {},
   "source": [
    "<br/> "
   ]
  },
  {
   "cell_type": "markdown",
   "id": "f0b19cb9",
   "metadata": {},
   "source": [
    "## Träna"
   ]
  },
  {
   "cell_type": "markdown",
   "id": "37d4c32c",
   "metadata": {},
   "source": [
    " <br/> "
   ]
  },
  {
   "cell_type": "code",
   "execution_count": 32,
   "id": "f8f2b5b0",
   "metadata": {},
   "outputs": [
    {
     "data": {
      "text/plain": [
       "18"
      ]
     },
     "execution_count": 32,
     "metadata": {},
     "output_type": "execute_result"
    }
   ],
   "source": [
    "len(feature_columns)"
   ]
  },
  {
   "cell_type": "code",
   "execution_count": 40,
   "id": "8073b1f3",
   "metadata": {},
   "outputs": [],
   "source": [
    "input_size = 18                    # vad ska input_size vara?\n",
    "batch_size = 16\n",
    "\n",
    "epochs = 10                     # default = 20\n",
    "learning_rate = 0.001             # default = 0.01"
   ]
  },
  {
   "cell_type": "code",
   "execution_count": 41,
   "id": "7a72031c",
   "metadata": {
    "scrolled": false
   },
   "outputs": [
    {
     "data": {
      "image/png": "[encoded data removed]",
      "text/plain": [
       "<Figure size 640x480 with 1 Axes>"
      ]
     },
     "metadata": {},
     "output_type": "display_data"
    }
   ],
   "source": [
    "# ----------------------------------------------------------------------------------------------------------------\n",
    "#    initera modell, loss_function, optimizer & dataloader\n",
    "\n",
    "\n",
    "#model = NeuralNetwork(input_size)\n",
    "model = model.to(device)                                  # förbered modellen för GPU\n",
    "\n",
    "optimizer = SGD(model.parameters(), lr = learning_rate)\n",
    "loss_function = torch.nn.L1Loss()\n",
    "\n",
    "train_dataloader = DataLoader(training_set,                 \n",
    "                              batch_size = batch_size,       \n",
    "                              shuffle=True)\n",
    "\n",
    "\n",
    "# ----------------------------------------------------------------------------------------------------------------\n",
    "#    träna\n",
    "\n",
    "\n",
    "\n",
    "batch_train_losses = []\n",
    "\n",
    "epoch_train_losses = []\n",
    "epoch_evaluation_losses = []\n",
    "\n",
    "for i in range(epochs):\n",
    "    \n",
    "    model.train()\n",
    "\n",
    "    running_loss = 0\n",
    "    \n",
    "    for batch in train_dataloader:\n",
    "        \n",
    "        y_true = batch[1]\n",
    "        input_features = batch[0]\n",
    "        \n",
    "        y_pred=model(input_features)\n",
    "        loss=loss_function(y_pred, y_true)\n",
    "        loss.backward()\n",
    "        optimizer.step()\n",
    "        optimizer.zero_grad()\n",
    "        \n",
    "        batch_loss = loss.item()\n",
    "        batch_train_losses.append(batch_loss)\n",
    "    \n",
    "    epoch_average_loss = np.average(batch_train_losses[-len(train_dataloader):])\n",
    "\n",
    "    epoch_train_losses.append(epoch_average_loss)\n",
    "\n",
    "# ----------------------------------------------------------------------------------------------------------------\n",
    "#   evalueringssektion \n",
    "\n",
    "    model.eval()\n",
    "    \n",
    "    y_true = y_test\n",
    "    input_features = x_test\n",
    "    \n",
    "    y_pred = model(input_features)\n",
    "    loss = loss_function(y_pred, y_true)\n",
    "    \n",
    "    evaluation_loss = loss.item()\n",
    "    epoch_evaluation_losses.append(evaluation_loss)\n",
    "\n",
    "# ----------------------------------------------------------------------------------------------------------------\n",
    "#   plotta resultat \n",
    "\n",
    "plt.plot(epoch_train_losses, label = 'train loss')\n",
    "plt.plot(epoch_evaluation_losses, label = 'test loss')\n",
    "plt.legend()\n",
    "\n",
    "# axis labels and title\n",
    "plt.xlabel('Epochs')\n",
    "plt.ylabel('Loss')\n",
    "plt.title('Training and Evaluation Losses')\n",
    "\n",
    "plt.show()"
   ]
  },
  {
   "cell_type": "markdown",
   "id": "f8f48456",
   "metadata": {},
   "source": [
    "## Uppgifter"
   ]
  },
  {
   "cell_type": "markdown",
   "id": "734fb6d4",
   "metadata": {},
   "source": [
    "<br/> "
   ]
  },
  {
   "cell_type": "markdown",
   "id": "b3ff1a32",
   "metadata": {},
   "source": [
    "**1)**\n",
    "\n",
    "Vi har ändrat på vad vi plottar. Lägg märke till att train loss nu är smooth! \n",
    "\n",
    "Vad är det vi gjort?! Är det rimtligt att göra så?\n",
    "\n",
    "Svar:\n",
    "- Genom att använda genomsnitt per epoch blir det lättare att följa trenden, istället för att överanalysera varje batch.\n",
    "- Däremot kan man missa problem som orsakas av outliers eller om shufflingen inte fungerar optimalt."
   ]
  },
  {
   "cell_type": "markdown",
   "id": "a48663f6",
   "metadata": {},
   "source": [
    "<br/>"
   ]
  },
  {
   "cell_type": "markdown",
   "id": "6c0d276f",
   "metadata": {},
   "source": [
    "**2)**\n",
    "\n",
    "Titta på train- och test losskurvorna från körning ovan (med default inställningar). \n",
    "\n",
    "Hur tolkar du resultatet? Vad bör man göra i ett sånt här scenario?\n",
    "\n",
    "SVAR: \n",
    "- Modellen overfittar på train datan och generaliserar dåligt på test datan med stora fluktationer.\n",
    "- Lägre inlärningshastighet (0.001) ger stabilare och mer konsekvent träning samt bättre generalisering, medan högre hastighet (0.01) orsakar osäkerhet och överanpassning."
   ]
  },
  {
   "cell_type": "markdown",
   "id": "35b44bf0",
   "metadata": {},
   "source": [
    "<br/>"
   ]
  },
  {
   "cell_type": "markdown",
   "id": "6d3f4b77",
   "metadata": {},
   "source": [
    "**3)**\n",
    "\n",
    "Hur ser nätverket ut som du precis tränat? Rita upp den."
   ]
  },
  {
   "cell_type": "code",
   "execution_count": 51,
   "id": "9afdc89b",
   "metadata": {},
   "outputs": [
    {
     "data": {
      "image/png": "[encoded data removed]",
      "text/plain": [
       "<IPython.core.display.Image object>"
      ]
     },
     "execution_count": 51,
     "metadata": {},
     "output_type": "execute_result"
    }
   ],
   "source": [
    "from torchviz import make_dot\n",
    "from IPython.display import Image\n",
    "\n",
    "# get one batch of data from the train_dataloader\n",
    "for batch in train_dataloader:\n",
    "    input_features = batch[0].to(device)  # extract input data (e.g., images, features)\n",
    "    break  # we only need one batch for visualization\n",
    "\n",
    "# forward pass through the model\n",
    "y = model(input_features)\n",
    "\n",
    "# create the computation graph for the output (mean of y for simplicity)\n",
    "make_dot(y.mean(), params=dict(model.named_parameters())).render(\"model_graph\", format=\"png\")\n",
    "\n",
    "Image(filename='model_graph.png')\n",
    "\n"
   ]
  },
  {
   "cell_type": "code",
   "execution_count": 49,
   "id": "1c9bbc53",
   "metadata": {},
   "outputs": [
    {
     "data": {
      "text/plain": [
       "NeuralNetwork(\n",
       "  (fc1): Linear(in_features=18, out_features=30, bias=True)\n",
       "  (fc2): Linear(in_features=30, out_features=30, bias=True)\n",
       "  (fc3): Linear(in_features=30, out_features=1, bias=True)\n",
       "  (relu): ReLU()\n",
       ")"
      ]
     },
     "execution_count": 49,
     "metadata": {},
     "output_type": "execute_result"
    }
   ],
   "source": [
    "model"
   ]
  },
  {
   "cell_type": "code",
   "execution_count": 48,
   "id": "53cdfb9b",
   "metadata": {},
   "outputs": [
    {
     "data": {
      "text/plain": [
       "=================================================================\n",
       "Layer (type:depth-idx)                   Param #\n",
       "=================================================================\n",
       "NeuralNetwork                            --\n",
       "├─Linear: 1-1                            570\n",
       "├─Linear: 1-2                            930\n",
       "├─Linear: 1-3                            31\n",
       "├─ReLU: 1-4                              --\n",
       "=================================================================\n",
       "Total params: 1,531\n",
       "Trainable params: 1,531\n",
       "Non-trainable params: 0\n",
       "================================================================="
      ]
     },
     "execution_count": 48,
     "metadata": {},
     "output_type": "execute_result"
    }
   ],
   "source": [
    "summary(model)"
   ]
  },
  {
   "cell_type": "markdown",
   "id": "e047e35b",
   "metadata": {},
   "source": [
    "<br/>"
   ]
  },
  {
   "cell_type": "markdown",
   "id": "9da10c4c",
   "metadata": {},
   "source": [
    "**4)**\n",
    "\n",
    "Vi ska nu utföra en random search av hyperparameters, och vi ska endast göra detta över hyperparametern antal_neurons_per_layer.\n",
    "\n",
    "Observera följande lista\n",
    "\n",
    "antal_neurons_per_layer = [1, 5, 10, 20, 30, 50, 100]\n",
    "\n",
    "Gör en loop och träna nu ett nätverk med dessa värden på antal neuroner per lager.\n",
    "\n",
    "Bygg och träna samtliga nätverk med \n",
    "\n",
    "antal_lager =  4\n",
    "\n",
    "batch_size = 6\n",
    "\n",
    "learning_rate = 0.01\n",
    "\n",
    "epochs = 20\n",
    "\n",
    "Vad drar du för slutsats?\n",
    "\n",
    "\n",
    "\n",
    "**OBS, ibland kan det se ut som att nätverket inte lärt sig något alls. Och så kan det vara, vi hade otur med matematiken helt enkelt. Stora nätverk kan ibland ta mer/mindre tid att komma igång att lära sig. Testa köra igen, och hoppas på lite mer tur! Du kanske också kan testa öka antal epoker.**\n",
    "\n",
    "**Vi kommer lära oss strategier för att motverka detta vid ett senare skede**\n"
   ]
  },
  {
   "cell_type": "markdown",
   "id": "0c0e7739",
   "metadata": {},
   "source": [
    "<br/>"
   ]
  },
  {
   "cell_type": "markdown",
   "id": "7f0369c3",
   "metadata": {},
   "source": [
    "<br/>"
   ]
  }
 ],
 "metadata": {
  "kernelspec": {
   "display_name": "Python 3 (ipykernel)",
   "language": "python",
   "name": "python3"
  },
  "language_info": {
   "codemirror_mode": {
    "name": "ipython",
    "version": 3
   },
   "file_extension": ".py",
   "mimetype": "text/x-python",
   "name": "python",
   "nbconvert_exporter": "python",
   "pygments_lexer": "ipython3",
   "version": "3.10.12"
  }
 },
 "nbformat": 4,
 "nbformat_minor": 5
}
