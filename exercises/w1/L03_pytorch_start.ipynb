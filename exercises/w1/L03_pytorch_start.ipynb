{
 "cells": [
  {
   "cell_type": "code",
   "execution_count": 1,
   "metadata": {},
   "outputs": [
    {
     "name": "stdout",
     "output_type": "stream",
     "text": [
      "PyTorch version: 2.5.1+cu118\n",
      "CUDA is available. Device count: 1\n",
      "Current CUDA device: 0\n",
      "CUDA device name: NVIDIA GeForce RTX 3050 Ti Laptop GPU\n"
     ]
    }
   ],
   "source": [
    "import torch\n",
    "\n",
    "# Check if PyTorch is installed\n",
    "print(\"PyTorch version:\", torch.__version__)\n",
    "\n",
    "# Check if CUDA is available\n",
    "if torch.cuda.is_available():\n",
    "    print(\"CUDA is available. Device count:\", torch.cuda.device_count())\n",
    "    print(\"Current CUDA device:\", torch.cuda.current_device())\n",
    "    print(\"CUDA device name:\", torch.cuda.get_device_name(torch.cuda.current_device()))\n",
    "else:\n",
    "    print(\"CUDA is not available.\")"
   ]
  },
  {
   "cell_type": "code",
   "execution_count": 9,
   "metadata": {},
   "outputs": [
    {
     "name": "stdout",
     "output_type": "stream",
     "text": [
      "True\n"
     ]
    }
   ],
   "source": [
    "print(torch.cuda.is_available())"
   ]
  },
  {
   "cell_type": "code",
   "execution_count": null,
   "metadata": {},
   "outputs": [],
   "source": [
    "# Ali uses autocomplete: view codestral"
   ]
  },
  {
   "cell_type": "code",
   "execution_count": 13,
   "metadata": {},
   "outputs": [
    {
     "data": {
      "text/plain": [
       "tensor([-0.0577,  0.1037,  0.7738])"
      ]
     },
     "execution_count": 13,
     "metadata": {},
     "output_type": "execute_result"
    }
   ],
   "source": [
    "torch.randn(3)"
   ]
  },
  {
   "cell_type": "code",
   "execution_count": 11,
   "metadata": {},
   "outputs": [
    {
     "name": "stdout",
     "output_type": "stream",
     "text": [
      "tensor([[ 0.5404,  0.5481, -0.7768],\n",
      "        [-0.3593, -0.3514, -1.0757]])\n",
      "torch.Size([2, 3])\n"
     ]
    }
   ],
   "source": [
    "dimension_1 = 2  # num rows\n",
    "dimension_2 = 3  # num columns\n",
    "\n",
    "my_tensor = torch.randn(dimension_1, dimension_2)\n",
    "\n",
    "print(my_tensor)\n",
    "print(my_tensor.shape)"
   ]
  },
  {
   "cell_type": "code",
   "execution_count": 7,
   "metadata": {},
   "outputs": [
    {
     "name": "stdout",
     "output_type": "stream",
     "text": [
      "tensor([[[ 0.5608, -0.2213],\n",
      "         [-2.2349,  0.5160],\n",
      "         [-0.4247,  0.4856]],\n",
      "\n",
      "        [[-1.3950, -0.6643],\n",
      "         [ 0.4949,  0.8759],\n",
      "         [-0.6792, -1.5798]],\n",
      "\n",
      "        [[-0.4681,  0.3512],\n",
      "         [ 0.5568,  0.5850],\n",
      "         [-0.3484,  0.6290]]])\n",
      "torch.Size([3, 3, 2])\n"
     ]
    }
   ],
   "source": [
    "dimension_1 = 3  # depth (number of layers)\n",
    "dimension_2 = 3  # height (number of rows)\n",
    "dimension_3 = 2  # width (number of columns)\n",
    "\n",
    "my_tensor_3d = torch.randn(dimension_1, dimension_2, dimension_3)\n",
    "\n",
    "print(my_tensor_3d)\n",
    "print(my_tensor_3d.shape)"
   ]
  },
  {
   "cell_type": "code",
   "execution_count": 15,
   "metadata": {},
   "outputs": [
    {
     "name": "stdout",
     "output_type": "stream",
     "text": [
      "tensor([1, 2, 3, 4, 5])\n",
      "tensor([9, 9, 9, 9, 9])\n",
      "tensor([10, 11, 12, 13, 14])\n",
      "tensor([ 9, 18, 27, 36, 45])\n"
     ]
    }
   ],
   "source": [
    "a_tensor = torch.tensor([1, 2, 3, 4, 5])\n",
    "another_tensor = torch.tensor([9, 9, 9, 9, 9])\n",
    "print(a_tensor)\n",
    "print(another_tensor)\n",
    "print(a_tensor + another_tensor)  # vector like addition\n",
    "print(a_tensor * another_tensor)  # vector like multiplication"
   ]
  },
  {
   "cell_type": "code",
   "execution_count": null,
   "metadata": {},
   "outputs": [],
   "source": []
  },
  {
   "cell_type": "code",
   "execution_count": null,
   "metadata": {},
   "outputs": [],
   "source": []
  },
  {
   "cell_type": "code",
   "execution_count": null,
   "metadata": {},
   "outputs": [],
   "source": []
  },
  {
   "cell_type": "code",
   "execution_count": null,
   "metadata": {},
   "outputs": [],
   "source": []
  }
 ],
 "metadata": {
  "kernelspec": {
   "display_name": "venv",
   "language": "python",
   "name": "python3"
  },
  "language_info": {
   "codemirror_mode": {
    "name": "ipython",
    "version": 3
   },
   "file_extension": ".py",
   "mimetype": "text/x-python",
   "name": "python",
   "nbconvert_exporter": "python",
   "pygments_lexer": "ipython3",
   "version": "3.10.12"
  }
 },
 "nbformat": 4,
 "nbformat_minor": 2
}
