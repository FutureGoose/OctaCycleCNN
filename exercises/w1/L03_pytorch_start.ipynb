{
 "cells": [
  {
   "cell_type": "code",
   "execution_count": 2,
   "metadata": {},
   "outputs": [
    {
     "name": "stdout",
     "output_type": "stream",
     "text": [
      "PyTorch version: 2.5.1+cu118\n",
      "CUDA is available. Device count: 1\n",
      "Current CUDA device: 0\n",
      "CUDA device name: NVIDIA GeForce RTX 2070 SUPER\n"
     ]
    }
   ],
   "source": [
    "import torch\n",
    "\n",
    "# Check if PyTorch is installed\n",
    "print(\"PyTorch version:\", torch.__version__)\n",
    "\n",
    "# Check if CUDA is available\n",
    "if torch.cuda.is_available():\n",
    "    print(\"CUDA is available. Device count:\", torch.cuda.device_count())\n",
    "    print(\"Current CUDA device:\", torch.cuda.current_device())\n",
    "    print(\"CUDA device name:\", torch.cuda.get_device_name(torch.cuda.current_device()))\n",
    "else:\n",
    "    print(\"CUDA is not available.\")"
   ]
  },
  {
   "cell_type": "code",
   "execution_count": 3,
   "metadata": {},
   "outputs": [
    {
     "name": "stdout",
     "output_type": "stream",
     "text": [
      "True\n"
     ]
    }
   ],
   "source": [
    "print(torch.cuda.is_available())"
   ]
  },
  {
   "cell_type": "code",
   "execution_count": 4,
   "metadata": {},
   "outputs": [],
   "source": [
    "# Ali uses autocomplete: \n",
    "# \"continue\" extension \n",
    "# api \"codestral\"\n"
   ]
  },
  {
   "cell_type": "code",
   "execution_count": 5,
   "metadata": {},
   "outputs": [
    {
     "data": {
      "text/plain": [
       "tensor([ 0.7534, -2.0590, -0.5366])"
      ]
     },
     "execution_count": 5,
     "metadata": {},
     "output_type": "execute_result"
    }
   ],
   "source": [
    "torch.randn(3)"
   ]
  },
  {
   "cell_type": "code",
   "execution_count": 6,
   "metadata": {},
   "outputs": [
    {
     "name": "stdout",
     "output_type": "stream",
     "text": [
      "tensor([[-1.5192,  1.3407,  0.4330],\n",
      "        [ 0.2190, -0.0416,  0.0091]])\n",
      "torch.Size([2, 3])\n"
     ]
    }
   ],
   "source": [
    "dimension_1 = 2  # num rows\n",
    "dimension_2 = 3  # num columns\n",
    "\n",
    "my_tensor = torch.randn(dimension_1, dimension_2)\n",
    "\n",
    "print(my_tensor)\n",
    "print(my_tensor.shape)"
   ]
  },
  {
   "cell_type": "code",
   "execution_count": 7,
   "metadata": {},
   "outputs": [
    {
     "name": "stdout",
     "output_type": "stream",
     "text": [
      "tensor([[[-0.8258, -1.1258],\n",
      "         [-1.7696,  1.5265],\n",
      "         [ 0.2818, -0.9865]],\n",
      "\n",
      "        [[-0.6463,  1.4097],\n",
      "         [-1.4645, -0.5203],\n",
      "         [ 0.2217, -2.0691]],\n",
      "\n",
      "        [[-0.5328,  0.9948],\n",
      "         [ 0.7522,  0.0973],\n",
      "         [ 0.1958,  0.5230]]])\n",
      "torch.Size([3, 3, 2])\n"
     ]
    }
   ],
   "source": [
    "dimension_1 = 3  # depth (number of layers)\n",
    "dimension_2 = 3  # height (number of rows)\n",
    "dimension_3 = 2  # width (number of columns)\n",
    "\n",
    "my_tensor_3d = torch.randn(dimension_1, dimension_2, dimension_3)\n",
    "\n",
    "print(my_tensor_3d)\n",
    "print(my_tensor_3d.shape)"
   ]
  },
  {
   "cell_type": "code",
   "execution_count": 8,
   "metadata": {},
   "outputs": [
    {
     "name": "stdout",
     "output_type": "stream",
     "text": [
      "tensor([1, 2, 3, 4, 5])\n",
      "tensor([9, 9, 9, 9, 9])\n",
      "tensor([10, 11, 12, 13, 14])\n",
      "tensor([ 9, 18, 27, 36, 45])\n"
     ]
    }
   ],
   "source": [
    "a_tensor = torch.tensor([1, 2, 3, 4, 5])\n",
    "another_tensor = torch.tensor([9, 9, 9, 9, 9])\n",
    "print(a_tensor)\n",
    "print(another_tensor)\n",
    "print(a_tensor + another_tensor)  # vector like addition\n",
    "print(a_tensor * another_tensor)  # vector like multiplication"
   ]
  },
  {
   "cell_type": "code",
   "execution_count": 22,
   "metadata": {},
   "outputs": [
    {
     "data": {
      "text/plain": [
       "tensor([[[-0.8258, -1.1258],\n",
       "         [-1.7696,  1.5265],\n",
       "         [ 0.2818, -0.9865]],\n",
       "\n",
       "        [[-0.6463,  1.4097],\n",
       "         [-1.4645, -0.5203],\n",
       "         [ 0.2217, -2.0691]],\n",
       "\n",
       "        [[-0.5328,  0.9948],\n",
       "         [ 0.7522,  0.0973],\n",
       "         [ 0.1958,  0.5230]]])"
      ]
     },
     "execution_count": 22,
     "metadata": {},
     "output_type": "execute_result"
    }
   ],
   "source": [
    "my_tensor_3d"
   ]
  },
  {
   "cell_type": "code",
   "execution_count": 31,
   "metadata": {},
   "outputs": [
    {
     "data": {
      "text/plain": [
       "torch.Size([3, 2])"
      ]
     },
     "execution_count": 31,
     "metadata": {},
     "output_type": "execute_result"
    }
   ],
   "source": [
    "my_tensor_3d[2].size()"
   ]
  },
  {
   "cell_type": "code",
   "execution_count": 25,
   "metadata": {},
   "outputs": [
    {
     "name": "stdout",
     "output_type": "stream",
     "text": [
      "tensor([[-0.8258, -1.1258],\n",
      "        [-1.7696,  1.5265],\n",
      "        [ 0.2818, -0.9865]])\n",
      "torch.Size([3, 2])\n",
      "3\n"
     ]
    }
   ],
   "source": [
    "print(my_tensor_3d[0])\n",
    "print(my_tensor_3d[0].shape)\n",
    "print(my_tensor_3d[0].shape[0])"
   ]
  },
  {
   "cell_type": "code",
   "execution_count": null,
   "metadata": {},
   "outputs": [],
   "source": []
  },
  {
   "cell_type": "code",
   "execution_count": 12,
   "metadata": {},
   "outputs": [
    {
     "data": {
      "text/plain": [
       "tensor([[-0.8258],\n",
       "        [-1.1258],\n",
       "        [-1.7696],\n",
       "        [ 1.5265],\n",
       "        [ 0.2818],\n",
       "        [-0.9865],\n",
       "        [-0.6463],\n",
       "        [ 1.4097],\n",
       "        [-1.4645],\n",
       "        [-0.5203],\n",
       "        [ 0.2217],\n",
       "        [-2.0691],\n",
       "        [-0.5328],\n",
       "        [ 0.9948],\n",
       "        [ 0.7522],\n",
       "        [ 0.0973],\n",
       "        [ 0.1958],\n",
       "        [ 0.5230]])"
      ]
     },
     "execution_count": 12,
     "metadata": {},
     "output_type": "execute_result"
    }
   ],
   "source": [
    "my_tensor_3d.reshape(-1, 1)"
   ]
  },
  {
   "cell_type": "code",
   "execution_count": null,
   "metadata": {},
   "outputs": [],
   "source": []
  },
  {
   "cell_type": "code",
   "execution_count": null,
   "metadata": {},
   "outputs": [],
   "source": []
  }
 ],
 "metadata": {
  "kernelspec": {
   "display_name": "venv",
   "language": "python",
   "name": "python3"
  },
  "language_info": {
   "codemirror_mode": {
    "name": "ipython",
    "version": 3
   },
   "file_extension": ".py",
   "mimetype": "text/x-python",
   "name": "python",
   "nbconvert_exporter": "python",
   "pygments_lexer": "ipython3",
   "version": "3.10.12"
  }
 },
 "nbformat": 4,
 "nbformat_minor": 2
}
