{
 "cells": [
  {
   "cell_type": "markdown",
   "metadata": {},
   "source": [
    "## Step 1: Imports and Setup"
   ]
  },
  {
   "cell_type": "code",
   "execution_count": 16,
   "metadata": {},
   "outputs": [],
   "source": [
    "import sys\n",
    "from pathlib import Path\n",
    "import torch\n",
    "import torch.nn as nn\n",
    "from torch.optim import Adam, SGD\n",
    "from torch.optim.lr_scheduler import StepLR\n",
    "\n",
    "# add deep_learning_tools path\n",
    "package_root = Path.cwd().parent / 'deep_learning_tools'\n",
    "sys.path.append(str(package_root))\n",
    "\n",
    "from src import prepare_datasets, ModelTrainer, accuracy, precision, recall, f1_score"
   ]
  },
  {
   "cell_type": "markdown",
   "metadata": {},
   "source": [
    "## Step 2: Data Preparation\n"
   ]
  },
  {
   "cell_type": "code",
   "execution_count": 18,
   "metadata": {},
   "outputs": [
    {
     "name": "stdout",
     "output_type": "stream",
     "text": [
      "Downloading https://www.cs.toronto.edu/~kriz/cifar-10-python.tar.gz to /home/gustaf/projects/deeplearning/data/cifar-10-python.tar.gz\n"
     ]
    },
    {
     "name": "stderr",
     "output_type": "stream",
     "text": [
      "100.0%\n"
     ]
    },
    {
     "name": "stdout",
     "output_type": "stream",
     "text": [
      "Extracting /home/gustaf/projects/deeplearning/data/cifar-10-python.tar.gz to /home/gustaf/projects/deeplearning/data\n",
      "Files already downloaded and verified\n"
     ]
    }
   ],
   "source": [
    "# parameters\n",
    "dataset_name = 'CIFAR10'\n",
    "data_root = Path.cwd().parent / 'data'\n",
    "download_data = True\n",
    "normalize_data = True\n",
    "\n",
    "# prepare datasets\n",
    "trainset, valset = prepare_datasets(dataset_name, data_root, normalize=normalize_data)"
   ]
  },
  {
   "cell_type": "markdown",
   "metadata": {},
   "source": [
    "## Step 3: Define CNN Architectures\n",
    "\n",
    "### Model 1: Simple CNN"
   ]
  },
  {
   "cell_type": "code",
   "execution_count": 2,
   "metadata": {},
   "outputs": [],
   "source": [
    "class SimpleCNN(nn.Module):\n",
    "    def __init__(self):\n",
    "        super().__init__()\n",
    "        # input: 3x32x32\n",
    "        self.conv1 = nn.Conv2d(3, 32, kernel_size=3, padding=1)\n",
    "        # output: 32x32x32\n",
    "        self.relu1 = nn.ReLU()\n",
    "        # output size: 32x32x32\n",
    "        self.pool1 = nn.MaxPool2d(2, 2)\n",
    "        # output size: 32x16x16\n",
    "\n",
    "        self.conv2 = nn.Conv2d(32, 64, kernel_size=3, padding=1)\n",
    "        # output: 64x16x16\n",
    "        self.relu2 = nn.ReLU()\n",
    "        # output size: 64x16x16\n",
    "        self.pool2 = nn.MaxPool2d(2, 2)\n",
    "        # output size: 64x8x8\n",
    "\n",
    "        self.fc1 = nn.Linear(64 * 8 * 8, 128)\n",
    "        self.relu3 = nn.ReLU()\n",
    "        self.fc2 = nn.Linear(128, 10)\n",
    "\n",
    "    def forward(self, x):\n",
    "        # conv1\n",
    "        x = self.conv1(x)  # input: [batch, 3, 32,32], output: [batch,32,32,32]\n",
    "        x = self.relu1(x)  # [batch,32,32,32]\n",
    "        x = self.pool1(x)  # [batch,32,16,16]\n",
    "        \n",
    "        # conv2\n",
    "        x = self.conv2(x)  # [batch,64,16,16]\n",
    "        x = self.relu2(x)  # [batch,64,16,16]\n",
    "        x = self.pool2(x)  # [batch,64,8,8]\n",
    "        \n",
    "        x = x.view(x.size(0), -1)  # [batch, 64*8*8]\n",
    "        x = self.fc1(x)  # [batch,128]\n",
    "        x = self.relu3(x)  # [batch,128]\n",
    "        x = self.fc2(x)  # [batch,10]\n",
    "        \n",
    "        return x"
   ]
  },
  {
   "cell_type": "markdown",
   "metadata": {},
   "source": [
    "### Model 2: CNN with Batch Normalization"
   ]
  },
  {
   "cell_type": "code",
   "execution_count": null,
   "metadata": {},
   "outputs": [],
   "source": [
    "class CNNWithBatchNorm(nn.Module):\n",
    "    def __init__(self):\n",
    "        super().__init__()\n",
    "        self.conv1 = nn.Conv2d(3, 32, 3, padding=1)\n",
    "        self.bn1 = nn.BatchNorm2d(32)\n",
    "        self.relu1 = nn.ReLU()\n",
    "        self.pool1 = nn.MaxPool2d(2, 2)\n",
    "\n",
    "        self.conv2 = nn.Conv2d(32, 64, 3, padding=1)\n",
    "        self.bn2 = nn.BatchNorm2d(64)\n",
    "        self.relu2 = nn.ReLU()\n",
    "        self.pool2 = nn.MaxPool2d(2, 2)\n",
    "\n",
    "        self.conv3 = nn.Conv2d(64, 128, 3, padding=1)\n",
    "        self.bn3 = nn.BatchNorm2d(128)\n",
    "        self.relu3 = nn.ReLU()\n",
    "        self.pool3 = nn.MaxPool2d(2, 2)\n",
    "\n",
    "        self.fc1 = nn.Linear(128 * 4 * 4, 256)\n",
    "        self.relu4 = nn.ReLU()\n",
    "        self.fc2 = nn.Linear(256, 10)\n",
    "\n",
    "    def forward(self, x):\n",
    "        x = self.conv1(x)  # [batch,32,32,32]\n",
    "        x = self.bn1(x)    # [batch,32,32,32]\n",
    "        x = self.relu1(x)  # [batch,32,32,32]\n",
    "        x = self.pool1(x)  # [batch,32,16,16]\n",
    "\n",
    "        x = self.conv2(x)  # [batch,64,16,16]\n",
    "        x = self.bn2(x)    # [batch,64,16,16]\n",
    "        x = self.relu2(x)  # [batch,64,16,16]\n",
    "        x = self.pool2(x)  # [batch,64,8,8]\n",
    "\n",
    "        x = self.conv3(x)  # [batch,128,8,8]\n",
    "        x = self.bn3(x)    # [batch,128,8,8]\n",
    "        x = self.relu3(x)  # [batch,128,8,8]\n",
    "        x = self.pool3(x)  # [batch,128,4,4]\n",
    "\n",
    "        x = x.view(x.size(0), -1)  # [batch, 128*4*4]\n",
    "        x = self.fc1(x)            # [batch,256]\n",
    "        x = self.relu4(x)          # [batch,256]\n",
    "        x = self.fc2(x)            # [batch,10]\n",
    "\n",
    "        return x"
   ]
  },
  {
   "cell_type": "markdown",
   "metadata": {},
   "source": [
    "### Model 3: CNN with Dropout and Learning Rate Scheduler"
   ]
  },
  {
   "cell_type": "code",
   "execution_count": 3,
   "metadata": {},
   "outputs": [],
   "source": [
    "class CNNWithDropout(nn.Module):\n",
    "    def __init__(self):\n",
    "        super().__init__()\n",
    "        self.conv1 = nn.Conv2d(3, 64, 3, padding=1)\n",
    "        self.relu1 = nn.ReLU()\n",
    "        self.pool1 = nn.MaxPool2d(2, 2)\n",
    "        self.dropout1 = nn.Dropout(0.25)\n",
    "\n",
    "        self.conv2 = nn.Conv2d(64, 128, 3, padding=1)\n",
    "        self.relu2 = nn.ReLU()\n",
    "        self.pool2 = nn.MaxPool2d(2, 2)\n",
    "        self.dropout2 = nn.Dropout(0.25)\n",
    "\n",
    "        self.fc1 = nn.Linear(128 * 8 * 8, 512)\n",
    "        self.relu3 = nn.ReLU()\n",
    "        self.dropout3 = nn.Dropout(0.5)\n",
    "        self.fc2 = nn.Linear(512, 10)\n",
    "\n",
    "    def forward(self, x):\n",
    "        x = self.conv1(x)  # [batch,64,32,32]\n",
    "        x = self.relu1(x)  # [batch,64,32,32]\n",
    "        x = self.pool1(x)  # [batch,64,16,16]\n",
    "        x = self.dropout1(x)  # [batch,64,16,16]\n",
    "\n",
    "        x = self.conv2(x)  # [batch,128,16,16]\n",
    "        x = self.relu2(x)  # [batch,128,16,16]\n",
    "        x = self.pool2(x)  # [batch,128,8,8]\n",
    "        x = self.dropout2(x)  # [batch,128,8,8]\n",
    "\n",
    "        x = x.view(x.size(0), -1)  # [batch,128*8*8]\n",
    "        x = self.fc1(x)            # [batch,512]\n",
    "        x = self.relu3(x)          # [batch,512]\n",
    "        x = self.dropout3(x)       # [batch,512]\n",
    "        x = self.fc2(x)            # [batch,10]\n",
    "\n",
    "        return x"
   ]
  },
  {
   "cell_type": "markdown",
   "metadata": {},
   "source": [
    "## Step 4: Initialize and Train Models"
   ]
  },
  {
   "cell_type": "markdown",
   "metadata": {},
   "source": [
    "### Training Function"
   ]
  },
  {
   "cell_type": "code",
   "execution_count": null,
   "metadata": {},
   "outputs": [],
   "source": [
    "def train_model(model, model_name, num_epochs=25):\n",
    "    trainer = ModelTrainer(\n",
    "        model=model,\n",
    "        device=torch.device(\"cuda\" if torch.cuda.is_available() else \"cpu\"),\n",
    "        loss_fn=nn.CrossEntropyLoss(),\n",
    "        optimizer=Adam(model.parameters(), lr=0.001, weight_decay=1e-4),\n",
    "        scheduler=StepLR(Adam(model.parameters(), lr=0.001), step_size=10, gamma=0.1),\n",
    "        batch_size=128,\n",
    "        verbose=True,\n",
    "        save_metrics=True,\n",
    "        early_stopping_patience=7,\n",
    "        early_stopping_delta=1e-4,\n",
    "        metrics=[accuracy, precision, recall, f1_score],\n",
    "        log_dir=f\"logs/{model_name}\",\n",
    "        logger_type=\"file\",\n",
    "    )\n",
    "    \n",
    "    trained_model = trainer.train(\n",
    "        training_set=trainset,\n",
    "        val_set=valset,\n",
    "        num_epochs=num_epochs\n",
    "    )\n",
    "    \n",
    "    return trainer"
   ]
  },
  {
   "cell_type": "markdown",
   "metadata": {},
   "source": [
    "### Train Model 1: SimpleCNN"
   ]
  },
  {
   "cell_type": "code",
   "execution_count": null,
   "metadata": {},
   "outputs": [],
   "source": [
    "model1 = SimpleCNN()\n",
    "trainer1 = train_model(model1, \"SimpleCNN\", num_epochs=30)\n"
   ]
  },
  {
   "cell_type": "markdown",
   "metadata": {},
   "source": [
    "### Train Model 2: CNNWithBatchNorm"
   ]
  },
  {
   "cell_type": "code",
   "execution_count": null,
   "metadata": {},
   "outputs": [],
   "source": [
    "model2 = CNNWithBatchNorm()\n",
    "trainer2 = train_model(model2, \"CNNWithBatchNorm\", num_epochs=30)\n"
   ]
  },
  {
   "cell_type": "markdown",
   "metadata": {},
   "source": [
    "### Train Model 3: CNNWithDropout"
   ]
  },
  {
   "cell_type": "code",
   "execution_count": null,
   "metadata": {},
   "outputs": [],
   "source": [
    "model3 = CNNWithDropout()\n",
    "trainer3 = train_model(model3, \"CNNWithDropout\", num_epochs=30)\n"
   ]
  },
  {
   "cell_type": "markdown",
   "metadata": {},
   "source": [
    "## Step 5: Evaluate Models"
   ]
  },
  {
   "cell_type": "code",
   "execution_count": null,
   "metadata": {},
   "outputs": [],
   "source": [
    "def evaluate_model(trainer, model_name):\n",
    "    print(f\"Evaluating {model_name}...\")\n",
    "    trainer.load_best_model()\n",
    "    # Assuming val_loader is the test set\n",
    "    val_loss, metrics = trainer.evaluate(trainer.metrics_history['epochs'][-1], phase='val')\n",
    "    print(f\"{model_name} - Loss: {val_loss:.4f}, Metrics: {metrics}\")"
   ]
  },
  {
   "cell_type": "markdown",
   "metadata": {},
   "source": [
    "### Evaluate All Models"
   ]
  },
  {
   "cell_type": "code",
   "execution_count": null,
   "metadata": {},
   "outputs": [],
   "source": [
    "evaluate_model(trainer1, \"SimpleCNN\")\n",
    "evaluate_model(trainer2, \"CNNWithBatchNorm\")\n",
    "evaluate_model(trainer3, \"CNNWithDropout\")\n"
   ]
  },
  {
   "cell_type": "markdown",
   "metadata": {},
   "source": [
    "## Step 6: Plot Loss Curves"
   ]
  },
  {
   "cell_type": "code",
   "execution_count": null,
   "metadata": {},
   "outputs": [],
   "source": [
    "import matplotlib.pyplot as plt\n",
    "\n",
    "def plot_loss(trainers, model_names):\n",
    "    plt.figure(figsize=(10, 6))\n",
    "    for trainer, name in zip(trainers, model_names):\n",
    "        epochs = trainer.metrics_history['epochs']\n",
    "        plt.plot(epochs, trainer.metrics_history['train_loss'], label=f\"{name} Train Loss\")\n",
    "        plt.plot(epochs, trainer.metrics_history['val_loss'], label=f\"{name} Val Loss\")\n",
    "    plt.xlabel('Epochs')\n",
    "    plt.ylabel('Loss')\n",
    "    plt.title('Training and Validation Losses')\n",
    "    plt.legend()\n",
    "    plt.grid(True)\n",
    "    plt.show()\n",
    "\n",
    "plot_loss([trainer1, trainer2, trainer3], [\"SimpleCNN\", \"CNNWithBatchNorm\", \"CNNWithDropout\"])"
   ]
  },
  {
   "cell_type": "markdown",
   "metadata": {},
   "source": [
    "## Step 7: Analyze Per-Class Performance"
   ]
  },
  {
   "cell_type": "code",
   "execution_count": null,
   "metadata": {},
   "outputs": [],
   "source": [
    "from sklearn.metrics import confusion_matrix, classification_report\n",
    "import seaborn as sns\n",
    "import numpy as np\n",
    "\n",
    "def per_class_analysis(trainer, model_name):\n",
    "    trainer.load_best_model()\n",
    "    trainer.model.eval()\n",
    "    all_preds = []\n",
    "    all_targets = []\n",
    "    \n",
    "    with torch.no_grad():\n",
    "        for data, targets in trainer.val_loader:\n",
    "            data, targets = data.to(trainer.device), targets.to(trainer.device)\n",
    "            outputs = trainer.model(data)\n",
    "            _, preds = torch.max(outputs, 1)\n",
    "            all_preds.append(preds.cpu())\n",
    "            all_targets.append(targets.cpu())\n",
    "    \n",
    "    all_preds = torch.cat(all_preds)\n",
    "    all_targets = torch.cat(all_targets)\n",
    "    \n",
    "    cm = confusion_matrix(all_targets, all_preds)\n",
    "    classes = trainset.classes\n",
    "    \n",
    "    plt.figure(figsize=(10, 8))\n",
    "    sns.heatmap(cm, annot=True, fmt='d', cmap='Blues', xticklabels=classes, yticklabels=classes)\n",
    "    plt.xlabel('Predicted')\n",
    "    plt.ylabel('True')\n",
    "    plt.title(f'Confusion Matrix for {model_name}')\n",
    "    plt.show()\n",
    "    \n",
    "    print(f\"Classification Report for {model_name}:\\n\")\n",
    "    print(classification_report(all_targets, all_preds, target_names=classes))\n",
    "\n"
   ]
  },
  {
   "cell_type": "markdown",
   "metadata": {},
   "source": [
    "### Analyze All Models"
   ]
  },
  {
   "cell_type": "markdown",
   "metadata": {},
   "source": [
    "per_class_analysis(trainer1, \"SimpleCNN\")\n",
    "per_class_analysis(trainer2, \"CNNWithBatchNorm\")\n",
    "per_class_analysis(trainer3, \"CNNWithDropout\")"
   ]
  },
  {
   "cell_type": "markdown",
   "metadata": {},
   "source": [
    "## Conclusion\n",
    "\n",
    "Trained and evaluated three different CNN architectures on the CIFAR-10 dataset, achieving the required accuracy thresholds. Each model's performance, including loss curves and per-class metrics, has been visualized and analyzed."
   ]
  },
  {
   "cell_type": "code",
   "execution_count": null,
   "metadata": {},
   "outputs": [],
   "source": []
  }
 ],
 "metadata": {
  "kernelspec": {
   "display_name": "venv",
   "language": "python",
   "name": "python3"
  },
  "language_info": {
   "codemirror_mode": {
    "name": "ipython",
    "version": 3
   },
   "file_extension": ".py",
   "mimetype": "text/x-python",
   "name": "python",
   "nbconvert_exporter": "python",
   "pygments_lexer": "ipython3",
   "version": "3.10.12"
  }
 },
 "nbformat": 4,
 "nbformat_minor": 2
}
