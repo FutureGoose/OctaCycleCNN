{
 "cells": [
  {
   "cell_type": "markdown",
   "metadata": {},
   "source": [
    "**Examinationsarbete i Deep Learning**\n",
    "\n",
    "**Project $alpha$**\n",
    "\n",
    "Målbild:\n",
    "\n",
    "- Designa och träna Convolutional Neural Networks (CNNs) från grunden, för att klassificera bilder i CIFAR-10 datasetet.\n",
    "\n",
    "Generella och specifika kraven för betygsgränser beskrivs längre ner.\n",
    "\n",
    "---"
   ]
  },
  {
   "cell_type": "markdown",
   "metadata": {},
   "source": [
    "**Dataset, CIFAR-10**"
   ]
  },
  {
   "cell_type": "markdown",
   "metadata": {},
   "source": [
    "- **Antal bilder:** 60,000 (32x32 pixlar, färgbilder).\n",
    "- **Klasser:** 10 klasser (t.ex. flygplan, bil, fågel, katt).\n",
    "- **Uppdelning:**\n",
    "  - Träning: 50,000 bilder.\n",
    "  - Test: 10,000 bilder.\n",
    "\n",
    "**Evalueringskrav**\n",
    "\n",
    "Datasetet ska laddas in från PyTorchs `torchvision` bibliotek, och tillhörande testset ska användas för evaluering. "
   ]
  },
  {
   "cell_type": "markdown",
   "metadata": {},
   "source": [
    "---\n",
    "\n",
    "**Project $alpha$**\n",
    "\n",
    "\n",
    "Här ska ni designa och träna Convolutional Neural Networks (CNNs) från grunden, i syfte att klassificera bilder i CIFAR-10-datasetet. \n",
    "\n",
    "**Krav för G:**\n",
    "- Mellan **75-80% accuracy** på test-settet.\n",
    "- Designa, träna och evaluera minst **tre olika CNN-arkitekturer**.\n",
    "- Prestandan av varje färdigtränad modell ska vara tydlig, och även loss-kurvor ska plottas - följt av en kortfattad analys av dessa.\n",
    "- I varje CNN-klass ska, i `forward`-metoden, **storleken på input och output för varje operation** skrivas ut som en kommentar.\n",
    "- Gör dessutom en **kvalitativ analys** av dina modellers prestanda (vilka klasser presteras bra på, och vilka dåligt) - och varför, om möjligt.\n",
    "\n",
    "**Krav för VG:**\n",
    "\n",
    "- Uppnår kraven för **G**, och når **85%+ accuracy** på test-settet.\n",
    "- Ni använder dessutom flertalet metoder under träningen som ni själva läst på och lärt er om, exempelvis via litteraturhänvisningen.\n",
    "    - samtliga metoder, utöver de vi gått igenom i klassen, som ni väljer att använda ska ni i ett särskilt stycke i er notebook, förklara (så gott ni kan) \n",
    "    samt ge referenser till.\n",
    "- Ni ska även att utföra en ordentlig error analysis, på er bäst presterade modell.\n",
    "\n",
    "**Krav för Guldstjärna:**\n",
    "\n",
    "- Uppnår kraven för **VG**, och når **90%+ accuracy** på test-settet.\n",
    "\n"
   ]
  },
  {
   "cell_type": "markdown",
   "metadata": {},
   "source": [
    "\n",
    "\n",
    "Var kreativa med era arkitekturer. Ni behöver exempelvis inte begränsa er till det 'normala' convolutional block som vi \n",
    "lärde oss under föreläsningarna (dvs conv layer + relu följt av pooling), utan det kan se annorlunda ut. Se litteraturhänvisningarna för inspiration från kända CNN-arkitekturer som ex. AlexNet, VGG, ResNet etc. \n",
    "\n",
    "Utöver det finns det andra knep man kan integrera in i sin CNN som empiriskt visat förbättra prestanda. Exempelvis:\n",
    "\n",
    "- Batch Normalization\n",
    "- Data Augmentation\n",
    "- Alternativa Optimizers (ex Adam, RMSprop)\n",
    "- Learning Rate Scheduling\n",
    "\n",
    "Ni har friheten att själva söka information om dessa och hur de implementeras i PyTorch, för att sedan nyttja dem i ert projekt."
   ]
  },
  {
   "cell_type": "markdown",
   "metadata": {},
   "source": [
    "**Pre-trained models & Transfer Learning**\n",
    "\n",
    "Kraven för alla betyg (och Guldstjärnan) går att uppnå med att träna modeller från grunden, men ni får givetvis även försöka er på att använda en pre-trained model om ni vill. Men, ni får inte **enbart** använda pre-trained models (max antal: 1).\n",
    "\n",
    "Det kan dock vara rätt beräkningstungt."
   ]
  },
  {
   "cell_type": "markdown",
   "metadata": {},
   "source": [
    "---\n",
    "\n",
    "**Inlämning**\n",
    "\n"
   ]
  },
  {
   "cell_type": "markdown",
   "metadata": {},
   "source": [
    "Ni lämnar in en notebook fil som innehåller allt arbete. Notebooken ska dessutom sparas med alla outputen kvarstående! \n",
    "\n",
    "Mao ska jag bara kunna bläddra igenom er notebook för att se allt arbete och alla output, utan att för den delen köra koden själv.\n",
    "\n",
    "Spara notebook:en med namnet **{namn}\\_{efternamn}\\_{alpha}.ipynb**, och skicka därefter in via ITHS-portalen."
   ]
  },
  {
   "cell_type": "markdown",
   "metadata": {},
   "source": [
    "---\n",
    "\n",
    "**Literaturlista**\n",
    "\n",
    "Följande research ger både en inblick i historiken av CNN-arkitekturers utveckling, och kan ge idéer om nyttiga idéer i era egna projekt:\n",
    "\n",
    "* [__LeNet-5__](http://yann.lecun.com/exdb/lenet/). Grundläggande arbete som introducer konceptet med Convolutional Neural Networks.\n",
    "* [__AlexNet__](https://papers.nips.cc/paper/2012/file/c399862d3b9d6b76c8436e924a68c45b-Paper.pdf). Vann ImageNet-tävlingen 2012, genom att bland annat introducera \"ReLU\".\n",
    "* [__VGGNet__](https://arxiv.org/abs/1409.1556).\n",
    "* [__GoogLeNet__](https://arxiv.org/abs/1409.4842). Introducerade \"Inception\"-modulen (aka \"bottle-neck layer\").\n",
    "* [__ResNet__](http://openaccess.thecvf.com/content_cvpr_2016/papers/He_Deep_Residual_Learning_CVPR_2016_paper.pdf). Introducerar \"skip connections\" som hjälper djupa nätverk att lära sig. \n",
    "* [__EfficientNet__](https://arxiv.org/abs/1905.11946)\n",
    "\n",
    "Ni kan givetvis lära er mer om dessa koncept genom att söka efter alternativa källor också.\n",
    "\n",
    "\n",
    "\n"
   ]
  },
  {
   "cell_type": "markdown",
   "metadata": {},
   "source": []
  }
 ],
 "metadata": {
  "kernelspec": {
   "display_name": "hf2",
   "language": "python",
   "name": "python3"
  },
  "language_info": {
   "codemirror_mode": {
    "name": "ipython",
    "version": 3
   },
   "file_extension": ".py",
   "mimetype": "text/x-python",
   "name": "python",
   "nbconvert_exporter": "python",
   "pygments_lexer": "ipython3",
   "version": "3.11.11"
  }
 },
 "nbformat": 4,
 "nbformat_minor": 2
}
