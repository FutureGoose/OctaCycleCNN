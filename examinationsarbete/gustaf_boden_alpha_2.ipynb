{
 "cells": [
  {
   "cell_type": "markdown",
   "metadata": {},
   "source": [
    "## Step 1: Imports and Setup"
   ]
  },
  {
   "cell_type": "code",
   "execution_count": 2,
   "metadata": {},
   "outputs": [],
   "source": [
    "import sys\n",
    "from pathlib import Path\n",
    "import torch\n",
    "import torch.nn as nn\n",
    "from torch.optim import Adam, SGD\n",
    "from torch.optim.lr_scheduler import StepLR\n",
    "\n",
    "# add deep_learning_tools path\n",
    "package_root = Path.cwd().parent / 'deep_learning_tools'\n",
    "sys.path.append(str(package_root))\n",
    "\n",
    "from src import prepare_datasets, ModelTrainer, accuracy, precision, recall, f1_score\n",
    "\n",
    "# parameters\n",
    "dataset_name = 'CIFAR10'\n",
    "data_root = Path.cwd().parent / 'data'\n",
    "download_data = True\n",
    "normalize_data = True"
   ]
  },
  {
   "cell_type": "markdown",
   "metadata": {},
   "source": [
    "## Step 2: Data Preparation\n"
   ]
  },
  {
   "cell_type": "code",
   "execution_count": 3,
   "metadata": {},
   "outputs": [
    {
     "name": "stdout",
     "output_type": "stream",
     "text": [
      "Files already downloaded and verified\n",
      "Files already downloaded and verified\n",
      "calculated mean: 0.4733640253543854, std: 0.21108488738536835\n",
      "after normalization: mean: -4.796001576323761e-06, std: 1.000001072883606\n"
     ]
    }
   ],
   "source": [
    "# prepare datasets\n",
    "trainset, valset = prepare_datasets(dataset_name, data_root, normalize=normalize_data)"
   ]
  },
  {
   "cell_type": "markdown",
   "metadata": {},
   "source": [
    "## Step 3: Define CNN Architectures\n",
    "\n",
    "### Model 1: Simple CNN\n"
   ]
  },
  {
   "cell_type": "code",
   "execution_count": 4,
   "metadata": {},
   "outputs": [],
   "source": [
    "class SimpleCNN(nn.Module):\n",
    "    def __init__(self):\n",
    "        super().__init__()\n",
    "        # input: 3x32x32\n",
    "        self.conv1 = nn.Conv2d(3, 32, kernel_size=3, padding=1)\n",
    "        # output: 32x32x32\n",
    "        self.relu1 = nn.ReLU()\n",
    "        # output size: 32x32x32\n",
    "        self.pool1 = nn.MaxPool2d(2, 2)\n",
    "        # output size: 32x16x16\n",
    "\n",
    "        self.conv2 = nn.Conv2d(32, 64, kernel_size=3, padding=1)\n",
    "        # output: 64x16x16\n",
    "        self.relu2 = nn.ReLU()\n",
    "        # output size: 64x16x16\n",
    "        self.pool2 = nn.MaxPool2d(2, 2)\n",
    "        # output size: 64x8x8\n",
    "\n",
    "        self.fc1 = nn.Linear(64 * 8 * 8, 128)\n",
    "        self.relu3 = nn.ReLU()\n",
    "        self.fc2 = nn.Linear(128, 10)\n",
    "\n",
    "    def forward(self, x):\n",
    "        # conv1\n",
    "        x = self.conv1(x)  # input: [batch, 3, 32,32], output: [batch,32,32,32]\n",
    "        x = self.relu1(x)  # [batch,32,32,32]\n",
    "        x = self.pool1(x)  # [batch,32,16,16]\n",
    "        \n",
    "        # conv2\n",
    "        x = self.conv2(x)  # [batch,64,16,16]\n",
    "        x = self.relu2(x)  # [batch,64,16,16]\n",
    "        x = self.pool2(x)  # [batch,64,8,8]\n",
    "        \n",
    "        x = x.view(x.size(0), -1)  # [batch, 64*8*8]\n",
    "        x = self.fc1(x)  # [batch,128]\n",
    "        x = self.relu3(x)  # [batch,128]\n",
    "        x = self.fc2(x)  # [batch,10]\n",
    "        \n",
    "        return x"
   ]
  },
  {
   "cell_type": "code",
   "execution_count": null,
   "metadata": {},
   "outputs": [],
   "source": [
    "import torch.nn as nn\n",
    "import torch.nn.functional as F\n",
    "\n",
    "class SuperSimpleNN(nn.Module):\n",
    "    \"\"\"A simple fully connected neural network for classification.\"\"\"\n",
    "\n",
    "    def __init__(self, input_size: int, num_classes: int):\n",
    "        super().__init__()\n",
    "        self.fc1 = nn.Linear(input_size, 128)  # first hidden layer\n",
    "        self.fc2 = nn.Linear(128, 64)          # second hidden layer\n",
    "        self.fc3 = nn.Linear(64, num_classes)  # output layer\n",
    "\n",
    "    def forward(self, x):\n",
    "        x = x.view(x.size(0), -1)  # flatten input\n",
    "        x = F.relu(self.fc1(x))    # first activation\n",
    "        x = F.relu(self.fc2(x))    # second activation\n",
    "        x = self.fc3(x)            # output\n",
    "        return x"
   ]
  },
  {
   "cell_type": "markdown",
   "metadata": {},
   "source": [
    "## Step 4: Initialize and Train Models\n",
    "\n",
    "### Training Function"
   ]
  },
  {
   "cell_type": "code",
   "execution_count": 5,
   "metadata": {},
   "outputs": [],
   "source": [
    "def train_model(model, model_name, num_epochs=25):\n",
    "    optimizer = Adam(model.parameters(), lr=0.001, weight_decay=1e-4)\n",
    "    scheduler = StepLR(optimizer, step_size=10, gamma=0.1)\n",
    "    \n",
    "    trainer = ModelTrainer(\n",
    "        model=model,\n",
    "        device=torch.device(\"cuda\" if torch.cuda.is_available() else \"cpu\"),\n",
    "        loss_fn=nn.CrossEntropyLoss(),\n",
    "        optimizer=optimizer,\n",
    "        scheduler=scheduler,\n",
    "        batch_size=128,\n",
    "        verbose=True,\n",
    "        save_metrics=False,\n",
    "        early_stopping_patience=5,\n",
    "        early_stopping_delta=1e-4,\n",
    "        metrics=[accuracy],\n",
    "        log_dir=f\"logs/{model_name}\",\n",
    "        logger_type=\"file\",\n",
    "        # wandb_project=\"cifar10\",\n",
    "        # wandb_entity=\"futuregoose\",\n",
    "        sweep=False\n",
    "    )\n",
    "    \n",
    "    trained_model = trainer.train(\n",
    "        training_set=trainset,\n",
    "        val_set=valset,\n",
    "        num_epochs=num_epochs\n",
    "    )\n",
    "    \n",
    "    return trainer"
   ]
  },
  {
   "cell_type": "markdown",
   "metadata": {},
   "source": [
    "### Train Model 1: Simple CNN"
   ]
  },
  {
   "cell_type": "code",
   "execution_count": null,
   "metadata": {},
   "outputs": [],
   "source": [
    "model1 = SuperSimpleNN(input_size=32*32*3, num_classes=10)\n",
    "trainer1 = train_model(model1, \"SuperSimpleNN\", num_epochs=30)"
   ]
  },
  {
   "cell_type": "code",
   "execution_count": null,
   "metadata": {},
   "outputs": [],
   "source": []
  },
  {
   "cell_type": "code",
   "execution_count": null,
   "metadata": {},
   "outputs": [],
   "source": []
  },
  {
   "cell_type": "markdown",
   "metadata": {},
   "source": [
    "## Step 5: Evaluate Models"
   ]
  },
  {
   "cell_type": "code",
   "execution_count": null,
   "metadata": {},
   "outputs": [],
   "source": [
    "def evaluate_model(trainer, model_name):\n",
    "    print(f\"Evaluating {model_name}...\")\n",
    "    trainer.load_best_model()\n",
    "    # assuming val_loader is the test set\n",
    "    val_loss, metrics = trainer.evaluate(trainer.metrics_history['epochs'][-1], phase='val')\n",
    "    print(f\"{model_name} - Loss: {val_loss:.4f}, Metrics: {metrics}\")"
   ]
  },
  {
   "cell_type": "markdown",
   "metadata": {},
   "source": [
    "### Evaluate All Models"
   ]
  },
  {
   "cell_type": "code",
   "execution_count": null,
   "metadata": {},
   "outputs": [],
   "source": [
    "evaluate_model(trainer1, \"SimpleCNN\")\n",
    "evaluate_model(trainer2, \"CNNWithBatchNorm\")\n",
    "evaluate_model(trainer3, \"CNNWithDropout\")"
   ]
  },
  {
   "cell_type": "markdown",
   "metadata": {},
   "source": [
    "## Step 6: Plot Loss Curves"
   ]
  },
  {
   "cell_type": "code",
   "execution_count": null,
   "metadata": {},
   "outputs": [],
   "source": [
    "import matplotlib.pyplot as plt\n",
    "\n",
    "def plot_loss(trainers, model_names):\n",
    "    plt.figure(figsize=(10, 6))\n",
    "    for trainer, name in zip(trainers, model_names):\n",
    "        epochs = trainer.metrics_history['epochs']\n",
    "        plt.plot(epochs, trainer.metrics_history['train_loss'], label=f\"{name} Train Loss\")\n",
    "        plt.plot(epochs, trainer.metrics_history['val_loss'], label=f\"{name} Val Loss\")\n",
    "    plt.xlabel('Epochs')\n",
    "    plt.ylabel('Loss')\n",
    "    plt.title('Training and Validation Losses')\n",
    "    plt.legend()\n",
    "    plt.grid(True)\n",
    "    plt.show()\n",
    "\n",
    "plot_loss([trainer1, trainer2, trainer3], [\"SimpleCNN\", \"CNNWithBatchNorm\", \"CNNWithDropout\"])"
   ]
  },
  {
   "cell_type": "markdown",
   "metadata": {},
   "source": [
    "## Step 7: Analyze Per-Class Performance"
   ]
  },
  {
   "cell_type": "code",
   "execution_count": null,
   "metadata": {},
   "outputs": [],
   "source": [
    "from sklearn.metrics import confusion_matrix, classification_report\n",
    "import seaborn as sns\n",
    "import numpy as np\n",
    "\n",
    "def per_class_analysis(trainer, model_name):\n",
    "    trainer.load_best_model()\n",
    "    trainer.model.eval()\n",
    "    all_preds = []\n",
    "    all_targets = []\n",
    "    \n",
    "    with torch.no_grad():\n",
    "        for data, targets in trainer.val_loader:\n",
    "            data, targets = data.to(trainer.device), targets.to(trainer.device)\n",
    "            outputs = trainer.model(data)\n",
    "            _, preds = torch.max(outputs, 1)\n",
    "            all_preds.append(preds.cpu())\n",
    "            all_targets.append(targets.cpu())\n",
    "    \n",
    "    all_preds = torch.cat(all_preds)\n",
    "    all_targets = torch.cat(all_targets)\n",
    "    \n",
    "    cm = confusion_matrix(all_targets, all_preds)\n",
    "    classes = trainset.classes\n",
    "    \n",
    "    plt.figure(figsize=(10, 8))\n",
    "    sns.heatmap(cm, annot=True, fmt='d', cmap='Blues', xticklabels=classes, yticklabels=classes)\n",
    "    plt.xlabel('Predicted')\n",
    "    plt.ylabel('True')\n",
    "    plt.title(f'Confusion Matrix for {model_name}')\n",
    "    plt.show()\n",
    "    \n",
    "    print(f\"Classification Report for {model_name}:\\n\")\n",
    "    print(classification_report(all_targets, all_preds, target_names=classes))\n",
    "\n"
   ]
  },
  {
   "cell_type": "markdown",
   "metadata": {},
   "source": [
    "### Analyze All Models"
   ]
  },
  {
   "cell_type": "markdown",
   "metadata": {},
   "source": [
    "## Conclusion"
   ]
  },
  {
   "cell_type": "code",
   "execution_count": null,
   "metadata": {},
   "outputs": [],
   "source": []
  },
  {
   "cell_type": "code",
   "execution_count": null,
   "metadata": {},
   "outputs": [],
   "source": []
  }
 ],
 "metadata": {
  "kernelspec": {
   "display_name": "venv",
   "language": "python",
   "name": "python3"
  },
  "language_info": {
   "codemirror_mode": {
    "name": "ipython",
    "version": 3
   },
   "file_extension": ".py",
   "mimetype": "text/x-python",
   "name": "python",
   "nbconvert_exporter": "python",
   "pygments_lexer": "ipython3",
   "version": "3.10.12"
  }
 },
 "nbformat": 4,
 "nbformat_minor": 2
}
