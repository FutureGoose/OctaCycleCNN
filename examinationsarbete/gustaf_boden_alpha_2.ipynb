{
 "cells": [
  {
   "cell_type": "markdown",
   "metadata": {},
   "source": [
    "## Step 1: Imports and Setup"
   ]
  },
  {
   "cell_type": "code",
   "execution_count": 1,
   "metadata": {},
   "outputs": [],
   "source": [
    "import sys\n",
    "from pathlib import Path\n",
    "import torch\n",
    "import torch.nn as nn\n",
    "from torch.optim import Adam, SGD\n",
    "from torch.optim.lr_scheduler import StepLR\n",
    "\n",
    "# add deep_learning_tools path\n",
    "package_root = Path.cwd().parent / 'deep_learning_tools'\n",
    "sys.path.append(str(package_root))\n",
    "\n",
    "from src import prepare_datasets, ModelTrainer, accuracy, precision, recall, f1_score\n",
    "\n",
    "# parameters\n",
    "dataset_name = 'CIFAR10'\n",
    "data_root = Path.cwd().parent / 'data'\n",
    "download_data = True\n",
    "normalize_data = True"
   ]
  },
  {
   "cell_type": "markdown",
   "metadata": {},
   "source": [
    "## Step 2: Data Preparation\n"
   ]
  },
  {
   "cell_type": "code",
   "execution_count": 2,
   "metadata": {},
   "outputs": [
    {
     "name": "stdout",
     "output_type": "stream",
     "text": [
      "using precalculated stats - mean: 0.4733640253543854, std: 0.21108488738536835\n",
      "Files already downloaded and verified\n",
      "Files already downloaded and verified\n",
      "after normalization: mean: -4.796001576323761e-06, std: 1.000001072883606\n"
     ]
    }
   ],
   "source": [
    "# prepare datasets\n",
    "trainset, valset = prepare_datasets(dataset_name, data_root, \n",
    "                                    normalize=normalize_data, \n",
    "                                    precalculated_stats=(0.4733640253543854, 0.21108488738536835))"
   ]
  },
  {
   "cell_type": "markdown",
   "metadata": {},
   "source": [
    "## Step 3: Define CNN Architectures\n",
    "\n",
    "### Model 1: Simple CNN\n"
   ]
  },
  {
   "cell_type": "code",
   "execution_count": 3,
   "metadata": {},
   "outputs": [],
   "source": [
    "class SimpleCNN(nn.Module):\n",
    "    def __init__(self):\n",
    "        super().__init__()\n",
    "        # input: 3x32x32\n",
    "        self.conv1 = nn.Conv2d(3, 32, kernel_size=3, padding=1)\n",
    "        # output: 32x32x32\n",
    "        self.relu1 = nn.ReLU()\n",
    "        # output size: 32x32x32\n",
    "        self.pool1 = nn.MaxPool2d(2, 2)\n",
    "        # output size: 32x16x16\n",
    "\n",
    "        self.conv2 = nn.Conv2d(32, 64, kernel_size=3, padding=1)\n",
    "        # output: 64x16x16\n",
    "        self.relu2 = nn.ReLU()\n",
    "        # output size: 64x16x16\n",
    "        self.pool2 = nn.MaxPool2d(2, 2)\n",
    "        # output size: 64x8x8\n",
    "\n",
    "        self.fc1 = nn.Linear(64 * 8 * 8, 128)\n",
    "        self.relu3 = nn.ReLU()\n",
    "        self.fc2 = nn.Linear(128, 10)\n",
    "\n",
    "    def forward(self, x):\n",
    "        # conv1\n",
    "        x = self.conv1(x)  # input: [batch, 3, 32,32], output: [batch,32,32,32]\n",
    "        x = self.relu1(x)  # [batch,32,32,32]\n",
    "        x = self.pool1(x)  # [batch,32,16,16]\n",
    "        \n",
    "        # conv2\n",
    "        x = self.conv2(x)  # [batch,64,16,16]\n",
    "        x = self.relu2(x)  # [batch,64,16,16]\n",
    "        x = self.pool2(x)  # [batch,64,8,8]\n",
    "        \n",
    "        x = x.view(x.size(0), -1)  # [batch, 64*8*8]\n",
    "        x = self.fc1(x)  # [batch,128]\n",
    "        x = self.relu3(x)  # [batch,128]\n",
    "        x = self.fc2(x)  # [batch,10]\n",
    "        \n",
    "        return x"
   ]
  },
  {
   "cell_type": "code",
   "execution_count": 4,
   "metadata": {},
   "outputs": [],
   "source": [
    "class SuperSimpleNN(nn.Module):\n",
    "\n",
    "    def __init__(self, input_size: int, num_classes: int):\n",
    "        super().__init__()\n",
    "        self.fc1 = nn.Linear(input_size, num_classes)\n",
    "\n",
    "    def forward(self, x):\n",
    "        x = x.view(x.size(0), -1)\n",
    "        x = self.fc1(x)\n",
    "        \n",
    "        return x"
   ]
  },
  {
   "cell_type": "markdown",
   "metadata": {},
   "source": [
    "## Step 4: Initialize and Train Models\n",
    "\n",
    "### Training Function"
   ]
  },
  {
   "cell_type": "code",
   "execution_count": 5,
   "metadata": {},
   "outputs": [],
   "source": [
    "def train_model(model, model_name, num_epochs=25):\n",
    "    optimizer = Adam(model.parameters(), lr=3e-4)  # weight_decay=1e-4\n",
    "    # scheduler = StepLR(optimizer, step_size=10, gamma=0.1)\n",
    "    \n",
    "    trainer = ModelTrainer(\n",
    "        model=model,\n",
    "        device=torch.device(\"cuda\" if torch.cuda.is_available() else \"cpu\"),\n",
    "        loss_fn=nn.CrossEntropyLoss(),\n",
    "        optimizer=optimizer,\n",
    "        scheduler=None,\n",
    "        batch_size=128,\n",
    "        verbose=True,\n",
    "        save_metrics=False,\n",
    "        early_stopping_patience=5,\n",
    "        early_stopping_delta=1e-4,\n",
    "        metrics=[accuracy],\n",
    "        log_dir=f\"logs/{model_name}\",\n",
    "        logger_type=\"file\",\n",
    "        run_karpathy_checks=True,\n",
    "        seed=42,\n",
    "        # strict_reproducibility=True\n",
    "        # wandb_project=\"cifar10\",\n",
    "        # wandb_entity=\"futuregoose\",\n",
    "        # sweep=True,\n",
    "    )\n",
    "    \n",
    "    trained_model = trainer.train(\n",
    "        training_set=trainset,\n",
    "        val_set=valset,\n",
    "        num_epochs=num_epochs\n",
    "    )\n",
    "    \n",
    "    return trainer"
   ]
  },
  {
   "cell_type": "markdown",
   "metadata": {},
   "source": [
    "### Train Model 1: Simple CNN"
   ]
  },
  {
   "cell_type": "code",
   "execution_count": 6,
   "metadata": {},
   "outputs": [
    {
     "data": {
      "text/plain": [
       "['airplane',\n",
       " 'automobile',\n",
       " 'bird',\n",
       " 'cat',\n",
       " 'deer',\n",
       " 'dog',\n",
       " 'frog',\n",
       " 'horse',\n",
       " 'ship',\n",
       " 'truck']"
      ]
     },
     "execution_count": 6,
     "metadata": {},
     "output_type": "execute_result"
    }
   ],
   "source": [
    "trainset.classes"
   ]
  },
  {
   "cell_type": "code",
   "execution_count": 9,
   "metadata": {},
   "outputs": [],
   "source": [
    "model0 = SimpleCNN()\n",
    "# trainer0 = train_model(model0, \"SimpleCNN\", num_epochs=5)"
   ]
  },
  {
   "cell_type": "markdown",
   "metadata": {},
   "source": [
    "### Train Model 2: ResNet-20 Inspired"
   ]
  },
  {
   "cell_type": "code",
   "execution_count": 5,
   "metadata": {},
   "outputs": [
    {
     "name": "stdout",
     "output_type": "stream",
     "text": [
      "\u001b[38;5;44m[epoch 01] train loss: 1.6478 | val loss: 1.4581 | accuracy: 45.54%\u001b[0m\n",
      "\u001b[38;5;40mValidation loss decreased (inf --> 1.4581). Saving model.\u001b[0m\n",
      "\u001b[38;5;44m[epoch 02] train loss: 1.0651 | val loss: 1.5618 | accuracy: 51.85%\u001b[0m\n",
      "\u001b[38;5;180mEarlyStopping counter: 1 out of inf\u001b[0m\n",
      "\u001b[38;5;44m[epoch 03] train loss: 0.8062 | val loss: 0.8814 | accuracy: 70.30%\u001b[0m\n",
      "\u001b[38;5;40mValidation loss decreased (1.4581 --> 0.8814). Saving model.\u001b[0m\n",
      "\u001b[38;5;44m[epoch 04] train loss: 0.6651 | val loss: 0.8475 | accuracy: 71.31%\u001b[0m\n",
      "\u001b[38;5;40mValidation loss decreased (0.8814 --> 0.8475). Saving model.\u001b[0m\n",
      "\u001b[38;5;44m[epoch 05] train loss: 0.5663 | val loss: 0.7210 | accuracy: 75.45%\u001b[0m\n",
      "\u001b[38;5;40mValidation loss decreased (0.8475 --> 0.7210). Saving model.\u001b[0m\n",
      "\u001b[38;5;44m[epoch 06] train loss: 0.4973 | val loss: 0.6760 | accuracy: 78.07%\u001b[0m\n",
      "\u001b[38;5;40mValidation loss decreased (0.7210 --> 0.6760). Saving model.\u001b[0m\n",
      "\u001b[38;5;44m[epoch 07] train loss: 0.4432 | val loss: 0.6824 | accuracy: 77.44%\u001b[0m\n",
      "\u001b[38;5;180mEarlyStopping counter: 1 out of inf\u001b[0m\n",
      "\u001b[38;5;44m[epoch 08] train loss: 0.3968 | val loss: 0.6503 | accuracy: 78.62%\u001b[0m\n",
      "\u001b[38;5;40mValidation loss decreased (0.6760 --> 0.6503). Saving model.\u001b[0m\n",
      "\u001b[38;5;44m[epoch 09] train loss: 0.3550 | val loss: 0.6197 | accuracy: 78.85%\u001b[0m\n",
      "\u001b[38;5;40mValidation loss decreased (0.6503 --> 0.6197). Saving model.\u001b[0m\n",
      "\u001b[38;5;44m[epoch 10] train loss: 0.3202 | val loss: 0.6655 | accuracy: 78.22%\u001b[0m\n",
      "\u001b[38;5;180mEarlyStopping counter: 1 out of inf\u001b[0m\n",
      "\u001b[38;5;44m[epoch 11] train loss: 0.2929 | val loss: 0.5813 | accuracy: 80.98%\u001b[0m\n",
      "\u001b[38;5;40mValidation loss decreased (0.6197 --> 0.5813). Saving model.\u001b[0m\n",
      "\u001b[38;5;44m[epoch 12] train loss: 0.2727 | val loss: 0.7000 | accuracy: 78.57%\u001b[0m\n",
      "\u001b[38;5;180mEarlyStopping counter: 1 out of inf\u001b[0m\n",
      "\u001b[38;5;44m[epoch 13] train loss: 0.2471 | val loss: 0.6487 | accuracy: 80.71%\u001b[0m\n",
      "\u001b[38;5;180mEarlyStopping counter: 2 out of inf\u001b[0m\n",
      "\u001b[38;5;44m[epoch 14] train loss: 0.2356 | val loss: 0.7224 | accuracy: 79.05%\u001b[0m\n",
      "\u001b[38;5;180mEarlyStopping counter: 3 out of inf\u001b[0m\n",
      "\u001b[38;5;44m[epoch 15] train loss: 0.2111 | val loss: 0.7614 | accuracy: 78.32%\u001b[0m\n",
      "\u001b[38;5;180mEarlyStopping counter: 4 out of inf\u001b[0m\n",
      "\u001b[38;5;44m[epoch 16] train loss: 0.1997 | val loss: 0.6602 | accuracy: 79.78%\u001b[0m\n",
      "\u001b[38;5;180mEarlyStopping counter: 5 out of inf\u001b[0m\n",
      "\u001b[38;5;44m[epoch 17] train loss: 0.1832 | val loss: 0.7570 | accuracy: 79.16%\u001b[0m\n",
      "\u001b[38;5;180mEarlyStopping counter: 6 out of inf\u001b[0m\n",
      "\u001b[38;5;44m[epoch 18] train loss: 0.1670 | val loss: 0.6814 | accuracy: 80.97%\u001b[0m\n",
      "\u001b[38;5;180mEarlyStopping counter: 7 out of inf\u001b[0m\n",
      "\u001b[38;5;44m[epoch 19] train loss: 0.1607 | val loss: 0.7604 | accuracy: 80.01%\u001b[0m\n",
      "\u001b[38;5;180mEarlyStopping counter: 8 out of inf\u001b[0m\n",
      "\u001b[38;5;44m[epoch 20] train loss: 0.1648 | val loss: 0.6840 | accuracy: 81.74%\u001b[0m\n",
      "\u001b[38;5;180mEarlyStopping counter: 9 out of inf\u001b[0m\n",
      "\u001b[38;5;44m[epoch 21] train loss: 0.1496 | val loss: 0.7211 | accuracy: 81.14%\u001b[0m\n",
      "\u001b[38;5;180mEarlyStopping counter: 10 out of inf\u001b[0m\n",
      "\u001b[38;5;44m[epoch 22] train loss: 0.1326 | val loss: 0.6834 | accuracy: 81.62%\u001b[0m\n",
      "\u001b[38;5;180mEarlyStopping counter: 11 out of inf\u001b[0m\n",
      "\u001b[38;5;44m[epoch 23] train loss: 0.1311 | val loss: 0.7954 | accuracy: 80.11%\u001b[0m\n",
      "\u001b[38;5;180mEarlyStopping counter: 12 out of inf\u001b[0m\n",
      "\u001b[38;5;44m[epoch 24] train loss: 0.1244 | val loss: 0.7586 | accuracy: 80.72%\u001b[0m\n",
      "\u001b[38;5;180mEarlyStopping counter: 13 out of inf\u001b[0m\n",
      "\u001b[38;5;44m[epoch 25] train loss: 0.1332 | val loss: 0.7908 | accuracy: 79.13%\u001b[0m\n",
      "\u001b[38;5;180mEarlyStopping counter: 14 out of inf\u001b[0m\n",
      "\u001b[38;5;44m[epoch 26] train loss: 0.1159 | val loss: 0.8785 | accuracy: 79.42%\u001b[0m\n",
      "\u001b[38;5;180mEarlyStopping counter: 15 out of inf\u001b[0m\n",
      "\u001b[38;5;44m[epoch 27] train loss: 0.1104 | val loss: 1.0189 | accuracy: 77.31%\u001b[0m\n",
      "\u001b[38;5;180mEarlyStopping counter: 16 out of inf\u001b[0m\n",
      "\u001b[38;5;44m[epoch 28] train loss: 0.1112 | val loss: 0.8028 | accuracy: 81.18%\u001b[0m\n",
      "\u001b[38;5;180mEarlyStopping counter: 17 out of inf\u001b[0m\n",
      "\u001b[38;5;44m[epoch 29] train loss: 0.1160 | val loss: 0.7573 | accuracy: 81.71%\u001b[0m\n",
      "\u001b[38;5;180mEarlyStopping counter: 18 out of inf\u001b[0m\n",
      "\u001b[38;5;44m[epoch 30] train loss: 0.1039 | val loss: 0.7932 | accuracy: 81.30%\u001b[0m\n",
      "\u001b[38;5;180mEarlyStopping counter: 19 out of inf\u001b[0m\n",
      "\u001b[38;5;44m[epoch 31] train loss: 0.1001 | val loss: 0.8594 | accuracy: 79.64%\u001b[0m\n",
      "\u001b[38;5;180mEarlyStopping counter: 20 out of inf\u001b[0m\n",
      "\u001b[38;5;44m[epoch 32] train loss: 0.1018 | val loss: 1.0480 | accuracy: 77.36%\u001b[0m\n",
      "\u001b[38;5;180mEarlyStopping counter: 21 out of inf\u001b[0m\n",
      "\u001b[38;5;44m[epoch 33] train loss: 0.1074 | val loss: 0.7306 | accuracy: 81.78%\u001b[0m\n",
      "\u001b[38;5;180mEarlyStopping counter: 22 out of inf\u001b[0m\n",
      "\u001b[38;5;44m[epoch 34] train loss: 0.1008 | val loss: 0.8375 | accuracy: 80.80%\u001b[0m\n",
      "\u001b[38;5;180mEarlyStopping counter: 23 out of inf\u001b[0m\n",
      "\u001b[38;5;44m[epoch 35] train loss: 0.0938 | val loss: 0.7092 | accuracy: 81.88%\u001b[0m\n",
      "\u001b[38;5;180mEarlyStopping counter: 24 out of inf\u001b[0m\n",
      "\u001b[38;5;44m[epoch 36] train loss: 0.1034 | val loss: 0.7862 | accuracy: 80.90%\u001b[0m\n",
      "\u001b[38;5;180mEarlyStopping counter: 25 out of inf\u001b[0m\n",
      "\u001b[38;5;44m[epoch 37] train loss: 0.0876 | val loss: 0.8053 | accuracy: 80.70%\u001b[0m\n",
      "\u001b[38;5;180mEarlyStopping counter: 26 out of inf\u001b[0m\n",
      "\u001b[38;5;44m[epoch 38] train loss: 0.0923 | val loss: 0.9109 | accuracy: 79.86%\u001b[0m\n",
      "\u001b[38;5;180mEarlyStopping counter: 27 out of inf\u001b[0m\n",
      "\u001b[38;5;44m[epoch 39] train loss: 0.0905 | val loss: 0.9281 | accuracy: 78.73%\u001b[0m\n",
      "\u001b[38;5;180mEarlyStopping counter: 28 out of inf\u001b[0m\n",
      "\u001b[38;5;44m[epoch 40] train loss: 0.0961 | val loss: 0.9431 | accuracy: 79.09%\u001b[0m\n",
      "\u001b[38;5;180mEarlyStopping counter: 29 out of inf\u001b[0m\n",
      "\u001b[38;5;44m[epoch 41] train loss: 0.0939 | val loss: 0.7371 | accuracy: 81.06%\u001b[0m\n",
      "\u001b[38;5;180mEarlyStopping counter: 30 out of inf\u001b[0m\n",
      "\u001b[38;5;44m[epoch 42] train loss: 0.0812 | val loss: 1.2139 | accuracy: 74.17%\u001b[0m\n",
      "\u001b[38;5;180mEarlyStopping counter: 31 out of inf\u001b[0m\n",
      "\u001b[38;5;44m[epoch 43] train loss: 0.0877 | val loss: 0.9449 | accuracy: 77.14%\u001b[0m\n",
      "\u001b[38;5;180mEarlyStopping counter: 32 out of inf\u001b[0m\n",
      "\u001b[38;5;44m[epoch 44] train loss: 0.0875 | val loss: 0.7506 | accuracy: 81.88%\u001b[0m\n",
      "\u001b[38;5;180mEarlyStopping counter: 33 out of inf\u001b[0m\n",
      "\u001b[38;5;44m[epoch 45] train loss: 0.0899 | val loss: 0.7200 | accuracy: 81.51%\u001b[0m\n",
      "\u001b[38;5;180mEarlyStopping counter: 34 out of inf\u001b[0m\n",
      "\u001b[38;5;44m[epoch 46] train loss: 0.0818 | val loss: 0.7454 | accuracy: 81.59%\u001b[0m\n",
      "\u001b[38;5;180mEarlyStopping counter: 35 out of inf\u001b[0m\n",
      "\u001b[38;5;44m[epoch 47] train loss: 0.0855 | val loss: 0.9105 | accuracy: 79.13%\u001b[0m\n",
      "\u001b[38;5;180mEarlyStopping counter: 36 out of inf\u001b[0m\n",
      "\u001b[38;5;44m[epoch 48] train loss: 0.0969 | val loss: 0.7199 | accuracy: 81.79%\u001b[0m\n",
      "\u001b[38;5;180mEarlyStopping counter: 37 out of inf\u001b[0m\n",
      "\u001b[38;5;44m[epoch 49] train loss: 0.0775 | val loss: 0.7997 | accuracy: 81.16%\u001b[0m\n",
      "\u001b[38;5;180mEarlyStopping counter: 38 out of inf\u001b[0m\n",
      "\u001b[38;5;44m[epoch 50] train loss: 0.0855 | val loss: 0.8217 | accuracy: 81.65%\u001b[0m\n",
      "\u001b[38;5;180mEarlyStopping counter: 39 out of inf\u001b[0m\n",
      "\u001b[38;5;44m[epoch 51] train loss: 0.0852 | val loss: 0.7036 | accuracy: 81.78%\u001b[0m\n",
      "\u001b[38;5;180mEarlyStopping counter: 40 out of inf\u001b[0m\n",
      "\u001b[38;5;44m[epoch 52] train loss: 0.0790 | val loss: 0.7525 | accuracy: 82.21%\u001b[0m\n",
      "\u001b[38;5;180mEarlyStopping counter: 41 out of inf\u001b[0m\n",
      "\u001b[38;5;44m[epoch 53] train loss: 0.0900 | val loss: 0.8625 | accuracy: 81.25%\u001b[0m\n",
      "\u001b[38;5;180mEarlyStopping counter: 42 out of inf\u001b[0m\n",
      "\u001b[38;5;44m[epoch 54] train loss: 0.0739 | val loss: 0.7956 | accuracy: 80.75%\u001b[0m\n",
      "\u001b[38;5;180mEarlyStopping counter: 43 out of inf\u001b[0m\n",
      "\u001b[38;5;44m[epoch 55] train loss: 0.0877 | val loss: 0.8386 | accuracy: 81.02%\u001b[0m\n",
      "\u001b[38;5;180mEarlyStopping counter: 44 out of inf\u001b[0m\n",
      "\u001b[38;5;44m[epoch 56] train loss: 0.0841 | val loss: 0.8242 | accuracy: 81.24%\u001b[0m\n",
      "\u001b[38;5;180mEarlyStopping counter: 45 out of inf\u001b[0m\n",
      "\u001b[38;5;44m[epoch 57] train loss: 0.0769 | val loss: 0.7719 | accuracy: 81.58%\u001b[0m\n",
      "\u001b[38;5;180mEarlyStopping counter: 46 out of inf\u001b[0m\n",
      "\u001b[38;5;44m[epoch 58] train loss: 0.0849 | val loss: 0.8441 | accuracy: 80.32%\u001b[0m\n",
      "\u001b[38;5;180mEarlyStopping counter: 47 out of inf\u001b[0m\n",
      "\u001b[38;5;44m[epoch 59] train loss: 0.0782 | val loss: 0.8186 | accuracy: 80.95%\u001b[0m\n",
      "\u001b[38;5;180mEarlyStopping counter: 48 out of inf\u001b[0m\n",
      "\u001b[38;5;44m[epoch 60] train loss: 0.0907 | val loss: 0.8922 | accuracy: 79.71%\u001b[0m\n",
      "\u001b[38;5;180mEarlyStopping counter: 49 out of inf\u001b[0m\n",
      "\u001b[38;5;44m[epoch 61] train loss: 0.0824 | val loss: 0.7854 | accuracy: 80.70%\u001b[0m\n",
      "\u001b[38;5;180mEarlyStopping counter: 50 out of inf\u001b[0m\n",
      "\u001b[38;5;44m[epoch 62] train loss: 0.0686 | val loss: 0.7900 | accuracy: 82.05%\u001b[0m\n",
      "\u001b[38;5;180mEarlyStopping counter: 51 out of inf\u001b[0m\n",
      "\u001b[38;5;44m[epoch 63] train loss: 0.0845 | val loss: 0.8687 | accuracy: 79.73%\u001b[0m\n",
      "\u001b[38;5;180mEarlyStopping counter: 52 out of inf\u001b[0m\n",
      "\u001b[38;5;44m[epoch 64] train loss: 0.0782 | val loss: 0.7883 | accuracy: 81.37%\u001b[0m\n",
      "\u001b[38;5;180mEarlyStopping counter: 53 out of inf\u001b[0m\n",
      "\u001b[38;5;44m[epoch 65] train loss: 0.0688 | val loss: 0.9455 | accuracy: 79.70%\u001b[0m\n",
      "\u001b[38;5;180mEarlyStopping counter: 54 out of inf\u001b[0m\n",
      "\u001b[38;5;44m[epoch 66] train loss: 0.0872 | val loss: 0.8249 | accuracy: 79.78%\u001b[0m\n",
      "\u001b[38;5;180mEarlyStopping counter: 55 out of inf\u001b[0m\n",
      "\u001b[38;5;44m[epoch 67] train loss: 0.0778 | val loss: 0.8982 | accuracy: 80.10%\u001b[0m\n",
      "\u001b[38;5;180mEarlyStopping counter: 56 out of inf\u001b[0m\n",
      "\u001b[38;5;44m[epoch 68] train loss: 0.0753 | val loss: 0.9480 | accuracy: 79.24%\u001b[0m\n",
      "\u001b[38;5;180mEarlyStopping counter: 57 out of inf\u001b[0m\n",
      "\u001b[38;5;44m[epoch 69] train loss: 0.0830 | val loss: 0.8064 | accuracy: 80.20%\u001b[0m\n",
      "\u001b[38;5;180mEarlyStopping counter: 58 out of inf\u001b[0m\n",
      "\u001b[38;5;44m[epoch 70] train loss: 0.0787 | val loss: 0.7622 | accuracy: 81.97%\u001b[0m\n",
      "\u001b[38;5;180mEarlyStopping counter: 59 out of inf\u001b[0m\n",
      "\u001b[38;5;44m[epoch 71] train loss: 0.0777 | val loss: 0.9479 | accuracy: 78.81%\u001b[0m\n",
      "\u001b[38;5;180mEarlyStopping counter: 60 out of inf\u001b[0m\n",
      "\u001b[38;5;44m[epoch 72] train loss: 0.0727 | val loss: 0.7648 | accuracy: 81.42%\u001b[0m\n",
      "\u001b[38;5;180mEarlyStopping counter: 61 out of inf\u001b[0m\n",
      "\u001b[38;5;44m[epoch 73] train loss: 0.0674 | val loss: 1.0404 | accuracy: 78.30%\u001b[0m\n",
      "\u001b[38;5;180mEarlyStopping counter: 62 out of inf\u001b[0m\n",
      "\u001b[38;5;44m[epoch 74] train loss: 0.0873 | val loss: 0.7715 | accuracy: 82.01%\u001b[0m\n",
      "\u001b[38;5;180mEarlyStopping counter: 63 out of inf\u001b[0m\n",
      "\u001b[38;5;44m[epoch 75] train loss: 0.0721 | val loss: 0.7393 | accuracy: 82.66%\u001b[0m\n",
      "\u001b[38;5;180mEarlyStopping counter: 64 out of inf\u001b[0m\n",
      "\u001b[38;5;44m[epoch 76] train loss: 0.0714 | val loss: 0.8218 | accuracy: 80.64%\u001b[0m\n",
      "\u001b[38;5;180mEarlyStopping counter: 65 out of inf\u001b[0m\n",
      "\u001b[38;5;44m[epoch 77] train loss: 0.0777 | val loss: 0.7696 | accuracy: 82.09%\u001b[0m\n",
      "\u001b[38;5;180mEarlyStopping counter: 66 out of inf\u001b[0m\n",
      "\u001b[38;5;44m[epoch 78] train loss: 0.0780 | val loss: 0.8299 | accuracy: 81.25%\u001b[0m\n",
      "\u001b[38;5;180mEarlyStopping counter: 67 out of inf\u001b[0m\n",
      "\u001b[38;5;44m[epoch 79] train loss: 0.0756 | val loss: 0.7921 | accuracy: 82.33%\u001b[0m\n",
      "\u001b[38;5;180mEarlyStopping counter: 68 out of inf\u001b[0m\n",
      "\u001b[38;5;44m[epoch 80] train loss: 0.0783 | val loss: 0.7845 | accuracy: 81.65%\u001b[0m\n",
      "\u001b[38;5;180mEarlyStopping counter: 69 out of inf\u001b[0m\n",
      "\u001b[38;5;44m[epoch 81] train loss: 0.0771 | val loss: 0.7794 | accuracy: 81.42%\u001b[0m\n",
      "\u001b[38;5;180mEarlyStopping counter: 70 out of inf\u001b[0m\n",
      "\u001b[38;5;44m[epoch 82] train loss: 0.0763 | val loss: 0.7388 | accuracy: 81.85%\u001b[0m\n",
      "\u001b[38;5;180mEarlyStopping counter: 71 out of inf\u001b[0m\n",
      "\u001b[38;5;44m[epoch 83] train loss: 0.0269 | val loss: 0.5638 | accuracy: 85.91%\u001b[0m\n",
      "\u001b[38;5;40mValidation loss decreased (0.5813 --> 0.5638). Saving model.\u001b[0m\n",
      "\u001b[38;5;44m[epoch 84] train loss: 0.0079 | val loss: 0.5609 | accuracy: 86.14%\u001b[0m\n",
      "\u001b[38;5;40mValidation loss decreased (0.5638 --> 0.5609). Saving model.\u001b[0m\n",
      "\u001b[38;5;44m[epoch 85] train loss: 0.0054 | val loss: 0.5556 | accuracy: 86.34%\u001b[0m\n",
      "\u001b[38;5;40mValidation loss decreased (0.5609 --> 0.5556). Saving model.\u001b[0m\n",
      "\u001b[38;5;44m[epoch 86] train loss: 0.0038 | val loss: 0.5631 | accuracy: 86.59%\u001b[0m\n",
      "\u001b[38;5;180mEarlyStopping counter: 1 out of inf\u001b[0m\n",
      "\u001b[38;5;44m[epoch 87] train loss: 0.0032 | val loss: 0.5617 | accuracy: 86.38%\u001b[0m\n",
      "\u001b[38;5;180mEarlyStopping counter: 2 out of inf\u001b[0m\n",
      "\u001b[38;5;44m[epoch 88] train loss: 0.0026 | val loss: 0.5654 | accuracy: 86.52%\u001b[0m\n",
      "\u001b[38;5;180mEarlyStopping counter: 3 out of inf\u001b[0m\n",
      "\u001b[38;5;44m[epoch 89] train loss: 0.0025 | val loss: 0.5666 | accuracy: 86.46%\u001b[0m\n",
      "\u001b[38;5;180mEarlyStopping counter: 4 out of inf\u001b[0m\n",
      "\u001b[38;5;44m[epoch 90] train loss: 0.0022 | val loss: 0.5664 | accuracy: 86.61%\u001b[0m\n",
      "\u001b[38;5;180mEarlyStopping counter: 5 out of inf\u001b[0m\n",
      "\u001b[38;5;44m[epoch 91] train loss: 0.0020 | val loss: 0.5669 | accuracy: 86.45%\u001b[0m\n",
      "\u001b[38;5;180mEarlyStopping counter: 6 out of inf\u001b[0m\n",
      "\u001b[38;5;44m[epoch 92] train loss: 0.0019 | val loss: 0.5671 | accuracy: 86.58%\u001b[0m\n",
      "\u001b[38;5;180mEarlyStopping counter: 7 out of inf\u001b[0m\n",
      "\u001b[38;5;44m[epoch 93] train loss: 0.0018 | val loss: 0.5675 | accuracy: 86.58%\u001b[0m\n",
      "\u001b[38;5;180mEarlyStopping counter: 8 out of inf\u001b[0m\n",
      "\u001b[38;5;44m[epoch 94] train loss: 0.0016 | val loss: 0.5676 | accuracy: 86.64%\u001b[0m\n",
      "\u001b[38;5;180mEarlyStopping counter: 9 out of inf\u001b[0m\n",
      "\u001b[38;5;44m[epoch 95] train loss: 0.0017 | val loss: 0.5683 | accuracy: 86.52%\u001b[0m\n",
      "\u001b[38;5;180mEarlyStopping counter: 10 out of inf\u001b[0m\n",
      "\u001b[38;5;44m[epoch 96] train loss: 0.0015 | val loss: 0.5701 | accuracy: 86.71%\u001b[0m\n",
      "\u001b[38;5;180mEarlyStopping counter: 11 out of inf\u001b[0m\n",
      "\u001b[38;5;44m[epoch 97] train loss: 0.0014 | val loss: 0.5687 | accuracy: 86.66%\u001b[0m\n",
      "\u001b[38;5;180mEarlyStopping counter: 12 out of inf\u001b[0m\n",
      "\u001b[38;5;44m[epoch 98] train loss: 0.0013 | val loss: 0.5713 | accuracy: 86.70%\u001b[0m\n",
      "\u001b[38;5;180mEarlyStopping counter: 13 out of inf\u001b[0m\n",
      "\u001b[38;5;44m[epoch 99] train loss: 0.0013 | val loss: 0.5697 | accuracy: 86.57%\u001b[0m\n",
      "\u001b[38;5;180mEarlyStopping counter: 14 out of inf\u001b[0m\n",
      "\u001b[38;5;44m[epoch 100] train loss: 0.0013 | val loss: 0.5656 | accuracy: 86.60%\u001b[0m\n",
      "\u001b[38;5;180mEarlyStopping counter: 15 out of inf\u001b[0m\n",
      "\u001b[38;5;44m[epoch 101] train loss: 0.0012 | val loss: 0.5697 | accuracy: 86.64%\u001b[0m\n",
      "\u001b[38;5;180mEarlyStopping counter: 16 out of inf\u001b[0m\n",
      "\u001b[38;5;44m[epoch 102] train loss: 0.0012 | val loss: 0.5646 | accuracy: 86.71%\u001b[0m\n",
      "\u001b[38;5;180mEarlyStopping counter: 17 out of inf\u001b[0m\n",
      "\u001b[38;5;44m[epoch 103] train loss: 0.0012 | val loss: 0.5679 | accuracy: 86.49%\u001b[0m\n",
      "\u001b[38;5;180mEarlyStopping counter: 18 out of inf\u001b[0m\n",
      "\u001b[38;5;44m[epoch 104] train loss: 0.0011 | val loss: 0.5653 | accuracy: 86.57%\u001b[0m\n",
      "\u001b[38;5;180mEarlyStopping counter: 19 out of inf\u001b[0m\n",
      "\u001b[38;5;44m[epoch 105] train loss: 0.0011 | val loss: 0.5649 | accuracy: 86.64%\u001b[0m\n",
      "\u001b[38;5;180mEarlyStopping counter: 20 out of inf\u001b[0m\n",
      "\u001b[38;5;44m[epoch 106] train loss: 0.0011 | val loss: 0.5668 | accuracy: 86.64%\u001b[0m\n",
      "\u001b[38;5;180mEarlyStopping counter: 21 out of inf\u001b[0m\n",
      "\u001b[38;5;44m[epoch 107] train loss: 0.0011 | val loss: 0.5658 | accuracy: 86.73%\u001b[0m\n",
      "\u001b[38;5;180mEarlyStopping counter: 22 out of inf\u001b[0m\n",
      "\u001b[38;5;44m[epoch 108] train loss: 0.0010 | val loss: 0.5624 | accuracy: 86.57%\u001b[0m\n",
      "\u001b[38;5;180mEarlyStopping counter: 23 out of inf\u001b[0m\n",
      "\u001b[38;5;44m[epoch 109] train loss: 0.0010 | val loss: 0.5623 | accuracy: 86.73%\u001b[0m\n",
      "\u001b[38;5;180mEarlyStopping counter: 24 out of inf\u001b[0m\n",
      "\u001b[38;5;44m[epoch 110] train loss: 0.0011 | val loss: 0.5602 | accuracy: 86.63%\u001b[0m\n",
      "\u001b[38;5;180mEarlyStopping counter: 25 out of inf\u001b[0m\n",
      "\u001b[38;5;44m[epoch 111] train loss: 0.0011 | val loss: 0.5624 | accuracy: 86.61%\u001b[0m\n",
      "\u001b[38;5;180mEarlyStopping counter: 26 out of inf\u001b[0m\n",
      "\u001b[38;5;44m[epoch 112] train loss: 0.0010 | val loss: 0.5598 | accuracy: 86.72%\u001b[0m\n",
      "\u001b[38;5;180mEarlyStopping counter: 27 out of inf\u001b[0m\n",
      "\u001b[38;5;44m[epoch 113] train loss: 0.0010 | val loss: 0.5596 | accuracy: 86.58%\u001b[0m\n",
      "\u001b[38;5;180mEarlyStopping counter: 28 out of inf\u001b[0m\n",
      "\u001b[38;5;44m[epoch 114] train loss: 0.0010 | val loss: 0.5595 | accuracy: 86.57%\u001b[0m\n",
      "\u001b[38;5;180mEarlyStopping counter: 29 out of inf\u001b[0m\n",
      "\u001b[38;5;44m[epoch 115] train loss: 0.0010 | val loss: 0.5587 | accuracy: 86.61%\u001b[0m\n",
      "\u001b[38;5;180mEarlyStopping counter: 30 out of inf\u001b[0m\n",
      "\u001b[38;5;44m[epoch 116] train loss: 0.0009 | val loss: 0.5565 | accuracy: 86.62%\u001b[0m\n",
      "\u001b[38;5;180mEarlyStopping counter: 31 out of inf\u001b[0m\n",
      "\u001b[38;5;44m[epoch 117] train loss: 0.0009 | val loss: 0.5608 | accuracy: 86.67%\u001b[0m\n",
      "\u001b[38;5;180mEarlyStopping counter: 32 out of inf\u001b[0m\n",
      "\u001b[38;5;44m[epoch 118] train loss: 0.0010 | val loss: 0.5607 | accuracy: 86.76%\u001b[0m\n",
      "\u001b[38;5;180mEarlyStopping counter: 33 out of inf\u001b[0m\n",
      "\u001b[38;5;44m[epoch 119] train loss: 0.0010 | val loss: 0.5611 | accuracy: 86.64%\u001b[0m\n",
      "\u001b[38;5;180mEarlyStopping counter: 34 out of inf\u001b[0m\n",
      "\u001b[38;5;44m[epoch 120] train loss: 0.0009 | val loss: 0.5533 | accuracy: 86.74%\u001b[0m\n",
      "\u001b[38;5;40mValidation loss decreased (0.5556 --> 0.5533). Saving model.\u001b[0m\n",
      "\u001b[38;5;44m[epoch 121] train loss: 0.0009 | val loss: 0.5543 | accuracy: 86.58%\u001b[0m\n",
      "\u001b[38;5;180mEarlyStopping counter: 1 out of inf\u001b[0m\n",
      "\u001b[38;5;44m[epoch 122] train loss: 0.0009 | val loss: 0.5535 | accuracy: 86.69%\u001b[0m\n",
      "\u001b[38;5;180mEarlyStopping counter: 2 out of inf\u001b[0m\n",
      "\u001b[38;5;44m[epoch 123] train loss: 0.0009 | val loss: 0.5534 | accuracy: 86.70%\u001b[0m\n",
      "\u001b[38;5;180mEarlyStopping counter: 3 out of inf\u001b[0m\n",
      "\u001b[38;5;44m[epoch 124] train loss: 0.0009 | val loss: 0.5550 | accuracy: 86.66%\u001b[0m\n",
      "\u001b[38;5;180mEarlyStopping counter: 4 out of inf\u001b[0m\n",
      "\u001b[38;5;44m[epoch 125] train loss: 0.0009 | val loss: 0.5523 | accuracy: 86.67%\u001b[0m\n",
      "\u001b[38;5;40mValidation loss decreased (0.5533 --> 0.5523). Saving model.\u001b[0m\n",
      "\u001b[38;5;44m[epoch 126] train loss: 0.0009 | val loss: 0.5508 | accuracy: 86.66%\u001b[0m\n",
      "\u001b[38;5;40mValidation loss decreased (0.5523 --> 0.5508). Saving model.\u001b[0m\n",
      "\u001b[38;5;44m[epoch 127] train loss: 0.0009 | val loss: 0.5534 | accuracy: 86.69%\u001b[0m\n",
      "\u001b[38;5;180mEarlyStopping counter: 1 out of inf\u001b[0m\n",
      "\u001b[38;5;44m[epoch 128] train loss: 0.0009 | val loss: 0.5562 | accuracy: 86.69%\u001b[0m\n",
      "\u001b[38;5;180mEarlyStopping counter: 2 out of inf\u001b[0m\n",
      "\u001b[38;5;44m[epoch 129] train loss: 0.0009 | val loss: 0.5534 | accuracy: 86.77%\u001b[0m\n",
      "\u001b[38;5;180mEarlyStopping counter: 3 out of inf\u001b[0m\n",
      "\u001b[38;5;44m[epoch 130] train loss: 0.0009 | val loss: 0.5554 | accuracy: 86.54%\u001b[0m\n",
      "\u001b[38;5;180mEarlyStopping counter: 4 out of inf\u001b[0m\n",
      "\u001b[38;5;44m[epoch 131] train loss: 0.0009 | val loss: 0.5510 | accuracy: 86.73%\u001b[0m\n",
      "\u001b[38;5;180mEarlyStopping counter: 5 out of inf\u001b[0m\n",
      "\u001b[38;5;44m[epoch 132] train loss: 0.0009 | val loss: 0.5535 | accuracy: 86.61%\u001b[0m\n",
      "\u001b[38;5;180mEarlyStopping counter: 6 out of inf\u001b[0m\n",
      "\u001b[38;5;44m[epoch 133] train loss: 0.0009 | val loss: 0.5557 | accuracy: 86.65%\u001b[0m\n",
      "\u001b[38;5;180mEarlyStopping counter: 7 out of inf\u001b[0m\n",
      "\u001b[38;5;44m[epoch 134] train loss: 0.0009 | val loss: 0.5558 | accuracy: 86.66%\u001b[0m\n",
      "\u001b[38;5;180mEarlyStopping counter: 8 out of inf\u001b[0m\n",
      "\u001b[38;5;44m[epoch 135] train loss: 0.0009 | val loss: 0.5540 | accuracy: 86.55%\u001b[0m\n",
      "\u001b[38;5;180mEarlyStopping counter: 9 out of inf\u001b[0m\n",
      "\u001b[38;5;44m[epoch 136] train loss: 0.0009 | val loss: 0.5544 | accuracy: 86.76%\u001b[0m\n",
      "\u001b[38;5;180mEarlyStopping counter: 10 out of inf\u001b[0m\n",
      "\u001b[38;5;44m[epoch 137] train loss: 0.0009 | val loss: 0.5536 | accuracy: 86.65%\u001b[0m\n",
      "\u001b[38;5;180mEarlyStopping counter: 11 out of inf\u001b[0m\n",
      "\u001b[38;5;44m[epoch 138] train loss: 0.0009 | val loss: 0.5496 | accuracy: 86.61%\u001b[0m\n",
      "\u001b[38;5;40mValidation loss decreased (0.5508 --> 0.5496). Saving model.\u001b[0m\n",
      "\u001b[38;5;44m[epoch 139] train loss: 0.0009 | val loss: 0.5521 | accuracy: 86.66%\u001b[0m\n",
      "\u001b[38;5;180mEarlyStopping counter: 1 out of inf\u001b[0m\n",
      "\u001b[38;5;44m[epoch 140] train loss: 0.0009 | val loss: 0.5531 | accuracy: 86.70%\u001b[0m\n",
      "\u001b[38;5;180mEarlyStopping counter: 2 out of inf\u001b[0m\n",
      "\u001b[38;5;44m[epoch 141] train loss: 0.0009 | val loss: 0.5525 | accuracy: 86.61%\u001b[0m\n",
      "\u001b[38;5;180mEarlyStopping counter: 3 out of inf\u001b[0m\n",
      "\u001b[38;5;44m[epoch 142] train loss: 0.0009 | val loss: 0.5545 | accuracy: 86.73%\u001b[0m\n",
      "\u001b[38;5;180mEarlyStopping counter: 4 out of inf\u001b[0m\n",
      "\u001b[38;5;44m[epoch 143] train loss: 0.0009 | val loss: 0.5505 | accuracy: 86.67%\u001b[0m\n",
      "\u001b[38;5;180mEarlyStopping counter: 5 out of inf\u001b[0m\n",
      "\u001b[38;5;44m[epoch 144] train loss: 0.0009 | val loss: 0.5499 | accuracy: 86.74%\u001b[0m\n",
      "\u001b[38;5;180mEarlyStopping counter: 6 out of inf\u001b[0m\n",
      "\u001b[38;5;44m[epoch 145] train loss: 0.0009 | val loss: 0.5532 | accuracy: 86.65%\u001b[0m\n",
      "\u001b[38;5;180mEarlyStopping counter: 7 out of inf\u001b[0m\n",
      "\u001b[38;5;44m[epoch 146] train loss: 0.0009 | val loss: 0.5507 | accuracy: 86.73%\u001b[0m\n",
      "\u001b[38;5;180mEarlyStopping counter: 8 out of inf\u001b[0m\n",
      "\u001b[38;5;44m[epoch 147] train loss: 0.0009 | val loss: 0.5517 | accuracy: 86.66%\u001b[0m\n",
      "\u001b[38;5;180mEarlyStopping counter: 9 out of inf\u001b[0m\n",
      "\u001b[38;5;44m[epoch 148] train loss: 0.0009 | val loss: 0.5515 | accuracy: 86.69%\u001b[0m\n",
      "\u001b[38;5;180mEarlyStopping counter: 10 out of inf\u001b[0m\n",
      "\u001b[38;5;44m[epoch 149] train loss: 0.0009 | val loss: 0.5515 | accuracy: 86.73%\u001b[0m\n",
      "\u001b[38;5;180mEarlyStopping counter: 11 out of inf\u001b[0m\n",
      "\u001b[38;5;44m[epoch 150] train loss: 0.0009 | val loss: 0.5542 | accuracy: 86.73%\u001b[0m\n",
      "\u001b[38;5;180mEarlyStopping counter: 12 out of inf\u001b[0m\n",
      "\u001b[38;5;44m[epoch 151] train loss: 0.0009 | val loss: 0.5508 | accuracy: 86.62%\u001b[0m\n",
      "\u001b[38;5;180mEarlyStopping counter: 13 out of inf\u001b[0m\n",
      "\u001b[38;5;44m[epoch 152] train loss: 0.0009 | val loss: 0.5509 | accuracy: 86.72%\u001b[0m\n",
      "\u001b[38;5;180mEarlyStopping counter: 14 out of inf\u001b[0m\n",
      "\u001b[38;5;44m[epoch 153] train loss: 0.0009 | val loss: 0.5495 | accuracy: 86.72%\u001b[0m\n",
      "\u001b[38;5;40mValidation loss decreased (0.5496 --> 0.5495). Saving model.\u001b[0m\n",
      "\u001b[38;5;44m[epoch 154] train loss: 0.0009 | val loss: 0.5504 | accuracy: 86.65%\u001b[0m\n",
      "\u001b[38;5;180mEarlyStopping counter: 1 out of inf\u001b[0m\n",
      "\u001b[38;5;44m[epoch 155] train loss: 0.0009 | val loss: 0.5494 | accuracy: 86.75%\u001b[0m\n",
      "\u001b[38;5;180mEarlyStopping counter: 2 out of inf\u001b[0m\n",
      "\u001b[38;5;44m[epoch 156] train loss: 0.0009 | val loss: 0.5522 | accuracy: 86.63%\u001b[0m\n",
      "\u001b[38;5;180mEarlyStopping counter: 3 out of inf\u001b[0m\n",
      "\u001b[38;5;44m[epoch 157] train loss: 0.0009 | val loss: 0.5507 | accuracy: 86.66%\u001b[0m\n",
      "\u001b[38;5;180mEarlyStopping counter: 4 out of inf\u001b[0m\n",
      "\u001b[38;5;44m[epoch 158] train loss: 0.0009 | val loss: 0.5498 | accuracy: 86.66%\u001b[0m\n",
      "\u001b[38;5;180mEarlyStopping counter: 5 out of inf\u001b[0m\n",
      "\u001b[38;5;44m[epoch 159] train loss: 0.0009 | val loss: 0.5501 | accuracy: 86.78%\u001b[0m\n",
      "\u001b[38;5;180mEarlyStopping counter: 6 out of inf\u001b[0m\n",
      "\u001b[38;5;44m[epoch 160] train loss: 0.0009 | val loss: 0.5477 | accuracy: 86.71%\u001b[0m\n",
      "\u001b[38;5;40mValidation loss decreased (0.5495 --> 0.5477). Saving model.\u001b[0m\n",
      "\u001b[38;5;44m[epoch 161] train loss: 0.0009 | val loss: 0.5485 | accuracy: 86.71%\u001b[0m\n",
      "\u001b[38;5;180mEarlyStopping counter: 1 out of inf\u001b[0m\n",
      "\u001b[38;5;44m[epoch 162] train loss: 0.0009 | val loss: 0.5507 | accuracy: 86.64%\u001b[0m\n",
      "\u001b[38;5;180mEarlyStopping counter: 2 out of inf\u001b[0m\n",
      "\u001b[38;5;44m[epoch 163] train loss: 0.0009 | val loss: 0.5513 | accuracy: 86.79%\u001b[0m\n",
      "\u001b[38;5;180mEarlyStopping counter: 3 out of inf\u001b[0m\n",
      "\u001b[38;5;44m[epoch 164] train loss: 0.0009 | val loss: 0.5513 | accuracy: 86.64%\u001b[0m\n",
      "\u001b[38;5;180mEarlyStopping counter: 4 out of inf\u001b[0m\n"
     ]
    },
    {
     "data": {
      "image/png": "[encoded data removed]",
      "text/plain": [
       "<Figure size 1500x600 with 2 Axes>"
      ]
     },
     "metadata": {},
     "output_type": "display_data"
    }
   ],
   "source": [
    "from torch.optim.lr_scheduler import MultiStepLR\n",
    "from models.resnet20.architecture import ResNet20\n",
    "\n",
    "def train_model(model, model_name, num_epochs=200):\n",
    "    optimizer = SGD(\n",
    "        model.parameters(),\n",
    "        lr=0.1,\n",
    "        momentum=0.9,\n",
    "        weight_decay=1e-4,\n",
    "        nesterov=False  # Paper doesn't mention Nesterov\n",
    "    )\n",
    "    \n",
    "    # 32k and 48k iterations with batch_size=128\n",
    "    scheduler = MultiStepLR(\n",
    "        optimizer,\n",
    "        milestones=[82, 123],  # ~32k and ~48k iterations\n",
    "        gamma=0.1\n",
    "    )\n",
    "    \n",
    "    trainer = ModelTrainer(\n",
    "        model=model,\n",
    "        device=torch.device(\"cuda\" if torch.cuda.is_available() else \"cpu\"),\n",
    "        loss_fn=nn.CrossEntropyLoss(),\n",
    "        optimizer=optimizer,\n",
    "        scheduler=scheduler,\n",
    "        batch_size=128,\n",
    "        verbose=True,\n",
    "        save_metrics=True,\n",
    "        # Remove early stopping to match paper\n",
    "        early_stopping_patience=float('inf'),  # effectively no early stopping\n",
    "        early_stopping_delta=1e-4,\n",
    "        metrics=[accuracy],\n",
    "        log_dir=f\"logs/{model_name}\",\n",
    "        logger_type=\"file\",\n",
    "        run_karpathy_checks=False,\n",
    "    )\n",
    "    \n",
    "    trained_model = trainer.train(\n",
    "        training_set=trainset,\n",
    "        val_set=valset,\n",
    "        num_epochs=num_epochs  # 164 to reach ~64k iterations\n",
    "    )\n",
    "    \n",
    "    return trainer\n",
    "\n",
    "# Train ResNet-20\n",
    "model2 = ResNet20()\n",
    "trainer2 = train_model(model2, \"ResNet20\", num_epochs=164)"
   ]
  },
  {
   "cell_type": "code",
   "execution_count": null,
   "metadata": {},
   "outputs": [],
   "source": []
  },
  {
   "cell_type": "code",
   "execution_count": null,
   "metadata": {},
   "outputs": [],
   "source": []
  },
  {
   "cell_type": "markdown",
   "metadata": {},
   "source": [
    "### Train Model 3: Eight Layer Conv Net"
   ]
  },
  {
   "cell_type": "code",
   "execution_count": 2,
   "metadata": {},
   "outputs": [
    {
     "name": "stdout",
     "output_type": "stream",
     "text": [
      "Files already downloaded and verified\n",
      "Files already downloaded and verified\n"
     ]
    },
    {
     "name": "stderr",
     "output_type": "stream",
     "text": [
      "\u001b[34m\u001b[1mwandb\u001b[0m: Using wandb-core as the SDK backend.  Please refer to https://wandb.me/wandb-core for more information.\n",
      "\u001b[34m\u001b[1mwandb\u001b[0m: Currently logged in as: \u001b[33mevilgoosecode\u001b[0m (\u001b[33mfuturegoose\u001b[0m). Use \u001b[1m`wandb login --relogin`\u001b[0m to force relogin\n"
     ]
    },
    {
     "data": {
      "text/html": [
       "Tracking run with wandb version 0.19.1"
      ],
      "text/plain": [
       "<IPython.core.display.HTML object>"
      ]
     },
     "metadata": {},
     "output_type": "display_data"
    },
    {
     "data": {
      "text/html": [
       "Run data is saved locally in <code>logs/EightLayerConvNet/wandb/run-20250102_164025-hsmh9sul</code>"
      ],
      "text/plain": [
       "<IPython.core.display.HTML object>"
      ]
     },
     "metadata": {},
     "output_type": "display_data"
    },
    {
     "data": {
      "text/html": [
       "Syncing run <strong><a href='https://wandb.ai/futuregoose/cifar10/runs/hsmh9sul' target=\"_blank\">20250102_164025</a></strong> to <a href='https://wandb.ai/futuregoose/cifar10' target=\"_blank\">Weights & Biases</a> (<a href='https://wandb.me/developer-guide' target=\"_blank\">docs</a>)<br>"
      ],
      "text/plain": [
       "<IPython.core.display.HTML object>"
      ]
     },
     "metadata": {},
     "output_type": "display_data"
    },
    {
     "data": {
      "text/html": [
       " View project at <a href='https://wandb.ai/futuregoose/cifar10' target=\"_blank\">https://wandb.ai/futuregoose/cifar10</a>"
      ],
      "text/plain": [
       "<IPython.core.display.HTML object>"
      ]
     },
     "metadata": {},
     "output_type": "display_data"
    },
    {
     "data": {
      "text/html": [
       " View run at <a href='https://wandb.ai/futuregoose/cifar10/runs/hsmh9sul' target=\"_blank\">https://wandb.ai/futuregoose/cifar10/runs/hsmh9sul</a>"
      ],
      "text/plain": [
       "<IPython.core.display.HTML object>"
      ]
     },
     "metadata": {},
     "output_type": "display_data"
    },
    {
     "name": "stdout",
     "output_type": "stream",
     "text": [
      "\n",
      "Training interrupted. Cleaning up...\n"
     ]
    },
    {
     "data": {
      "text/html": [],
      "text/plain": [
       "<IPython.core.display.HTML object>"
      ]
     },
     "metadata": {},
     "output_type": "display_data"
    },
    {
     "data": {
      "text/html": [
       "<br>    <style><br>        .wandb-row {<br>            display: flex;<br>            flex-direction: row;<br>            flex-wrap: wrap;<br>            justify-content: flex-start;<br>            width: 100%;<br>        }<br>        .wandb-col {<br>            display: flex;<br>            flex-direction: column;<br>            flex-basis: 100%;<br>            flex: 1;<br>            padding: 10px;<br>        }<br>    </style><br><div class=\"wandb-row\"><div class=\"wandb-col\"><h3>Run history:</h3><br/><table class=\"wandb\"><tr><td>batch_loss</td><td>▇▆▇▇▇▆▆▅▇█▄▂▃▅▅▅▅▄▄▃▄▄▃▄▅▂▂▁▄▂▃▃▁▃▃▂▁▃▃▃</td></tr><tr><td>epoch</td><td>▁▁▁▁▁▁▁▁▁▁▁▁▁▁▁▁▁▁▁▁▁▁▁▁▁▁▁▁▁▁▁▁▁▁▁▁▁▁▁▁</td></tr></table><br/></div><div class=\"wandb-col\"><h3>Run summary:</h3><br/><table class=\"wandb\"><tr><td>batch_loss</td><td>1.38421</td></tr><tr><td>epoch</td><td>1</td></tr></table><br/></div></div>"
      ],
      "text/plain": [
       "<IPython.core.display.HTML object>"
      ]
     },
     "metadata": {},
     "output_type": "display_data"
    },
    {
     "data": {
      "text/html": [
       " View run <strong style=\"color:#cdcd00\">20250102_164025</strong> at: <a href='https://wandb.ai/futuregoose/cifar10/runs/hsmh9sul' target=\"_blank\">https://wandb.ai/futuregoose/cifar10/runs/hsmh9sul</a><br> View project at: <a href='https://wandb.ai/futuregoose/cifar10' target=\"_blank\">https://wandb.ai/futuregoose/cifar10</a><br>Synced 5 W&B file(s), 0 media file(s), 0 artifact file(s) and 0 other file(s)"
      ],
      "text/plain": [
       "<IPython.core.display.HTML object>"
      ]
     },
     "metadata": {},
     "output_type": "display_data"
    },
    {
     "data": {
      "text/html": [
       "Find logs at: <code>logs/EightLayerConvNet/wandb/run-20250102_164025-hsmh9sul/logs</code>"
      ],
      "text/plain": [
       "<IPython.core.display.HTML object>"
      ]
     },
     "metadata": {},
     "output_type": "display_data"
    },
    {
     "name": "stdout",
     "output_type": "stream",
     "text": [
      "Model state already saved as checkpoint.pt.\n",
      "Training was manually interrupted.\n"
     ]
    }
   ],
   "source": [
    "from models.eight_layer_conv_net.architecture import EightLayerConvNet\n",
    "from torch.optim.lr_scheduler import MultiStepLR, StepLR\n",
    "from torchvision import transforms\n",
    "\n",
    "\n",
    "transform_train = transforms.Compose([\n",
    "    transforms.RandomCrop(32, padding=4),\n",
    "    transforms.RandomHorizontalFlip(),\n",
    "    transforms.ToTensor(),\n",
    "    transforms.Normalize((0.4914, 0.4822, 0.4465), (0.2023, 0.1994, 0.2010)),\n",
    "])\n",
    "\n",
    "transform_val = transforms.Compose([\n",
    "    transforms.ToTensor(),\n",
    "    transforms.Normalize((0.4914, 0.4822, 0.4465), (0.2023, 0.1994, 0.2010)),\n",
    "])\n",
    "\n",
    "# prepare datasets with custom transforms\n",
    "trainset, valset = prepare_datasets(\n",
    "    dataset_name=dataset_name, \n",
    "    data_root=data_root,\n",
    "    transform_train=transform_train,\n",
    "    transform_test=transform_val,\n",
    "    normalize=False\n",
    ")\n",
    "\n",
    "def train_model(model, model_name, num_epochs=200):\n",
    "    optimizer = SGD(\n",
    "        model.parameters(),\n",
    "        lr=0.1,  #  0.06697728766802258\n",
    "        momentum=0.9,\n",
    "        weight_decay=1e-4,  # 1e-4 7.677453602367855e-05\n",
    "    )\n",
    "    \n",
    "    # scheduler = MultiStepLR(\n",
    "    #     optimizer,\n",
    "    #     milestones=[22, 32],  # ~32k and ~48k iterations\n",
    "    #     gamma=0.1\n",
    "    # )\n",
    "    \n",
    "    trainer = ModelTrainer(\n",
    "        model=model,\n",
    "        device=torch.device(\"cuda\" if torch.cuda.is_available() else \"cpu\"),\n",
    "        loss_fn=nn.CrossEntropyLoss(),\n",
    "        optimizer=optimizer,\n",
    "        scheduler=None,  ################\n",
    "        batch_size=1024,\n",
    "        verbose=True,\n",
    "        save_metrics=False,\n",
    "        early_stopping_patience=5,\n",
    "        early_stopping_delta=1e-4,  # 1e-4\n",
    "        metrics=[accuracy],\n",
    "        log_dir=f\"logs/{model_name}\",\n",
    "        logger_type=\"wandb\",\n",
    "        wandb_project=\"cifar10\",\n",
    "        wandb_entity=\"futuregoose\",\n",
    "        sweep=False,\n",
    "    )\n",
    "    \n",
    "    trained_model = trainer.train(\n",
    "        training_set=trainset,\n",
    "        val_set=valset,\n",
    "        num_epochs=num_epochs\n",
    "    )\n",
    "    \n",
    "    return trainer\n",
    "\n",
    "model3 = EightLayerConvNet()\n",
    "trainer3 = train_model(model3, \"EightLayerConvNet\", num_epochs=200)"
   ]
  },
  {
   "cell_type": "code",
   "execution_count": 2,
   "metadata": {},
   "outputs": [
    {
     "name": "stdout",
     "output_type": "stream",
     "text": [
      "Files already downloaded and verified\n",
      "Files already downloaded and verified\n"
     ]
    }
   ],
   "source": [
    "from torchvision import transforms\n",
    "\n",
    "transform_train = transforms.Compose([\n",
    "    transforms.RandomCrop(32, padding=4),\n",
    "    transforms.RandomHorizontalFlip(),\n",
    "    transforms.ToTensor(),\n",
    "    transforms.Normalize((0.4914, 0.4822, 0.4465), (0.2023, 0.1994, 0.2010)),\n",
    "])\n",
    "\n",
    "transform_val = transforms.Compose([\n",
    "    transforms.ToTensor(),\n",
    "    transforms.Normalize((0.4914, 0.4822, 0.4465), (0.2023, 0.1994, 0.2010)),\n",
    "])\n",
    "\n",
    "# prepare datasets with custom transforms\n",
    "trainset, valset = prepare_datasets(\n",
    "    dataset_name=dataset_name, \n",
    "    data_root=data_root,\n",
    "    transform_train=transform_train,\n",
    "    transform_test=transform_val,\n",
    "    normalize=False\n",
    ")"
   ]
  },
  {
   "cell_type": "code",
   "execution_count": 3,
   "metadata": {},
   "outputs": [
    {
     "name": "stderr",
     "output_type": "stream",
     "text": [
      "\u001b[34m\u001b[1mwandb\u001b[0m: Using wandb-core as the SDK backend.  Please refer to https://wandb.me/wandb-core for more information.\n",
      "\u001b[34m\u001b[1mwandb\u001b[0m: Currently logged in as: \u001b[33mevilgoosecode\u001b[0m (\u001b[33mfuturegoose\u001b[0m). Use \u001b[1m`wandb login --relogin`\u001b[0m to force relogin\n"
     ]
    },
    {
     "data": {
      "text/html": [
       "Tracking run with wandb version 0.19.1"
      ],
      "text/plain": [
       "<IPython.core.display.HTML object>"
      ]
     },
     "metadata": {},
     "output_type": "display_data"
    },
    {
     "data": {
      "text/html": [
       "Run data is saved locally in <code>logs/EightLayerConvNet/wandb/run-20250102_165828-wodpc8fr</code>"
      ],
      "text/plain": [
       "<IPython.core.display.HTML object>"
      ]
     },
     "metadata": {},
     "output_type": "display_data"
    },
    {
     "data": {
      "text/html": [
       "Syncing run <strong><a href='https://wandb.ai/futuregoose/cifar10/runs/wodpc8fr' target=\"_blank\">20250102_165828</a></strong> to <a href='https://wandb.ai/futuregoose/cifar10' target=\"_blank\">Weights & Biases</a> (<a href='https://wandb.me/developer-guide' target=\"_blank\">docs</a>)<br>"
      ],
      "text/plain": [
       "<IPython.core.display.HTML object>"
      ]
     },
     "metadata": {},
     "output_type": "display_data"
    },
    {
     "data": {
      "text/html": [
       " View project at <a href='https://wandb.ai/futuregoose/cifar10' target=\"_blank\">https://wandb.ai/futuregoose/cifar10</a>"
      ],
      "text/plain": [
       "<IPython.core.display.HTML object>"
      ]
     },
     "metadata": {},
     "output_type": "display_data"
    },
    {
     "data": {
      "text/html": [
       " View run at <a href='https://wandb.ai/futuregoose/cifar10/runs/wodpc8fr' target=\"_blank\">https://wandb.ai/futuregoose/cifar10/runs/wodpc8fr</a>"
      ],
      "text/plain": [
       "<IPython.core.display.HTML object>"
      ]
     },
     "metadata": {},
     "output_type": "display_data"
    },
    {
     "data": {
      "text/html": [],
      "text/plain": [
       "<IPython.core.display.HTML object>"
      ]
     },
     "metadata": {},
     "output_type": "display_data"
    },
    {
     "data": {
      "text/html": [
       " View run <strong style=\"color:#cdcd00\">20250102_165828</strong> at: <a href='https://wandb.ai/futuregoose/cifar10/runs/wodpc8fr' target=\"_blank\">https://wandb.ai/futuregoose/cifar10/runs/wodpc8fr</a><br> View project at: <a href='https://wandb.ai/futuregoose/cifar10' target=\"_blank\">https://wandb.ai/futuregoose/cifar10</a><br>Synced 5 W&B file(s), 0 media file(s), 0 artifact file(s) and 0 other file(s)"
      ],
      "text/plain": [
       "<IPython.core.display.HTML object>"
      ]
     },
     "metadata": {},
     "output_type": "display_data"
    },
    {
     "data": {
      "text/html": [
       "Find logs at: <code>logs/EightLayerConvNet/wandb/run-20250102_165828-wodpc8fr/logs</code>"
      ],
      "text/plain": [
       "<IPython.core.display.HTML object>"
      ]
     },
     "metadata": {},
     "output_type": "display_data"
    },
    {
     "name": "stdout",
     "output_type": "stream",
     "text": [
      "Create sweep with ID: d5g3ze1j\n",
      "Sweep URL: https://wandb.ai/futuregoose/cifar10/sweeps/d5g3ze1j\n",
      "sweep url: https://wandb.ai/futuregoose/cifar10/sweeps/d5g3ze1j\n",
      "\n",
      "Starting sweep...\n",
      "Running 50 trials...\n"
     ]
    },
    {
     "name": "stderr",
     "output_type": "stream",
     "text": [
      "\u001b[34m\u001b[1mwandb\u001b[0m: Agent Starting Run: ex9fezgf with config:\n",
      "\u001b[34m\u001b[1mwandb\u001b[0m: \tbatch_size: 64\n",
      "\u001b[34m\u001b[1mwandb\u001b[0m: \tlearning_rate: 0.01952193627299651\n",
      "\u001b[34m\u001b[1mwandb\u001b[0m: \toptimizer: SGD\n",
      "\u001b[34m\u001b[1mwandb\u001b[0m: \tscheduler: StepLR\n",
      "\u001b[34m\u001b[1mwandb\u001b[0m: \tstep_size: 15\n",
      "\u001b[34m\u001b[1mwandb\u001b[0m: \tweight_decay: 6.765222947251714e-05\n"
     ]
    },
    {
     "data": {
      "text/html": [
       "Tracking run with wandb version 0.19.1"
      ],
      "text/plain": [
       "<IPython.core.display.HTML object>"
      ]
     },
     "metadata": {},
     "output_type": "display_data"
    },
    {
     "data": {
      "text/html": [
       "Run data is saved locally in <code>logs/EightLayerConvNet/wandb/run-20250102_165832-ex9fezgf</code>"
      ],
      "text/plain": [
       "<IPython.core.display.HTML object>"
      ]
     },
     "metadata": {},
     "output_type": "display_data"
    },
    {
     "data": {
      "text/html": [
       "Syncing run <strong><a href='https://wandb.ai/futuregoose/cifar10/runs/ex9fezgf' target=\"_blank\">silver-sweep-1</a></strong> to <a href='https://wandb.ai/futuregoose/cifar10' target=\"_blank\">Weights & Biases</a> (<a href='https://wandb.me/developer-guide' target=\"_blank\">docs</a>)<br>Sweep page: <a href='https://wandb.ai/futuregoose/cifar10/sweeps/d5g3ze1j' target=\"_blank\">https://wandb.ai/futuregoose/cifar10/sweeps/d5g3ze1j</a>"
      ],
      "text/plain": [
       "<IPython.core.display.HTML object>"
      ]
     },
     "metadata": {},
     "output_type": "display_data"
    },
    {
     "data": {
      "text/html": [
       " View project at <a href='https://wandb.ai/futuregoose/cifar10' target=\"_blank\">https://wandb.ai/futuregoose/cifar10</a>"
      ],
      "text/plain": [
       "<IPython.core.display.HTML object>"
      ]
     },
     "metadata": {},
     "output_type": "display_data"
    },
    {
     "data": {
      "text/html": [
       " View sweep at <a href='https://wandb.ai/futuregoose/cifar10/sweeps/d5g3ze1j' target=\"_blank\">https://wandb.ai/futuregoose/cifar10/sweeps/d5g3ze1j</a>"
      ],
      "text/plain": [
       "<IPython.core.display.HTML object>"
      ]
     },
     "metadata": {},
     "output_type": "display_data"
    },
    {
     "data": {
      "text/html": [
       " View run at <a href='https://wandb.ai/futuregoose/cifar10/runs/ex9fezgf' target=\"_blank\">https://wandb.ai/futuregoose/cifar10/runs/ex9fezgf</a>"
      ],
      "text/plain": [
       "<IPython.core.display.HTML object>"
      ]
     },
     "metadata": {},
     "output_type": "display_data"
    },
    {
     "name": "stdout",
     "output_type": "stream",
     "text": [
      "\n",
      "run silver-sweep-1 - batch_size: 64, lr: 0.01952, optimizer: SGD, weight_decay: 0.00007\n",
      "\u001b[38;5;44m[epoch 01] train loss: 1.5280 | val loss: 2.5364 | accuracy: 29.70%\u001b[0m\n",
      "\u001b[38;5;40mValidation loss decreased (inf --> 2.5364). Saving model.\u001b[0m\n",
      "\n",
      "Training interrupted. Cleaning up...\n"
     ]
    },
    {
     "data": {
      "text/html": [],
      "text/plain": [
       "<IPython.core.display.HTML object>"
      ]
     },
     "metadata": {},
     "output_type": "display_data"
    },
    {
     "name": "stderr",
     "output_type": "stream",
     "text": [
      "Traceback (most recent call last):\n",
      "  File \"/home/gustaf/projects/deeplearning/deep_learning_tools/src/sweeps/sweep.py\", line 249, in train_function\n",
      "    train_loss = sweep_train_epoch(trainer, epoch)\n",
      "  File \"/home/gustaf/projects/deeplearning/deep_learning_tools/src/sweeps/sweep.py\", line 133, in sweep_train_epoch\n",
      "    wandb.log({\n",
      "  File \"/home/gustaf/projects/deeplearning/venv/lib/python3.10/site-packages/wandb/sdk/wandb_run.py\", line 440, in wrapper\n",
      "    return func(self, *args, **kwargs)\n",
      "  File \"/home/gustaf/projects/deeplearning/venv/lib/python3.10/site-packages/wandb/sdk/wandb_run.py\", line 402, in wrapper_fn\n",
      "    raise UsageError(resolved_message)\n",
      "wandb.errors.errors.UsageError: Run (ex9fezgf) is finished. The call to `log` will be ignored. Please make sure that you are using an active run.\n",
      "Traceback (most recent call last):\n",
      "  File \"/home/gustaf/projects/deeplearning/deep_learning_tools/src/sweeps/sweep.py\", line 25, in wandb_run\n",
      "    yield run\n",
      "  File \"/home/gustaf/projects/deeplearning/deep_learning_tools/src/sweeps/sweep.py\", line 85, in sweep_train\n",
      "    train_function(trainer, config)\n",
      "  File \"/home/gustaf/projects/deeplearning/deep_learning_tools/src/sweeps/sweep.py\", line 249, in train_function\n",
      "    train_loss = sweep_train_epoch(trainer, epoch)\n",
      "  File \"/home/gustaf/projects/deeplearning/deep_learning_tools/src/sweeps/sweep.py\", line 133, in sweep_train_epoch\n",
      "    wandb.log({\n",
      "  File \"/home/gustaf/projects/deeplearning/venv/lib/python3.10/site-packages/wandb/sdk/wandb_run.py\", line 440, in wrapper\n",
      "    return func(self, *args, **kwargs)\n",
      "  File \"/home/gustaf/projects/deeplearning/venv/lib/python3.10/site-packages/wandb/sdk/wandb_run.py\", line 402, in wrapper_fn\n",
      "    raise UsageError(resolved_message)\n",
      "wandb.errors.errors.UsageError: Run (ex9fezgf) is finished. The call to `log` will be ignored. Please make sure that you are using an active run.\n",
      "\n",
      "During handling of the above exception, another exception occurred:\n",
      "\n",
      "Traceback (most recent call last):\n",
      "  File \"/home/gustaf/projects/deeplearning/deep_learning_tools/src/sweeps/sweep.py\", line 75, in sweep_train\n",
      "    with wandb_run(trainer, wandb.config) as run:\n",
      "  File \"/usr/lib/python3.10/contextlib.py\", line 153, in __exit__\n",
      "    self.gen.throw(typ, value, traceback)\n",
      "  File \"/home/gustaf/projects/deeplearning/deep_learning_tools/src/sweeps/sweep.py\", line 32, in wandb_run\n",
      "    wandb.finish()\n",
      "  File \"/home/gustaf/projects/deeplearning/venv/lib/python3.10/site-packages/wandb/sdk/wandb_run.py\", line 4066, in finish\n",
      "    wandb.run.finish(exit_code=exit_code, quiet=quiet)\n",
      "  File \"/home/gustaf/projects/deeplearning/venv/lib/python3.10/site-packages/wandb/sdk/wandb_run.py\", line 440, in wrapper\n",
      "    return func(self, *args, **kwargs)\n",
      "  File \"/home/gustaf/projects/deeplearning/venv/lib/python3.10/site-packages/wandb/sdk/wandb_run.py\", line 382, in wrapper\n",
      "    return func(self, *args, **kwargs)\n",
      "  File \"/home/gustaf/projects/deeplearning/venv/lib/python3.10/site-packages/wandb/sdk/wandb_run.py\", line 2094, in finish\n",
      "    return self._finish(exit_code)\n",
      "  File \"/home/gustaf/projects/deeplearning/venv/lib/python3.10/site-packages/wandb/sdk/wandb_run.py\", line 2117, in _finish\n",
      "    hook.call()\n",
      "  File \"/home/gustaf/projects/deeplearning/venv/lib/python3.10/site-packages/wandb/sdk/wandb_init.py\", line 464, in _jupyter_teardown\n",
      "    ipython.display_pub.publish = ipython.display_pub._orig_publish\n",
      "AttributeError: 'ZMQDisplayPublisher' object has no attribute '_orig_publish'\n",
      "Exception in thread Thread-7 (_run_job):\n",
      "Traceback (most recent call last):\n",
      "  File \"/home/gustaf/projects/deeplearning/venv/lib/python3.10/site-packages/wandb/agents/pyagent.py\", line 307, in _run_job\n",
      "    wandb.finish()\n",
      "  File \"/home/gustaf/projects/deeplearning/venv/lib/python3.10/site-packages/wandb/sdk/wandb_run.py\", line 4066, in finish\n",
      "    wandb.run.finish(exit_code=exit_code, quiet=quiet)\n",
      "  File \"/home/gustaf/projects/deeplearning/venv/lib/python3.10/site-packages/wandb/sdk/wandb_run.py\", line 440, in wrapper\n",
      "    return func(self, *args, **kwargs)\n",
      "  File \"/home/gustaf/projects/deeplearning/venv/lib/python3.10/site-packages/wandb/sdk/wandb_run.py\", line 382, in wrapper\n",
      "    return func(self, *args, **kwargs)\n",
      "  File \"/home/gustaf/projects/deeplearning/venv/lib/python3.10/site-packages/wandb/sdk/wandb_run.py\", line 2094, in finish\n",
      "    return self._finish(exit_code)\n",
      "  File \"/home/gustaf/projects/deeplearning/venv/lib/python3.10/site-packages/wandb/sdk/wandb_run.py\", line 2117, in _finish\n",
      "    hook.call()\n",
      "  File \"/home/gustaf/projects/deeplearning/venv/lib/python3.10/site-packages/wandb/sdk/wandb_init.py\", line 464, in _jupyter_teardown\n",
      "    ipython.display_pub.publish = ipython.display_pub._orig_publish\n",
      "AttributeError: 'ZMQDisplayPublisher' object has no attribute '_orig_publish'\n",
      "\n",
      "During handling of the above exception, another exception occurred:\n",
      "\n",
      "Traceback (most recent call last):\n",
      "  File \"/usr/lib/python3.10/threading.py\", line 1016, in _bootstrap_inner\n",
      "    self.run()\n",
      "  File \"/home/gustaf/projects/deeplearning/venv/lib/python3.10/site-packages/ipykernel/ipkernel.py\", line 766, in run_closure\n",
      "    _threading_Thread_run(self)\n",
      "  File \"/usr/lib/python3.10/threading.py\", line 953, in run\n",
      "    self._target(*self._args, **self._kwargs)\n",
      "  File \"/home/gustaf/projects/deeplearning/venv/lib/python3.10/site-packages/wandb/agents/pyagent.py\", line 311, in _run_job\n",
      "    wandb.finish(exit_code=1)\n",
      "  File \"/home/gustaf/projects/deeplearning/venv/lib/python3.10/site-packages/wandb/sdk/wandb_run.py\", line 4066, in finish\n",
      "    wandb.run.finish(exit_code=exit_code, quiet=quiet)\n",
      "  File \"/home/gustaf/projects/deeplearning/venv/lib/python3.10/site-packages/wandb/sdk/wandb_run.py\", line 440, in wrapper\n",
      "    return func(self, *args, **kwargs)\n",
      "  File \"/home/gustaf/projects/deeplearning/venv/lib/python3.10/site-packages/wandb/sdk/wandb_run.py\", line 382, in wrapper\n",
      "    return func(self, *args, **kwargs)\n",
      "  File \"/home/gustaf/projects/deeplearning/venv/lib/python3.10/site-packages/wandb/sdk/wandb_run.py\", line 2094, in finish\n",
      "    return self._finish(exit_code)\n",
      "  File \"/home/gustaf/projects/deeplearning/venv/lib/python3.10/site-packages/wandb/sdk/wandb_run.py\", line 2117, in _finish\n",
      "    hook.call()\n",
      "  File \"/home/gustaf/projects/deeplearning/venv/lib/python3.10/site-packages/wandb/sdk/wandb_init.py\", line 464, in _jupyter_teardown\n",
      "    ipython.display_pub.publish = ipython.display_pub._orig_publish\n",
      "AttributeError: 'ZMQDisplayPublisher' object has no attribute '_orig_publish'\n"
     ]
    },
    {
     "name": "stdout",
     "output_type": "stream",
     "text": [
      "Error during training: Run (ex9fezgf) is finished. The call to `log` will be ignored. Please make sure that you are using an active run.\n",
      "Error during sweep run: 'ZMQDisplayPublisher' object has no attribute '_orig_publish'\n"
     ]
    },
    {
     "data": {
      "text/html": [
       "<br>    <style><br>        .wandb-row {<br>            display: flex;<br>            flex-direction: row;<br>            flex-wrap: wrap;<br>            justify-content: flex-start;<br>            width: 100%;<br>        }<br>        .wandb-col {<br>            display: flex;<br>            flex-direction: column;<br>            flex-basis: 100%;<br>            flex: 1;<br>            padding: 10px;<br>        }<br>    </style><br><div class=\"wandb-row\"><div class=\"wandb-col\"><h3>Run history:</h3><br/><table class=\"wandb\"><tr><td>batch</td><td>▁▁▁▁▂▃▃▃▃▃▄▄▄▄▄▅▅▅▅▆▆▆▆▆▆▆▇▇█████▁▁▁▂▂▂▃</td></tr><tr><td>batch_loss</td><td>██▆▆▆▄▅▃▄▅▅▄▄▃▃▃▃▃▃▄▂▃▃▄▂▃▃▄▃▁▄▅▂▁▂▂▁▁▂▂</td></tr><tr><td>epoch</td><td>▁▁▁▁▁▁▁▁▁▁▁▁▁▁▁▁▁▁▁▁▁▁▁▁▁▁▁▁▁▁▁▁████████</td></tr><tr><td>train_accuracy</td><td>▁</td></tr><tr><td>train_loss</td><td>▁</td></tr><tr><td>val_accuracy</td><td>▁</td></tr><tr><td>val_loss</td><td>▁</td></tr></table><br/></div><div class=\"wandb-col\"><h3>Run summary:</h3><br/><table class=\"wandb\"><tr><td>batch</td><td>209</td></tr><tr><td>batch_loss</td><td>1.10732</td></tr><tr><td>epoch</td><td>2</td></tr><tr><td>train_accuracy</td><td>31.25</td></tr><tr><td>train_loss</td><td>1.52802</td></tr><tr><td>val_accuracy</td><td>29.69745</td></tr><tr><td>val_loss</td><td>2.5364</td></tr></table><br/></div></div>"
      ],
      "text/plain": [
       "<IPython.core.display.HTML object>"
      ]
     },
     "metadata": {},
     "output_type": "display_data"
    },
    {
     "data": {
      "text/html": [
       " View run <strong style=\"color:#cdcd00\">silver-sweep-1</strong> at: <a href='https://wandb.ai/futuregoose/cifar10/runs/ex9fezgf' target=\"_blank\">https://wandb.ai/futuregoose/cifar10/runs/ex9fezgf</a><br> View project at: <a href='https://wandb.ai/futuregoose/cifar10' target=\"_blank\">https://wandb.ai/futuregoose/cifar10</a><br>Synced 5 W&B file(s), 0 media file(s), 0 artifact file(s) and 0 other file(s)"
      ],
      "text/plain": [
       "<IPython.core.display.HTML object>"
      ]
     },
     "metadata": {},
     "output_type": "display_data"
    },
    {
     "data": {
      "text/html": [
       "Find logs at: <code>logs/EightLayerConvNet/wandb/run-20250102_165832-ex9fezgf/logs</code>"
      ],
      "text/plain": [
       "<IPython.core.display.HTML object>"
      ]
     },
     "metadata": {},
     "output_type": "display_data"
    },
    {
     "name": "stderr",
     "output_type": "stream",
     "text": [
      "\u001b[34m\u001b[1mwandb\u001b[0m: Ctrl + C detected. Stopping sweep.\n"
     ]
    },
    {
     "name": "stdout",
     "output_type": "stream",
     "text": [
      "Model state already saved as checkpoint.pt.\n",
      "\n",
      "Sweep completed successfully!\n",
      "View results at: https://wandb.ai/futuregoose/cifar10/sweeps/d5g3ze1j\n"
     ]
    }
   ],
   "source": [
    "from models.eight_layer_conv_net.architecture import EightLayerConvNet\n",
    "from torch.optim.lr_scheduler import MultiStepLR\n",
    "\n",
    "def train_model(model, model_name, num_epochs=200):\n",
    "    optimizer = SGD(\n",
    "        model.parameters(),\n",
    "        lr=0.1,\n",
    "        momentum=0.9,\n",
    "        weight_decay=1e-4\n",
    "    )\n",
    "    \n",
    "    # 32k and 48k iterations with batch_size=128\n",
    "    scheduler = MultiStepLR(\n",
    "        optimizer,\n",
    "        milestones=[82, 123],  # ~32k and ~48k iterations\n",
    "        gamma=0.1\n",
    "    )\n",
    "    \n",
    "    trainer = ModelTrainer(\n",
    "        model=model,\n",
    "        device=torch.device(\"cuda\" if torch.cuda.is_available() else \"cpu\"),\n",
    "        loss_fn=nn.CrossEntropyLoss(),\n",
    "        optimizer=optimizer,\n",
    "        scheduler=scheduler,\n",
    "        batch_size=128,\n",
    "        verbose=True,\n",
    "        save_metrics=False,\n",
    "        early_stopping_patience=5,\n",
    "        early_stopping_delta=1e-4,  # 1e-4\n",
    "        metrics=[accuracy],\n",
    "        log_dir=f\"logs/{model_name}\",\n",
    "        logger_type=\"wandb\",\n",
    "        wandb_project=\"cifar10\",\n",
    "        wandb_entity=\"futuregoose\",\n",
    "        sweep=True,\n",
    "    )\n",
    "    \n",
    "    trained_model = trainer.train(\n",
    "        training_set=trainset,\n",
    "        val_set=valset,\n",
    "        num_epochs=num_epochs  # 164 to reach ~64k iterations\n",
    "    )\n",
    "    \n",
    "    return trainer\n",
    "\n",
    "model3 = EightLayerConvNet()\n",
    "trainer3 = train_model(model3, \"EightLayerConvNet\", num_epochs=200)"
   ]
  },
  {
   "cell_type": "markdown",
   "metadata": {},
   "source": [
    "## Step 5: Evaluate Models"
   ]
  },
  {
   "cell_type": "code",
   "execution_count": null,
   "metadata": {},
   "outputs": [],
   "source": [
    "def evaluate_model(trainer, model_name):\n",
    "    print(f\"Evaluating {model_name}...\")\n",
    "    trainer.load_best_model()\n",
    "    # assuming val_loader is the test set\n",
    "    val_loss, metrics = trainer.evaluate(trainer.metrics_history['epochs'][-1], phase='val')\n",
    "    print(f\"{model_name} - Loss: {val_loss:.4f}, Metrics: {metrics}\")"
   ]
  },
  {
   "cell_type": "markdown",
   "metadata": {},
   "source": [
    "### Evaluate All Models"
   ]
  },
  {
   "cell_type": "code",
   "execution_count": null,
   "metadata": {},
   "outputs": [],
   "source": [
    "evaluate_model(trainer1, \"SimpleCNN\")\n",
    "evaluate_model(trainer2, \"CNNWithBatchNorm\")\n",
    "evaluate_model(trainer3, \"CNNWithDropout\")"
   ]
  },
  {
   "cell_type": "markdown",
   "metadata": {},
   "source": [
    "## Step 6: Plot Loss Curves"
   ]
  },
  {
   "cell_type": "code",
   "execution_count": null,
   "metadata": {},
   "outputs": [],
   "source": [
    "import matplotlib.pyplot as plt\n",
    "\n",
    "def plot_loss(trainers, model_names):\n",
    "    plt.figure(figsize=(10, 6))\n",
    "    for trainer, name in zip(trainers, model_names):\n",
    "        epochs = trainer.metrics_history['epochs']\n",
    "        plt.plot(epochs, trainer.metrics_history['train_loss'], label=f\"{name} Train Loss\")\n",
    "        plt.plot(epochs, trainer.metrics_history['val_loss'], label=f\"{name} Val Loss\")\n",
    "    plt.xlabel('Epochs')\n",
    "    plt.ylabel('Loss')\n",
    "    plt.title('Training and Validation Losses')\n",
    "    plt.legend()\n",
    "    plt.grid(True)\n",
    "    plt.show()\n",
    "\n",
    "plot_loss([trainer1, trainer2, trainer3], [\"SimpleCNN\", \"CNNWithBatchNorm\", \"CNNWithDropout\"])"
   ]
  },
  {
   "cell_type": "markdown",
   "metadata": {},
   "source": [
    "## Step 7: Analyze Per-Class Performance"
   ]
  },
  {
   "cell_type": "code",
   "execution_count": null,
   "metadata": {},
   "outputs": [],
   "source": [
    "from sklearn.metrics import confusion_matrix, classification_report\n",
    "import seaborn as sns\n",
    "import numpy as np\n",
    "\n",
    "def per_class_analysis(trainer, model_name):\n",
    "    trainer.load_best_model()\n",
    "    trainer.model.eval()\n",
    "    all_preds = []\n",
    "    all_targets = []\n",
    "    \n",
    "    with torch.no_grad():\n",
    "        for data, targets in trainer.val_loader:\n",
    "            data, targets = data.to(trainer.device), targets.to(trainer.device)\n",
    "            outputs = trainer.model(data)\n",
    "            _, preds = torch.max(outputs, 1)\n",
    "            all_preds.append(preds.cpu())\n",
    "            all_targets.append(targets.cpu())\n",
    "    \n",
    "    all_preds = torch.cat(all_preds)\n",
    "    all_targets = torch.cat(all_targets)\n",
    "    \n",
    "    cm = confusion_matrix(all_targets, all_preds)\n",
    "    classes = trainset.classes\n",
    "    \n",
    "    plt.figure(figsize=(10, 8))\n",
    "    sns.heatmap(cm, annot=True, fmt='d', cmap='Blues', xticklabels=classes, yticklabels=classes)\n",
    "    plt.xlabel('Predicted')\n",
    "    plt.ylabel('True')\n",
    "    plt.title(f'Confusion Matrix for {model_name}')\n",
    "    plt.show()\n",
    "    \n",
    "    print(f\"Classification Report for {model_name}:\\n\")\n",
    "    print(classification_report(all_targets, all_preds, target_names=classes))\n",
    "\n"
   ]
  },
  {
   "cell_type": "markdown",
   "metadata": {},
   "source": [
    "### Analyze All Models"
   ]
  },
  {
   "cell_type": "markdown",
   "metadata": {},
   "source": [
    "## Conclusion"
   ]
  },
  {
   "cell_type": "code",
   "execution_count": null,
   "metadata": {},
   "outputs": [],
   "source": []
  },
  {
   "cell_type": "code",
   "execution_count": null,
   "metadata": {},
   "outputs": [],
   "source": []
  }
 ],
 "metadata": {
  "kernelspec": {
   "display_name": "venv",
   "language": "python",
   "name": "python3"
  },
  "language_info": {
   "codemirror_mode": {
    "name": "ipython",
    "version": 3
   },
   "file_extension": ".py",
   "mimetype": "text/x-python",
   "name": "python",
   "nbconvert_exporter": "python",
   "pygments_lexer": "ipython3",
   "version": "3.10.12"
  }
 },
 "nbformat": 4,
 "nbformat_minor": 2
}
